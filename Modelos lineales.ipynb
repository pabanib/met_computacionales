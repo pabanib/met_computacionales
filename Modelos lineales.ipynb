{
 "cells": [
  {
   "cell_type": "markdown",
   "id": "748fd4a3-51b9-4d29-b0ff-32380a1fecd1",
   "metadata": {
    "id": "748fd4a3-51b9-4d29-b0ff-32380a1fecd1"
   },
   "source": [
    "# Modelos lineales regularizados"
   ]
  },
  {
   "cell_type": "markdown",
   "id": "ef6ee349-aaeb-4cac-b836-69d73db29cbc",
   "metadata": {
    "id": "ef6ee349-aaeb-4cac-b836-69d73db29cbc"
   },
   "source": [
    "## Instalación"
   ]
  },
  {
   "cell_type": "code",
   "execution_count": 1,
   "id": "53c78d0f-3fce-4ea5-9640-51e2178e6a7f",
   "metadata": {
    "colab": {
     "base_uri": "https://localhost:8080/",
     "height": 34
    },
    "executionInfo": {
     "elapsed": 31,
     "status": "ok",
     "timestamp": 1653562133050,
     "user": {
      "displayName": "Pablo Quintana",
      "userId": "00674039532099061635"
     },
     "user_tz": 180
    },
    "id": "53c78d0f-3fce-4ea5-9640-51e2178e6a7f",
    "outputId": "4db812fc-552d-4481-bc25-e52b91519b3a"
   },
   "outputs": [
    {
     "data": {
      "text/html": [
       "'R version 4.1.3 (2022-03-10)'"
      ],
      "text/latex": [
       "'R version 4.1.3 (2022-03-10)'"
      ],
      "text/markdown": [
       "'R version 4.1.3 (2022-03-10)'"
      ],
      "text/plain": [
       "[1] \"R version 4.1.3 (2022-03-10)\""
      ]
     },
     "metadata": {},
     "output_type": "display_data"
    }
   ],
   "source": [
    "R.version.string"
   ]
  },
  {
   "cell_type": "code",
   "execution_count": 2,
   "id": "8fe8f443-5860-4e36-8464-160f18be7efc",
   "metadata": {
    "executionInfo": {
     "elapsed": 28,
     "status": "ok",
     "timestamp": 1653562133052,
     "user": {
      "displayName": "Pablo Quintana",
      "userId": "00674039532099061635"
     },
     "user_tz": 180
    },
    "id": "8fe8f443-5860-4e36-8464-160f18be7efc"
   },
   "outputs": [],
   "source": [
    "packages <- c(\"devtools\"\n",
    "  ,\"randomForest\" \n",
    "  ,\"rpart\" # decision tree\n",
    "  ,\"rpart.plot\" # enhanced tree plots\n",
    "  ,\"ROCR\"\n",
    "  ,\"Hmisc\"\n",
    "  ,\"corrplot\"\n",
    "  ,\"texreg\"\n",
    "  ,\"glmnet\"\n",
    "  ,\"reshape2\"\n",
    "  ,\"knitr\"\n",
    "  ,\"xtable\"\n",
    "  ,\"lars\"\n",
    "  ,\"ggplot2\"\n",
    "  ,\"matrixStats\"\n",
    "  ,\"plyr\"\n",
    "  ,\"stargazer\")"
   ]
  },
  {
   "cell_type": "code",
   "execution_count": 3,
   "id": "f9327ad3-c104-43a4-97a6-0411b6c4a0fb",
   "metadata": {
    "colab": {
     "base_uri": "https://localhost:8080/"
    },
    "executionInfo": {
     "elapsed": 330026,
     "status": "ok",
     "timestamp": 1653562463051,
     "user": {
      "displayName": "Pablo Quintana",
      "userId": "00674039532099061635"
     },
     "user_tz": 180
    },
    "id": "f9327ad3-c104-43a4-97a6-0411b6c4a0fb",
    "outputId": "576bc896-0b0d-4e7b-c30c-bf1663b81820"
   },
   "outputs": [],
   "source": [
    "not_installed <- !packages %in% installed.packages()\n",
    "if (any(not_installed)) install.packages(packages[not_installed])"
   ]
  },
  {
   "cell_type": "markdown",
   "id": "c606dad0-a3ce-4106-b8b5-70a0e8f89db8",
   "metadata": {
    "id": "c606dad0-a3ce-4106-b8b5-70a0e8f89db8"
   },
   "source": [
    "## Preparación de datos\n"
   ]
  },
  {
   "cell_type": "code",
   "execution_count": 4,
   "id": "964f0a66-d504-40a0-adf2-a456f05299dd",
   "metadata": {
    "executionInfo": {
     "elapsed": 4673,
     "status": "ok",
     "timestamp": 1653562467706,
     "user": {
      "displayName": "Pablo Quintana",
      "userId": "00674039532099061635"
     },
     "user_tz": 180
    },
    "id": "964f0a66-d504-40a0-adf2-a456f05299dd"
   },
   "outputs": [],
   "source": [
    "unzip(zipfile = 'Datos/socialneighbor.zip')\n",
    "social <- read.csv('socialneighbor.csv')"
   ]
  },
  {
   "cell_type": "code",
   "execution_count": 5,
   "id": "ffab48b6-4390-414e-811d-e00960b99091",
   "metadata": {
    "colab": {
     "base_uri": "https://localhost:8080/",
     "height": 104
    },
    "executionInfo": {
     "elapsed": 56,
     "status": "ok",
     "timestamp": 1653562467706,
     "user": {
      "displayName": "Pablo Quintana",
      "userId": "00674039532099061635"
     },
     "user_tz": 180
    },
    "id": "ffab48b6-4390-414e-811d-e00960b99091",
    "outputId": "90d77cce-44b3-4c6e-9b40-64edd73ee2ad"
   },
   "outputs": [
    {
     "data": {
      "text/html": [
       "<style>\n",
       ".list-inline {list-style: none; margin:0; padding: 0}\n",
       ".list-inline>li {display: inline-block}\n",
       ".list-inline>li:not(:last-child)::after {content: \"\\00b7\"; padding: 0 .5ex}\n",
       "</style>\n",
       "<ol class=list-inline><li>'sex'</li><li>'yob'</li><li>'g2000'</li><li>'g2002'</li><li>'g2004'</li><li>'p2000'</li><li>'p2002'</li><li>'cluster'</li><li>'votedav'</li><li>'dem'</li><li>'nov'</li><li>'aug'</li><li>'city'</li><li>'hh_id'</li><li>'hh_size'</li><li>'totalpopulation_estimate'</li><li>'percent_male'</li><li>'percent_female'</li><li>'median_age'</li><li>'percent_under5years'</li><li>'percent_5to9years'</li><li>'percent_10to14years'</li><li>'percent_15to19years'</li><li>'percent_20to24years'</li><li>'percent_25to34years'</li><li>'percent_35to44years'</li><li>'percent_45to54years'</li><li>'percent_55to59years'</li><li>'percent_60to64years'</li><li>'percent_65to74years'</li><li>'percent_75to84years'</li><li>'percent_85yearsandolder'</li><li>'percent_18yearsandolder'</li><li>'percent_21yearsandover'</li><li>'percent_62yearsandover'</li><li>'percent_65yearsandover'</li><li>'percent_white'</li><li>'percent_black'</li><li>'percent_amindian_alaskan'</li><li>'percent_asian'</li><li>'percent_nativeandother'</li><li>'percent_other_nativeandother'</li><li>'percent_hispanicorlatino'</li><li>'percent_race_other'</li><li>'median_income'</li><li>'mean_income'</li><li>'employ_16'</li><li>'unemploy_16'</li><li>'unemploy_20to64'</li><li>'employ_20to64'</li><li>'employ_rename_20to64'</li><li>'hsorhigher'</li><li>'bach_orhigher'</li><li>'less9thgrade'</li><li>'grade9to12'</li><li>'highschool'</li><li>'somecollege'</li><li>'assoc'</li><li>'bachelors'</li><li>'grad'</li><li>'outcome_voted'</li><li>'treatment_dum'</li><li>'treat_hawthorne'</li><li>'treat_civic'</li><li>'treat_neighbors'</li><li>'treat_self'</li><li>'randn'</li><li>'oneperhh'</li><li>'p2004'</li></ol>\n"
      ],
      "text/latex": [
       "\\begin{enumerate*}\n",
       "\\item 'sex'\n",
       "\\item 'yob'\n",
       "\\item 'g2000'\n",
       "\\item 'g2002'\n",
       "\\item 'g2004'\n",
       "\\item 'p2000'\n",
       "\\item 'p2002'\n",
       "\\item 'cluster'\n",
       "\\item 'votedav'\n",
       "\\item 'dem'\n",
       "\\item 'nov'\n",
       "\\item 'aug'\n",
       "\\item 'city'\n",
       "\\item 'hh\\_id'\n",
       "\\item 'hh\\_size'\n",
       "\\item 'totalpopulation\\_estimate'\n",
       "\\item 'percent\\_male'\n",
       "\\item 'percent\\_female'\n",
       "\\item 'median\\_age'\n",
       "\\item 'percent\\_under5years'\n",
       "\\item 'percent\\_5to9years'\n",
       "\\item 'percent\\_10to14years'\n",
       "\\item 'percent\\_15to19years'\n",
       "\\item 'percent\\_20to24years'\n",
       "\\item 'percent\\_25to34years'\n",
       "\\item 'percent\\_35to44years'\n",
       "\\item 'percent\\_45to54years'\n",
       "\\item 'percent\\_55to59years'\n",
       "\\item 'percent\\_60to64years'\n",
       "\\item 'percent\\_65to74years'\n",
       "\\item 'percent\\_75to84years'\n",
       "\\item 'percent\\_85yearsandolder'\n",
       "\\item 'percent\\_18yearsandolder'\n",
       "\\item 'percent\\_21yearsandover'\n",
       "\\item 'percent\\_62yearsandover'\n",
       "\\item 'percent\\_65yearsandover'\n",
       "\\item 'percent\\_white'\n",
       "\\item 'percent\\_black'\n",
       "\\item 'percent\\_amindian\\_alaskan'\n",
       "\\item 'percent\\_asian'\n",
       "\\item 'percent\\_nativeandother'\n",
       "\\item 'percent\\_other\\_nativeandother'\n",
       "\\item 'percent\\_hispanicorlatino'\n",
       "\\item 'percent\\_race\\_other'\n",
       "\\item 'median\\_income'\n",
       "\\item 'mean\\_income'\n",
       "\\item 'employ\\_16'\n",
       "\\item 'unemploy\\_16'\n",
       "\\item 'unemploy\\_20to64'\n",
       "\\item 'employ\\_20to64'\n",
       "\\item 'employ\\_rename\\_20to64'\n",
       "\\item 'hsorhigher'\n",
       "\\item 'bach\\_orhigher'\n",
       "\\item 'less9thgrade'\n",
       "\\item 'grade9to12'\n",
       "\\item 'highschool'\n",
       "\\item 'somecollege'\n",
       "\\item 'assoc'\n",
       "\\item 'bachelors'\n",
       "\\item 'grad'\n",
       "\\item 'outcome\\_voted'\n",
       "\\item 'treatment\\_dum'\n",
       "\\item 'treat\\_hawthorne'\n",
       "\\item 'treat\\_civic'\n",
       "\\item 'treat\\_neighbors'\n",
       "\\item 'treat\\_self'\n",
       "\\item 'randn'\n",
       "\\item 'oneperhh'\n",
       "\\item 'p2004'\n",
       "\\end{enumerate*}\n"
      ],
      "text/markdown": [
       "1. 'sex'\n",
       "2. 'yob'\n",
       "3. 'g2000'\n",
       "4. 'g2002'\n",
       "5. 'g2004'\n",
       "6. 'p2000'\n",
       "7. 'p2002'\n",
       "8. 'cluster'\n",
       "9. 'votedav'\n",
       "10. 'dem'\n",
       "11. 'nov'\n",
       "12. 'aug'\n",
       "13. 'city'\n",
       "14. 'hh_id'\n",
       "15. 'hh_size'\n",
       "16. 'totalpopulation_estimate'\n",
       "17. 'percent_male'\n",
       "18. 'percent_female'\n",
       "19. 'median_age'\n",
       "20. 'percent_under5years'\n",
       "21. 'percent_5to9years'\n",
       "22. 'percent_10to14years'\n",
       "23. 'percent_15to19years'\n",
       "24. 'percent_20to24years'\n",
       "25. 'percent_25to34years'\n",
       "26. 'percent_35to44years'\n",
       "27. 'percent_45to54years'\n",
       "28. 'percent_55to59years'\n",
       "29. 'percent_60to64years'\n",
       "30. 'percent_65to74years'\n",
       "31. 'percent_75to84years'\n",
       "32. 'percent_85yearsandolder'\n",
       "33. 'percent_18yearsandolder'\n",
       "34. 'percent_21yearsandover'\n",
       "35. 'percent_62yearsandover'\n",
       "36. 'percent_65yearsandover'\n",
       "37. 'percent_white'\n",
       "38. 'percent_black'\n",
       "39. 'percent_amindian_alaskan'\n",
       "40. 'percent_asian'\n",
       "41. 'percent_nativeandother'\n",
       "42. 'percent_other_nativeandother'\n",
       "43. 'percent_hispanicorlatino'\n",
       "44. 'percent_race_other'\n",
       "45. 'median_income'\n",
       "46. 'mean_income'\n",
       "47. 'employ_16'\n",
       "48. 'unemploy_16'\n",
       "49. 'unemploy_20to64'\n",
       "50. 'employ_20to64'\n",
       "51. 'employ_rename_20to64'\n",
       "52. 'hsorhigher'\n",
       "53. 'bach_orhigher'\n",
       "54. 'less9thgrade'\n",
       "55. 'grade9to12'\n",
       "56. 'highschool'\n",
       "57. 'somecollege'\n",
       "58. 'assoc'\n",
       "59. 'bachelors'\n",
       "60. 'grad'\n",
       "61. 'outcome_voted'\n",
       "62. 'treatment_dum'\n",
       "63. 'treat_hawthorne'\n",
       "64. 'treat_civic'\n",
       "65. 'treat_neighbors'\n",
       "66. 'treat_self'\n",
       "67. 'randn'\n",
       "68. 'oneperhh'\n",
       "69. 'p2004'\n",
       "\n",
       "\n"
      ],
      "text/plain": [
       " [1] \"sex\"                          \"yob\"                         \n",
       " [3] \"g2000\"                        \"g2002\"                       \n",
       " [5] \"g2004\"                        \"p2000\"                       \n",
       " [7] \"p2002\"                        \"cluster\"                     \n",
       " [9] \"votedav\"                      \"dem\"                         \n",
       "[11] \"nov\"                          \"aug\"                         \n",
       "[13] \"city\"                         \"hh_id\"                       \n",
       "[15] \"hh_size\"                      \"totalpopulation_estimate\"    \n",
       "[17] \"percent_male\"                 \"percent_female\"              \n",
       "[19] \"median_age\"                   \"percent_under5years\"         \n",
       "[21] \"percent_5to9years\"            \"percent_10to14years\"         \n",
       "[23] \"percent_15to19years\"          \"percent_20to24years\"         \n",
       "[25] \"percent_25to34years\"          \"percent_35to44years\"         \n",
       "[27] \"percent_45to54years\"          \"percent_55to59years\"         \n",
       "[29] \"percent_60to64years\"          \"percent_65to74years\"         \n",
       "[31] \"percent_75to84years\"          \"percent_85yearsandolder\"     \n",
       "[33] \"percent_18yearsandolder\"      \"percent_21yearsandover\"      \n",
       "[35] \"percent_62yearsandover\"       \"percent_65yearsandover\"      \n",
       "[37] \"percent_white\"                \"percent_black\"               \n",
       "[39] \"percent_amindian_alaskan\"     \"percent_asian\"               \n",
       "[41] \"percent_nativeandother\"       \"percent_other_nativeandother\"\n",
       "[43] \"percent_hispanicorlatino\"     \"percent_race_other\"          \n",
       "[45] \"median_income\"                \"mean_income\"                 \n",
       "[47] \"employ_16\"                    \"unemploy_16\"                 \n",
       "[49] \"unemploy_20to64\"              \"employ_20to64\"               \n",
       "[51] \"employ_rename_20to64\"         \"hsorhigher\"                  \n",
       "[53] \"bach_orhigher\"                \"less9thgrade\"                \n",
       "[55] \"grade9to12\"                   \"highschool\"                  \n",
       "[57] \"somecollege\"                  \"assoc\"                       \n",
       "[59] \"bachelors\"                    \"grad\"                        \n",
       "[61] \"outcome_voted\"                \"treatment_dum\"               \n",
       "[63] \"treat_hawthorne\"              \"treat_civic\"                 \n",
       "[65] \"treat_neighbors\"              \"treat_self\"                  \n",
       "[67] \"randn\"                        \"oneperhh\"                    \n",
       "[69] \"p2004\"                       "
      ]
     },
     "metadata": {},
     "output_type": "display_data"
    }
   ],
   "source": [
    "colnames(social)"
   ]
  },
  {
   "cell_type": "code",
   "execution_count": 6,
   "id": "3fb55af1-514f-4200-bc44-9f9360af8d22",
   "metadata": {
    "executionInfo": {
     "elapsed": 26,
     "status": "ok",
     "timestamp": 1653562467707,
     "user": {
      "displayName": "Pablo Quintana",
      "userId": "00674039532099061635"
     },
     "user_tz": 180
    },
    "id": "3fb55af1-514f-4200-bc44-9f9360af8d22"
   },
   "outputs": [],
   "source": [
    "set.seed(123)\n",
    "noise.covars <- matrix(data = runif(nrow(social) * 13), \n",
    "                       nrow = nrow(social), ncol = 13)\n",
    "noise.covars <- data.frame(noise.covars)\n",
    "names(noise.covars) <- c(\"noise1\", \"noise2\", \"noise3\", \"noise4\", \"noise5\", \"noise6\",\n",
    "                         \"noise7\", \"noise8\", \"noise9\", \"noise10\", \"noise11\", \"noise12\",\"noise13\")\n"
   ]
  },
  {
   "cell_type": "code",
   "execution_count": 7,
   "id": "f8a3c6f9-acfa-4590-be81-717f60c395fe",
   "metadata": {
    "executionInfo": {
     "elapsed": 26,
     "status": "ok",
     "timestamp": 1653562467708,
     "user": {
      "displayName": "Pablo Quintana",
      "userId": "00674039532099061635"
     },
     "user_tz": 180
    },
    "id": "f8a3c6f9-acfa-4590-be81-717f60c395fe"
   },
   "outputs": [],
   "source": [
    "working <- cbind(social, noise.covars)\n",
    "\n",
    "set.seed(333)\n",
    "#working <-  working[sample(nrow(social), 20000), ]\n",
    "\n",
    "# Pick a selection of covariates\n",
    "# If we have a lot of data and computation power, it is suggested that\n",
    "# we include all covariates and use regularization. This suggestion is\n",
    "# based on the observation that it's much easier to fix the overfitting \n",
    "# problem than to fix the underfitting problem.\n",
    "covariate.names <- c(\"yob\", \"hh_size\", \"sex\", \"city\", \"g2000\",\"g2002\", \"p2000\", \"p2002\", \"p2004\"\n",
    "                     ,\"totalpopulation_estimate\",\"percent_male\",\"median_age\", \"percent_62yearsandover\"\n",
    "                     ,\"percent_white\", \"percent_black\", \"median_income\",\n",
    "                     \"employ_20to64\", \"highschool\", \"bach_orhigher\",\"percent_hispanicorlatino\",\n",
    "                     \"noise1\", \"noise2\", \"noise3\", \"noise4\", \"noise5\", \"noise6\",\n",
    "                     \"noise7\", \"noise8\", \"noise9\", \"noise10\", \"noise11\", \"noise12\",\"noise13\")\n",
    "\n",
    "\n",
    "names(working)[names(working)==\"outcome_voted\"] <- \"Y\"\n",
    "Y <- working[[\"Y\"]]"
   ]
  },
  {
   "cell_type": "code",
   "execution_count": 8,
   "id": "1bc8c9f5-3d2f-4871-a6d2-0a394b79644c",
   "metadata": {
    "executionInfo": {
     "elapsed": 26,
     "status": "ok",
     "timestamp": 1653562467708,
     "user": {
      "displayName": "Pablo Quintana",
      "userId": "00674039532099061635"
     },
     "user_tz": 180
    },
    "id": "1bc8c9f5-3d2f-4871-a6d2-0a394b79644c"
   },
   "outputs": [],
   "source": [
    "names(working)[names(working)==\"treat_neighbors\"] <- \"W\""
   ]
  },
  {
   "cell_type": "code",
   "execution_count": 9,
   "id": "f218e623-146f-4ea3-bdf8-ec2723ca9bb2",
   "metadata": {
    "executionInfo": {
     "elapsed": 26,
     "status": "ok",
     "timestamp": 1653562467709,
     "user": {
      "displayName": "Pablo Quintana",
      "userId": "00674039532099061635"
     },
     "user_tz": 180
    },
    "id": "f218e623-146f-4ea3-bdf8-ec2723ca9bb2"
   },
   "outputs": [],
   "source": [
    "W <- working[[\"W\"]]\n",
    "covariates <- working[covariate.names]"
   ]
  },
  {
   "cell_type": "code",
   "execution_count": 10,
   "id": "835dad57-ab38-4d04-9956-c1f529644fd2",
   "metadata": {
    "colab": {
     "base_uri": "https://localhost:8080/",
     "height": 52
    },
    "executionInfo": {
     "elapsed": 28,
     "status": "ok",
     "timestamp": 1653562467712,
     "user": {
      "displayName": "Pablo Quintana",
      "userId": "00674039532099061635"
     },
     "user_tz": 180
    },
    "id": "835dad57-ab38-4d04-9956-c1f529644fd2",
    "outputId": "263bd6d4-9a63-4a9b-e043-a2402fa14e9e"
   },
   "outputs": [
    {
     "data": {
      "text/html": [
       "<style>\n",
       ".list-inline {list-style: none; margin:0; padding: 0}\n",
       ".list-inline>li {display: inline-block}\n",
       ".list-inline>li:not(:last-child)::after {content: \"\\00b7\"; padding: 0 .5ex}\n",
       "</style>\n",
       "<ol class=list-inline><li>'yob'</li><li>'hh_size'</li><li>'sex'</li><li>'city'</li><li>'g2000'</li><li>'g2002'</li><li>'p2000'</li><li>'p2002'</li><li>'p2004'</li><li>'totalpopulation_estimate'</li><li>'percent_male'</li><li>'median_age'</li><li>'percent_62yearsandover'</li><li>'percent_white'</li><li>'percent_black'</li><li>'median_income'</li><li>'employ_20to64'</li><li>'highschool'</li><li>'bach_orhigher'</li><li>'percent_hispanicorlatino'</li><li>'noise1'</li><li>'noise2'</li><li>'noise3'</li><li>'noise4'</li><li>'noise5'</li><li>'noise6'</li><li>'noise7'</li><li>'noise8'</li><li>'noise9'</li><li>'noise10'</li><li>'noise11'</li><li>'noise12'</li><li>'noise13'</li></ol>\n"
      ],
      "text/latex": [
       "\\begin{enumerate*}\n",
       "\\item 'yob'\n",
       "\\item 'hh\\_size'\n",
       "\\item 'sex'\n",
       "\\item 'city'\n",
       "\\item 'g2000'\n",
       "\\item 'g2002'\n",
       "\\item 'p2000'\n",
       "\\item 'p2002'\n",
       "\\item 'p2004'\n",
       "\\item 'totalpopulation\\_estimate'\n",
       "\\item 'percent\\_male'\n",
       "\\item 'median\\_age'\n",
       "\\item 'percent\\_62yearsandover'\n",
       "\\item 'percent\\_white'\n",
       "\\item 'percent\\_black'\n",
       "\\item 'median\\_income'\n",
       "\\item 'employ\\_20to64'\n",
       "\\item 'highschool'\n",
       "\\item 'bach\\_orhigher'\n",
       "\\item 'percent\\_hispanicorlatino'\n",
       "\\item 'noise1'\n",
       "\\item 'noise2'\n",
       "\\item 'noise3'\n",
       "\\item 'noise4'\n",
       "\\item 'noise5'\n",
       "\\item 'noise6'\n",
       "\\item 'noise7'\n",
       "\\item 'noise8'\n",
       "\\item 'noise9'\n",
       "\\item 'noise10'\n",
       "\\item 'noise11'\n",
       "\\item 'noise12'\n",
       "\\item 'noise13'\n",
       "\\end{enumerate*}\n"
      ],
      "text/markdown": [
       "1. 'yob'\n",
       "2. 'hh_size'\n",
       "3. 'sex'\n",
       "4. 'city'\n",
       "5. 'g2000'\n",
       "6. 'g2002'\n",
       "7. 'p2000'\n",
       "8. 'p2002'\n",
       "9. 'p2004'\n",
       "10. 'totalpopulation_estimate'\n",
       "11. 'percent_male'\n",
       "12. 'median_age'\n",
       "13. 'percent_62yearsandover'\n",
       "14. 'percent_white'\n",
       "15. 'percent_black'\n",
       "16. 'median_income'\n",
       "17. 'employ_20to64'\n",
       "18. 'highschool'\n",
       "19. 'bach_orhigher'\n",
       "20. 'percent_hispanicorlatino'\n",
       "21. 'noise1'\n",
       "22. 'noise2'\n",
       "23. 'noise3'\n",
       "24. 'noise4'\n",
       "25. 'noise5'\n",
       "26. 'noise6'\n",
       "27. 'noise7'\n",
       "28. 'noise8'\n",
       "29. 'noise9'\n",
       "30. 'noise10'\n",
       "31. 'noise11'\n",
       "32. 'noise12'\n",
       "33. 'noise13'\n",
       "\n",
       "\n"
      ],
      "text/plain": [
       " [1] \"yob\"                      \"hh_size\"                 \n",
       " [3] \"sex\"                      \"city\"                    \n",
       " [5] \"g2000\"                    \"g2002\"                   \n",
       " [7] \"p2000\"                    \"p2002\"                   \n",
       " [9] \"p2004\"                    \"totalpopulation_estimate\"\n",
       "[11] \"percent_male\"             \"median_age\"              \n",
       "[13] \"percent_62yearsandover\"   \"percent_white\"           \n",
       "[15] \"percent_black\"            \"median_income\"           \n",
       "[17] \"employ_20to64\"            \"highschool\"              \n",
       "[19] \"bach_orhigher\"            \"percent_hispanicorlatino\"\n",
       "[21] \"noise1\"                   \"noise2\"                  \n",
       "[23] \"noise3\"                   \"noise4\"                  \n",
       "[25] \"noise5\"                   \"noise6\"                  \n",
       "[27] \"noise7\"                   \"noise8\"                  \n",
       "[29] \"noise9\"                   \"noise10\"                 \n",
       "[31] \"noise11\"                  \"noise12\"                 \n",
       "[33] \"noise13\"                 "
      ]
     },
     "metadata": {},
     "output_type": "display_data"
    }
   ],
   "source": [
    "names(covariates)"
   ]
  },
  {
   "cell_type": "markdown",
   "id": "e6727ad3-ef4b-4f05-ad23-5a724edfad6e",
   "metadata": {
    "id": "e6727ad3-ef4b-4f05-ad23-5a724edfad6e"
   },
   "source": [
    "Algunos algoritmos necesitan que las covariables sean escaladas para que funcionen mejor. En este caso vamos a usar la función \"scale\" para hacerlo."
   ]
  },
  {
   "cell_type": "code",
   "execution_count": 11,
   "id": "e6c5a608-e69d-4e16-9cf4-919e72e9f78a",
   "metadata": {
    "executionInfo": {
     "elapsed": 692,
     "status": "ok",
     "timestamp": 1653562468380,
     "user": {
      "displayName": "Pablo Quintana",
      "userId": "00674039532099061635"
     },
     "user_tz": 180
    },
    "id": "e6c5a608-e69d-4e16-9cf4-919e72e9f78a"
   },
   "outputs": [],
   "source": [
    "# some algorithms require our covariates be scaled\n",
    "# scale, with default settings, will calculate the mean and standard deviation of the entire vector, \n",
    "# then \"scale\" each element by those values by subtracting the mean and dividing by the sd\n",
    "covariates.scaled <- scale(covariates)\n",
    "processed.unscaled <- data.frame(Y, W, covariates)\n",
    "processed.scaled <- data.frame(Y, W, covariates.scaled)"
   ]
  },
  {
   "cell_type": "markdown",
   "id": "af0c4194-da74-411f-890d-f8ac12298c3c",
   "metadata": {
    "id": "af0c4194-da74-411f-890d-f8ac12298c3c"
   },
   "source": [
    "El objetivo principal de machine learning es la predicción fuera de la muestra, es por eso que lo que se hace habitualmente para simularlo es partir la muestra de datos en dos, una muestra de entrenamiento y la otra de testeo. Incluso se suele dividir en tres también, lo que sería entrenamiento, validación y testeo. Para partir los datos usamos la función \"sample\""
   ]
  },
  {
   "cell_type": "code",
   "execution_count": 12,
   "id": "3c2a3c61-f6f7-421a-b4c2-9c8c47d5ba56",
   "metadata": {
    "executionInfo": {
     "elapsed": 95,
     "status": "ok",
     "timestamp": 1653562468382,
     "user": {
      "displayName": "Pablo Quintana",
      "userId": "00674039532099061635"
     },
     "user_tz": 180
    },
    "id": "3c2a3c61-f6f7-421a-b4c2-9c8c47d5ba56"
   },
   "outputs": [],
   "source": [
    "# Creemos una función que nos devuelvo dos bd\n",
    "\n",
    "train_test <- function(bd, porcentaje) {\n",
    "    train <- sample(nrow(bd), round(nrow(bd)*porcentaje), replace = FALSE)\n",
    "    train.bd <- bd[train,]\n",
    "    test.bd <- bd[-train,]\n",
    "    return(list(train.bd,test.bd))\n",
    "    }\n",
    "\n",
    "set.seed(45)\n",
    "lista_train_test <- train_test(processed.scaled, 0.9)\n",
    "y.train <- as.matrix(lista_train_test[[1]]$Y, ncol = 1)\n",
    "y.test <- as.matrix(lista_train_test[[2]]$Y, ncol = 1)\n",
    "X.train <- lista_train_test[[1]]\n",
    "X.test <- lista_train_test[[2]]"
   ]
  },
  {
   "cell_type": "markdown",
   "id": "08f8e4d7-607b-4fb4-9c46-c751605ea844",
   "metadata": {
    "id": "08f8e4d7-607b-4fb4-9c46-c751605ea844"
   },
   "source": [
    "Creamos las formulas que vamos a trabajar"
   ]
  },
  {
   "cell_type": "code",
   "execution_count": 13,
   "id": "59196eee-a959-4928-b83e-323e34573590",
   "metadata": {
    "executionInfo": {
     "elapsed": 95,
     "status": "ok",
     "timestamp": 1653562468384,
     "user": {
      "displayName": "Pablo Quintana",
      "userId": "00674039532099061635"
     },
     "user_tz": 180
    },
    "id": "59196eee-a959-4928-b83e-323e34573590"
   },
   "outputs": [],
   "source": [
    "sumx <- paste(covariate.names, collapse = \" + \")  # \"X1 + X2 + X3 + ...\" for substitution later\n",
    "interx <- paste(\" (\",sumx, \")^2\", sep=\"\")  # \"(X1 + X2 + X3 + ...)^2\" for substitution later\n",
    "linear <- paste(\"Y\", sumx, sep = \"~\")\n",
    "linear <- as.formula(linear)\n",
    "linear.inter <- (paste(\"Y\", interx, sep = \"~\"))\n",
    "linear.inter <- as.formula(linear.inter)"
   ]
  },
  {
   "cell_type": "markdown",
   "id": "fd04a557-8de4-4718-a3a9-b432e81c17a4",
   "metadata": {
    "id": "fd04a557-8de4-4718-a3a9-b432e81c17a4"
   },
   "source": [
    "## Modelos lineales"
   ]
  },
  {
   "cell_type": "markdown",
   "id": "fb313729-a38e-42ab-83b9-258387c31427",
   "metadata": {
    "id": "fb313729-a38e-42ab-83b9-258387c31427"
   },
   "source": [
    "### Mínimos cuadrados ordinarios\n",
    "\n",
    "Cuándo hablamos de modelos lineales para predicción estamos suponiendo que la función $E(Y|X)$ es lineal en las entradas $X_1,...,X_p$. Por lo tanto podemos tomar un vector $X^T=(X_1,...,X_p)$ y predecir $y$ con la siguiente función:\n",
    "\n",
    "\\begin{equation}\n",
    "f(X)=\\beta_{0}+\\sum_{j=1}^{p}\\boldsymbol{X}_{j}\\beta_{j}\n",
    "\\end{equation}\n",
    "\n",
    "En esta ecuación los parámetros $\\beta_j$ son desconocidos y $\\boldsymbol{X}$ es una matriz de datos conocidos.\n",
    "EL objetivo es estimar los coeficientes $\\beta=\\left(\\beta_0,\\beta_1,...,beta_p\\right)^T, para esto, el método mas popular es el de mínimos cuadrados el cual tiene como objetivo reducir la suma de cuadrados de los residuos.\n",
    "\n",
    "\\begin{equation}\n",
    "RSS\\left(\\beta\\right) = \\sum_{i=1}^{N}\\left(y_i-\\sum_{j=0}^{p}x_{ij}\\beta_j\\right)^2\n",
    "\\end{equation}\n",
    "\n",
    "Para minimizarla podemos escrbirla de la siguiente forma:\n",
    "\n",
    "\\begin{equation}\n",
    "RSS\\left(\\beta\\right) = \\left(\\boldsymbol{y}-\\boldsymbol{X}\\beta\\right)^T\\left(\\boldsymbol{y}-\\boldsymbol{X}\\beta\\right)\n",
    "\\end{equation}\n",
    "\n",
    "luego derivando e igualando a 0 tenemos:\n",
    "\n",
    "\\begin{equation}\n",
    "\\boldsymbol{X}^T\\boldsymbol{y}-\\boldsymbol{X}^T\\boldsymbol{X}\\beta = 0\n",
    "\\end{equation}\n",
    "\n",
    "Asumiendo que $\\boldsymbol{X}$ tiene rango completo de columnas podemos encontrar una única solución dada por:\n",
    "\n",
    "\\begin{equation}\n",
    "\\hat{\\beta} = \\left(\\boldsymbol{X}^T\\boldsymbol{X}\\right)^{-1}\\boldsymbol{X}^T\\boldsymbol{y}\n",
    "\\end{equation}\n",
    "\n",
    "Una condición necesaria para aplicar esta estimación es que las columnas de $\\boldsymbol{X}$ sean independientes entre sí, en otro caso no tendríamos rango completo de columna. La función *lm* de R elimina aquellas columnas redundantes de la estimación y lo calcula, la mayoría de los software estadísticos lo hacen, pero no ocurre así si quisieramos aplicar este cálculo por nuestra cuenta.\n",
    "\n",
    "Como se mencionó la función *lm* es el comando para calcular mínimos cuadrados en R. Los parámetros básicos para calcularla son una fórmula del objeto de tipo *\"formula\"* de R el cuál deberá tener cuál es la variable dependiente y cuales son las variables explicativas y la base de datos de dónde sale dicha información.\n",
    "\n",
    "Procedemos a ver un ejemplo con los datos de social.csv\n"
   ]
  },
  {
   "cell_type": "code",
   "execution_count": 14,
   "id": "fcef3ee2-c7c7-4f4f-a05f-d48e40125de9",
   "metadata": {
    "colab": {
     "base_uri": "https://localhost:8080/",
     "height": 0
    },
    "executionInfo": {
     "elapsed": 94,
     "status": "ok",
     "timestamp": 1653562468385,
     "user": {
      "displayName": "Pablo Quintana",
      "userId": "00674039532099061635"
     },
     "user_tz": 180
    },
    "id": "fcef3ee2-c7c7-4f4f-a05f-d48e40125de9",
    "outputId": "606cd982-b3c4-44d6-913f-14bd92562a55"
   },
   "outputs": [
    {
     "data": {
      "text/plain": [
       "Y ~ yob + hh_size + sex + city + g2000 + g2002 + p2000 + p2002 + \n",
       "    p2004 + totalpopulation_estimate + percent_male + median_age + \n",
       "    percent_62yearsandover + percent_white + percent_black + \n",
       "    median_income + employ_20to64 + highschool + bach_orhigher + \n",
       "    percent_hispanicorlatino + noise1 + noise2 + noise3 + noise4 + \n",
       "    noise5 + noise6 + noise7 + noise8 + noise9 + noise10 + noise11 + \n",
       "    noise12 + noise13"
      ]
     },
     "metadata": {},
     "output_type": "display_data"
    }
   ],
   "source": [
    "# la fórmula es\n",
    "linear"
   ]
  },
  {
   "cell_type": "code",
   "execution_count": 15,
   "id": "6554e085-ec1a-45c0-9bf4-021f80b6187e",
   "metadata": {
    "colab": {
     "base_uri": "https://localhost:8080/",
     "height": 0
    },
    "executionInfo": {
     "elapsed": 88,
     "status": "ok",
     "timestamp": 1653562468385,
     "user": {
      "displayName": "Pablo Quintana",
      "userId": "00674039532099061635"
     },
     "user_tz": 180
    },
    "id": "6554e085-ec1a-45c0-9bf4-021f80b6187e",
    "outputId": "72ebc251-bbc9-49fd-aa35-a9a5efe400ac"
   },
   "outputs": [
    {
     "data": {
      "text/plain": [
       "\n",
       "Call:\n",
       "lm(formula = linear, data = processed.scaled)\n",
       "\n",
       "Residuals:\n",
       "    Min      1Q  Median      3Q     Max \n",
       "-0.7798 -0.3387 -0.2182  0.5444  1.0269 \n",
       "\n",
       "Coefficients:\n",
       "                           Estimate Std. Error t value Pr(>|t|)    \n",
       "(Intercept)               0.3183027  0.0012972 245.378  < 2e-16 ***\n",
       "yob                      -0.0298619  0.0014321 -20.851  < 2e-16 ***\n",
       "hh_size                   0.0079806  0.0013736   5.810 6.27e-09 ***\n",
       "sex                      -0.0041355  0.0012990  -3.184  0.00145 ** \n",
       "city                      0.0425474  0.0013905  30.599  < 2e-16 ***\n",
       "g2000                    -0.0098765  0.0014243  -6.934 4.11e-12 ***\n",
       "g2002                     0.0293672  0.0014239  20.625  < 2e-16 ***\n",
       "p2000                     0.0377639  0.0013333  28.324  < 2e-16 ***\n",
       "p2002                     0.0576975  0.0013488  42.777  < 2e-16 ***\n",
       "p2004                     0.0756268  0.0013289  56.911  < 2e-16 ***\n",
       "totalpopulation_estimate  0.0103734  0.0016749   6.193 5.90e-10 ***\n",
       "percent_male             -0.0041805  0.0015556  -2.687  0.00720 ** \n",
       "median_age                0.0031203  0.0031385   0.994  0.32013    \n",
       "percent_62yearsandover    0.0059074  0.0030900   1.912  0.05591 .  \n",
       "percent_white             0.0191745  0.0033847   5.665 1.47e-08 ***\n",
       "percent_black             0.0182028  0.0030556   5.957 2.57e-09 ***\n",
       "median_income             0.0252945  0.0029970   8.440  < 2e-16 ***\n",
       "employ_20to64            -0.0116287  0.0018411  -6.316 2.69e-10 ***\n",
       "highschool                0.0321456  0.0047126   6.821 9.07e-12 ***\n",
       "bach_orhigher             0.0093469  0.0051422   1.818  0.06911 .  \n",
       "percent_hispanicorlatino  0.0016305  0.0017551   0.929  0.35291    \n",
       "noise1                   -0.0005721  0.0012974  -0.441  0.65925    \n",
       "noise2                    0.0008281  0.0012974   0.638  0.52327    \n",
       "noise3                   -0.0023713  0.0012973  -1.828  0.06758 .  \n",
       "noise4                   -0.0019993  0.0012974  -1.541  0.12332    \n",
       "noise5                   -0.0010014  0.0012974  -0.772  0.44021    \n",
       "noise6                    0.0023886  0.0012973   1.841  0.06559 .  \n",
       "noise7                    0.0003999  0.0012974   0.308  0.75791    \n",
       "noise8                    0.0006979  0.0012973   0.538  0.59061    \n",
       "noise9                   -0.0004706  0.0012974  -0.363  0.71677    \n",
       "noise10                   0.0009529  0.0012974   0.734  0.46266    \n",
       "noise11                   0.0007511  0.0012973   0.579  0.56261    \n",
       "noise12                   0.0003130  0.0012974   0.241  0.80937    \n",
       "noise13                   0.0017338  0.0012974   1.336  0.18141    \n",
       "---\n",
       "Signif. codes:  0 '***' 0.001 '**' 0.01 '*' 0.05 '.' 0.1 ' ' 1\n",
       "\n",
       "Residual standard error: 0.4494 on 119965 degrees of freedom\n",
       "Multiple R-squared:  0.06968,\tAdjusted R-squared:  0.06943 \n",
       "F-statistic: 272.3 on 33 and 119965 DF,  p-value: < 2.2e-16\n"
      ]
     },
     "metadata": {},
     "output_type": "display_data"
    }
   ],
   "source": [
    "ols <- lm(linear, processed.scaled)\n",
    "summary(ols)"
   ]
  },
  {
   "cell_type": "markdown",
   "id": "a66dbc11-467a-4829-9c94-8dc62269af6f",
   "metadata": {
    "id": "a66dbc11-467a-4829-9c94-8dc62269af6f"
   },
   "source": [
    "Como se puede ver, el método de mínimos cuadrados considera a los ruidos que agregamos nosotros como significativos, por lo tanto no tiene la capacidad de detectar que es ruido, simplemente las ajusta junto a todas las otras. Esto agrega otro supuesto más a MCO que tenemos que tener en cuenta, que es que tenemos que tener bien especificado el modelo, o sea todas las variables que pasamos como explicativas deben ser realmente las variables que explican a $y$. Esto es particularmente dificil en los casos reales, y la idea es tratar de encontrar las variables que explican el modelo a través de métodos de selección de variables, los cuales nos deberían acercar a la verdadera función.\n",
    "\n",
    "De todas formas, si el método predice bien podemos tomarlo aunque tenga variables ruidosas, el objetivo acá es la predicción. Para chequear que tan bueno es un método para predcir por lo general se usa lo de partir la base de datos en dos, una grande que sirve para los datos de entrenamiento y otra más pequeña para el testeo. La idea es la predicción por fuera de la muestra. Luego con los coeficientes calculados con los datos de entrenamiento se predice sobre la base de prueba y se mide que tan efectivo es con alguna métrica."
   ]
  },
  {
   "cell_type": "code",
   "execution_count": 16,
   "id": "7a6c65af-62cf-4657-b516-0fba01d48e14",
   "metadata": {
    "executionInfo": {
     "elapsed": 87,
     "status": "ok",
     "timestamp": 1653562468389,
     "user": {
      "displayName": "Pablo Quintana",
      "userId": "00674039532099061635"
     },
     "user_tz": 180
    },
    "id": "7a6c65af-62cf-4657-b516-0fba01d48e14"
   },
   "outputs": [],
   "source": [
    "ols <- lm(linear, data = X.train)"
   ]
  },
  {
   "cell_type": "code",
   "execution_count": 17,
   "id": "0c232177-d18a-412b-ac35-a1d34ec174f5",
   "metadata": {
    "colab": {
     "base_uri": "https://localhost:8080/",
     "height": 0
    },
    "executionInfo": {
     "elapsed": 87,
     "status": "ok",
     "timestamp": 1653562468390,
     "user": {
      "displayName": "Pablo Quintana",
      "userId": "00674039532099061635"
     },
     "user_tz": 180
    },
    "id": "0c232177-d18a-412b-ac35-a1d34ec174f5",
    "outputId": "44e2980d-6f49-4a07-b22c-43b62882af95"
   },
   "outputs": [
    {
     "data": {
      "text/plain": [
       "\n",
       "Call:\n",
       "lm(formula = linear, data = X.train)\n",
       "\n",
       "Residuals:\n",
       "    Min      1Q  Median      3Q     Max \n",
       "-0.7801 -0.3387 -0.2187  0.5445  1.0288 \n",
       "\n",
       "Coefficients:\n",
       "                           Estimate Std. Error t value Pr(>|t|)    \n",
       "(Intercept)               0.3183863  0.0013677 232.794  < 2e-16 ***\n",
       "yob                      -0.0285834  0.0015083 -18.951  < 2e-16 ***\n",
       "hh_size                   0.0076376  0.0014473   5.277 1.32e-07 ***\n",
       "sex                      -0.0044537  0.0013695  -3.252  0.00115 ** \n",
       "city                      0.0435412  0.0014667  29.686  < 2e-16 ***\n",
       "g2000                    -0.0094400  0.0015004  -6.292 3.15e-10 ***\n",
       "g2002                     0.0297059  0.0015024  19.773  < 2e-16 ***\n",
       "p2000                     0.0377601  0.0014057  26.862  < 2e-16 ***\n",
       "p2002                     0.0570572  0.0014225  40.111  < 2e-16 ***\n",
       "p2004                     0.0754573  0.0014011  53.857  < 2e-16 ***\n",
       "totalpopulation_estimate  0.0114049  0.0017666   6.456 1.08e-10 ***\n",
       "percent_male             -0.0042304  0.0016430  -2.575  0.01003 *  \n",
       "median_age                0.0026059  0.0033086   0.788  0.43092    \n",
       "percent_62yearsandover    0.0067227  0.0032557   2.065  0.03893 *  \n",
       "percent_white             0.0201861  0.0035641   5.664 1.49e-08 ***\n",
       "percent_black             0.0185346  0.0032166   5.762 8.33e-09 ***\n",
       "median_income             0.0258173  0.0031589   8.173 3.04e-16 ***\n",
       "employ_20to64            -0.0134757  0.0019389  -6.950 3.66e-12 ***\n",
       "highschool                0.0307212  0.0049669   6.185 6.23e-10 ***\n",
       "bach_orhigher             0.0079973  0.0054201   1.475  0.14009    \n",
       "percent_hispanicorlatino  0.0014896  0.0018534   0.804  0.42155    \n",
       "noise1                   -0.0003105  0.0013678  -0.227  0.82041    \n",
       "noise2                    0.0005860  0.0013673   0.429  0.66822    \n",
       "noise3                   -0.0025405  0.0013684  -1.857  0.06338 .  \n",
       "noise4                   -0.0023549  0.0013678  -1.722  0.08515 .  \n",
       "noise5                   -0.0009239  0.0013670  -0.676  0.49910    \n",
       "noise6                    0.0024385  0.0013674   1.783  0.07455 .  \n",
       "noise7                    0.0005021  0.0013673   0.367  0.71347    \n",
       "noise8                    0.0012082  0.0013679   0.883  0.37713    \n",
       "noise9                   -0.0004681  0.0013674  -0.342  0.73211    \n",
       "noise10                   0.0009881  0.0013679   0.722  0.47007    \n",
       "noise11                   0.0003758  0.0013678   0.275  0.78353    \n",
       "noise12                  -0.0001798  0.0013674  -0.131  0.89538    \n",
       "noise13                   0.0011741  0.0013665   0.859  0.39024    \n",
       "---\n",
       "Signif. codes:  0 '***' 0.001 '**' 0.01 '*' 0.05 '.' 0.1 ' ' 1\n",
       "\n",
       "Residual standard error: 0.4495 on 107965 degrees of freedom\n",
       "Multiple R-squared:  0.06963,\tAdjusted R-squared:  0.06934 \n",
       "F-statistic: 244.8 on 33 and 107965 DF,  p-value: < 2.2e-16\n"
      ]
     },
     "metadata": {},
     "output_type": "display_data"
    }
   ],
   "source": [
    "summary(ols)"
   ]
  },
  {
   "cell_type": "markdown",
   "id": "241c49d4-ddf9-45b3-8a7f-8dcffafcc619",
   "metadata": {
    "id": "241c49d4-ddf9-45b3-8a7f-8dcffafcc619"
   },
   "source": [
    "Una forma de medir la efectividad del método para predecir es utilizando el error cuadrático medio, existen varias más, el error abosluto medio, el error logarítmico cuadrado medo, etc. Estos son los utilizados para medir la efectividad de las regresiones.\n",
    "\n",
    "En R no están de manera predeterminada por lo tanto procedemos a armarlos con una función nosotros."
   ]
  },
  {
   "cell_type": "code",
   "execution_count": 18,
   "id": "8c733f7d-3e35-44c7-a284-70609a1d3be6",
   "metadata": {
    "executionInfo": {
     "elapsed": 85,
     "status": "ok",
     "timestamp": 1653562468390,
     "user": {
      "displayName": "Pablo Quintana",
      "userId": "00674039532099061635"
     },
     "user_tz": 180
    },
    "id": "8c733f7d-3e35-44c7-a284-70609a1d3be6"
   },
   "outputs": [],
   "source": [
    "mse <- function(pred, y_test){\n",
    "    return((mean((pred-y_test)^2)))\n",
    "    }   "
   ]
  },
  {
   "cell_type": "markdown",
   "id": "e49032c4-4900-49c0-86a9-637ecc032616",
   "metadata": {
    "id": "e49032c4-4900-49c0-86a9-637ecc032616"
   },
   "source": [
    "La función *predcit* en R es una función genérica que se puede aplicar a distintos objetos, solo que depende cual sea recibe parámetros distintos. Esto es parte de lo que se denomina *polimorfismo* en la programación orientada a objeto.\n",
    "\n",
    "Es por eso que la hay que calcular las predicciones primero y luego calcular la métrica. Como se puede ver el primer número que es sobre la base de test, es mayor que sobre la base de entrenamiento, aunque son bastantes similares"
   ]
  },
  {
   "cell_type": "code",
   "execution_count": 19,
   "id": "5a412df8-13ae-4fbf-806d-c9982a080015",
   "metadata": {
    "colab": {
     "base_uri": "https://localhost:8080/",
     "height": 0
    },
    "executionInfo": {
     "elapsed": 85,
     "status": "ok",
     "timestamp": 1653562468391,
     "user": {
      "displayName": "Pablo Quintana",
      "userId": "00674039532099061635"
     },
     "user_tz": 180
    },
    "id": "5a412df8-13ae-4fbf-806d-c9982a080015",
    "outputId": "ffd74408-4e8c-4b07-cdb4-a6128bb5150a"
   },
   "outputs": [
    {
     "data": {
      "text/html": [
       "<style>\n",
       ".dl-inline {width: auto; margin:0; padding: 0}\n",
       ".dl-inline>dt, .dl-inline>dd {float: none; width: auto; display: inline-block}\n",
       ".dl-inline>dt::after {content: \":\\0020\"; padding-right: .5ex}\n",
       ".dl-inline>dt:not(:first-of-type) {padding-left: .5ex}\n",
       "</style><dl class=dl-inline><dt>mse_train</dt><dd>0.201945471512763</dd><dt>mse_test</dt><dd>0.201219570688055</dd></dl>\n"
      ],
      "text/latex": [
       "\\begin{description*}\n",
       "\\item[mse\\textbackslash{}\\_train] 0.201945471512763\n",
       "\\item[mse\\textbackslash{}\\_test] 0.201219570688055\n",
       "\\end{description*}\n"
      ],
      "text/markdown": [
       "mse_train\n",
       ":   0.201945471512763mse_test\n",
       ":   0.201219570688055\n",
       "\n"
      ],
      "text/plain": [
       "mse_train  mse_test \n",
       "0.2019455 0.2012196 "
      ]
     },
     "metadata": {},
     "output_type": "display_data"
    }
   ],
   "source": [
    "ols_pred <- predict(ols, X.test)\n",
    "ols_rdos <- c( mse_train = mse(predict(ols, X.train), y.train),mse_test = mse(ols_pred, y.test))\n",
    "ols_rdos"
   ]
  },
  {
   "cell_type": "markdown",
   "id": "7aa5d58a-6df3-4f1e-91fc-39c0923abecb",
   "metadata": {
    "id": "7aa5d58a-6df3-4f1e-91fc-39c0923abecb"
   },
   "source": [
    "Esta son las métricas para evaluar una regresión, pero en nuestro ejemplo la variable respuesta es una variable binomial, por lo tanto es un problema de clasificación y no de regresión. Existen otro tipo de métricas para poder evaluar un método de estimación cuando el problema es de predicción, entre ellos los más conocidos son **precision** y **recall**. Para observar esto miremos lo que se conoce como matriz de confusión.\n",
    "\n",
    "![image.png](attachment:0818f836-dd79-4170-bae3-a750d5515cb2.png)\n",
    "\n",
    "Entonces la precision o valor predictivo positivo  va medir a todos aquellos a los que predecimos como positivos y es verdad (verdaderos positivos) sobre todos los que predecimos como verdaderos. Más formal $VP/(VP+FP)$.\n",
    "\n",
    "El recall o sensibilidad va medir a todos los verdaderos positivos sobre todos los que son positivos realmente. Más formal $VP/(VP+FN)$\n",
    "\n",
    "La especificidad o razon de verdaders negativos mide todos aquellos que son verdaderos negativos sobre todos los negativos reales. Más formal $VN/(FP+VN)$\n",
    "\n"
   ]
  },
  {
   "cell_type": "markdown",
   "id": "ce4fdec6-31df-490b-8917-143ea489bb1d",
   "metadata": {
    "id": "ce4fdec6-31df-490b-8917-143ea489bb1d"
   },
   "source": [
    "Estos indicadores deben estar balanceados entre sí, no se puede intentar mejorar solo uno. Por ejemplo si aumentamos la precisión llevandola a 1, significa que acertamos a todos los que son verdaderamente positivos, pero esto, probablemente traiga aparejada que tenemos muchos falsos positivos también, por lo tanto puede ser indicio de sobre ajuste (*overfitting*). En cambio si mejoramos el recall, procurando no tener falsos negativos, puede dar indicios de sub-ajuste (*underfittinh*). \n",
    "\n",
    "Existe unfa fórmula que los unifica a la precision y al recall para trabajar de manera unificada, estos se conocen como las medidas $F_1$. En este caso la fórmula es la siguiente:\n",
    "\\begin{equation}\n",
    "F_1 = \\frac{2}{1/prec+1/rec}\n",
    "\\end{equation}\n",
    "\n",
    "Este indicador va de 0 a 1 siendo 1 el mejor resultado.\n",
    "\n",
    "Estos indicadores no se encuentran en R pero también son fáciles de calcular con una función propia\n"
   ]
  },
  {
   "cell_type": "code",
   "execution_count": 20,
   "id": "684243f8-ecd1-4039-8490-6c1c79aeaa39",
   "metadata": {
    "colab": {
     "base_uri": "https://localhost:8080/",
     "height": 0
    },
    "executionInfo": {
     "elapsed": 85,
     "status": "ok",
     "timestamp": 1653562468393,
     "user": {
      "displayName": "Pablo Quintana",
      "userId": "00674039532099061635"
     },
     "user_tz": 180
    },
    "id": "684243f8-ecd1-4039-8490-6c1c79aeaa39",
    "outputId": "c8923ceb-4e47-413e-c585-062f025103c0"
   },
   "outputs": [
    {
     "data": {
      "text/html": [
       "<style>\n",
       ".list-inline {list-style: none; margin:0; padding: 0}\n",
       ".list-inline>li {display: inline-block}\n",
       ".list-inline>li:not(:last-child)::after {content: \"\\00b7\"; padding: 0 .5ex}\n",
       "</style>\n",
       "<ol class=list-inline><li>0</li><li>0</li><li>0</li><li>0</li><li>0</li><li>0</li><li>0</li><li>1</li><li>0</li><li>0</li><li>0</li><li>0</li><li>0</li><li>1</li><li>0</li><li>0</li><li>0</li><li>0</li><li>0</li><li>0</li><li>0</li><li>0</li><li>0</li><li>0</li><li>0</li><li>0</li><li>0</li><li>0</li><li>1</li><li>0</li><li>0</li><li>0</li><li>0</li><li>0</li><li>0</li><li>0</li><li>0</li><li>0</li><li>1</li><li>0</li><li>0</li><li>0</li><li>0</li><li>0</li><li>0</li><li>0</li><li>0</li><li>0</li><li>1</li><li>0</li><li>0</li><li>0</li><li>0</li><li>0</li><li>0</li><li>0</li><li>0</li><li>0</li><li>0</li><li>0</li><li>0</li><li>0</li><li>1</li><li>0</li><li>0</li><li>1</li><li>1</li><li>0</li><li>0</li><li>0</li><li>0</li><li>0</li><li>0</li><li>0</li><li>0</li><li>1</li><li>0</li><li>0</li><li>0</li><li>0</li><li>0</li><li>0</li><li>0</li><li>0</li><li>0</li><li>1</li><li>0</li><li>0</li><li>0</li><li>0</li><li>0</li><li>0</li><li>0</li><li>0</li><li>0</li><li>0</li><li>0</li><li>0</li><li>0</li><li>0</li><li>0</li><li>0</li><li>0</li><li>0</li><li>0</li><li>0</li><li>1</li><li>1</li><li>1</li><li>0</li><li>0</li><li>0</li><li>0</li><li>0</li><li>0</li><li>0</li><li>0</li><li>0</li><li>0</li><li>0</li><li>0</li><li>0</li><li>0</li><li>0</li><li>0</li><li>1</li><li>1</li><li>0</li><li>0</li><li>0</li><li>0</li><li>0</li><li>0</li><li>0</li><li>0</li><li>0</li><li>0</li><li>0</li><li>0</li><li>0</li><li>0</li><li>0</li><li>0</li><li>0</li><li>1</li><li>0</li><li>0</li><li>0</li><li>0</li><li>0</li><li>0</li><li>1</li><li>0</li><li>0</li><li>0</li><li>0</li><li>1</li><li>0</li><li>0</li><li>0</li><li>0</li><li>0</li><li>0</li><li>0</li><li>0</li><li>0</li><li>0</li><li>0</li><li>0</li><li>0</li><li>0</li><li>0</li><li>0</li><li>1</li><li>0</li><li>0</li><li>0</li><li>0</li><li>0</li><li>0</li><li>0</li><li>0</li><li>0</li><li>0</li><li>0</li><li>0</li><li>1</li><li>0</li><li>0</li><li>0</li><li>0</li><li>0</li><li>0</li><li>0</li><li>0</li><li>0</li><li>0</li><li>0</li><li>0</li><li>1</li><li>...</li><li>1</li><li>0</li><li>0</li><li>0</li><li>0</li><li>0</li><li>0</li><li>0</li><li>0</li><li>0</li><li>1</li><li>0</li><li>0</li><li>0</li><li>0</li><li>0</li><li>0</li><li>0</li><li>0</li><li>0</li><li>1</li><li>0</li><li>0</li><li>0</li><li>0</li><li>0</li><li>0</li><li>0</li><li>0</li><li>0</li><li>0</li><li>0</li><li>0</li><li>0</li><li>0</li><li>0</li><li>0</li><li>0</li><li>0</li><li>0</li><li>0</li><li>0</li><li>0</li><li>0</li><li>1</li><li>0</li><li>1</li><li>0</li><li>0</li><li>0</li><li>0</li><li>1</li><li>0</li><li>0</li><li>0</li><li>0</li><li>0</li><li>0</li><li>0</li><li>1</li><li>0</li><li>0</li><li>0</li><li>0</li><li>0</li><li>0</li><li>0</li><li>0</li><li>0</li><li>0</li><li>0</li><li>0</li><li>0</li><li>0</li><li>0</li><li>0</li><li>0</li><li>0</li><li>0</li><li>0</li><li>0</li><li>0</li><li>0</li><li>0</li><li>0</li><li>0</li><li>1</li><li>0</li><li>0</li><li>0</li><li>0</li><li>0</li><li>0</li><li>0</li><li>0</li><li>0</li><li>0</li><li>0</li><li>0</li><li>0</li><li>0</li><li>0</li><li>1</li><li>0</li><li>0</li><li>0</li><li>0</li><li>0</li><li>0</li><li>0</li><li>0</li><li>0</li><li>0</li><li>0</li><li>0</li><li>0</li><li>0</li><li>0</li><li>0</li><li>0</li><li>0</li><li>0</li><li>0</li><li>0</li><li>0</li><li>0</li><li>0</li><li>0</li><li>0</li><li>0</li><li>0</li><li>0</li><li>0</li><li>0</li><li>0</li><li>0</li><li>0</li><li>0</li><li>0</li><li>1</li><li>0</li><li>0</li><li>0</li><li>0</li><li>1</li><li>0</li><li>0</li><li>0</li><li>0</li><li>0</li><li>0</li><li>0</li><li>0</li><li>0</li><li>0</li><li>0</li><li>0</li><li>0</li><li>0</li><li>1</li><li>0</li><li>0</li><li>0</li><li>0</li><li>0</li><li>0</li><li>0</li><li>0</li><li>0</li><li>0</li><li>0</li><li>0</li><li>0</li><li>0</li><li>0</li><li>0</li><li>0</li><li>0</li><li>0</li><li>0</li><li>1</li><li>0</li><li>0</li><li>0</li><li>0</li><li>0</li><li>1</li><li>0</li><li>0</li><li>0</li><li>0</li><li>0</li><li>0</li><li>1</li><li>0</li><li>0</li><li>0</li><li>0</li><li>0</li><li>0</li></ol>\n"
      ],
      "text/latex": [
       "\\begin{enumerate*}\n",
       "\\item 0\n",
       "\\item 0\n",
       "\\item 0\n",
       "\\item 0\n",
       "\\item 0\n",
       "\\item 0\n",
       "\\item 0\n",
       "\\item 1\n",
       "\\item 0\n",
       "\\item 0\n",
       "\\item 0\n",
       "\\item 0\n",
       "\\item 0\n",
       "\\item 1\n",
       "\\item 0\n",
       "\\item 0\n",
       "\\item 0\n",
       "\\item 0\n",
       "\\item 0\n",
       "\\item 0\n",
       "\\item 0\n",
       "\\item 0\n",
       "\\item 0\n",
       "\\item 0\n",
       "\\item 0\n",
       "\\item 0\n",
       "\\item 0\n",
       "\\item 0\n",
       "\\item 1\n",
       "\\item 0\n",
       "\\item 0\n",
       "\\item 0\n",
       "\\item 0\n",
       "\\item 0\n",
       "\\item 0\n",
       "\\item 0\n",
       "\\item 0\n",
       "\\item 0\n",
       "\\item 1\n",
       "\\item 0\n",
       "\\item 0\n",
       "\\item 0\n",
       "\\item 0\n",
       "\\item 0\n",
       "\\item 0\n",
       "\\item 0\n",
       "\\item 0\n",
       "\\item 0\n",
       "\\item 1\n",
       "\\item 0\n",
       "\\item 0\n",
       "\\item 0\n",
       "\\item 0\n",
       "\\item 0\n",
       "\\item 0\n",
       "\\item 0\n",
       "\\item 0\n",
       "\\item 0\n",
       "\\item 0\n",
       "\\item 0\n",
       "\\item 0\n",
       "\\item 0\n",
       "\\item 1\n",
       "\\item 0\n",
       "\\item 0\n",
       "\\item 1\n",
       "\\item 1\n",
       "\\item 0\n",
       "\\item 0\n",
       "\\item 0\n",
       "\\item 0\n",
       "\\item 0\n",
       "\\item 0\n",
       "\\item 0\n",
       "\\item 0\n",
       "\\item 1\n",
       "\\item 0\n",
       "\\item 0\n",
       "\\item 0\n",
       "\\item 0\n",
       "\\item 0\n",
       "\\item 0\n",
       "\\item 0\n",
       "\\item 0\n",
       "\\item 0\n",
       "\\item 1\n",
       "\\item 0\n",
       "\\item 0\n",
       "\\item 0\n",
       "\\item 0\n",
       "\\item 0\n",
       "\\item 0\n",
       "\\item 0\n",
       "\\item 0\n",
       "\\item 0\n",
       "\\item 0\n",
       "\\item 0\n",
       "\\item 0\n",
       "\\item 0\n",
       "\\item 0\n",
       "\\item 0\n",
       "\\item 0\n",
       "\\item 0\n",
       "\\item 0\n",
       "\\item 0\n",
       "\\item 0\n",
       "\\item 1\n",
       "\\item 1\n",
       "\\item 1\n",
       "\\item 0\n",
       "\\item 0\n",
       "\\item 0\n",
       "\\item 0\n",
       "\\item 0\n",
       "\\item 0\n",
       "\\item 0\n",
       "\\item 0\n",
       "\\item 0\n",
       "\\item 0\n",
       "\\item 0\n",
       "\\item 0\n",
       "\\item 0\n",
       "\\item 0\n",
       "\\item 0\n",
       "\\item 0\n",
       "\\item 1\n",
       "\\item 1\n",
       "\\item 0\n",
       "\\item 0\n",
       "\\item 0\n",
       "\\item 0\n",
       "\\item 0\n",
       "\\item 0\n",
       "\\item 0\n",
       "\\item 0\n",
       "\\item 0\n",
       "\\item 0\n",
       "\\item 0\n",
       "\\item 0\n",
       "\\item 0\n",
       "\\item 0\n",
       "\\item 0\n",
       "\\item 0\n",
       "\\item 0\n",
       "\\item 1\n",
       "\\item 0\n",
       "\\item 0\n",
       "\\item 0\n",
       "\\item 0\n",
       "\\item 0\n",
       "\\item 0\n",
       "\\item 1\n",
       "\\item 0\n",
       "\\item 0\n",
       "\\item 0\n",
       "\\item 0\n",
       "\\item 1\n",
       "\\item 0\n",
       "\\item 0\n",
       "\\item 0\n",
       "\\item 0\n",
       "\\item 0\n",
       "\\item 0\n",
       "\\item 0\n",
       "\\item 0\n",
       "\\item 0\n",
       "\\item 0\n",
       "\\item 0\n",
       "\\item 0\n",
       "\\item 0\n",
       "\\item 0\n",
       "\\item 0\n",
       "\\item 0\n",
       "\\item 1\n",
       "\\item 0\n",
       "\\item 0\n",
       "\\item 0\n",
       "\\item 0\n",
       "\\item 0\n",
       "\\item 0\n",
       "\\item 0\n",
       "\\item 0\n",
       "\\item 0\n",
       "\\item 0\n",
       "\\item 0\n",
       "\\item 0\n",
       "\\item 1\n",
       "\\item 0\n",
       "\\item 0\n",
       "\\item 0\n",
       "\\item 0\n",
       "\\item 0\n",
       "\\item 0\n",
       "\\item 0\n",
       "\\item 0\n",
       "\\item 0\n",
       "\\item 0\n",
       "\\item 0\n",
       "\\item 0\n",
       "\\item 1\n",
       "\\item ...\n",
       "\\item 1\n",
       "\\item 0\n",
       "\\item 0\n",
       "\\item 0\n",
       "\\item 0\n",
       "\\item 0\n",
       "\\item 0\n",
       "\\item 0\n",
       "\\item 0\n",
       "\\item 0\n",
       "\\item 1\n",
       "\\item 0\n",
       "\\item 0\n",
       "\\item 0\n",
       "\\item 0\n",
       "\\item 0\n",
       "\\item 0\n",
       "\\item 0\n",
       "\\item 0\n",
       "\\item 0\n",
       "\\item 1\n",
       "\\item 0\n",
       "\\item 0\n",
       "\\item 0\n",
       "\\item 0\n",
       "\\item 0\n",
       "\\item 0\n",
       "\\item 0\n",
       "\\item 0\n",
       "\\item 0\n",
       "\\item 0\n",
       "\\item 0\n",
       "\\item 0\n",
       "\\item 0\n",
       "\\item 0\n",
       "\\item 0\n",
       "\\item 0\n",
       "\\item 0\n",
       "\\item 0\n",
       "\\item 0\n",
       "\\item 0\n",
       "\\item 0\n",
       "\\item 0\n",
       "\\item 0\n",
       "\\item 1\n",
       "\\item 0\n",
       "\\item 1\n",
       "\\item 0\n",
       "\\item 0\n",
       "\\item 0\n",
       "\\item 0\n",
       "\\item 1\n",
       "\\item 0\n",
       "\\item 0\n",
       "\\item 0\n",
       "\\item 0\n",
       "\\item 0\n",
       "\\item 0\n",
       "\\item 0\n",
       "\\item 1\n",
       "\\item 0\n",
       "\\item 0\n",
       "\\item 0\n",
       "\\item 0\n",
       "\\item 0\n",
       "\\item 0\n",
       "\\item 0\n",
       "\\item 0\n",
       "\\item 0\n",
       "\\item 0\n",
       "\\item 0\n",
       "\\item 0\n",
       "\\item 0\n",
       "\\item 0\n",
       "\\item 0\n",
       "\\item 0\n",
       "\\item 0\n",
       "\\item 0\n",
       "\\item 0\n",
       "\\item 0\n",
       "\\item 0\n",
       "\\item 0\n",
       "\\item 0\n",
       "\\item 0\n",
       "\\item 0\n",
       "\\item 0\n",
       "\\item 1\n",
       "\\item 0\n",
       "\\item 0\n",
       "\\item 0\n",
       "\\item 0\n",
       "\\item 0\n",
       "\\item 0\n",
       "\\item 0\n",
       "\\item 0\n",
       "\\item 0\n",
       "\\item 0\n",
       "\\item 0\n",
       "\\item 0\n",
       "\\item 0\n",
       "\\item 0\n",
       "\\item 0\n",
       "\\item 1\n",
       "\\item 0\n",
       "\\item 0\n",
       "\\item 0\n",
       "\\item 0\n",
       "\\item 0\n",
       "\\item 0\n",
       "\\item 0\n",
       "\\item 0\n",
       "\\item 0\n",
       "\\item 0\n",
       "\\item 0\n",
       "\\item 0\n",
       "\\item 0\n",
       "\\item 0\n",
       "\\item 0\n",
       "\\item 0\n",
       "\\item 0\n",
       "\\item 0\n",
       "\\item 0\n",
       "\\item 0\n",
       "\\item 0\n",
       "\\item 0\n",
       "\\item 0\n",
       "\\item 0\n",
       "\\item 0\n",
       "\\item 0\n",
       "\\item 0\n",
       "\\item 0\n",
       "\\item 0\n",
       "\\item 0\n",
       "\\item 0\n",
       "\\item 0\n",
       "\\item 0\n",
       "\\item 0\n",
       "\\item 0\n",
       "\\item 0\n",
       "\\item 1\n",
       "\\item 0\n",
       "\\item 0\n",
       "\\item 0\n",
       "\\item 0\n",
       "\\item 1\n",
       "\\item 0\n",
       "\\item 0\n",
       "\\item 0\n",
       "\\item 0\n",
       "\\item 0\n",
       "\\item 0\n",
       "\\item 0\n",
       "\\item 0\n",
       "\\item 0\n",
       "\\item 0\n",
       "\\item 0\n",
       "\\item 0\n",
       "\\item 0\n",
       "\\item 0\n",
       "\\item 1\n",
       "\\item 0\n",
       "\\item 0\n",
       "\\item 0\n",
       "\\item 0\n",
       "\\item 0\n",
       "\\item 0\n",
       "\\item 0\n",
       "\\item 0\n",
       "\\item 0\n",
       "\\item 0\n",
       "\\item 0\n",
       "\\item 0\n",
       "\\item 0\n",
       "\\item 0\n",
       "\\item 0\n",
       "\\item 0\n",
       "\\item 0\n",
       "\\item 0\n",
       "\\item 0\n",
       "\\item 0\n",
       "\\item 1\n",
       "\\item 0\n",
       "\\item 0\n",
       "\\item 0\n",
       "\\item 0\n",
       "\\item 0\n",
       "\\item 1\n",
       "\\item 0\n",
       "\\item 0\n",
       "\\item 0\n",
       "\\item 0\n",
       "\\item 0\n",
       "\\item 0\n",
       "\\item 1\n",
       "\\item 0\n",
       "\\item 0\n",
       "\\item 0\n",
       "\\item 0\n",
       "\\item 0\n",
       "\\item 0\n",
       "\\end{enumerate*}\n"
      ],
      "text/markdown": [
       "1. 0\n",
       "2. 0\n",
       "3. 0\n",
       "4. 0\n",
       "5. 0\n",
       "6. 0\n",
       "7. 0\n",
       "8. 1\n",
       "9. 0\n",
       "10. 0\n",
       "11. 0\n",
       "12. 0\n",
       "13. 0\n",
       "14. 1\n",
       "15. 0\n",
       "16. 0\n",
       "17. 0\n",
       "18. 0\n",
       "19. 0\n",
       "20. 0\n",
       "21. 0\n",
       "22. 0\n",
       "23. 0\n",
       "24. 0\n",
       "25. 0\n",
       "26. 0\n",
       "27. 0\n",
       "28. 0\n",
       "29. 1\n",
       "30. 0\n",
       "31. 0\n",
       "32. 0\n",
       "33. 0\n",
       "34. 0\n",
       "35. 0\n",
       "36. 0\n",
       "37. 0\n",
       "38. 0\n",
       "39. 1\n",
       "40. 0\n",
       "41. 0\n",
       "42. 0\n",
       "43. 0\n",
       "44. 0\n",
       "45. 0\n",
       "46. 0\n",
       "47. 0\n",
       "48. 0\n",
       "49. 1\n",
       "50. 0\n",
       "51. 0\n",
       "52. 0\n",
       "53. 0\n",
       "54. 0\n",
       "55. 0\n",
       "56. 0\n",
       "57. 0\n",
       "58. 0\n",
       "59. 0\n",
       "60. 0\n",
       "61. 0\n",
       "62. 0\n",
       "63. 1\n",
       "64. 0\n",
       "65. 0\n",
       "66. 1\n",
       "67. 1\n",
       "68. 0\n",
       "69. 0\n",
       "70. 0\n",
       "71. 0\n",
       "72. 0\n",
       "73. 0\n",
       "74. 0\n",
       "75. 0\n",
       "76. 1\n",
       "77. 0\n",
       "78. 0\n",
       "79. 0\n",
       "80. 0\n",
       "81. 0\n",
       "82. 0\n",
       "83. 0\n",
       "84. 0\n",
       "85. 0\n",
       "86. 1\n",
       "87. 0\n",
       "88. 0\n",
       "89. 0\n",
       "90. 0\n",
       "91. 0\n",
       "92. 0\n",
       "93. 0\n",
       "94. 0\n",
       "95. 0\n",
       "96. 0\n",
       "97. 0\n",
       "98. 0\n",
       "99. 0\n",
       "100. 0\n",
       "101. 0\n",
       "102. 0\n",
       "103. 0\n",
       "104. 0\n",
       "105. 0\n",
       "106. 0\n",
       "107. 1\n",
       "108. 1\n",
       "109. 1\n",
       "110. 0\n",
       "111. 0\n",
       "112. 0\n",
       "113. 0\n",
       "114. 0\n",
       "115. 0\n",
       "116. 0\n",
       "117. 0\n",
       "118. 0\n",
       "119. 0\n",
       "120. 0\n",
       "121. 0\n",
       "122. 0\n",
       "123. 0\n",
       "124. 0\n",
       "125. 0\n",
       "126. 1\n",
       "127. 1\n",
       "128. 0\n",
       "129. 0\n",
       "130. 0\n",
       "131. 0\n",
       "132. 0\n",
       "133. 0\n",
       "134. 0\n",
       "135. 0\n",
       "136. 0\n",
       "137. 0\n",
       "138. 0\n",
       "139. 0\n",
       "140. 0\n",
       "141. 0\n",
       "142. 0\n",
       "143. 0\n",
       "144. 0\n",
       "145. 1\n",
       "146. 0\n",
       "147. 0\n",
       "148. 0\n",
       "149. 0\n",
       "150. 0\n",
       "151. 0\n",
       "152. 1\n",
       "153. 0\n",
       "154. 0\n",
       "155. 0\n",
       "156. 0\n",
       "157. 1\n",
       "158. 0\n",
       "159. 0\n",
       "160. 0\n",
       "161. 0\n",
       "162. 0\n",
       "163. 0\n",
       "164. 0\n",
       "165. 0\n",
       "166. 0\n",
       "167. 0\n",
       "168. 0\n",
       "169. 0\n",
       "170. 0\n",
       "171. 0\n",
       "172. 0\n",
       "173. 0\n",
       "174. 1\n",
       "175. 0\n",
       "176. 0\n",
       "177. 0\n",
       "178. 0\n",
       "179. 0\n",
       "180. 0\n",
       "181. 0\n",
       "182. 0\n",
       "183. 0\n",
       "184. 0\n",
       "185. 0\n",
       "186. 0\n",
       "187. 1\n",
       "188. 0\n",
       "189. 0\n",
       "190. 0\n",
       "191. 0\n",
       "192. 0\n",
       "193. 0\n",
       "194. 0\n",
       "195. 0\n",
       "196. 0\n",
       "197. 0\n",
       "198. 0\n",
       "199. 0\n",
       "200. 1\n",
       "201. ...\n",
       "202. 1\n",
       "203. 0\n",
       "204. 0\n",
       "205. 0\n",
       "206. 0\n",
       "207. 0\n",
       "208. 0\n",
       "209. 0\n",
       "210. 0\n",
       "211. 0\n",
       "212. 1\n",
       "213. 0\n",
       "214. 0\n",
       "215. 0\n",
       "216. 0\n",
       "217. 0\n",
       "218. 0\n",
       "219. 0\n",
       "220. 0\n",
       "221. 0\n",
       "222. 1\n",
       "223. 0\n",
       "224. 0\n",
       "225. 0\n",
       "226. 0\n",
       "227. 0\n",
       "228. 0\n",
       "229. 0\n",
       "230. 0\n",
       "231. 0\n",
       "232. 0\n",
       "233. 0\n",
       "234. 0\n",
       "235. 0\n",
       "236. 0\n",
       "237. 0\n",
       "238. 0\n",
       "239. 0\n",
       "240. 0\n",
       "241. 0\n",
       "242. 0\n",
       "243. 0\n",
       "244. 0\n",
       "245. 0\n",
       "246. 1\n",
       "247. 0\n",
       "248. 1\n",
       "249. 0\n",
       "250. 0\n",
       "251. 0\n",
       "252. 0\n",
       "253. 1\n",
       "254. 0\n",
       "255. 0\n",
       "256. 0\n",
       "257. 0\n",
       "258. 0\n",
       "259. 0\n",
       "260. 0\n",
       "261. 1\n",
       "262. 0\n",
       "263. 0\n",
       "264. 0\n",
       "265. 0\n",
       "266. 0\n",
       "267. 0\n",
       "268. 0\n",
       "269. 0\n",
       "270. 0\n",
       "271. 0\n",
       "272. 0\n",
       "273. 0\n",
       "274. 0\n",
       "275. 0\n",
       "276. 0\n",
       "277. 0\n",
       "278. 0\n",
       "279. 0\n",
       "280. 0\n",
       "281. 0\n",
       "282. 0\n",
       "283. 0\n",
       "284. 0\n",
       "285. 0\n",
       "286. 0\n",
       "287. 0\n",
       "288. 1\n",
       "289. 0\n",
       "290. 0\n",
       "291. 0\n",
       "292. 0\n",
       "293. 0\n",
       "294. 0\n",
       "295. 0\n",
       "296. 0\n",
       "297. 0\n",
       "298. 0\n",
       "299. 0\n",
       "300. 0\n",
       "301. 0\n",
       "302. 0\n",
       "303. 0\n",
       "304. 1\n",
       "305. 0\n",
       "306. 0\n",
       "307. 0\n",
       "308. 0\n",
       "309. 0\n",
       "310. 0\n",
       "311. 0\n",
       "312. 0\n",
       "313. 0\n",
       "314. 0\n",
       "315. 0\n",
       "316. 0\n",
       "317. 0\n",
       "318. 0\n",
       "319. 0\n",
       "320. 0\n",
       "321. 0\n",
       "322. 0\n",
       "323. 0\n",
       "324. 0\n",
       "325. 0\n",
       "326. 0\n",
       "327. 0\n",
       "328. 0\n",
       "329. 0\n",
       "330. 0\n",
       "331. 0\n",
       "332. 0\n",
       "333. 0\n",
       "334. 0\n",
       "335. 0\n",
       "336. 0\n",
       "337. 0\n",
       "338. 0\n",
       "339. 0\n",
       "340. 0\n",
       "341. 1\n",
       "342. 0\n",
       "343. 0\n",
       "344. 0\n",
       "345. 0\n",
       "346. 1\n",
       "347. 0\n",
       "348. 0\n",
       "349. 0\n",
       "350. 0\n",
       "351. 0\n",
       "352. 0\n",
       "353. 0\n",
       "354. 0\n",
       "355. 0\n",
       "356. 0\n",
       "357. 0\n",
       "358. 0\n",
       "359. 0\n",
       "360. 0\n",
       "361. 1\n",
       "362. 0\n",
       "363. 0\n",
       "364. 0\n",
       "365. 0\n",
       "366. 0\n",
       "367. 0\n",
       "368. 0\n",
       "369. 0\n",
       "370. 0\n",
       "371. 0\n",
       "372. 0\n",
       "373. 0\n",
       "374. 0\n",
       "375. 0\n",
       "376. 0\n",
       "377. 0\n",
       "378. 0\n",
       "379. 0\n",
       "380. 0\n",
       "381. 0\n",
       "382. 1\n",
       "383. 0\n",
       "384. 0\n",
       "385. 0\n",
       "386. 0\n",
       "387. 0\n",
       "388. 1\n",
       "389. 0\n",
       "390. 0\n",
       "391. 0\n",
       "392. 0\n",
       "393. 0\n",
       "394. 0\n",
       "395. 1\n",
       "396. 0\n",
       "397. 0\n",
       "398. 0\n",
       "399. 0\n",
       "400. 0\n",
       "401. 0\n",
       "\n",
       "\n"
      ],
      "text/plain": [
       "    [1] 0 0 0 0 0 0 0 1 0 0 0 0 0 1 0 0 0 0 0 0 0 0 0 0 0 0 0 0 1 0 0 0 0 0 0 0\n",
       "   [37] 0 0 1 0 0 0 0 0 0 0 0 0 1 0 0 0 0 0 0 0 0 0 0 0 0 0 1 0 0 1 1 0 0 0 0 0\n",
       "   [73] 0 0 0 1 0 0 0 0 0 0 0 0 0 1 0 0 0 0 0 0 0 0 0 0 0 0 0 0 0 0 0 0 0 0 1 1\n",
       "  [109] 1 0 0 0 0 0 0 0 0 0 0 0 0 0 0 0 0 1 1 0 0 0 0 0 0 0 0 0 0 0 0 0 0 0 0 0\n",
       "  [145] 1 0 0 0 0 0 0 1 0 0 0 0 1 0 0 0 0 0 0 0 0 0 0 0 0 0 0 0 0 1 0 0 0 0 0 0\n",
       "  [181] 0 0 0 0 0 0 1 0 0 0 0 0 0 0 0 0 0 0 0 1 0 0 0 0 0 0 0 0 0 0 0 0 0 0 0 0\n",
       "  [217] 0 0 0 0 0 0 0 0 0 0 0 0 0 0 0 0 0 0 0 0 0 0 0 1 0 0 0 0 0 0 0 0 0 0 0 0\n",
       "  [253] 0 1 1 0 0 0 0 0 0 0 0 0 1 0 0 0 0 0 0 0 0 0 0 0 0 0 0 0 0 0 0 0 0 0 0 1\n",
       "  [289] 0 0 0 0 0 0 0 0 0 0 0 0 0 0 0 0 1 0 0 0 0 0 0 0 0 0 0 0 1 0 0 0 0 0 0 0\n",
       "  [325] 0 0 0 1 0 0 0 0 0 0 1 0 0 0 0 0 0 0 0 0 0 0 0 0 0 1 0 0 0 0 0 0 0 0 0 0\n",
       "  [361] 0 0 0 0 0 0 0 0 0 0 0 0 0 0 0 0 0 1 0 0 0 0 0 0 0 0 0 0 0 0 0 0 0 0 0 1\n",
       "  [397] 0 0 0 0 0 0 0 0 0 0 0 0 0 0 0 0 1 0 1 0 0 0 0 0 0 0 0 0 0 0 0 1 0 0 0 0\n",
       "  [433] 0 0 0 0 0 0 0 0 0 0 0 0 1 0 0 1 0 0 1 0 0 0 1 0 0 0 0 0 0 0 0 0 0 0 0 0\n",
       "  [469] 0 0 0 0 0 0 0 0 0 0 0 0 0 0 0 0 0 0 0 0 0 0 0 0 0 0 0 1 0 0 0 0 0 0 0 0\n",
       "  [505] 0 0 0 0 0 0 0 0 0 0 0 0 0 0 0 0 0 0 1 0 0 0 0 0 0 0 1 0 0 0 0 0 0 0 0 0\n",
       "  [541] 0 0 0 0 0 0 0 0 0 0 0 0 0 0 0 0 0 0 0 0 0 0 0 0 0 0 0 0 0 1 0 0 0 0 0 0\n",
       "  [577] 0 0 0 0 0 0 0 0 1 0 0 0 0 0 0 1 0 1 0 0 0 0 0 0 1 0 0 0 0 0 0 0 0 0 0 0\n",
       "  [613] 0 0 0 0 0 1 0 0 0 0 0 0 0 0 0 0 0 0 0 0 0 0 0 0 0 0 0 0 0 0 0 0 0 0 0 0\n",
       "  [649] 1 0 0 0 0 0 0 0 0 0 0 0 0 0 0 0 0 0 0 0 0 0 0 0 1 0 1 0 0 0 0 0 0 0 0 0\n",
       "  [685] 0 0 0 0 0 0 0 0 0 0 0 0 0 0 0 0 0 0 0 0 0 0 0 0 1 0 0 0 0 0 0 0 0 0 0 0\n",
       "  [721] 0 0 0 0 0 0 0 0 0 1 0 0 1 0 0 1 0 1 0 0 0 0 1 0 0 0 0 0 0 0 0 1 0 0 0 0\n",
       "  [757] 0 0 0 0 0 0 0 0 0 0 0 0 0 0 0 0 0 0 0 0 0 1 0 0 1 0 0 0 0 0 0 0 0 0 0 0\n",
       "  [793] 0 0 0 0 0 0 1 1 0 0 0 0 0 0 0 0 0 0 0 0 0 1 0 0 0 0 0 0 0 0 0 0 0 1 1 0\n",
       "  [829] 0 0 1 0 0 0 0 0 0 0 0 0 0 1 0 0 0 0 0 0 0 0 0 0 0 0 0 0 0 0 0 0 0 0 0 0\n",
       "  [865] 0 0 0 0 1 0 0 0 0 1 0 0 0 0 0 0 0 0 0 0 0 0 0 0 0 0 0 0 0 0 0 0 0 1 0 0\n",
       "  [901] 0 0 0 0 0 0 0 0 0 0 0 0 0 0 1 0 0 0 0 0 0 0 0 0 0 0 0 0 0 0 0 0 0 0 0 0\n",
       "  [937] 0 0 0 0 0 0 0 0 0 0 0 0 0 0 0 0 0 0 1 0 0 0 0 0 0 0 0 0 0 0 0 0 1 0 0 0\n",
       "  [973] 0 0 1 0 0 0 0 0 0 0 0 0 0 0 0 0 0 0 0 0 0 0 0 1 0 0 0 0 0 0 0 1 0 0 0 0\n",
       " [1009] 0 0 1 0 0 0 0 0 0 0 0 0 0 0 0 0 1 0 0 0 0 0 0 0 0 0 0 0 0 0 0 0 0 0 0 0\n",
       " [1045] 0 0 0 0 0 1 0 0 0 0 0 0 0 0 0 0 0 0 0 0 0 0 0 1 0 0 0 0 0 0 0 0 0 0 0 1\n",
       " [1081] 0 0 0 0 1 0 0 0 0 0 0 0 0 1 0 0 0 0 0 0 0 0 0 1 0 1 0 0 0 0 0 0 0 1 0 0\n",
       " [1117] 1 0 0 0 0 0 0 0 0 0 0 0 0 0 0 0 0 0 0 0 0 0 0 0 0 0 0 0 0 0 0 0 0 0 0 0\n",
       " [1153] 0 1 0 0 0 0 0 0 0 0 0 0 0 0 0 0 0 0 0 0 0 0 0 0 0 0 0 0 1 0 0 0 0 0 0 0\n",
       " [1189] 0 0 0 0 0 0 0 0 0 0 0 0 0 0 0 0 0 0 0 0 0 0 1 1 0 1 0 0 0 0 0 0 0 0 0 0\n",
       " [1225] 0 0 0 0 0 0 0 0 0 0 0 0 0 0 0 0 0 0 0 0 0 0 0 0 0 1 0 0 0 0 0 0 0 0 0 0\n",
       " [1261] 0 1 0 1 0 0 0 0 0 0 0 0 1 0 0 0 0 0 0 0 0 0 0 0 0 0 0 0 0 0 0 0 0 0 0 0\n",
       " [1297] 0 0 1 1 0 0 0 0 0 0 0 0 0 0 0 1 1 0 0 0 0 0 1 0 0 0 0 0 1 0 0 0 0 0 0 0\n",
       " [1333] 0 0 0 0 1 0 0 0 0 0 0 0 0 0 0 0 0 1 0 0 0 0 1 0 0 0 0 0 0 1 0 0 0 0 0 1\n",
       " [1369] 0 0 0 0 0 0 0 0 1 0 0 0 0 0 0 0 0 0 0 0 0 0 0 0 0 0 0 0 0 0 0 0 0 0 0 0\n",
       " [1405] 0 0 0 0 0 0 0 0 0 1 0 0 0 1 0 0 0 0 0 0 0 0 0 0 0 0 0 0 0 0 1 0 0 0 0 0\n",
       " [1441] 0 0 0 0 0 0 0 0 0 0 0 0 0 0 0 0 0 0 0 0 0 0 0 0 0 1 0 0 0 0 1 0 0 0 0 0\n",
       " [1477] 0 0 0 0 0 0 0 0 0 0 0 0 0 0 0 0 1 1 0 0 0 0 0 0 0 0 0 0 0 0 0 0 1 0 0 0\n",
       " [1513] 0 0 0 0 0 0 0 0 0 0 0 0 0 0 0 0 1 0 1 0 1 0 0 1 0 0 0 0 0 0 0 0 0 0 0 0\n",
       " [1549] 0 1 0 0 0 0 0 0 0 0 1 0 0 1 0 0 1 0 0 0 0 0 0 0 0 0 0 0 0 0 0 0 0 0 0 0\n",
       " [1585] 0 0 0 1 0 0 0 0 0 0 0 0 0 0 0 0 0 0 0 0 0 0 0 0 0 0 0 0 0 0 1 0 0 1 0 0\n",
       " [1621] 0 0 0 1 0 0 0 0 0 0 0 0 0 0 0 0 0 0 0 0 0 0 0 0 0 0 0 0 1 0 0 0 0 0 0 0\n",
       " [1657] 0 0 1 0 0 0 0 0 0 0 0 1 0 0 0 1 0 0 0 0 0 1 1 1 0 0 0 0 0 0 0 0 0 0 0 0\n",
       " [1693] 1 0 0 0 0 0 0 0 0 0 0 0 0 0 0 0 0 0 0 0 0 0 0 0 0 0 1 1 0 0 0 0 0 0 0 0\n",
       " [1729] 0 0 1 0 0 0 0 0 0 0 0 0 0 0 0 1 0 0 0 0 0 0 0 0 0 0 0 0 0 0 0 0 0 1 0 0\n",
       " [1765] 1 0 0 0 0 0 0 0 0 0 0 0 0 0 0 0 0 1 0 0 0 0 0 0 0 0 0 0 0 0 0 0 0 0 0 0\n",
       " [1801] 0 0 0 0 1 0 0 0 0 0 0 0 0 0 0 0 0 0 0 0 0 0 0 0 0 0 0 0 0 0 0 0 0 0 0 0\n",
       " [1837] 0 0 0 0 0 0 0 0 0 0 0 0 0 0 0 0 0 0 0 0 1 0 0 0 0 0 1 0 0 0 0 0 0 0 0 0\n",
       " [1873] 0 0 0 0 0 0 1 0 0 0 0 0 0 0 0 0 0 0 0 0 0 0 0 0 0 0 0 1 0 0 0 1 0 0 0 0\n",
       " [1909] 1 0 0 0 0 0 0 0 1 0 0 0 0 0 0 0 0 0 0 0 0 0 0 0 0 0 1 0 1 0 0 0 0 0 0 0\n",
       " [1945] 0 0 0 0 0 0 1 0 0 0 0 0 0 0 0 0 0 0 0 0 0 0 0 0 0 0 0 0 0 1 0 0 0 0 0 0\n",
       " [1981] 0 0 0 0 0 0 0 1 0 0 0 0 0 0 0 0 0 0 0 0 0 0 0 0 0 0 0 0 0 0 0 0 0 0 0 0\n",
       " [2017] 0 0 0 0 0 0 0 0 0 0 0 0 0 0 0 0 0 0 0 0 0 0 0 0 0 0 0 0 0 0 0 1 0 0 0 0\n",
       " [2053] 0 0 0 0 0 0 0 0 0 0 0 1 0 0 0 0 0 0 0 0 0 0 0 0 0 0 0 0 0 0 0 0 0 0 0 1\n",
       " [2089] 0 0 0 0 0 0 0 0 0 0 0 0 0 0 0 0 0 0 0 0 0 0 1 0 0 0 1 0 0 0 0 0 0 0 0 0\n",
       " [2125] 0 0 0 0 0 0 0 1 0 0 0 0 0 0 0 0 0 0 0 0 0 0 0 0 0 0 0 0 0 0 0 0 0 0 0 0\n",
       " [2161] 0 0 0 0 0 0 0 0 0 0 0 0 0 1 0 0 0 0 0 0 0 0 0 0 0 0 0 0 0 0 0 0 0 0 0 0\n",
       " [2197] 0 0 0 0 0 0 0 0 0 0 0 0 0 0 0 0 0 0 0 0 0 0 0 0 0 1 0 0 0 0 0 0 0 0 0 0\n",
       " [2233] 0 0 0 0 0 0 0 0 0 1 0 0 0 0 0 0 0 0 0 1 0 0 0 0 0 0 0 0 0 0 0 0 0 0 0 0\n",
       " [2269] 0 0 0 0 1 0 0 0 0 0 0 0 0 0 0 0 0 0 0 0 0 0 0 0 0 0 0 0 0 0 0 0 0 0 0 0\n",
       " [2305] 0 0 0 0 0 0 0 0 0 0 0 0 0 0 0 0 0 0 0 0 0 0 0 0 0 0 0 1 0 0 0 1 0 0 0 0\n",
       " [2341] 0 0 0 0 1 0 0 0 0 0 0 0 0 0 0 0 0 0 0 0 0 0 0 0 0 0 0 0 0 0 0 0 0 0 0 0\n",
       " [2377] 0 0 0 0 0 0 0 0 0 0 0 0 0 0 0 0 0 0 0 0 0 0 0 0 0 0 0 0 0 0 0 0 0 0 0 0\n",
       " [2413] 0 0 0 0 0 0 0 0 0 0 1 0 0 0 0 0 0 0 0 0 0 0 0 0 0 0 0 0 0 0 0 0 0 0 1 0\n",
       " [2449] 0 0 0 0 0 0 0 0 0 0 0 0 0 0 0 0 0 0 0 0 0 0 0 0 0 0 0 0 0 1 0 0 0 0 0 0\n",
       " [2485] 1 0 0 0 0 0 0 0 0 0 0 0 0 0 0 0 0 0 0 0 0 0 0 0 0 0 0 0 0 0 0 0 0 0 0 0\n",
       " [2521] 0 0 0 0 0 0 1 0 0 0 0 0 0 1 0 0 0 0 0 0 1 0 0 0 0 0 0 0 0 0 0 1 0 0 0 0\n",
       " [2557] 0 1 0 0 1 0 0 0 0 0 0 0 0 0 0 0 0 1 0 0 0 0 0 0 0 0 0 0 0 0 0 0 0 0 0 1\n",
       " [2593] 0 0 0 0 0 0 0 0 0 0 0 0 0 0 0 0 0 0 0 0 0 0 0 0 0 0 0 0 0 0 0 0 0 0 0 0\n",
       " [2629] 0 0 0 0 0 0 0 0 0 0 0 0 0 0 0 0 0 0 0 0 0 0 0 0 0 0 0 0 0 1 0 0 0 0 0 0\n",
       " [2665] 0 0 0 0 0 0 0 0 0 1 0 0 0 0 0 0 0 0 0 0 0 1 0 0 0 0 0 0 0 0 0 0 1 1 0 0\n",
       " [2701] 1 0 0 0 0 0 1 0 0 0 1 0 0 0 0 0 0 0 0 1 0 0 0 0 0 0 0 0 0 0 0 0 0 0 0 0\n",
       " [2737] 1 0 0 0 0 0 0 0 0 0 0 0 0 0 0 0 0 0 0 0 0 1 0 0 0 0 0 0 0 0 0 0 0 0 0 0\n",
       " [2773] 0 0 0 0 0 0 0 0 0 0 1 0 0 0 0 0 0 0 0 1 0 0 1 0 0 0 0 0 0 0 0 0 0 0 0 0\n",
       " [2809] 0 0 0 0 0 0 0 0 0 0 0 0 0 0 0 0 0 0 1 0 0 0 0 0 0 0 0 0 0 0 0 0 0 0 0 0\n",
       " [2845] 0 0 0 0 0 0 0 0 0 0 0 0 0 0 0 0 0 0 0 0 0 0 1 0 0 0 0 0 0 0 0 0 0 1 0 0\n",
       " [2881] 1 0 1 0 1 0 0 0 0 0 0 0 0 0 1 0 0 0 1 0 0 0 0 0 0 0 0 0 0 0 0 1 0 0 0 0\n",
       " [2917] 0 0 0 0 0 1 0 0 0 0 0 0 0 0 0 0 0 0 0 0 1 0 0 0 0 0 0 0 0 0 0 0 0 0 0 0\n",
       " [2953] 0 0 0 0 1 0 0 0 0 0 0 0 0 1 0 0 0 0 0 0 0 0 0 0 0 0 0 0 0 0 0 0 0 0 0 0\n",
       " [2989] 0 0 0 0 0 0 0 1 0 0 0 0 0 0 0 1 0 0 0 0 0 0 0 0 0 0 0 0 0 1 0 0 0 0 0 0\n",
       " [3025] 0 0 0 0 0 0 0 0 0 0 0 0 0 0 0 0 0 0 0 0 0 0 0 0 0 0 0 0 0 0 1 0 0 0 0 0\n",
       " [3061] 0 0 0 1 0 0 1 0 0 0 0 0 0 0 0 0 0 0 0 0 0 0 1 0 0 1 0 1 0 0 0 1 0 1 0 0\n",
       " [3097] 0 0 0 0 0 0 1 0 0 0 0 0 0 0 0 0 0 0 0 0 0 0 0 0 0 0 0 0 0 0 0 0 0 0 0 0\n",
       " [3133] 0 0 1 0 0 0 0 0 0 0 0 0 0 0 0 0 0 0 0 0 0 0 0 0 0 0 0 0 0 0 0 0 0 1 0 0\n",
       " [3169] 0 0 0 0 0 0 0 0 0 0 0 0 0 1 0 0 0 0 0 0 0 0 0 0 0 0 0 0 0 0 0 0 0 0 0 0\n",
       " [3205] 0 0 0 1 0 0 0 0 0 0 0 0 0 0 0 0 0 0 0 0 0 0 0 1 0 0 0 0 0 0 1 0 0 0 1 0\n",
       " [3241] 0 0 0 0 1 0 0 0 0 0 0 1 0 0 0 0 0 0 0 0 0 1 0 0 0 0 0 0 0 0 0 0 0 0 0 0\n",
       " [3277] 0 0 0 0 0 0 0 0 0 0 0 0 0 0 0 0 0 0 0 0 0 0 0 0 0 0 0 0 0 0 0 0 0 0 1 1\n",
       " [3313] 0 0 0 0 0 0 0 0 0 0 0 0 0 0 0 0 0 0 0 0 0 0 0 0 0 0 0 0 0 0 0 0 0 0 0 0\n",
       " [3349] 0 0 0 0 0 0 0 0 0 0 0 1 0 0 0 0 0 0 0 0 0 0 0 0 0 0 0 0 0 0 0 0 0 0 0 0\n",
       " [3385] 0 0 0 0 0 0 1 1 0 0 0 0 0 0 0 0 0 0 0 0 0 0 0 1 0 0 0 0 0 0 0 1 0 0 0 0\n",
       " [3421] 0 1 0 0 0 0 0 0 0 0 0 0 0 0 0 0 0 0 0 0 0 0 0 0 0 0 0 0 0 0 0 0 0 0 0 0\n",
       " [3457] 0 0 0 0 1 0 0 0 0 0 0 0 0 0 0 0 1 0 0 0 0 0 0 0 0 0 0 0 0 0 0 0 0 0 0 0\n",
       " [3493] 0 0 0 0 0 1 0 0 0 0 0 0 0 0 0 0 0 0 0 0 0 0 0 0 0 0 0 0 1 0 0 0 0 0 0 0\n",
       " [3529] 0 1 0 0 0 0 0 0 0 0 0 0 0 0 0 0 0 0 0 0 0 0 0 0 0 0 0 0 0 0 0 0 1 1 0 0\n",
       " [3565] 0 0 0 0 0 0 0 0 0 0 0 0 0 0 0 0 1 0 0 0 0 0 0 0 0 0 0 0 0 0 0 0 0 0 0 1\n",
       " [3601] 0 0 0 0 0 0 0 0 0 0 0 0 0 0 0 0 0 0 0 0 0 0 0 0 0 0 0 0 0 0 0 0 0 0 0 0\n",
       " [3637] 0 0 0 0 0 0 0 0 0 0 0 0 0 0 0 0 0 0 0 0 0 0 0 1 0 0 0 1 0 1 0 0 0 0 0 1\n",
       " [3673] 0 0 0 0 0 0 0 0 0 0 0 0 0 0 0 0 0 0 0 1 0 0 0 0 0 0 1 0 1 0 1 0 0 0 0 1\n",
       " [3709] 0 0 1 0 0 0 0 0 0 0 0 0 0 0 0 0 1 1 0 0 0 0 0 0 0 0 0 1 0 0 0 0 0 0 0 0\n",
       " [3745] 0 1 0 0 0 0 0 0 0 0 0 0 0 0 0 0 0 0 0 0 0 0 0 0 0 0 0 0 0 0 0 0 0 0 0 0\n",
       " [3781] 0 0 0 0 0 0 0 0 1 0 0 0 1 0 0 1 0 0 0 0 0 0 0 0 0 0 0 0 0 0 0 0 1 0 0 0\n",
       " [3817] 0 1 0 0 0 0 1 0 0 0 0 0 0 0 1 0 0 1 0 0 0 0 0 0 0 0 0 1 0 0 0 0 0 0 0 0\n",
       " [3853] 0 0 0 0 0 0 0 0 0 0 0 0 0 0 0 0 0 0 0 0 0 0 0 0 0 0 0 0 0 0 0 0 0 0 0 0\n",
       " [3889] 0 0 1 0 0 0 0 0 0 0 0 1 0 0 0 0 0 0 0 0 1 0 0 0 0 0 1 0 0 0 0 0 0 0 0 0\n",
       " [3925] 0 0 0 0 0 1 0 0 0 0 0 0 0 0 1 0 0 0 0 0 0 0 0 1 0 0 0 0 0 0 0 0 0 0 0 0\n",
       " [3961] 0 0 0 0 0 0 0 0 0 0 0 0 0 1 0 0 0 0 0 0 0 0 0 1 0 0 0 0 0 0 0 0 0 0 0 0\n",
       " [3997] 0 0 0 0 0 0 1 0 0 0 0 0 0 0 0 0 0 0 0 0 0 1 0 0 0 0 0 1 0 0 0 0 0 0 0 0\n",
       " [4033] 0 0 0 0 1 0 0 0 0 0 0 0 0 0 0 0 0 0 0 0 0 0 0 0 0 1 0 0 0 0 0 0 0 0 0 0\n",
       " [4069] 0 0 0 0 0 0 0 0 0 0 0 0 1 0 0 0 0 0 1 0 0 0 0 0 0 0 0 1 0 0 0 0 0 0 0 0\n",
       " [4105] 0 0 0 0 0 0 1 0 0 0 0 1 0 1 0 0 0 0 0 0 0 0 0 0 0 0 0 0 0 0 0 0 0 0 0 0\n",
       " [4141] 0 0 1 0 0 1 0 0 0 0 0 0 1 0 0 0 0 0 0 0 0 0 0 0 0 0 0 0 0 0 0 0 1 0 0 0\n",
       " [4177] 0 0 0 0 0 0 0 1 0 0 0 0 0 0 0 0 0 0 0 0 0 0 0 0 0 0 1 0 0 0 0 0 0 0 0 0\n",
       " [4213] 0 0 0 0 0 0 0 0 0 0 0 0 0 0 0 0 1 0 0 0 0 0 0 0 0 0 0 0 0 0 0 0 0 0 0 0\n",
       " [4249] 0 0 0 0 1 0 0 0 1 0 1 0 0 0 0 0 0 0 0 0 0 0 0 0 0 0 0 0 0 0 0 0 0 0 0 0\n",
       " [4285] 0 0 0 0 1 0 0 1 0 0 0 0 0 0 0 0 0 0 0 0 0 0 0 0 0 0 0 1 0 0 0 1 0 0 0 0\n",
       " [4321] 0 0 0 0 0 0 0 0 0 0 0 0 0 0 0 0 1 0 0 0 0 0 0 0 0 0 1 0 0 0 0 0 0 0 0 0\n",
       " [4357] 0 0 0 0 1 0 0 1 0 0 0 0 0 0 0 0 0 0 0 0 0 0 0 0 1 0 0 0 0 0 0 0 0 0 0 1\n",
       " [4393] 0 0 0 0 1 0 0 0 0 0 0 1 0 0 0 0 0 0 0 0 0 1 0 1 0 0 1 0 0 0 0 0 0 0 1 0\n",
       " [4429] 0 0 0 0 0 0 0 0 0 0 0 0 0 0 0 1 0 0 0 0 0 0 0 0 0 0 0 0 1 0 0 0 0 0 0 0\n",
       " [4465] 0 0 0 0 0 0 0 0 0 0 0 0 0 0 0 0 0 0 0 0 0 0 0 0 0 0 0 0 0 0 0 1 0 0 0 0\n",
       " [4501] 0 0 0 0 1 0 0 0 1 0 0 0 0 0 0 0 0 0 0 0 0 0 0 0 0 0 0 0 0 0 0 0 0 0 0 0\n",
       " [4537] 0 0 0 0 0 0 0 0 0 0 0 0 1 0 0 0 1 0 0 0 0 1 0 1 0 0 0 0 0 0 0 0 0 0 0 0\n",
       " [4573] 0 0 1 0 0 0 0 0 1 0 0 0 0 0 0 0 0 0 0 0 0 1 0 0 0 0 0 0 0 0 0 0 0 0 0 0\n",
       " [4609] 0 0 0 0 0 0 0 0 0 0 0 0 0 0 0 0 0 0 0 0 0 1 0 0 0 0 0 0 0 1 0 0 0 0 0 0\n",
       " [4645] 0 0 0 0 0 0 0 0 0 0 0 0 0 0 0 1 0 0 0 0 0 0 1 0 0 0 0 0 0 0 0 0 0 1 0 0\n",
       " [4681] 0 0 0 0 0 0 0 0 1 0 0 0 1 0 0 0 0 1 0 0 0 0 1 0 1 0 0 1 0 0 0 0 0 0 0 0\n",
       " [4717] 0 0 0 0 0 0 0 0 0 0 0 0 0 0 0 0 0 1 0 0 0 0 0 0 0 0 0 0 0 0 0 0 0 0 0 0\n",
       " [4753] 0 1 0 0 0 0 0 0 0 0 0 0 0 0 0 0 0 0 0 0 0 0 1 0 0 0 1 0 0 0 0 1 0 0 0 0\n",
       " [4789] 0 0 0 0 0 0 1 0 0 0 0 1 0 0 0 0 0 0 0 0 0 0 0 0 0 0 0 0 0 0 0 0 0 0 0 0\n",
       " [4825] 0 0 0 0 0 0 0 0 0 0 0 0 0 0 0 0 0 0 0 0 0 0 0 0 0 0 0 0 0 0 0 0 0 1 0 0\n",
       " [4861] 0 0 0 0 0 0 0 1 0 0 0 0 0 0 0 0 0 0 0 0 0 0 0 0 1 0 0 0 0 0 0 0 0 0 0 0\n",
       " [4897] 0 0 0 0 0 0 0 0 0 0 0 0 0 0 0 0 0 0 0 0 0 0 0 0 0 0 0 0 0 0 0 0 0 0 0 0\n",
       " [4933] 0 0 0 0 0 0 0 0 1 0 0 0 0 0 0 0 0 0 0 0 0 1 0 0 0 0 0 0 0 0 0 0 0 0 0 1\n",
       " [4969] 0 0 0 0 0 0 0 0 0 0 0 0 0 0 0 0 0 0 0 0 0 0 0 0 0 0 0 0 0 0 0 0 0 0 0 0\n",
       " [5005] 0 0 0 0 0 0 0 0 0 0 0 0 0 0 0 0 1 0 0 0 0 0 0 0 0 0 0 0 0 0 1 0 0 0 0 0\n",
       " [5041] 1 0 0 0 0 0 0 0 0 0 0 0 0 0 0 0 0 1 0 0 0 0 0 0 0 0 0 0 0 0 0 0 0 1 0 0\n",
       " [5077] 0 0 0 1 0 0 0 0 0 0 0 0 0 0 0 0 0 0 0 0 0 0 0 0 0 0 0 0 0 0 0 0 0 0 0 1\n",
       " [5113] 0 0 0 0 0 0 1 0 0 0 1 0 0 0 0 0 0 0 0 0 0 0 0 0 0 0 0 0 1 1 0 0 0 0 0 0\n",
       " [5149] 0 0 0 0 0 0 0 0 0 0 0 0 0 0 0 0 0 0 0 0 0 0 0 0 0 0 1 0 0 0 0 0 0 0 0 0\n",
       " [5185] 0 0 1 0 0 0 0 0 0 0 1 0 0 0 0 0 0 0 0 0 0 0 0 0 0 0 0 0 0 0 0 0 0 0 0 0\n",
       " [5221] 0 0 0 0 1 0 0 0 0 0 0 0 1 1 0 0 0 0 0 0 0 0 0 0 0 0 0 0 0 0 0 0 0 0 0 0\n",
       " [5257] 0 0 0 0 1 0 0 0 1 0 0 0 0 0 0 0 0 1 0 0 0 0 0 0 0 0 0 0 0 0 0 0 0 0 0 0\n",
       " [5293] 0 1 0 0 0 0 0 0 0 0 0 0 0 0 0 0 0 0 0 0 0 0 0 0 0 0 0 0 1 0 0 0 0 0 0 0\n",
       " [5329] 0 0 0 0 0 0 0 0 0 0 0 1 0 0 0 0 0 0 0 0 0 0 0 0 0 0 0 0 0 0 0 0 0 0 0 0\n",
       " [5365] 0 0 0 0 0 0 0 0 0 0 0 0 0 1 0 0 0 1 0 0 0 0 0 0 0 0 0 0 0 0 0 0 0 0 0 0\n",
       " [5401] 0 0 1 0 0 0 0 0 0 0 0 0 0 0 0 0 0 0 0 0 0 0 0 0 0 0 0 0 0 0 0 0 0 1 0 0\n",
       " [5437] 0 0 0 0 0 0 0 0 0 0 1 0 0 0 0 0 0 0 0 0 0 0 0 0 0 1 0 0 0 0 0 0 0 0 0 1\n",
       " [5473] 0 0 0 0 0 0 0 0 0 0 0 0 0 0 0 0 0 0 0 1 0 0 0 0 0 0 0 1 0 0 0 0 0 0 0 0\n",
       " [5509] 0 0 0 0 0 0 0 0 0 0 0 0 0 0 0 0 0 0 0 0 1 0 1 0 0 0 0 0 0 0 0 0 0 0 0 0\n",
       " [5545] 0 0 0 0 0 0 1 0 0 0 0 0 0 0 0 0 0 0 1 0 0 0 0 0 0 0 0 0 0 0 0 0 0 0 0 0\n",
       " [5581] 1 0 0 0 0 0 0 0 0 0 0 0 0 0 0 0 0 0 0 0 0 0 0 0 0 1 0 0 0 0 0 0 0 0 0 0\n",
       " [5617] 0 0 0 0 0 0 0 1 0 0 0 0 0 0 0 0 0 0 0 0 1 0 0 0 0 0 0 0 0 0 1 0 0 0 0 0\n",
       " [5653] 0 0 0 0 0 0 0 0 0 0 0 0 0 0 0 0 0 0 0 0 1 0 0 0 0 0 0 0 0 0 0 0 0 0 0 0\n",
       " [5689] 0 0 1 0 0 0 0 0 0 0 0 0 0 0 0 0 0 0 0 0 0 0 0 0 0 0 0 1 0 0 0 0 0 0 0 0\n",
       " [5725] 0 0 0 0 0 0 0 0 0 0 1 0 0 0 0 0 0 0 0 0 0 0 0 0 0 0 0 0 0 1 0 0 0 0 0 0\n",
       " [5761] 0 1 0 0 0 0 0 0 0 0 0 0 0 0 0 0 0 0 0 0 0 0 0 1 0 0 0 0 0 0 0 0 0 0 0 0\n",
       " [5797] 0 0 0 0 0 0 1 0 0 0 0 0 0 0 1 0 0 0 0 0 0 0 0 0 1 0 0 0 0 0 0 1 0 0 0 0\n",
       " [5833] 0 0 0 0 0 1 0 0 0 0 0 0 1 0 0 0 1 0 0 0 0 0 0 0 0 0 0 1 0 0 0 0 0 0 0 0\n",
       " [5869] 0 0 0 0 0 0 0 1 0 0 0 0 0 0 0 0 0 0 0 0 0 1 0 1 0 0 0 0 0 0 0 0 0 0 0 0\n",
       " [5905] 0 0 0 0 0 0 0 0 0 0 0 0 0 1 0 0 0 0 0 0 0 0 0 0 0 0 0 0 0 1 0 0 0 0 0 0\n",
       " [5941] 0 0 0 0 0 0 0 0 0 0 0 0 0 0 0 0 0 0 0 0 0 0 0 0 0 0 0 0 1 0 0 0 0 0 0 0\n",
       " [5977] 0 0 0 0 1 0 0 0 0 0 0 0 0 0 0 0 0 1 0 1 0 0 0 0 0 0 0 1 0 0 0 0 0 0 0 0\n",
       " [6013] 0 0 0 0 0 0 0 1 0 0 1 0 0 0 0 0 0 0 0 0 0 0 0 0 0 1 1 0 0 0 0 0 0 0 0 0\n",
       " [6049] 0 0 0 0 0 0 0 0 1 0 0 0 1 0 0 0 0 0 0 0 0 0 0 0 0 0 0 0 0 0 0 0 0 0 0 0\n",
       " [6085] 0 0 0 0 0 0 0 1 0 0 0 0 0 0 0 0 0 0 0 0 0 0 0 0 0 0 0 0 0 0 0 0 0 0 0 0\n",
       " [6121] 0 0 0 0 0 0 0 0 0 0 0 0 0 0 0 0 0 1 0 0 0 0 0 0 0 0 0 0 0 0 0 0 0 1 0 1\n",
       " [6157] 0 1 0 0 0 0 0 0 0 1 0 0 0 0 0 0 0 0 0 0 0 0 0 0 0 0 0 1 0 0 0 0 1 0 0 0\n",
       " [6193] 0 0 0 0 0 0 0 0 0 0 0 0 0 1 0 0 0 0 0 0 0 1 0 0 0 0 0 0 0 0 0 0 0 0 0 0\n",
       " [6229] 0 0 0 0 0 0 0 0 0 0 0 0 0 0 0 0 0 0 0 0 0 0 0 0 0 0 0 0 0 0 0 0 0 0 0 0\n",
       " [6265] 0 0 0 1 0 0 0 0 0 0 0 1 0 0 0 0 0 0 0 0 0 0 0 0 0 0 0 0 0 0 0 0 0 0 0 0\n",
       " [6301] 1 0 0 0 0 1 0 0 0 0 0 0 0 1 1 0 0 0 0 0 0 1 0 0 0 0 1 0 0 0 0 0 0 0 1 0\n",
       " [6337] 0 0 0 0 0 0 0 0 1 0 0 0 1 0 0 0 0 1 0 0 0 0 0 0 0 0 0 0 0 0 0 1 0 0 1 0\n",
       " [6373] 0 0 0 0 0 0 0 0 0 0 0 0 0 0 0 0 0 0 0 0 0 0 0 0 0 0 0 0 0 0 0 0 0 0 0 0\n",
       " [6409] 0 0 1 0 0 0 0 0 0 0 0 0 0 0 1 0 0 0 0 0 0 0 0 0 0 0 0 0 0 0 0 0 0 0 0 0\n",
       " [6445] 0 0 0 0 0 0 0 0 0 0 0 1 0 0 0 0 0 0 0 0 0 0 0 0 0 0 0 0 0 0 0 0 0 0 0 0\n",
       " [6481] 0 0 0 0 0 0 0 0 1 0 0 0 0 0 0 0 0 1 0 0 0 0 0 0 0 0 0 0 0 0 0 0 0 0 0 0\n",
       " [6517] 0 0 0 0 0 0 0 0 0 0 0 0 0 0 0 0 0 0 0 0 0 0 0 0 0 1 0 0 0 0 1 0 0 0 0 0\n",
       " [6553] 0 0 1 0 0 0 0 1 0 0 0 0 0 0 0 0 0 0 0 0 0 0 0 0 0 0 0 0 0 0 0 0 0 0 0 0\n",
       " [6589] 0 0 0 0 0 0 0 0 0 0 0 0 0 0 0 0 0 0 0 0 0 0 0 0 0 0 0 0 0 0 0 0 0 0 1 0\n",
       " [6625] 1 0 0 0 0 0 0 0 0 1 0 0 0 0 0 0 0 0 0 0 0 0 0 0 1 0 0 0 0 1 0 0 0 0 0 0\n",
       " [6661] 0 0 0 0 0 0 0 0 0 0 0 0 1 0 0 0 0 0 0 0 0 0 0 0 0 0 1 1 0 0 0 0 0 0 0 0\n",
       " [6697] 0 0 0 0 0 0 0 0 0 0 0 0 0 0 0 0 0 0 0 0 1 0 0 0 0 0 0 0 0 0 0 0 0 0 0 0\n",
       " [6733] 0 0 0 0 0 0 0 0 0 0 1 0 0 0 0 0 0 0 0 0 1 0 0 0 0 0 0 0 0 0 0 0 0 0 0 0\n",
       " [6769] 0 1 0 0 0 0 0 0 0 0 0 0 0 0 0 0 1 0 1 0 0 0 0 0 1 0 0 0 0 0 0 0 0 0 0 0\n",
       " [6805] 0 0 0 0 0 1 0 0 0 0 0 0 0 0 0 0 0 0 0 0 0 0 0 0 0 0 0 0 0 0 0 0 0 0 0 0\n",
       " [6841] 0 0 0 0 0 0 0 0 0 0 0 0 0 0 1 0 0 1 0 0 0 0 1 0 0 0 0 0 0 0 1 0 0 0 0 0\n",
       " [6877] 0 0 0 0 0 0 0 0 0 0 0 0 0 0 0 0 0 0 0 0 0 0 1 0 0 0 0 0 0 0 0 0 0 0 0 0\n",
       " [6913] 0 0 0 1 0 1 0 0 0 0 0 0 0 0 1 0 0 0 0 1 0 0 0 0 0 0 0 0 0 0 0 0 0 0 0 0\n",
       " [6949] 0 1 0 0 0 0 0 0 0 0 1 0 0 0 0 0 0 0 0 0 1 0 0 0 0 0 1 0 0 0 0 0 0 0 0 0\n",
       " [6985] 0 0 0 0 0 0 0 0 0 0 0 0 1 0 0 0 0 0 0 0 0 0 0 0 0 0 0 0 0 0 0 0 0 0 0 0\n",
       " [7021] 0 0 0 0 0 0 1 0 0 1 0 0 0 0 1 0 0 0 0 0 0 0 0 0 0 0 0 0 0 0 0 0 0 0 0 0\n",
       " [7057] 0 0 0 0 0 0 0 0 0 0 0 0 0 0 0 0 0 0 0 0 0 0 0 0 0 0 0 0 0 0 0 0 0 0 0 0\n",
       " [7093] 1 0 0 0 0 0 0 0 0 1 0 0 0 0 0 0 0 0 0 0 0 1 0 0 0 0 0 0 1 0 0 0 0 0 0 0\n",
       " [7129] 0 0 0 1 0 0 0 1 0 0 0 0 0 0 0 0 0 0 0 0 0 0 0 0 0 0 0 0 0 0 1 0 0 0 0 1\n",
       " [7165] 0 0 0 0 0 0 0 0 1 0 0 0 0 0 0 0 0 0 0 0 0 0 0 0 0 0 1 0 0 0 0 0 0 0 0 0\n",
       " [7201] 0 0 0 1 0 0 0 0 0 0 0 0 0 0 0 0 0 0 0 0 0 0 0 0 0 0 0 0 0 0 0 0 0 0 0 0\n",
       " [7237] 0 1 0 0 0 0 0 0 0 0 1 0 0 0 0 0 0 0 0 0 0 0 0 0 0 0 0 1 0 1 0 0 0 0 0 0\n",
       " [7273] 0 0 1 0 0 0 0 0 1 0 0 0 0 0 0 0 0 0 0 0 0 0 0 0 0 0 0 0 0 0 0 0 0 0 0 0\n",
       " [7309] 0 0 0 0 0 0 0 0 1 0 0 0 0 1 0 0 0 0 0 0 0 0 0 0 0 0 0 0 0 0 0 0 0 0 0 0\n",
       " [7345] 0 0 0 0 0 0 0 0 0 0 0 0 0 0 0 1 0 0 0 0 0 0 0 0 0 0 0 0 0 1 0 0 0 0 0 0\n",
       " [7381] 0 0 0 0 0 0 0 0 0 0 0 0 0 0 0 1 0 0 0 0 0 0 0 0 0 0 0 0 0 0 0 0 0 0 0 0\n",
       " [7417] 0 0 0 0 0 0 0 0 0 0 0 0 0 0 0 0 0 0 0 0 0 0 0 0 0 0 0 0 0 0 0 1 0 0 0 0\n",
       " [7453] 0 0 0 0 0 0 0 0 0 0 0 0 1 1 0 0 0 0 0 0 0 0 0 0 0 0 0 0 0 0 0 0 0 0 0 0\n",
       " [7489] 0 0 1 0 0 0 1 0 0 0 0 0 1 0 0 0 0 0 0 0 0 0 0 0 0 0 0 0 0 0 0 0 0 0 0 0\n",
       " [7525] 0 1 0 1 0 0 0 0 0 0 0 0 0 0 0 0 0 0 0 0 0 0 0 0 0 0 0 0 0 0 0 0 0 0 0 0\n",
       " [7561] 0 0 0 0 0 0 0 0 0 0 0 0 0 0 0 0 0 0 0 1 0 0 0 0 0 0 0 0 0 0 0 0 0 0 0 0\n",
       " [7597] 0 0 0 0 0 0 1 0 0 1 0 1 0 0 0 0 0 0 0 0 0 0 0 0 1 0 0 0 0 0 0 0 1 0 0 1\n",
       " [7633] 0 0 0 0 0 1 0 0 0 0 0 0 0 0 0 0 0 0 0 0 0 0 0 0 0 0 0 0 0 0 0 0 0 0 1 0\n",
       " [7669] 0 0 0 1 0 0 0 0 0 0 0 0 0 0 0 0 0 0 0 0 0 0 0 0 0 0 1 0 0 0 0 0 0 0 0 0\n",
       " [7705] 0 0 0 0 0 0 0 0 0 0 1 0 0 0 0 0 0 0 0 0 0 1 0 0 0 0 0 0 0 0 0 1 0 0 0 0\n",
       " [7741] 0 0 0 0 0 0 0 0 0 0 0 0 0 0 0 0 0 0 1 1 0 0 0 0 0 0 1 0 0 0 0 0 0 0 0 0\n",
       " [7777] 0 0 0 0 0 0 0 0 0 0 0 0 0 0 0 0 0 0 0 0 0 0 0 0 0 0 0 0 0 0 0 0 0 0 0 0\n",
       " [7813] 0 0 0 0 0 0 0 0 0 0 0 0 0 0 0 0 0 0 0 0 0 0 0 0 0 0 0 0 0 0 0 0 0 0 0 0\n",
       " [7849] 0 0 0 0 0 0 0 0 0 0 0 0 0 0 0 0 0 0 0 0 0 0 0 0 0 0 0 1 0 0 0 0 0 0 0 1\n",
       " [7885] 0 0 0 0 0 0 0 0 0 0 0 0 0 0 0 0 0 0 0 0 0 0 0 0 0 0 0 0 0 0 0 0 0 0 0 0\n",
       " [7921] 0 0 0 0 0 0 0 0 0 0 0 0 0 0 0 0 0 0 0 0 0 0 0 0 0 0 0 0 0 1 0 0 0 0 1 0\n",
       " [7957] 0 0 0 0 0 0 0 0 0 0 0 0 1 1 0 0 0 0 0 0 0 0 0 0 0 0 0 0 0 0 0 0 0 0 0 1\n",
       " [7993] 0 0 0 0 0 0 0 0 0 0 0 0 0 0 0 0 0 0 0 0 0 0 0 0 1 0 0 0 0 1 0 0 0 0 0 0\n",
       " [8029] 0 0 0 0 0 0 0 0 0 0 0 0 0 0 0 0 0 0 0 0 0 0 0 0 0 0 0 0 0 0 0 0 0 0 0 0\n",
       " [8065] 0 1 0 0 0 0 0 0 0 0 1 0 0 0 0 0 0 0 0 0 0 0 0 0 0 0 0 0 0 0 0 0 0 0 1 0\n",
       " [8101] 0 0 1 0 0 0 0 0 0 0 0 0 0 0 0 0 0 0 0 0 0 0 0 0 0 0 0 0 0 0 0 0 0 0 0 0\n",
       " [8137] 0 0 0 0 0 0 0 0 0 0 0 0 0 1 0 0 0 0 0 0 1 0 0 0 0 0 0 0 0 0 0 0 0 0 1 0\n",
       " [8173] 0 0 0 0 1 0 1 0 0 0 0 0 0 0 0 0 0 0 0 1 0 0 0 1 0 0 0 0 0 0 0 0 0 0 0 0\n",
       " [8209] 0 0 0 0 0 0 0 0 0 0 0 0 0 0 0 0 0 0 0 0 0 0 0 0 0 0 0 1 0 0 0 0 0 0 0 0\n",
       " [8245] 0 0 0 0 0 0 0 0 0 0 0 0 0 1 0 0 0 0 0 0 0 0 0 0 0 0 0 0 0 0 0 0 1 0 0 0\n",
       " [8281] 1 0 0 0 0 0 0 0 0 0 0 0 0 0 0 0 0 0 0 0 0 0 0 0 0 0 0 0 0 0 0 0 0 1 0 0\n",
       " [8317] 1 0 1 1 0 0 0 0 0 0 0 0 0 0 0 0 0 0 0 0 0 0 0 0 0 0 0 0 0 0 0 0 0 0 0 0\n",
       " [8353] 0 0 0 0 1 0 1 0 0 0 0 0 0 0 0 0 0 0 0 0 0 0 0 0 0 0 1 0 0 0 0 0 0 0 0 0\n",
       " [8389] 0 0 0 0 0 0 0 0 0 0 0 0 0 0 0 0 0 0 0 0 0 0 0 0 0 0 0 0 0 0 0 0 0 0 0 0\n",
       " [8425] 0 0 0 0 0 0 0 0 0 0 1 1 0 0 0 1 1 0 0 0 0 0 0 0 0 0 0 0 0 0 0 0 0 0 0 0\n",
       " [8461] 0 0 0 0 0 1 0 1 0 0 0 0 0 0 0 0 0 0 0 1 0 0 0 1 0 0 0 0 0 0 0 0 0 0 0 0\n",
       " [8497] 0 1 0 0 0 0 0 1 0 0 0 1 0 1 0 0 0 0 0 0 1 0 0 0 0 0 0 0 0 0 0 0 0 0 0 0\n",
       " [8533] 0 0 0 0 0 0 0 0 0 0 0 1 0 0 0 0 0 0 0 0 0 0 0 0 0 0 0 0 0 0 0 0 1 0 0 0\n",
       " [8569] 0 0 0 0 0 0 0 0 0 0 0 0 0 0 0 0 0 0 0 0 0 0 0 1 0 0 0 0 0 0 0 0 0 0 0 0\n",
       " [8605] 0 0 0 0 0 0 0 0 0 1 0 0 0 0 0 0 0 0 0 0 0 0 0 0 0 1 1 0 0 0 0 1 0 0 0 0\n",
       " [8641] 0 0 0 0 0 0 0 0 0 0 0 0 0 0 0 0 0 0 0 0 0 0 0 1 0 0 0 0 0 0 0 0 0 0 0 0\n",
       " [8677] 0 1 0 0 0 0 0 1 0 0 0 0 0 0 0 0 0 0 0 0 0 0 0 0 0 0 0 0 0 0 0 0 0 0 0 0\n",
       " [8713] 0 0 0 1 0 0 0 1 0 0 0 0 0 0 0 0 0 0 0 0 0 0 0 0 0 1 0 0 0 0 0 0 0 0 0 0\n",
       " [8749] 0 0 0 0 0 0 0 0 0 0 0 0 0 0 0 0 0 0 0 0 0 0 0 0 0 0 0 0 0 0 0 0 0 0 0 0\n",
       " [8785] 0 0 0 0 0 0 0 1 0 1 0 0 1 0 0 0 0 0 0 0 0 0 0 0 0 0 0 0 0 0 1 0 0 0 0 0\n",
       " [8821] 1 0 0 0 0 0 0 0 0 0 0 0 0 0 0 0 0 0 0 0 0 0 0 0 0 0 0 1 0 0 0 1 0 0 0 0\n",
       " [8857] 0 0 0 0 0 0 0 0 0 0 0 0 0 0 0 0 0 0 0 0 0 0 0 0 0 0 0 0 1 0 0 0 0 0 0 0\n",
       " [8893] 0 0 0 0 0 0 1 0 1 0 0 0 0 0 0 0 0 0 0 0 0 0 0 0 0 0 0 0 0 0 0 0 0 0 0 0\n",
       " [8929] 0 0 0 0 0 0 0 0 0 0 0 0 0 0 0 0 0 0 0 0 0 0 0 0 0 0 0 0 0 0 0 0 1 0 0 0\n",
       " [8965] 0 0 0 0 0 0 0 0 0 0 0 0 0 0 1 0 0 1 0 1 0 0 0 0 0 0 0 0 0 0 0 0 0 0 0 0\n",
       " [9001] 0 0 0 0 0 0 0 0 0 0 0 0 0 0 0 0 0 0 0 0 0 0 1 0 1 0 0 0 0 0 0 0 0 0 0 0\n",
       " [9037] 0 0 0 0 0 0 0 0 0 0 0 0 0 0 0 0 0 0 0 0 0 0 0 0 0 0 0 0 0 0 0 0 0 0 0 0\n",
       " [9073] 1 0 0 0 0 0 0 0 0 0 0 0 0 0 0 1 0 1 0 0 0 0 0 0 0 0 1 0 0 0 0 0 0 0 0 0\n",
       " [9109] 0 0 0 0 0 0 0 0 0 0 0 0 0 0 0 1 0 0 0 0 0 0 0 0 0 0 1 0 0 0 0 0 1 0 0 0\n",
       " [9145] 0 0 0 0 0 0 0 0 0 0 0 0 0 0 0 0 0 0 0 0 0 0 0 0 0 0 0 0 0 0 0 0 0 1 0 0\n",
       " [9181] 0 0 0 0 0 0 0 0 0 0 0 0 0 0 0 0 1 0 0 0 0 0 0 0 0 0 0 0 0 0 0 0 0 1 0 0\n",
       " [9217] 0 0 0 0 0 0 0 0 0 0 0 0 0 0 0 0 0 0 0 0 0 0 0 0 0 0 0 0 0 0 0 0 0 0 0 0\n",
       " [9253] 0 1 0 0 1 0 0 0 0 0 0 0 0 0 0 0 0 0 0 0 0 0 0 0 0 0 0 0 0 0 0 0 0 0 0 0\n",
       " [9289] 0 0 0 0 0 0 0 0 0 0 0 1 0 0 0 0 0 0 0 1 0 0 0 0 0 0 0 1 0 0 0 0 1 0 0 0\n",
       " [9325] 0 0 0 0 0 0 0 0 0 0 0 0 0 0 0 0 0 0 0 0 0 0 0 0 0 0 0 0 0 0 0 0 0 0 0 0\n",
       " [9361] 0 0 0 0 1 0 0 0 0 0 0 0 0 0 0 0 1 0 0 0 1 0 0 1 0 1 0 0 0 0 0 0 0 0 0 0\n",
       " [9397] 0 1 0 0 0 0 0 0 0 0 0 0 0 0 0 0 0 0 0 0 0 0 0 0 0 0 0 0 0 0 0 0 0 0 0 0\n",
       " [9433] 0 0 0 0 0 0 0 0 0 0 0 0 0 0 0 0 0 0 1 0 0 0 0 0 0 0 0 0 0 0 0 0 0 0 0 0\n",
       " [9469] 0 0 0 0 0 0 0 0 0 0 0 0 0 0 1 0 0 0 0 0 0 0 0 0 0 0 0 0 0 0 0 0 0 0 0 0\n",
       " [9505] 0 1 0 0 0 0 0 1 0 0 0 0 1 0 0 0 0 0 1 0 1 0 0 0 0 0 0 0 0 0 0 0 0 0 0 0\n",
       " [9541] 0 0 0 0 1 0 0 0 0 0 0 0 0 0 0 0 0 0 0 0 0 0 0 0 0 0 0 0 0 0 0 0 0 1 0 0\n",
       " [9577] 0 0 0 0 0 0 0 0 0 0 0 1 0 0 0 0 0 0 0 0 0 1 0 0 0 0 0 0 0 0 0 0 0 0 0 0\n",
       " [9613] 0 0 0 0 0 0 0 0 0 0 0 1 0 1 0 0 0 0 0 0 0 0 0 0 0 0 0 0 0 0 0 0 0 0 0 0\n",
       " [9649] 0 0 1 0 0 0 0 0 0 0 0 0 1 0 0 0 0 0 0 0 0 0 0 0 0 0 0 0 0 0 0 0 0 0 1 0\n",
       " [9685] 0 0 0 0 0 0 1 0 0 0 0 0 0 0 0 0 0 0 0 0 0 0 0 0 0 0 0 0 0 0 0 0 0 1 0 0\n",
       " [9721] 0 0 0 0 0 0 0 0 0 0 1 0 0 0 0 0 0 0 0 0 0 0 0 0 0 0 1 0 0 0 0 0 0 0 0 0\n",
       " [9757] 0 0 1 0 0 0 0 0 1 0 0 0 0 0 0 0 0 0 0 0 0 0 0 0 0 0 0 0 0 0 0 0 0 0 0 0\n",
       " [9793] 0 0 0 0 0 0 0 0 0 0 0 0 0 0 0 0 0 0 0 0 1 0 0 0 0 0 0 0 0 0 0 0 0 0 0 0\n",
       " [9829] 0 0 0 0 0 0 0 0 0 0 0 0 0 0 0 0 0 0 0 0 0 0 0 0 0 0 0 0 0 0 0 0 0 0 0 0\n",
       " [9865] 0 0 0 0 0 0 0 0 1 0 0 0 0 0 0 0 0 0 0 0 0 1 0 0 0 0 0 0 0 0 0 0 0 0 0 0\n",
       " [9901] 0 0 0 0 0 0 0 0 0 0 0 0 0 0 0 1 0 0 0 0 0 0 0 0 0 0 0 0 0 0 0 0 0 0 0 0\n",
       " [9937] 0 0 0 0 0 0 0 0 0 0 0 0 0 0 0 0 0 0 0 0 0 0 0 0 0 0 0 0 1 0 0 0 0 0 0 0\n",
       " [9973] 0 1 0 0 0 0 0 0 0 0 0 0 0 0 0 0 0 0 0 0 0 0 0 0 0 0 0 0 0 0 0 0 0 0 0 0\n",
       "[10009] 0 0 0 0 0 0 0 1 0 0 0 0 0 0 0 0 0 0 0 0 0 0 0 0 1 0 0 0 0 1 0 0 0 0 0 0\n",
       "[10045] 0 0 0 1 0 0 0 0 0 0 0 0 0 0 0 0 0 0 0 0 0 0 0 0 0 0 0 1 0 0 0 0 0 0 0 0\n",
       "[10081] 0 0 0 0 0 1 0 0 0 0 0 0 0 0 0 0 0 0 0 0 0 0 0 0 0 0 0 0 0 0 0 0 0 0 0 0\n",
       "[10117] 0 0 1 0 0 0 1 0 0 0 0 0 0 0 0 0 0 0 0 0 0 0 0 0 0 0 0 0 0 0 1 0 0 0 0 1\n",
       "[10153] 0 0 0 0 1 0 0 0 0 0 0 0 0 1 0 0 0 0 0 0 0 0 0 0 0 0 0 0 0 0 0 0 0 0 0 0\n",
       "[10189] 0 0 0 0 0 0 1 0 0 0 0 0 0 0 0 0 0 0 0 0 0 0 0 0 0 0 0 0 0 0 0 0 0 0 0 0\n",
       "[10225] 1 0 0 0 0 0 0 0 0 0 0 0 0 0 0 0 0 0 0 1 0 0 0 0 0 0 0 0 0 0 0 0 0 0 0 0\n",
       "[10261] 0 0 0 0 0 0 0 0 0 0 0 0 0 0 0 0 0 0 0 0 0 0 0 0 0 0 0 0 0 0 0 0 0 0 0 0\n",
       "[10297] 0 0 0 0 0 0 0 0 0 0 0 0 0 0 0 0 0 0 0 0 0 0 0 0 0 0 1 0 0 1 0 0 0 0 0 0\n",
       "[10333] 0 0 0 0 0 0 0 0 0 0 0 0 0 0 0 0 0 0 0 0 0 0 0 1 0 0 0 1 0 0 0 0 0 0 0 0\n",
       "[10369] 0 0 0 0 0 0 0 0 0 0 0 1 0 0 0 0 0 0 0 0 0 0 0 0 0 0 0 0 0 0 0 0 0 0 0 0\n",
       "[10405] 0 0 1 0 0 0 0 0 0 0 0 0 0 0 0 0 0 0 0 0 1 0 0 0 0 1 0 0 0 0 0 0 0 0 1 0\n",
       "[10441] 0 0 0 0 0 0 0 0 0 0 0 0 0 0 0 0 0 0 0 1 0 1 0 0 0 0 0 0 0 0 0 0 0 0 0 0\n",
       "[10477] 0 0 1 0 0 1 0 0 0 0 0 0 0 0 0 0 0 0 0 1 0 0 0 0 0 0 0 0 1 0 0 0 0 0 0 0\n",
       "[10513] 0 0 0 0 0 1 0 0 0 0 0 0 0 0 0 0 0 0 0 0 1 0 0 0 0 0 0 0 0 0 0 0 0 0 0 0\n",
       "[10549] 0 0 0 0 0 0 0 0 0 0 0 0 0 0 0 0 0 0 0 0 0 0 0 0 0 1 0 0 0 0 0 0 0 0 0 0\n",
       "[10585] 0 0 0 0 1 0 0 0 0 0 0 0 0 0 0 0 0 0 0 0 0 0 0 0 0 0 0 0 0 0 0 0 1 0 0 0\n",
       "[10621] 0 0 0 0 0 0 0 0 0 0 0 0 0 0 0 1 0 0 0 0 0 0 0 0 0 0 0 0 0 0 0 0 1 0 0 0\n",
       "[10657] 0 0 0 0 1 0 0 0 0 0 0 0 0 0 0 0 0 0 0 0 1 0 0 0 0 0 0 0 1 0 0 0 0 0 0 1\n",
       "[10693] 0 0 0 1 0 0 0 0 1 0 0 0 0 0 0 0 0 0 0 0 0 0 0 0 0 0 0 0 0 1 1 0 0 0 0 1\n",
       "[10729] 0 0 0 0 0 0 0 0 0 0 0 0 0 0 0 0 0 0 0 0 0 0 0 0 0 0 0 0 0 0 0 0 0 0 0 0\n",
       "[10765] 1 0 0 0 0 0 0 0 0 0 0 0 0 0 0 0 0 0 0 0 0 0 0 0 1 0 0 0 1 0 0 0 0 0 0 0\n",
       "[10801] 1 0 0 0 0 0 0 0 0 0 0 0 1 0 0 0 0 0 0 0 0 0 0 0 0 0 0 0 0 0 0 0 0 0 0 0\n",
       "[10837] 0 0 0 0 0 0 0 0 0 0 0 0 0 0 0 0 0 0 0 0 0 0 0 0 0 1 0 0 0 0 0 0 0 0 0 0\n",
       "[10873] 0 0 0 0 0 1 0 0 0 0 0 0 0 0 0 0 0 0 0 0 0 0 0 0 0 0 0 0 0 0 0 0 0 0 0 0\n",
       "[10909] 0 0 0 0 0 0 0 0 0 0 0 0 0 0 0 0 0 0 0 0 0 0 0 1 0 0 0 0 0 0 0 0 0 0 0 0\n",
       "[10945] 0 0 0 0 1 0 1 1 0 0 0 0 0 0 0 1 0 0 0 0 0 0 0 0 0 0 0 0 0 0 0 1 0 0 0 0\n",
       "[10981] 0 0 1 0 0 0 0 0 0 1 0 0 0 0 0 0 0 0 0 0 0 0 0 0 0 0 0 0 0 0 0 0 0 0 0 1\n",
       "[11017] 0 0 0 0 0 0 0 0 0 0 0 0 0 0 0 0 0 0 0 0 0 0 0 1 0 0 0 0 0 1 0 0 0 0 0 0\n",
       "[11053] 0 0 0 0 0 0 0 0 0 1 0 0 0 0 0 1 0 0 0 0 1 0 0 0 0 0 0 0 0 0 0 0 0 0 0 0\n",
       "[11089] 0 0 0 0 0 0 0 0 0 0 0 0 0 0 0 0 0 0 0 0 0 0 0 0 0 0 0 0 0 0 0 0 0 1 0 0\n",
       "[11125] 0 0 0 0 0 0 0 0 0 0 0 0 0 0 0 0 0 0 0 0 0 0 0 0 0 0 0 0 0 0 0 0 0 0 0 0\n",
       "[11161] 0 0 1 0 0 0 0 0 0 0 0 0 0 0 0 0 0 0 0 0 0 0 0 0 0 0 0 0 0 0 0 0 0 0 0 1\n",
       "[11197] 0 0 0 0 0 1 0 0 0 1 0 0 0 0 0 0 0 0 0 0 0 0 0 0 0 0 0 0 0 0 0 0 0 0 0 0\n",
       "[11233] 0 0 0 0 0 0 0 0 0 0 0 0 0 0 0 0 0 0 0 0 0 0 0 0 0 0 0 0 0 0 0 0 0 0 0 0\n",
       "[11269] 0 0 0 0 0 0 0 0 0 0 0 0 0 0 0 0 0 0 0 0 0 0 0 0 0 0 0 0 1 0 0 0 0 0 1 0\n",
       "[11305] 0 0 0 1 0 0 1 0 0 0 0 0 0 0 0 1 0 0 0 0 0 0 0 0 0 0 1 0 0 0 0 0 0 0 0 0\n",
       "[11341] 0 0 0 0 0 0 0 0 0 1 0 0 0 0 0 0 0 0 0 0 0 0 0 0 0 0 0 0 0 0 0 0 0 0 0 0\n",
       "[11377] 0 0 0 0 0 0 0 0 0 0 0 0 0 0 0 0 0 0 0 0 0 0 0 0 0 0 0 0 0 0 0 0 0 0 0 0\n",
       "[11413] 0 0 1 0 0 0 0 0 0 0 1 0 0 0 0 0 1 1 0 0 0 0 0 0 0 0 0 0 0 0 0 0 0 0 0 0\n",
       "[11449] 0 0 0 0 0 0 0 0 0 0 0 0 1 0 0 0 0 0 0 0 0 0 0 0 0 0 0 0 0 0 0 0 0 0 0 0\n",
       "[11485] 0 0 0 0 0 0 0 0 0 0 0 0 1 0 0 0 0 0 0 0 0 0 0 0 0 0 0 0 0 0 0 1 0 0 0 0\n",
       "[11521] 0 0 0 0 0 0 0 0 0 0 0 0 0 0 0 0 0 0 0 0 0 0 0 0 0 1 0 0 0 0 0 0 0 0 0 0\n",
       "[11557] 0 0 1 0 0 0 0 0 0 0 0 0 0 0 0 0 0 0 0 0 0 0 0 0 0 0 0 0 0 0 0 0 0 0 0 0\n",
       "[11593] 0 0 0 0 0 0 0 0 0 1 0 0 0 0 0 0 0 0 0 0 0 0 0 0 0 0 0 1 1 0 0 0 0 0 0 0\n",
       "[11629] 0 1 0 0 0 0 0 0 0 0 0 0 0 1 1 0 1 0 0 0 0 1 0 1 0 0 0 0 0 0 0 0 0 0 0 0\n",
       "[11665] 0 0 0 0 0 0 0 0 0 0 0 0 0 0 0 0 0 0 0 0 0 0 0 1 0 0 0 0 0 0 0 0 0 0 0 0\n",
       "[11701] 0 0 0 1 0 0 0 0 0 0 0 0 0 0 0 0 0 0 0 0 0 0 0 0 0 0 0 0 0 0 0 0 0 0 0 0\n",
       "[11737] 0 1 0 0 0 0 0 0 0 0 0 0 0 0 0 0 0 0 0 0 0 0 0 0 0 0 0 0 0 1 0 0 0 0 0 0\n",
       "[11773] 0 0 0 0 0 0 0 0 0 0 0 1 0 1 0 0 0 0 0 0 0 0 0 1 0 0 0 0 1 0 0 0 0 0 0 0\n",
       "[11809] 0 0 1 0 0 0 0 0 0 0 0 0 1 0 0 0 0 0 0 0 0 0 0 0 0 0 0 0 0 0 0 0 0 0 0 0\n",
       "[11845] 1 0 1 0 0 0 0 1 0 0 0 0 0 0 0 1 0 0 0 0 0 0 0 0 0 0 0 0 0 0 0 0 0 0 0 0\n",
       "[11881] 0 0 0 0 0 0 1 0 0 0 0 0 0 0 0 0 0 0 0 0 0 0 1 0 0 0 0 0 0 0 0 0 0 0 0 0\n",
       "[11917] 0 0 0 0 0 0 0 0 0 0 0 0 0 0 0 0 0 0 0 0 0 0 0 1 0 0 0 0 1 0 0 0 0 0 0 0\n",
       "[11953] 0 0 0 0 0 0 0 1 0 0 0 0 0 0 0 0 0 0 0 0 0 0 0 0 0 0 0 0 1 0 0 0 0 0 1 0\n",
       "[11989] 0 0 0 0 0 1 0 0 0 0 0 0"
      ]
     },
     "metadata": {},
     "output_type": "display_data"
    }
   ],
   "source": [
    "#definimos una función clasificadora de ols\n",
    "clasif <- function(pred, p){\n",
    "    r = pred > p\n",
    "    return(as.numeric(r))\n",
    "    }\n",
    "clasif(ols_pred, 0.5)"
   ]
  },
  {
   "cell_type": "code",
   "execution_count": 21,
   "id": "9a8d6f32-0584-401b-9f31-e9d981bd92d6",
   "metadata": {
    "executionInfo": {
     "elapsed": 64,
     "status": "ok",
     "timestamp": 1653562468394,
     "user": {
      "displayName": "Pablo Quintana",
      "userId": "00674039532099061635"
     },
     "user_tz": 180
    },
    "id": "9a8d6f32-0584-401b-9f31-e9d981bd92d6"
   },
   "outputs": [],
   "source": [
    "confusion <- function(pred, y){\n",
    "    vp = 0\n",
    "    fp = 0\n",
    "    fn = 0\n",
    "    vn = 0\n",
    "    for (i in 1:length(pred)){\n",
    "        if(pred[i] == 1 ){\n",
    "            if(pred[i] == y[i]){\n",
    "                vp <- vp+1}\n",
    "            else{\n",
    "                fp <- fp+1}\n",
    "               }\n",
    "        else{\n",
    "             if(pred[i] != y[i]){\n",
    "                fn <- fn+1}\n",
    "            else{\n",
    "                vn <- vn+1\n",
    "                }\n",
    "            }}\n",
    "        return(cbind(c(vp,fp),c(fn,vn)))\n",
    "        }\n",
    "\n",
    "f1_score <- function(pred,y) {\n",
    "    val <- confusion(pred,y)\n",
    "    prec <- val[1]/(val[1]+val[2])\n",
    "    rec <- val[1]/(val[1]+val[3])\n",
    "    f1 <- 2/(prec^-1+rec^-1)\n",
    "    return(f1)}"
   ]
  },
  {
   "cell_type": "code",
   "execution_count": 22,
   "id": "bd80f1ea-b267-4a02-bff2-59adf0573475",
   "metadata": {
    "colab": {
     "base_uri": "https://localhost:8080/",
     "height": 0
    },
    "executionInfo": {
     "elapsed": 64,
     "status": "ok",
     "timestamp": 1653562468395,
     "user": {
      "displayName": "Pablo Quintana",
      "userId": "00674039532099061635"
     },
     "user_tz": 180
    },
    "id": "bd80f1ea-b267-4a02-bff2-59adf0573475",
    "outputId": "0f235f31-83fc-4b1d-f9a5-36865a459c47"
   },
   "outputs": [
    {
     "data": {
      "text/html": [
       "<table class=\"dataframe\">\n",
       "<caption>A matrix: 2 × 2 of type dbl</caption>\n",
       "<tbody>\n",
       "\t<tr><td>2726</td><td>1072</td></tr>\n",
       "\t<tr><td>4176</td><td>4026</td></tr>\n",
       "</tbody>\n",
       "</table>\n"
      ],
      "text/latex": [
       "A matrix: 2 × 2 of type dbl\n",
       "\\begin{tabular}{ll}\n",
       "\t 2726 & 1072\\\\\n",
       "\t 4176 & 4026\\\\\n",
       "\\end{tabular}\n"
      ],
      "text/markdown": [
       "\n",
       "A matrix: 2 × 2 of type dbl\n",
       "\n",
       "| 2726 | 1072 |\n",
       "| 4176 | 4026 |\n",
       "\n"
      ],
      "text/plain": [
       "     [,1] [,2]\n",
       "[1,] 2726 1072\n",
       "[2,] 4176 4026"
      ]
     },
     "metadata": {},
     "output_type": "display_data"
    }
   ],
   "source": [
    "confusion(clasif(ols_pred, 0.3),y.test)"
   ]
  },
  {
   "cell_type": "code",
   "execution_count": 23,
   "id": "7894d770-aaee-4711-89b4-4968567d712e",
   "metadata": {
    "colab": {
     "base_uri": "https://localhost:8080/",
     "height": 0
    },
    "executionInfo": {
     "elapsed": 62,
     "status": "ok",
     "timestamp": 1653562468395,
     "user": {
      "displayName": "Pablo Quintana",
      "userId": "00674039532099061635"
     },
     "user_tz": 180
    },
    "id": "7894d770-aaee-4711-89b4-4968567d712e",
    "outputId": "b1c05c73-d423-494f-d282-c36702cd15fe"
   },
   "outputs": [
    {
     "data": {
      "text/html": [
       "<strong>f1:</strong> 0.509532710280374"
      ],
      "text/latex": [
       "\\textbf{f1:} 0.509532710280374"
      ],
      "text/markdown": [
       "**f1:** 0.509532710280374"
      ],
      "text/plain": [
       "       f1 \n",
       "0.5095327 "
      ]
     },
     "metadata": {},
     "output_type": "display_data"
    }
   ],
   "source": [
    "ols_rdos['f1'] <- f1_score(clasif(ols_pred, 0.3),y.test)\n",
    "ols_rdos['f1']"
   ]
  },
  {
   "cell_type": "markdown",
   "id": "fc2f2d27-ee1b-4cb4-ba24-64f76bbcc44b",
   "metadata": {
    "id": "fc2f2d27-ee1b-4cb4-ba24-64f76bbcc44b"
   },
   "source": [
    "Como se puede observar el modelo mínimos cuadrados ya no parece ser tan buen modelo para clasificaciones. "
   ]
  },
  {
   "cell_type": "markdown",
   "id": "9e2ab693-79ff-4a79-8866-a8966aba212a",
   "metadata": {
    "id": "9e2ab693-79ff-4a79-8866-a8966aba212a"
   },
   "source": [
    "### Modelo logit"
   ]
  },
  {
   "cell_type": "markdown",
   "id": "7370cea2-1362-4217-adb1-7b1892e35c7d",
   "metadata": {
    "id": "7370cea2-1362-4217-adb1-7b1892e35c7d"
   },
   "source": [
    "El problema que tiene el modelo lineal para determinar una probabilidad, es que a menudo arroja valores negativos o valores mayores a 1, lo que no son valores que puedan identificarse como probabilidades. Para solucionar esto, se considera la función logística que devuelve todos valores entre 0 y 1.\n",
    "\n",
    "\\begin{equation}\n",
    "p\\left(y = 1|\\boldsymbol{X}=x\\right)=p\\left(\\boldsymbol{X}\\right) = \\frac{e^{\\boldsymbol{X}\\boldsymbol{\\beta}}}{1+e^{\\boldsymbol{X}\\boldsymbol{\\beta}}}\n",
    "\\end{equation}\n",
    "\n",
    "Si aplicamos transformaciones podemos ver que la ecuación nos queda de la siguiente forma:\n",
    "\n",
    "\\begin{equation}\n",
    "log\\left(\\frac{p\\left(\\boldsymbol{X}\\right)}{1-p\\left(\\boldsymbol{X}\\right)}\\right) = \\boldsymbol{X}\\boldsymbol{\\beta}\n",
    "\\end{equation}\n",
    "\n",
    "la proporción $\\frac{p\\left(\\boldsymbol{X}\\right)}{1-p\\left(\\boldsymbol{X}\\right)}$ se denomina *odds*, y puede tomar valores que van del 0 al $\\infty$. Como podemos ver el modelo de regresión sigue siendo lineal en $\\boldsymbol{X}$ pero con respecto al *log-odds* que es como se denomina a la parte de la izquierda de la ecuación anterior.\n",
    "\n",
    "La forma de estimar este modelo es a través de máxima verosimilitud, en el cual no vamos a entrar en detalles acá.\n",
    "\n",
    "Para realizar la estimación en R, se utiliza la función *glm*. La forma de uso es muy similar a *lm* necesita que le pasemos la fórmula a estimar y los datos necesarios como variables principales. Además se le agrega la variable *family* en la cual hay que colocarle que queremos estimar una *binomial*. Esta función en R es mucho más amplia que solo para estimar modelos logit, en realidad funcióna para estimar cualquier modelo lineal generalizado, lo que hay que variar es el parámetro *family*."
   ]
  },
  {
   "cell_type": "code",
   "execution_count": 24,
   "id": "2c4ba188-21fd-482c-9875-e03d5ccfd5ef",
   "metadata": {
    "executionInfo": {
     "elapsed": 61,
     "status": "ok",
     "timestamp": 1653562468396,
     "user": {
      "displayName": "Pablo Quintana",
      "userId": "00674039532099061635"
     },
     "user_tz": 180
    },
    "id": "2c4ba188-21fd-482c-9875-e03d5ccfd5ef"
   },
   "outputs": [],
   "source": [
    "logit <- glm(linear, data = X.train, family = \"binomial\")"
   ]
  },
  {
   "cell_type": "code",
   "execution_count": 25,
   "id": "e359c955-6a0e-4e87-8ec8-32bdecdefabd",
   "metadata": {
    "colab": {
     "base_uri": "https://localhost:8080/",
     "height": 955
    },
    "executionInfo": {
     "elapsed": 61,
     "status": "ok",
     "timestamp": 1653562468396,
     "user": {
      "displayName": "Pablo Quintana",
      "userId": "00674039532099061635"
     },
     "user_tz": 180
    },
    "id": "e359c955-6a0e-4e87-8ec8-32bdecdefabd",
    "outputId": "3d214a3d-485d-4397-9260-4bdcd1778442"
   },
   "outputs": [
    {
     "data": {
      "text/plain": [
       "\n",
       "Call:\n",
       "glm(formula = linear, family = \"binomial\", data = X.train)\n",
       "\n",
       "Deviance Residuals: \n",
       "    Min       1Q   Median       3Q      Max  \n",
       "-1.7921  -0.8927  -0.6873   1.2404   2.3396  \n",
       "\n",
       "Coefficients:\n",
       "                          Estimate Std. Error  z value Pr(>|z|)    \n",
       "(Intercept)              -0.827108   0.006952 -118.976  < 2e-16 ***\n",
       "yob                      -0.146646   0.007391  -19.841  < 2e-16 ***\n",
       "hh_size                   0.021169   0.007162    2.956  0.00312 ** \n",
       "sex                      -0.021452   0.006784   -3.162  0.00157 ** \n",
       "city                      0.205738   0.006960   29.560  < 2e-16 ***\n",
       "g2000                    -0.033104   0.007648   -4.328 1.50e-05 ***\n",
       "g2002                     0.175047   0.008076   21.676  < 2e-16 ***\n",
       "p2000                     0.179223   0.006727   26.642  < 2e-16 ***\n",
       "p2002                     0.274766   0.006917   39.722  < 2e-16 ***\n",
       "p2004                     0.370565   0.006940   53.393  < 2e-16 ***\n",
       "totalpopulation_estimate  0.055280   0.008801    6.281 3.36e-10 ***\n",
       "percent_male             -0.020053   0.008079   -2.482  0.01306 *  \n",
       "median_age                0.014068   0.016611    0.847  0.39704    \n",
       "percent_62yearsandover    0.030613   0.016222    1.887  0.05914 .  \n",
       "percent_white             0.103865   0.018110    5.735 9.73e-09 ***\n",
       "percent_black             0.094443   0.016144    5.850 4.91e-09 ***\n",
       "median_income             0.128761   0.015803    8.148 3.71e-16 ***\n",
       "employ_20to64            -0.065458   0.009579   -6.834 8.27e-12 ***\n",
       "highschool                0.148603   0.024568    6.049 1.46e-09 ***\n",
       "bach_orhigher             0.037475   0.026861    1.395  0.16298    \n",
       "percent_hispanicorlatino  0.007410   0.009286    0.798  0.42490    \n",
       "noise1                   -0.001339   0.006776   -0.198  0.84335    \n",
       "noise2                    0.003072   0.006775    0.453  0.65023    \n",
       "noise3                   -0.012532   0.006780   -1.848  0.06453 .  \n",
       "noise4                   -0.011643   0.006776   -1.718  0.08576 .  \n",
       "noise5                   -0.004496   0.006771   -0.664  0.50668    \n",
       "noise6                    0.012333   0.006772    1.821  0.06857 .  \n",
       "noise7                    0.002257   0.006773    0.333  0.73889    \n",
       "noise8                    0.006287   0.006777    0.928  0.35356    \n",
       "noise9                   -0.002648   0.006774   -0.391  0.69586    \n",
       "noise10                   0.005069   0.006774    0.748  0.45432    \n",
       "noise11                   0.002125   0.006776    0.314  0.75381    \n",
       "noise12                  -0.000618   0.006774   -0.091  0.92731    \n",
       "noise13                   0.005960   0.006773    0.880  0.37884    \n",
       "---\n",
       "Signif. codes:  0 '***' 0.001 '**' 0.01 '*' 0.05 '.' 0.1 ' ' 1\n",
       "\n",
       "(Dispersion parameter for binomial family taken to be 1)\n",
       "\n",
       "    Null deviance: 135158  on 107998  degrees of freedom\n",
       "Residual deviance: 127323  on 107965  degrees of freedom\n",
       "AIC: 127391\n",
       "\n",
       "Number of Fisher Scoring iterations: 4\n"
      ]
     },
     "metadata": {},
     "output_type": "display_data"
    }
   ],
   "source": [
    "summary(logit)"
   ]
  },
  {
   "cell_type": "markdown",
   "id": "24fc6bc0-4b94-4373-955c-b74c466a3654",
   "metadata": {
    "id": "24fc6bc0-4b94-4373-955c-b74c466a3654"
   },
   "source": [
    "La función predict también es aplicable a los modelos logit, pero a estos hay que agregarles el parámetro *type* en el cual hay que poner response. En otro caso, nos devolvera la probabilidad en escala logarítmica."
   ]
  },
  {
   "cell_type": "code",
   "execution_count": 26,
   "id": "7102dbf0-636e-4a88-8d2f-1d6a9e8ce551",
   "metadata": {
    "colab": {
     "base_uri": "https://localhost:8080/",
     "height": 34
    },
    "executionInfo": {
     "elapsed": 60,
     "status": "ok",
     "timestamp": 1653562468396,
     "user": {
      "displayName": "Pablo Quintana",
      "userId": "00674039532099061635"
     },
     "user_tz": 180
    },
    "id": "7102dbf0-636e-4a88-8d2f-1d6a9e8ce551",
    "outputId": "efc8cbfa-82a3-499b-91e3-2b997cf68bbc"
   },
   "outputs": [
    {
     "data": {
      "text/html": [
       "<style>\n",
       ".dl-inline {width: auto; margin:0; padding: 0}\n",
       ".dl-inline>dt, .dl-inline>dd {float: none; width: auto; display: inline-block}\n",
       ".dl-inline>dt::after {content: \":\\0020\"; padding-right: .5ex}\n",
       ".dl-inline>dt:not(:first-of-type) {padding-left: .5ex}\n",
       "</style><dl class=dl-inline><dt>mse_logit</dt><dd>0.2019256731299</dd><dt>,mse_test</dt><dd>0.201433282285898</dd></dl>\n"
      ],
      "text/latex": [
       "\\begin{description*}\n",
       "\\item[mse\\textbackslash{}\\_logit] 0.2019256731299\n",
       "\\item[,mse\\textbackslash{}\\_test] 0.201433282285898\n",
       "\\end{description*}\n"
      ],
      "text/markdown": [
       "mse_logit\n",
       ":   0.2019256731299,mse_test\n",
       ":   0.201433282285898\n",
       "\n"
      ],
      "text/plain": [
       "mse_logit ,mse_test \n",
       "0.2019257 0.2014333 "
      ]
     },
     "metadata": {},
     "output_type": "display_data"
    }
   ],
   "source": [
    "logit_pred <- predict(logit,X.test, type = \"response\")\n",
    "logit_rdos <- c('mse_logit' = mse(predict(logit, type = \"response\"), y.train),',mse_test' = mse(logit_pred, y.test)) \n",
    "logit_rdos"
   ]
  },
  {
   "cell_type": "code",
   "execution_count": 27,
   "id": "4478557c-fa9a-4aaa-8f94-0e42ee79f88f",
   "metadata": {
    "colab": {
     "base_uri": "https://localhost:8080/",
     "height": 104
    },
    "executionInfo": {
     "elapsed": 60,
     "status": "ok",
     "timestamp": 1653562468397,
     "user": {
      "displayName": "Pablo Quintana",
      "userId": "00674039532099061635"
     },
     "user_tz": 180
    },
    "id": "4478557c-fa9a-4aaa-8f94-0e42ee79f88f",
    "outputId": "f4e0109e-7858-4dba-db1f-b21689f8ef1c"
   },
   "outputs": [
    {
     "data": {
      "text/html": [
       "<style>\n",
       ".list-inline {list-style: none; margin:0; padding: 0}\n",
       ".list-inline>li {display: inline-block}\n",
       ".list-inline>li:not(:last-child)::after {content: \"\\00b7\"; padding: 0 .5ex}\n",
       "</style>\n",
       "<ol class=list-inline><li>0</li><li>0</li><li>0</li><li>0</li><li>0</li><li>0</li><li>0</li><li>1</li><li>0</li><li>0</li><li>0</li><li>0</li><li>0</li><li>1</li><li>0</li><li>0</li><li>0</li><li>0</li><li>0</li><li>0</li><li>0</li><li>0</li><li>0</li><li>0</li><li>0</li><li>1</li><li>0</li><li>0</li><li>1</li><li>0</li><li>1</li><li>0</li><li>0</li><li>0</li><li>0</li><li>0</li><li>0</li><li>0</li><li>1</li><li>0</li><li>0</li><li>0</li><li>0</li><li>0</li><li>0</li><li>0</li><li>0</li><li>0</li><li>1</li><li>0</li><li>0</li><li>0</li><li>0</li><li>0</li><li>0</li><li>0</li><li>0</li><li>0</li><li>0</li><li>0</li><li>0</li><li>0</li><li>1</li><li>0</li><li>0</li><li>1</li><li>1</li><li>0</li><li>0</li><li>0</li><li>0</li><li>0</li><li>0</li><li>0</li><li>0</li><li>1</li><li>0</li><li>0</li><li>0</li><li>0</li><li>0</li><li>0</li><li>0</li><li>0</li><li>0</li><li>1</li><li>0</li><li>0</li><li>0</li><li>0</li><li>0</li><li>0</li><li>0</li><li>0</li><li>0</li><li>0</li><li>0</li><li>0</li><li>0</li><li>0</li><li>0</li><li>0</li><li>0</li><li>0</li><li>0</li><li>0</li><li>1</li><li>1</li><li>1</li><li>0</li><li>0</li><li>0</li><li>0</li><li>0</li><li>0</li><li>0</li><li>0</li><li>0</li><li>0</li><li>0</li><li>0</li><li>0</li><li>0</li><li>0</li><li>0</li><li>1</li><li>1</li><li>0</li><li>0</li><li>0</li><li>0</li><li>0</li><li>0</li><li>0</li><li>0</li><li>0</li><li>0</li><li>0</li><li>0</li><li>0</li><li>0</li><li>0</li><li>0</li><li>0</li><li>1</li><li>0</li><li>0</li><li>0</li><li>0</li><li>0</li><li>0</li><li>1</li><li>0</li><li>0</li><li>0</li><li>0</li><li>1</li><li>0</li><li>0</li><li>0</li><li>0</li><li>0</li><li>0</li><li>0</li><li>0</li><li>0</li><li>0</li><li>0</li><li>0</li><li>0</li><li>0</li><li>0</li><li>0</li><li>1</li><li>0</li><li>0</li><li>0</li><li>0</li><li>0</li><li>0</li><li>0</li><li>0</li><li>0</li><li>0</li><li>0</li><li>0</li><li>1</li><li>0</li><li>0</li><li>0</li><li>0</li><li>0</li><li>0</li><li>0</li><li>0</li><li>0</li><li>0</li><li>0</li><li>0</li><li>1</li><li>...</li><li>1</li><li>0</li><li>0</li><li>0</li><li>0</li><li>0</li><li>0</li><li>0</li><li>0</li><li>0</li><li>1</li><li>0</li><li>0</li><li>0</li><li>0</li><li>0</li><li>0</li><li>0</li><li>0</li><li>0</li><li>1</li><li>0</li><li>0</li><li>0</li><li>0</li><li>0</li><li>1</li><li>0</li><li>0</li><li>0</li><li>0</li><li>0</li><li>0</li><li>0</li><li>0</li><li>0</li><li>0</li><li>0</li><li>0</li><li>0</li><li>0</li><li>0</li><li>0</li><li>0</li><li>1</li><li>0</li><li>1</li><li>0</li><li>0</li><li>0</li><li>0</li><li>1</li><li>0</li><li>0</li><li>0</li><li>0</li><li>0</li><li>0</li><li>0</li><li>1</li><li>0</li><li>0</li><li>0</li><li>0</li><li>0</li><li>0</li><li>0</li><li>0</li><li>0</li><li>0</li><li>0</li><li>0</li><li>0</li><li>0</li><li>0</li><li>0</li><li>0</li><li>0</li><li>0</li><li>0</li><li>0</li><li>0</li><li>0</li><li>0</li><li>0</li><li>0</li><li>1</li><li>0</li><li>0</li><li>0</li><li>0</li><li>0</li><li>0</li><li>0</li><li>0</li><li>0</li><li>0</li><li>0</li><li>0</li><li>0</li><li>0</li><li>0</li><li>1</li><li>0</li><li>0</li><li>0</li><li>0</li><li>0</li><li>0</li><li>0</li><li>0</li><li>0</li><li>0</li><li>0</li><li>0</li><li>0</li><li>0</li><li>0</li><li>0</li><li>0</li><li>0</li><li>0</li><li>0</li><li>0</li><li>0</li><li>0</li><li>0</li><li>0</li><li>0</li><li>0</li><li>0</li><li>0</li><li>0</li><li>0</li><li>0</li><li>0</li><li>0</li><li>0</li><li>0</li><li>1</li><li>0</li><li>0</li><li>0</li><li>0</li><li>1</li><li>0</li><li>0</li><li>0</li><li>0</li><li>0</li><li>0</li><li>0</li><li>0</li><li>0</li><li>0</li><li>0</li><li>0</li><li>0</li><li>0</li><li>1</li><li>0</li><li>0</li><li>0</li><li>0</li><li>0</li><li>0</li><li>0</li><li>0</li><li>0</li><li>0</li><li>0</li><li>0</li><li>0</li><li>0</li><li>0</li><li>0</li><li>0</li><li>0</li><li>0</li><li>0</li><li>1</li><li>0</li><li>0</li><li>0</li><li>0</li><li>0</li><li>1</li><li>0</li><li>0</li><li>0</li><li>0</li><li>0</li><li>0</li><li>1</li><li>0</li><li>0</li><li>0</li><li>0</li><li>0</li><li>0</li></ol>\n"
      ],
      "text/latex": [
       "\\begin{enumerate*}\n",
       "\\item 0\n",
       "\\item 0\n",
       "\\item 0\n",
       "\\item 0\n",
       "\\item 0\n",
       "\\item 0\n",
       "\\item 0\n",
       "\\item 1\n",
       "\\item 0\n",
       "\\item 0\n",
       "\\item 0\n",
       "\\item 0\n",
       "\\item 0\n",
       "\\item 1\n",
       "\\item 0\n",
       "\\item 0\n",
       "\\item 0\n",
       "\\item 0\n",
       "\\item 0\n",
       "\\item 0\n",
       "\\item 0\n",
       "\\item 0\n",
       "\\item 0\n",
       "\\item 0\n",
       "\\item 0\n",
       "\\item 1\n",
       "\\item 0\n",
       "\\item 0\n",
       "\\item 1\n",
       "\\item 0\n",
       "\\item 1\n",
       "\\item 0\n",
       "\\item 0\n",
       "\\item 0\n",
       "\\item 0\n",
       "\\item 0\n",
       "\\item 0\n",
       "\\item 0\n",
       "\\item 1\n",
       "\\item 0\n",
       "\\item 0\n",
       "\\item 0\n",
       "\\item 0\n",
       "\\item 0\n",
       "\\item 0\n",
       "\\item 0\n",
       "\\item 0\n",
       "\\item 0\n",
       "\\item 1\n",
       "\\item 0\n",
       "\\item 0\n",
       "\\item 0\n",
       "\\item 0\n",
       "\\item 0\n",
       "\\item 0\n",
       "\\item 0\n",
       "\\item 0\n",
       "\\item 0\n",
       "\\item 0\n",
       "\\item 0\n",
       "\\item 0\n",
       "\\item 0\n",
       "\\item 1\n",
       "\\item 0\n",
       "\\item 0\n",
       "\\item 1\n",
       "\\item 1\n",
       "\\item 0\n",
       "\\item 0\n",
       "\\item 0\n",
       "\\item 0\n",
       "\\item 0\n",
       "\\item 0\n",
       "\\item 0\n",
       "\\item 0\n",
       "\\item 1\n",
       "\\item 0\n",
       "\\item 0\n",
       "\\item 0\n",
       "\\item 0\n",
       "\\item 0\n",
       "\\item 0\n",
       "\\item 0\n",
       "\\item 0\n",
       "\\item 0\n",
       "\\item 1\n",
       "\\item 0\n",
       "\\item 0\n",
       "\\item 0\n",
       "\\item 0\n",
       "\\item 0\n",
       "\\item 0\n",
       "\\item 0\n",
       "\\item 0\n",
       "\\item 0\n",
       "\\item 0\n",
       "\\item 0\n",
       "\\item 0\n",
       "\\item 0\n",
       "\\item 0\n",
       "\\item 0\n",
       "\\item 0\n",
       "\\item 0\n",
       "\\item 0\n",
       "\\item 0\n",
       "\\item 0\n",
       "\\item 1\n",
       "\\item 1\n",
       "\\item 1\n",
       "\\item 0\n",
       "\\item 0\n",
       "\\item 0\n",
       "\\item 0\n",
       "\\item 0\n",
       "\\item 0\n",
       "\\item 0\n",
       "\\item 0\n",
       "\\item 0\n",
       "\\item 0\n",
       "\\item 0\n",
       "\\item 0\n",
       "\\item 0\n",
       "\\item 0\n",
       "\\item 0\n",
       "\\item 0\n",
       "\\item 1\n",
       "\\item 1\n",
       "\\item 0\n",
       "\\item 0\n",
       "\\item 0\n",
       "\\item 0\n",
       "\\item 0\n",
       "\\item 0\n",
       "\\item 0\n",
       "\\item 0\n",
       "\\item 0\n",
       "\\item 0\n",
       "\\item 0\n",
       "\\item 0\n",
       "\\item 0\n",
       "\\item 0\n",
       "\\item 0\n",
       "\\item 0\n",
       "\\item 0\n",
       "\\item 1\n",
       "\\item 0\n",
       "\\item 0\n",
       "\\item 0\n",
       "\\item 0\n",
       "\\item 0\n",
       "\\item 0\n",
       "\\item 1\n",
       "\\item 0\n",
       "\\item 0\n",
       "\\item 0\n",
       "\\item 0\n",
       "\\item 1\n",
       "\\item 0\n",
       "\\item 0\n",
       "\\item 0\n",
       "\\item 0\n",
       "\\item 0\n",
       "\\item 0\n",
       "\\item 0\n",
       "\\item 0\n",
       "\\item 0\n",
       "\\item 0\n",
       "\\item 0\n",
       "\\item 0\n",
       "\\item 0\n",
       "\\item 0\n",
       "\\item 0\n",
       "\\item 0\n",
       "\\item 1\n",
       "\\item 0\n",
       "\\item 0\n",
       "\\item 0\n",
       "\\item 0\n",
       "\\item 0\n",
       "\\item 0\n",
       "\\item 0\n",
       "\\item 0\n",
       "\\item 0\n",
       "\\item 0\n",
       "\\item 0\n",
       "\\item 0\n",
       "\\item 1\n",
       "\\item 0\n",
       "\\item 0\n",
       "\\item 0\n",
       "\\item 0\n",
       "\\item 0\n",
       "\\item 0\n",
       "\\item 0\n",
       "\\item 0\n",
       "\\item 0\n",
       "\\item 0\n",
       "\\item 0\n",
       "\\item 0\n",
       "\\item 1\n",
       "\\item ...\n",
       "\\item 1\n",
       "\\item 0\n",
       "\\item 0\n",
       "\\item 0\n",
       "\\item 0\n",
       "\\item 0\n",
       "\\item 0\n",
       "\\item 0\n",
       "\\item 0\n",
       "\\item 0\n",
       "\\item 1\n",
       "\\item 0\n",
       "\\item 0\n",
       "\\item 0\n",
       "\\item 0\n",
       "\\item 0\n",
       "\\item 0\n",
       "\\item 0\n",
       "\\item 0\n",
       "\\item 0\n",
       "\\item 1\n",
       "\\item 0\n",
       "\\item 0\n",
       "\\item 0\n",
       "\\item 0\n",
       "\\item 0\n",
       "\\item 1\n",
       "\\item 0\n",
       "\\item 0\n",
       "\\item 0\n",
       "\\item 0\n",
       "\\item 0\n",
       "\\item 0\n",
       "\\item 0\n",
       "\\item 0\n",
       "\\item 0\n",
       "\\item 0\n",
       "\\item 0\n",
       "\\item 0\n",
       "\\item 0\n",
       "\\item 0\n",
       "\\item 0\n",
       "\\item 0\n",
       "\\item 0\n",
       "\\item 1\n",
       "\\item 0\n",
       "\\item 1\n",
       "\\item 0\n",
       "\\item 0\n",
       "\\item 0\n",
       "\\item 0\n",
       "\\item 1\n",
       "\\item 0\n",
       "\\item 0\n",
       "\\item 0\n",
       "\\item 0\n",
       "\\item 0\n",
       "\\item 0\n",
       "\\item 0\n",
       "\\item 1\n",
       "\\item 0\n",
       "\\item 0\n",
       "\\item 0\n",
       "\\item 0\n",
       "\\item 0\n",
       "\\item 0\n",
       "\\item 0\n",
       "\\item 0\n",
       "\\item 0\n",
       "\\item 0\n",
       "\\item 0\n",
       "\\item 0\n",
       "\\item 0\n",
       "\\item 0\n",
       "\\item 0\n",
       "\\item 0\n",
       "\\item 0\n",
       "\\item 0\n",
       "\\item 0\n",
       "\\item 0\n",
       "\\item 0\n",
       "\\item 0\n",
       "\\item 0\n",
       "\\item 0\n",
       "\\item 0\n",
       "\\item 0\n",
       "\\item 1\n",
       "\\item 0\n",
       "\\item 0\n",
       "\\item 0\n",
       "\\item 0\n",
       "\\item 0\n",
       "\\item 0\n",
       "\\item 0\n",
       "\\item 0\n",
       "\\item 0\n",
       "\\item 0\n",
       "\\item 0\n",
       "\\item 0\n",
       "\\item 0\n",
       "\\item 0\n",
       "\\item 0\n",
       "\\item 1\n",
       "\\item 0\n",
       "\\item 0\n",
       "\\item 0\n",
       "\\item 0\n",
       "\\item 0\n",
       "\\item 0\n",
       "\\item 0\n",
       "\\item 0\n",
       "\\item 0\n",
       "\\item 0\n",
       "\\item 0\n",
       "\\item 0\n",
       "\\item 0\n",
       "\\item 0\n",
       "\\item 0\n",
       "\\item 0\n",
       "\\item 0\n",
       "\\item 0\n",
       "\\item 0\n",
       "\\item 0\n",
       "\\item 0\n",
       "\\item 0\n",
       "\\item 0\n",
       "\\item 0\n",
       "\\item 0\n",
       "\\item 0\n",
       "\\item 0\n",
       "\\item 0\n",
       "\\item 0\n",
       "\\item 0\n",
       "\\item 0\n",
       "\\item 0\n",
       "\\item 0\n",
       "\\item 0\n",
       "\\item 0\n",
       "\\item 0\n",
       "\\item 1\n",
       "\\item 0\n",
       "\\item 0\n",
       "\\item 0\n",
       "\\item 0\n",
       "\\item 1\n",
       "\\item 0\n",
       "\\item 0\n",
       "\\item 0\n",
       "\\item 0\n",
       "\\item 0\n",
       "\\item 0\n",
       "\\item 0\n",
       "\\item 0\n",
       "\\item 0\n",
       "\\item 0\n",
       "\\item 0\n",
       "\\item 0\n",
       "\\item 0\n",
       "\\item 0\n",
       "\\item 1\n",
       "\\item 0\n",
       "\\item 0\n",
       "\\item 0\n",
       "\\item 0\n",
       "\\item 0\n",
       "\\item 0\n",
       "\\item 0\n",
       "\\item 0\n",
       "\\item 0\n",
       "\\item 0\n",
       "\\item 0\n",
       "\\item 0\n",
       "\\item 0\n",
       "\\item 0\n",
       "\\item 0\n",
       "\\item 0\n",
       "\\item 0\n",
       "\\item 0\n",
       "\\item 0\n",
       "\\item 0\n",
       "\\item 1\n",
       "\\item 0\n",
       "\\item 0\n",
       "\\item 0\n",
       "\\item 0\n",
       "\\item 0\n",
       "\\item 1\n",
       "\\item 0\n",
       "\\item 0\n",
       "\\item 0\n",
       "\\item 0\n",
       "\\item 0\n",
       "\\item 0\n",
       "\\item 1\n",
       "\\item 0\n",
       "\\item 0\n",
       "\\item 0\n",
       "\\item 0\n",
       "\\item 0\n",
       "\\item 0\n",
       "\\end{enumerate*}\n"
      ],
      "text/markdown": [
       "1. 0\n",
       "2. 0\n",
       "3. 0\n",
       "4. 0\n",
       "5. 0\n",
       "6. 0\n",
       "7. 0\n",
       "8. 1\n",
       "9. 0\n",
       "10. 0\n",
       "11. 0\n",
       "12. 0\n",
       "13. 0\n",
       "14. 1\n",
       "15. 0\n",
       "16. 0\n",
       "17. 0\n",
       "18. 0\n",
       "19. 0\n",
       "20. 0\n",
       "21. 0\n",
       "22. 0\n",
       "23. 0\n",
       "24. 0\n",
       "25. 0\n",
       "26. 1\n",
       "27. 0\n",
       "28. 0\n",
       "29. 1\n",
       "30. 0\n",
       "31. 1\n",
       "32. 0\n",
       "33. 0\n",
       "34. 0\n",
       "35. 0\n",
       "36. 0\n",
       "37. 0\n",
       "38. 0\n",
       "39. 1\n",
       "40. 0\n",
       "41. 0\n",
       "42. 0\n",
       "43. 0\n",
       "44. 0\n",
       "45. 0\n",
       "46. 0\n",
       "47. 0\n",
       "48. 0\n",
       "49. 1\n",
       "50. 0\n",
       "51. 0\n",
       "52. 0\n",
       "53. 0\n",
       "54. 0\n",
       "55. 0\n",
       "56. 0\n",
       "57. 0\n",
       "58. 0\n",
       "59. 0\n",
       "60. 0\n",
       "61. 0\n",
       "62. 0\n",
       "63. 1\n",
       "64. 0\n",
       "65. 0\n",
       "66. 1\n",
       "67. 1\n",
       "68. 0\n",
       "69. 0\n",
       "70. 0\n",
       "71. 0\n",
       "72. 0\n",
       "73. 0\n",
       "74. 0\n",
       "75. 0\n",
       "76. 1\n",
       "77. 0\n",
       "78. 0\n",
       "79. 0\n",
       "80. 0\n",
       "81. 0\n",
       "82. 0\n",
       "83. 0\n",
       "84. 0\n",
       "85. 0\n",
       "86. 1\n",
       "87. 0\n",
       "88. 0\n",
       "89. 0\n",
       "90. 0\n",
       "91. 0\n",
       "92. 0\n",
       "93. 0\n",
       "94. 0\n",
       "95. 0\n",
       "96. 0\n",
       "97. 0\n",
       "98. 0\n",
       "99. 0\n",
       "100. 0\n",
       "101. 0\n",
       "102. 0\n",
       "103. 0\n",
       "104. 0\n",
       "105. 0\n",
       "106. 0\n",
       "107. 1\n",
       "108. 1\n",
       "109. 1\n",
       "110. 0\n",
       "111. 0\n",
       "112. 0\n",
       "113. 0\n",
       "114. 0\n",
       "115. 0\n",
       "116. 0\n",
       "117. 0\n",
       "118. 0\n",
       "119. 0\n",
       "120. 0\n",
       "121. 0\n",
       "122. 0\n",
       "123. 0\n",
       "124. 0\n",
       "125. 0\n",
       "126. 1\n",
       "127. 1\n",
       "128. 0\n",
       "129. 0\n",
       "130. 0\n",
       "131. 0\n",
       "132. 0\n",
       "133. 0\n",
       "134. 0\n",
       "135. 0\n",
       "136. 0\n",
       "137. 0\n",
       "138. 0\n",
       "139. 0\n",
       "140. 0\n",
       "141. 0\n",
       "142. 0\n",
       "143. 0\n",
       "144. 0\n",
       "145. 1\n",
       "146. 0\n",
       "147. 0\n",
       "148. 0\n",
       "149. 0\n",
       "150. 0\n",
       "151. 0\n",
       "152. 1\n",
       "153. 0\n",
       "154. 0\n",
       "155. 0\n",
       "156. 0\n",
       "157. 1\n",
       "158. 0\n",
       "159. 0\n",
       "160. 0\n",
       "161. 0\n",
       "162. 0\n",
       "163. 0\n",
       "164. 0\n",
       "165. 0\n",
       "166. 0\n",
       "167. 0\n",
       "168. 0\n",
       "169. 0\n",
       "170. 0\n",
       "171. 0\n",
       "172. 0\n",
       "173. 0\n",
       "174. 1\n",
       "175. 0\n",
       "176. 0\n",
       "177. 0\n",
       "178. 0\n",
       "179. 0\n",
       "180. 0\n",
       "181. 0\n",
       "182. 0\n",
       "183. 0\n",
       "184. 0\n",
       "185. 0\n",
       "186. 0\n",
       "187. 1\n",
       "188. 0\n",
       "189. 0\n",
       "190. 0\n",
       "191. 0\n",
       "192. 0\n",
       "193. 0\n",
       "194. 0\n",
       "195. 0\n",
       "196. 0\n",
       "197. 0\n",
       "198. 0\n",
       "199. 0\n",
       "200. 1\n",
       "201. ...\n",
       "202. 1\n",
       "203. 0\n",
       "204. 0\n",
       "205. 0\n",
       "206. 0\n",
       "207. 0\n",
       "208. 0\n",
       "209. 0\n",
       "210. 0\n",
       "211. 0\n",
       "212. 1\n",
       "213. 0\n",
       "214. 0\n",
       "215. 0\n",
       "216. 0\n",
       "217. 0\n",
       "218. 0\n",
       "219. 0\n",
       "220. 0\n",
       "221. 0\n",
       "222. 1\n",
       "223. 0\n",
       "224. 0\n",
       "225. 0\n",
       "226. 0\n",
       "227. 0\n",
       "228. 1\n",
       "229. 0\n",
       "230. 0\n",
       "231. 0\n",
       "232. 0\n",
       "233. 0\n",
       "234. 0\n",
       "235. 0\n",
       "236. 0\n",
       "237. 0\n",
       "238. 0\n",
       "239. 0\n",
       "240. 0\n",
       "241. 0\n",
       "242. 0\n",
       "243. 0\n",
       "244. 0\n",
       "245. 0\n",
       "246. 1\n",
       "247. 0\n",
       "248. 1\n",
       "249. 0\n",
       "250. 0\n",
       "251. 0\n",
       "252. 0\n",
       "253. 1\n",
       "254. 0\n",
       "255. 0\n",
       "256. 0\n",
       "257. 0\n",
       "258. 0\n",
       "259. 0\n",
       "260. 0\n",
       "261. 1\n",
       "262. 0\n",
       "263. 0\n",
       "264. 0\n",
       "265. 0\n",
       "266. 0\n",
       "267. 0\n",
       "268. 0\n",
       "269. 0\n",
       "270. 0\n",
       "271. 0\n",
       "272. 0\n",
       "273. 0\n",
       "274. 0\n",
       "275. 0\n",
       "276. 0\n",
       "277. 0\n",
       "278. 0\n",
       "279. 0\n",
       "280. 0\n",
       "281. 0\n",
       "282. 0\n",
       "283. 0\n",
       "284. 0\n",
       "285. 0\n",
       "286. 0\n",
       "287. 0\n",
       "288. 1\n",
       "289. 0\n",
       "290. 0\n",
       "291. 0\n",
       "292. 0\n",
       "293. 0\n",
       "294. 0\n",
       "295. 0\n",
       "296. 0\n",
       "297. 0\n",
       "298. 0\n",
       "299. 0\n",
       "300. 0\n",
       "301. 0\n",
       "302. 0\n",
       "303. 0\n",
       "304. 1\n",
       "305. 0\n",
       "306. 0\n",
       "307. 0\n",
       "308. 0\n",
       "309. 0\n",
       "310. 0\n",
       "311. 0\n",
       "312. 0\n",
       "313. 0\n",
       "314. 0\n",
       "315. 0\n",
       "316. 0\n",
       "317. 0\n",
       "318. 0\n",
       "319. 0\n",
       "320. 0\n",
       "321. 0\n",
       "322. 0\n",
       "323. 0\n",
       "324. 0\n",
       "325. 0\n",
       "326. 0\n",
       "327. 0\n",
       "328. 0\n",
       "329. 0\n",
       "330. 0\n",
       "331. 0\n",
       "332. 0\n",
       "333. 0\n",
       "334. 0\n",
       "335. 0\n",
       "336. 0\n",
       "337. 0\n",
       "338. 0\n",
       "339. 0\n",
       "340. 0\n",
       "341. 1\n",
       "342. 0\n",
       "343. 0\n",
       "344. 0\n",
       "345. 0\n",
       "346. 1\n",
       "347. 0\n",
       "348. 0\n",
       "349. 0\n",
       "350. 0\n",
       "351. 0\n",
       "352. 0\n",
       "353. 0\n",
       "354. 0\n",
       "355. 0\n",
       "356. 0\n",
       "357. 0\n",
       "358. 0\n",
       "359. 0\n",
       "360. 0\n",
       "361. 1\n",
       "362. 0\n",
       "363. 0\n",
       "364. 0\n",
       "365. 0\n",
       "366. 0\n",
       "367. 0\n",
       "368. 0\n",
       "369. 0\n",
       "370. 0\n",
       "371. 0\n",
       "372. 0\n",
       "373. 0\n",
       "374. 0\n",
       "375. 0\n",
       "376. 0\n",
       "377. 0\n",
       "378. 0\n",
       "379. 0\n",
       "380. 0\n",
       "381. 0\n",
       "382. 1\n",
       "383. 0\n",
       "384. 0\n",
       "385. 0\n",
       "386. 0\n",
       "387. 0\n",
       "388. 1\n",
       "389. 0\n",
       "390. 0\n",
       "391. 0\n",
       "392. 0\n",
       "393. 0\n",
       "394. 0\n",
       "395. 1\n",
       "396. 0\n",
       "397. 0\n",
       "398. 0\n",
       "399. 0\n",
       "400. 0\n",
       "401. 0\n",
       "\n",
       "\n"
      ],
      "text/plain": [
       "    [1] 0 0 0 0 0 0 0 1 0 0 0 0 0 1 0 0 0 0 0 0 0 0 0 0 0 1 0 0 1 0 1 0 0 0 0 0\n",
       "   [37] 0 0 1 0 0 0 0 0 0 0 0 0 1 0 0 0 0 0 0 0 0 0 0 0 0 0 1 0 0 1 1 0 0 0 0 0\n",
       "   [73] 0 0 0 1 0 0 0 0 0 0 0 0 0 1 0 0 0 0 0 0 0 0 0 0 0 0 0 0 0 0 0 0 0 0 1 1\n",
       "  [109] 1 0 0 0 0 0 0 0 0 0 0 0 0 0 0 0 0 1 1 0 0 0 0 0 0 0 0 0 0 0 0 0 0 0 0 0\n",
       "  [145] 1 0 0 0 0 0 0 1 0 0 0 0 1 0 0 0 0 0 0 0 0 0 0 0 0 0 0 0 0 1 0 0 0 0 0 0\n",
       "  [181] 0 0 0 0 0 0 1 0 0 0 0 0 0 0 0 0 0 0 0 1 0 0 0 0 0 0 0 0 0 0 0 0 0 0 0 0\n",
       "  [217] 0 0 0 0 0 0 0 0 0 0 0 0 0 0 0 0 0 0 0 0 0 1 0 1 0 0 0 0 0 0 0 0 0 0 0 0\n",
       "  [253] 1 1 1 0 0 0 0 0 0 0 0 0 1 0 0 0 0 0 0 0 0 0 0 0 0 0 0 0 0 0 0 0 0 0 0 1\n",
       "  [289] 0 0 0 0 0 0 0 0 0 0 0 0 0 0 0 0 1 0 0 0 0 0 0 0 0 0 0 0 1 0 0 0 0 0 0 0\n",
       "  [325] 0 0 0 1 0 0 0 0 0 0 1 0 0 0 0 0 0 0 0 0 0 0 0 0 0 1 0 0 0 0 0 0 0 0 0 0\n",
       "  [361] 0 0 0 0 0 0 0 0 0 0 0 0 0 0 0 0 0 1 0 0 0 0 0 0 0 0 0 0 0 0 0 0 0 0 0 1\n",
       "  [397] 0 0 0 0 0 0 0 0 0 0 0 0 0 0 0 0 1 0 1 0 0 0 0 0 0 0 0 0 0 0 0 1 0 0 0 0\n",
       "  [433] 0 0 0 0 0 0 0 0 0 0 0 0 1 0 0 1 0 0 1 0 0 0 1 0 0 0 0 0 0 0 0 0 0 0 0 0\n",
       "  [469] 0 0 0 0 0 0 0 0 0 0 0 0 1 0 0 0 0 0 0 0 0 0 0 0 0 0 0 1 0 0 0 0 0 0 0 0\n",
       "  [505] 0 0 0 0 0 0 0 0 0 0 0 0 0 0 0 0 0 0 1 0 0 0 0 0 0 0 1 0 0 0 0 0 0 0 0 0\n",
       "  [541] 0 0 0 0 0 0 0 0 0 0 0 0 0 0 0 0 0 0 0 0 0 0 0 0 0 0 0 0 0 1 0 0 0 0 0 0\n",
       "  [577] 0 0 0 0 0 0 0 0 1 0 0 0 0 0 0 1 0 1 0 0 0 0 0 0 1 0 0 0 0 0 0 0 0 0 0 0\n",
       "  [613] 0 0 0 0 0 1 0 0 1 0 0 0 0 0 0 0 0 0 0 0 0 0 0 0 0 0 0 0 0 0 0 0 0 0 0 0\n",
       "  [649] 1 0 0 0 0 0 0 0 0 0 0 0 0 0 0 0 0 0 0 0 0 0 0 0 1 0 1 0 0 1 0 0 0 0 0 0\n",
       "  [685] 0 0 0 0 0 0 0 0 0 0 0 0 0 0 0 0 0 0 0 0 0 0 0 0 1 0 0 0 0 0 0 0 0 0 0 0\n",
       "  [721] 0 0 0 0 0 0 0 0 0 1 0 0 1 0 0 1 0 1 0 0 0 0 1 0 0 0 0 0 0 0 0 1 0 0 0 0\n",
       "  [757] 1 0 0 0 0 0 0 0 0 0 0 0 0 0 0 0 0 0 0 0 0 1 0 0 1 0 0 0 0 0 0 0 0 0 0 0\n",
       "  [793] 0 0 0 0 0 0 1 1 0 0 0 0 0 0 0 0 0 0 0 1 0 1 0 0 0 0 0 0 0 0 0 0 0 1 1 0\n",
       "  [829] 0 0 1 0 0 0 0 0 0 0 0 0 0 1 0 0 0 0 0 0 0 0 0 0 0 0 0 0 0 0 0 0 0 0 0 0\n",
       "  [865] 0 0 0 0 1 0 0 0 0 1 0 0 0 0 0 0 0 0 0 0 0 0 0 0 0 0 0 0 0 0 1 0 0 1 0 0\n",
       "  [901] 0 0 0 0 0 0 0 0 0 0 0 0 0 0 1 0 0 0 1 0 0 0 0 0 0 0 0 0 0 0 0 0 0 0 0 0\n",
       "  [937] 0 0 0 1 0 0 0 0 0 0 0 0 0 0 0 0 0 0 1 0 0 0 0 0 0 0 0 0 0 0 0 1 1 0 0 0\n",
       "  [973] 0 0 1 0 0 0 0 0 0 0 0 0 0 0 0 0 0 0 0 0 0 0 0 1 0 0 0 0 0 0 0 1 0 0 0 0\n",
       " [1009] 0 0 1 0 0 1 0 0 0 0 0 0 0 0 0 0 1 0 0 0 0 0 0 0 0 0 0 0 0 0 0 0 0 0 1 0\n",
       " [1045] 0 0 0 0 0 1 0 0 0 0 0 1 0 0 0 0 0 0 0 0 0 0 0 1 0 0 0 0 0 0 0 0 0 0 0 1\n",
       " [1081] 0 0 0 0 1 0 0 0 0 0 0 0 0 1 1 0 0 0 0 0 0 0 0 1 0 1 0 0 0 0 0 0 0 1 0 0\n",
       " [1117] 1 0 0 0 0 0 0 0 0 0 0 0 0 0 0 0 0 0 0 0 0 0 0 0 0 0 0 0 0 0 0 0 0 0 0 1\n",
       " [1153] 0 1 0 0 0 0 0 0 0 0 0 0 0 0 0 0 0 0 0 0 0 0 0 0 0 0 0 0 1 0 0 0 0 0 0 0\n",
       " [1189] 0 0 0 0 0 0 0 0 0 0 0 0 0 0 0 0 0 0 0 0 0 0 1 1 0 1 0 0 0 0 0 1 0 0 0 0\n",
       " [1225] 0 0 0 0 0 0 0 0 0 0 0 0 0 0 0 0 0 0 0 0 0 0 0 0 0 1 0 0 0 0 0 0 0 0 0 0\n",
       " [1261] 0 1 0 1 0 0 0 0 0 0 0 0 1 0 0 0 0 0 0 0 0 0 0 0 0 0 0 0 0 0 0 0 0 0 0 0\n",
       " [1297] 0 0 1 1 0 0 0 0 0 0 0 0 1 0 0 1 1 0 0 0 0 0 1 0 0 0 0 0 1 0 0 0 0 0 0 0\n",
       " [1333] 0 0 0 0 1 0 0 0 0 0 0 0 0 0 0 0 0 1 0 0 0 0 1 0 0 0 0 0 0 1 0 0 0 0 0 1\n",
       " [1369] 0 0 0 0 0 0 0 0 1 0 0 0 0 0 0 0 0 0 0 0 0 0 0 0 0 0 0 0 0 0 0 0 0 0 0 0\n",
       " [1405] 0 0 0 0 0 1 0 0 0 1 0 0 0 1 0 0 0 0 0 0 0 0 1 0 0 0 0 0 0 0 1 0 0 0 0 0\n",
       " [1441] 0 0 0 0 0 0 0 0 0 0 0 0 0 0 0 0 0 0 0 0 0 0 0 0 0 1 0 0 0 0 1 0 0 0 0 0\n",
       " [1477] 0 0 0 0 0 0 0 0 0 0 0 0 0 0 0 0 1 1 0 0 0 0 0 0 0 0 0 0 0 0 0 0 1 0 0 1\n",
       " [1513] 0 0 0 0 0 0 0 0 0 0 0 0 0 0 0 0 1 0 1 0 1 0 0 1 0 0 0 0 0 0 0 0 0 0 0 0\n",
       " [1549] 0 1 1 0 0 0 0 0 0 0 1 0 0 1 0 0 1 0 0 0 0 0 0 0 0 0 0 0 0 0 0 0 0 0 0 0\n",
       " [1585] 0 0 0 1 0 0 0 0 0 0 0 0 0 0 0 0 0 0 0 0 0 0 0 0 0 0 0 0 0 0 1 0 0 1 0 0\n",
       " [1621] 0 0 0 1 0 0 0 0 0 0 0 0 0 0 0 0 0 0 0 0 0 0 0 0 0 0 0 0 1 0 0 0 0 0 0 1\n",
       " [1657] 0 0 1 0 0 0 0 0 0 0 0 1 0 0 0 1 0 0 0 0 0 1 1 1 0 0 1 0 0 0 0 0 0 0 0 0\n",
       " [1693] 1 0 0 0 0 0 0 0 0 0 0 0 0 0 0 0 0 0 0 0 0 0 0 0 0 0 1 1 0 0 0 0 0 0 0 0\n",
       " [1729] 0 0 1 0 0 0 0 0 0 0 0 0 0 0 0 1 0 0 0 0 0 0 0 0 0 0 0 0 0 0 0 0 0 1 0 0\n",
       " [1765] 1 0 0 0 0 0 0 0 0 0 0 0 0 0 0 0 0 1 1 0 0 0 0 0 0 0 0 0 0 0 0 0 0 0 0 0\n",
       " [1801] 0 0 0 0 1 0 0 0 0 0 0 0 0 0 0 1 0 0 0 0 0 0 0 0 0 0 0 0 0 0 0 0 0 0 0 0\n",
       " [1837] 0 0 0 0 0 0 0 0 0 0 0 0 0 0 0 0 0 0 0 0 1 0 0 0 0 0 1 1 0 0 0 0 0 0 0 0\n",
       " [1873] 0 0 0 0 0 0 1 0 0 0 0 1 0 0 0 0 0 0 0 0 0 0 1 0 0 1 0 1 0 0 0 1 0 0 0 0\n",
       " [1909] 1 0 0 0 0 0 0 0 1 0 0 0 0 0 0 0 0 0 0 0 0 0 0 0 0 0 1 0 1 0 0 0 0 0 0 0\n",
       " [1945] 0 0 0 0 0 0 1 0 0 0 0 1 0 0 0 0 0 0 0 0 0 0 0 0 0 0 0 0 0 1 0 0 0 0 0 0\n",
       " [1981] 0 0 0 0 0 0 0 1 0 0 0 0 0 0 0 0 0 0 0 0 0 0 0 0 0 0 0 0 0 0 0 0 0 0 0 0\n",
       " [2017] 0 0 0 0 0 0 0 0 0 0 0 0 0 0 0 0 0 0 0 0 0 0 0 0 0 0 0 0 0 0 0 1 0 0 0 0\n",
       " [2053] 0 0 0 0 1 0 0 1 0 0 0 1 0 0 0 0 0 0 0 0 0 0 0 0 0 0 0 0 0 0 0 0 0 0 0 1\n",
       " [2089] 0 0 0 0 0 0 0 0 0 0 0 0 0 0 0 0 0 0 0 0 0 0 1 0 0 0 1 0 0 0 0 0 0 0 0 0\n",
       " [2125] 0 0 0 0 0 0 0 1 0 0 0 0 0 0 0 0 0 0 0 0 0 0 0 0 0 0 0 0 0 0 0 0 0 0 0 0\n",
       " [2161] 0 0 0 0 0 0 0 0 0 0 0 0 0 1 0 0 0 0 0 0 0 0 0 0 0 0 0 0 0 0 0 0 0 0 0 0\n",
       " [2197] 0 0 0 0 0 0 0 0 0 0 0 0 0 0 0 0 0 0 0 0 0 0 0 0 0 1 0 0 0 0 0 0 0 0 0 0\n",
       " [2233] 0 0 0 0 0 0 0 0 0 1 0 0 0 0 0 0 0 0 0 1 0 0 0 0 0 0 0 0 0 0 0 0 0 0 0 0\n",
       " [2269] 0 0 0 0 1 0 0 0 0 0 0 0 0 0 0 0 0 0 0 0 0 0 0 0 0 0 0 0 0 0 0 0 0 0 0 0\n",
       " [2305] 0 0 1 0 0 0 0 0 0 0 0 0 0 0 0 0 0 0 0 0 0 0 0 0 0 0 0 1 0 0 0 1 0 0 0 0\n",
       " [2341] 0 0 0 0 1 0 0 0 0 0 0 0 0 0 0 0 0 0 0 0 0 0 0 0 0 0 0 0 0 0 0 0 1 0 0 0\n",
       " [2377] 0 0 0 0 0 0 0 0 0 0 0 0 0 0 0 0 0 0 0 0 0 0 0 0 0 0 0 0 0 0 0 0 0 0 0 0\n",
       " [2413] 0 0 0 0 0 0 0 0 0 0 1 0 0 0 0 0 0 1 0 0 0 0 0 0 0 0 0 0 0 0 0 0 0 0 1 0\n",
       " [2449] 0 0 0 0 0 0 0 0 0 0 0 0 0 0 0 0 1 0 0 0 1 0 0 0 0 0 0 0 0 1 0 0 0 0 0 0\n",
       " [2485] 1 0 0 0 0 1 0 0 0 0 0 0 0 0 0 1 0 0 0 0 0 0 0 0 0 0 0 0 0 0 0 0 0 0 0 0\n",
       " [2521] 0 0 0 0 0 0 1 0 0 0 0 0 0 1 0 0 0 0 0 0 1 1 0 0 0 0 0 0 0 0 0 1 0 0 0 0\n",
       " [2557] 0 1 0 0 1 0 0 0 0 0 0 0 0 0 0 0 0 1 0 0 0 0 0 0 0 0 0 0 0 0 0 0 0 0 0 1\n",
       " [2593] 0 0 0 0 0 0 0 0 0 0 0 0 0 0 0 0 0 0 0 0 0 0 0 0 0 0 0 0 0 0 0 0 0 0 0 0\n",
       " [2629] 0 0 0 0 0 0 0 0 0 0 0 0 0 0 0 0 0 0 0 0 0 0 0 0 0 0 0 0 0 1 0 0 0 0 0 0\n",
       " [2665] 0 0 0 0 0 0 0 0 0 1 0 0 0 0 0 0 0 0 0 0 1 1 0 0 0 0 0 0 0 0 0 0 1 1 0 0\n",
       " [2701] 1 0 0 0 0 0 1 0 0 0 1 0 0 0 0 0 1 0 0 1 0 0 0 0 0 0 0 0 0 0 0 0 0 0 0 0\n",
       " [2737] 1 0 0 0 0 0 0 0 0 0 0 0 0 0 0 0 0 0 0 0 0 1 0 0 0 0 0 0 0 0 0 0 0 0 0 0\n",
       " [2773] 0 0 0 0 1 0 0 0 0 0 1 0 0 0 0 0 0 0 0 1 0 0 1 0 0 0 0 0 0 0 0 0 0 0 0 0\n",
       " [2809] 1 0 0 0 0 0 0 0 0 0 0 0 0 0 0 0 0 0 1 0 0 0 0 0 0 1 0 0 0 0 0 0 0 0 0 0\n",
       " [2845] 0 0 0 0 0 0 0 0 0 0 0 0 0 0 0 0 0 0 0 0 0 0 1 0 0 0 0 0 0 0 0 0 0 1 0 0\n",
       " [2881] 1 0 1 0 1 0 0 0 0 0 0 0 0 0 1 0 0 0 1 0 0 0 0 0 0 0 0 0 0 0 0 1 0 0 0 0\n",
       " [2917] 1 0 0 0 0 1 0 0 0 0 0 0 0 0 0 0 0 0 0 0 1 0 0 0 0 0 0 0 0 0 0 0 0 0 0 0\n",
       " [2953] 0 0 0 0 1 0 0 0 0 0 0 0 0 1 0 0 0 0 0 0 0 0 0 0 0 0 0 0 0 0 0 0 0 0 0 0\n",
       " [2989] 0 0 0 0 0 0 0 1 0 0 0 0 0 0 0 1 0 0 0 0 0 0 0 0 0 0 0 0 0 1 0 0 0 0 0 0\n",
       " [3025] 0 0 1 0 0 0 0 0 0 0 0 0 0 0 0 0 0 0 0 0 0 0 0 0 0 0 0 0 0 0 1 0 0 0 0 0\n",
       " [3061] 0 0 0 1 0 0 1 0 0 0 0 0 0 0 0 0 0 0 0 0 0 0 1 0 0 1 0 1 0 0 0 1 0 1 0 0\n",
       " [3097] 0 0 0 0 0 0 1 0 0 0 0 0 0 0 0 0 0 0 0 0 0 0 0 0 0 0 0 0 0 0 0 0 0 0 0 0\n",
       " [3133] 0 0 1 0 0 0 0 0 0 0 0 0 0 0 0 0 0 0 0 1 0 0 0 0 0 0 0 0 0 0 0 1 0 1 0 0\n",
       " [3169] 0 0 0 0 0 0 0 0 0 0 0 0 0 1 0 0 0 0 0 0 0 0 0 0 0 0 0 0 0 0 0 0 0 0 0 0\n",
       " [3205] 0 0 0 1 0 0 0 0 0 0 0 0 0 0 0 0 0 0 0 1 0 0 0 1 0 0 0 0 0 0 1 0 0 0 1 0\n",
       " [3241] 0 0 0 0 1 0 0 0 0 0 0 1 0 0 0 0 0 0 0 0 0 1 0 0 0 0 0 0 0 0 0 0 0 0 0 0\n",
       " [3277] 0 0 0 0 0 0 0 0 0 0 0 0 0 0 0 0 0 0 0 0 0 0 0 0 0 0 0 0 0 0 0 0 1 0 1 1\n",
       " [3313] 0 0 0 0 0 0 0 0 0 0 0 0 0 0 0 0 0 0 0 0 0 0 0 0 0 0 0 0 0 0 0 0 0 0 0 0\n",
       " [3349] 0 0 0 0 0 0 0 0 0 0 0 1 0 0 0 0 0 0 0 0 0 0 0 0 0 0 0 0 0 0 0 0 0 0 0 0\n",
       " [3385] 0 0 0 0 0 0 1 1 0 0 0 0 0 0 0 0 0 0 0 0 0 0 0 1 0 0 0 0 0 0 0 1 0 0 0 0\n",
       " [3421] 0 1 0 0 0 0 0 0 0 0 0 0 0 0 0 0 0 0 0 0 0 0 0 0 0 0 0 0 0 0 0 0 0 0 0 0\n",
       " [3457] 0 0 0 0 1 0 0 0 1 0 0 0 0 0 0 1 1 0 0 0 0 0 0 0 0 0 0 0 0 0 0 0 0 0 0 0\n",
       " [3493] 0 0 0 0 0 1 0 0 0 0 0 0 0 0 0 0 0 0 0 0 0 0 0 0 0 0 0 0 1 0 0 0 0 0 0 0\n",
       " [3529] 0 1 1 0 0 0 0 0 0 0 0 0 0 0 0 1 0 0 0 0 0 0 0 0 0 0 0 0 0 0 0 0 1 1 0 0\n",
       " [3565] 0 0 0 0 0 0 0 0 0 0 0 0 0 0 0 0 1 0 0 0 0 0 0 0 0 0 0 0 0 0 0 0 0 0 0 1\n",
       " [3601] 0 0 0 0 0 0 0 0 0 0 0 0 0 0 0 0 0 0 0 0 0 0 0 0 0 0 0 0 0 0 0 0 0 0 0 0\n",
       " [3637] 0 0 0 0 0 0 0 0 0 0 0 0 0 0 0 0 0 0 0 0 0 0 0 1 0 0 0 1 0 1 0 0 0 0 0 1\n",
       " [3673] 0 0 0 0 0 0 0 0 0 0 0 0 0 0 0 0 0 0 0 1 0 0 0 0 0 0 1 0 1 0 1 0 0 0 0 1\n",
       " [3709] 0 0 1 0 0 0 0 0 0 0 0 0 0 0 0 0 1 1 0 0 0 0 0 0 0 0 0 1 0 0 0 0 0 0 0 0\n",
       " [3745] 0 1 0 0 0 0 0 0 0 0 0 0 0 0 0 0 0 0 0 0 0 0 0 0 0 0 0 0 0 0 0 0 0 0 0 0\n",
       " [3781] 0 0 0 0 0 0 0 0 1 0 0 0 1 0 0 1 0 0 0 0 0 1 0 0 0 0 0 0 0 0 0 0 1 0 0 0\n",
       " [3817] 0 1 0 0 0 0 1 0 0 0 0 0 0 0 1 0 0 1 0 0 0 0 0 0 0 0 0 1 0 0 0 0 0 0 0 0\n",
       " [3853] 0 0 0 0 0 0 0 0 0 0 0 0 0 0 0 0 0 0 0 0 0 0 0 0 0 0 0 0 0 0 0 0 0 0 0 0\n",
       " [3889] 0 0 1 0 0 0 0 0 1 0 0 1 0 1 0 1 0 0 0 0 1 0 0 0 0 0 1 0 0 0 0 0 0 0 0 0\n",
       " [3925] 0 0 0 0 0 1 0 0 0 0 0 0 0 0 1 0 0 0 0 0 0 0 0 1 0 0 0 0 0 0 0 0 0 0 0 0\n",
       " [3961] 0 0 0 0 0 0 0 0 0 0 0 0 0 1 0 0 0 0 0 0 0 0 0 1 0 0 0 0 0 0 0 0 0 0 0 0\n",
       " [3997] 0 0 0 0 0 0 1 0 0 0 0 0 0 0 0 0 0 0 0 0 0 1 0 0 0 0 0 1 0 0 0 0 0 0 0 0\n",
       " [4033] 0 0 0 0 1 0 0 0 0 0 0 0 0 0 0 0 0 0 0 0 0 0 0 0 0 1 0 0 0 0 1 0 0 0 0 0\n",
       " [4069] 0 0 0 0 0 0 0 0 0 0 0 0 1 0 0 0 0 0 1 0 0 0 0 0 0 0 0 1 0 0 0 0 0 0 0 0\n",
       " [4105] 0 0 0 0 0 0 1 0 0 0 0 1 0 1 0 0 0 0 0 0 0 0 0 0 0 0 0 0 0 0 0 0 0 0 0 0\n",
       " [4141] 0 0 1 0 0 1 0 0 0 0 0 0 1 0 0 0 0 0 0 0 0 0 0 0 0 0 0 0 0 0 0 0 1 0 0 0\n",
       " [4177] 0 0 0 0 0 0 0 1 0 0 0 0 0 0 0 0 0 0 0 0 0 0 0 0 0 0 1 0 0 0 0 0 0 0 0 0\n",
       " [4213] 0 0 0 0 0 1 0 0 0 0 0 0 0 0 0 0 1 0 0 0 0 0 0 0 0 0 0 0 0 0 0 0 1 0 0 0\n",
       " [4249] 0 0 0 0 1 0 0 0 1 0 1 0 0 0 0 0 0 0 0 0 0 0 0 0 0 0 0 0 0 0 0 0 0 0 0 0\n",
       " [4285] 0 0 0 0 1 0 0 1 0 0 0 0 0 0 0 0 0 0 0 0 0 0 0 0 0 0 0 1 0 0 0 1 0 0 0 0\n",
       " [4321] 0 0 0 0 0 0 0 0 0 0 0 0 0 1 0 0 1 0 0 0 0 0 0 0 0 0 1 0 0 0 0 0 0 0 0 0\n",
       " [4357] 0 0 0 0 1 0 0 1 0 0 0 0 0 0 1 0 0 0 0 0 0 0 0 0 1 0 0 0 0 0 0 0 0 0 0 1\n",
       " [4393] 0 0 0 0 1 0 0 0 0 1 0 1 0 0 0 0 0 0 0 0 0 1 0 0 0 0 1 0 0 0 0 0 0 0 1 0\n",
       " [4429] 0 0 0 0 0 0 0 0 0 0 0 0 0 0 0 1 0 0 0 0 0 0 0 0 0 0 0 0 1 0 0 0 0 0 0 0\n",
       " [4465] 0 0 0 0 0 0 0 0 0 0 0 0 0 0 0 0 0 0 0 0 0 0 0 0 0 0 0 0 0 0 0 1 0 0 0 0\n",
       " [4501] 0 0 0 0 1 0 0 0 1 0 0 0 0 0 0 0 0 0 0 0 0 0 0 0 0 0 0 0 0 0 0 0 0 0 0 0\n",
       " [4537] 0 0 0 0 0 0 0 0 1 1 0 0 1 0 0 0 1 0 0 0 0 1 0 1 0 0 0 0 0 0 0 0 0 0 0 0\n",
       " [4573] 0 0 1 0 0 0 0 0 1 0 0 0 0 0 0 0 0 0 0 0 0 1 0 0 0 0 0 0 0 0 0 0 0 0 0 0\n",
       " [4609] 0 1 0 0 0 0 0 0 0 0 0 0 0 0 0 0 0 0 0 0 0 1 0 0 0 0 0 0 0 1 0 0 0 0 1 0\n",
       " [4645] 0 0 0 0 0 0 0 0 0 0 0 0 0 0 0 1 0 0 0 0 0 0 1 0 0 0 0 0 0 0 0 0 0 1 0 0\n",
       " [4681] 0 0 0 0 0 0 0 0 1 0 0 0 1 0 0 0 0 1 0 0 0 0 1 0 1 0 0 1 0 0 0 0 0 0 0 0\n",
       " [4717] 0 0 0 0 0 0 0 0 0 0 0 0 0 0 0 0 0 1 0 0 0 0 0 0 0 0 0 0 0 0 0 0 0 0 0 1\n",
       " [4753] 0 1 0 0 0 0 0 0 0 0 0 0 0 0 0 0 0 0 0 0 0 0 1 1 0 0 1 0 0 0 0 1 0 0 0 0\n",
       " [4789] 0 0 0 0 0 0 1 0 0 0 0 1 0 0 0 0 0 0 0 0 0 0 0 0 0 0 0 0 0 0 0 0 0 0 1 0\n",
       " [4825] 0 0 0 0 0 0 0 0 0 0 0 0 0 0 0 0 0 0 0 0 0 0 0 1 0 0 0 0 0 0 0 0 0 1 0 0\n",
       " [4861] 0 0 0 0 0 0 0 1 0 0 0 0 0 0 0 0 0 0 0 0 0 0 0 0 1 0 0 0 0 0 0 0 0 0 0 0\n",
       " [4897] 0 0 0 0 0 0 0 0 0 0 0 0 0 0 0 0 0 0 0 0 0 0 0 0 0 0 0 0 0 0 0 0 0 0 0 0\n",
       " [4933] 0 0 0 0 0 0 0 0 1 0 0 0 0 0 0 0 0 0 0 0 0 1 0 0 0 0 0 0 0 0 0 0 0 0 0 1\n",
       " [4969] 0 0 0 0 0 0 0 0 0 0 0 0 0 0 0 0 0 0 0 0 0 0 0 0 0 0 0 0 0 0 0 0 0 0 0 0\n",
       " [5005] 0 0 0 0 0 0 0 0 0 0 0 0 0 0 0 0 1 0 0 0 0 0 0 0 0 0 0 0 0 0 1 0 0 0 0 0\n",
       " [5041] 1 0 0 0 0 0 0 0 0 0 0 0 0 0 0 0 0 1 0 0 0 0 0 0 0 0 0 0 0 0 0 0 0 1 0 0\n",
       " [5077] 0 0 0 1 0 0 0 0 0 0 0 0 0 0 0 0 0 0 0 0 0 0 0 0 0 0 0 0 0 0 0 0 0 0 0 1\n",
       " [5113] 0 0 0 0 0 0 1 0 0 0 1 0 0 0 0 0 0 0 0 0 0 0 0 0 0 0 0 0 1 1 0 0 0 0 0 0\n",
       " [5149] 0 0 0 0 0 0 0 0 0 0 0 0 0 0 0 0 0 0 0 0 0 0 0 0 0 0 1 0 0 0 0 0 0 0 0 0\n",
       " [5185] 0 0 1 0 0 0 0 0 0 0 1 0 0 0 0 0 0 0 0 0 0 0 0 0 0 0 0 0 0 0 0 0 0 0 0 0\n",
       " [5221] 0 0 0 0 1 0 0 0 0 0 0 0 1 1 0 0 0 0 0 0 0 0 0 0 0 0 0 0 0 0 0 0 0 0 0 0\n",
       " [5257] 0 0 0 0 1 0 0 0 1 0 0 0 0 0 0 0 0 1 0 0 0 0 0 0 0 0 0 0 0 0 0 0 0 0 0 0\n",
       " [5293] 0 1 0 0 0 0 0 0 0 0 0 0 0 0 0 0 0 0 0 0 0 0 0 0 0 0 0 0 1 0 0 0 0 0 0 0\n",
       " [5329] 0 0 0 0 0 0 0 0 0 0 0 1 0 0 0 0 0 0 0 0 0 0 0 0 0 0 0 0 0 0 0 0 0 0 0 0\n",
       " [5365] 0 0 0 0 0 0 0 0 0 0 0 0 0 1 0 0 0 1 0 0 0 0 0 0 0 0 0 0 0 0 0 0 0 0 0 0\n",
       " [5401] 0 0 1 0 0 0 0 0 0 0 0 0 0 0 0 0 0 0 1 0 0 1 0 0 0 0 0 0 0 0 0 0 0 1 0 0\n",
       " [5437] 0 0 0 0 0 0 0 0 0 0 1 0 0 0 0 0 0 0 0 0 0 0 0 0 0 1 0 0 0 0 0 0 0 0 0 1\n",
       " [5473] 1 0 0 0 0 0 0 0 0 0 0 0 0 0 0 0 0 0 0 1 0 0 0 0 0 0 0 1 0 0 0 0 0 0 0 0\n",
       " [5509] 0 0 0 0 0 0 0 0 0 0 0 0 0 0 0 0 0 0 0 0 1 0 1 0 0 0 0 0 0 0 0 0 0 0 0 0\n",
       " [5545] 0 0 0 0 0 0 1 0 0 0 0 0 0 0 0 0 0 0 1 0 0 0 0 0 0 0 0 0 1 0 0 0 0 0 0 0\n",
       " [5581] 1 0 0 0 0 0 0 0 0 0 0 0 0 0 0 0 0 0 0 0 0 0 0 0 0 1 0 0 0 0 0 0 0 0 0 0\n",
       " [5617] 0 0 0 0 0 0 1 1 0 0 0 0 0 0 0 0 0 0 0 0 1 0 0 0 0 0 0 0 0 0 1 0 0 0 0 0\n",
       " [5653] 0 0 0 0 0 0 0 0 0 1 0 0 0 0 0 0 0 0 0 0 1 0 0 0 0 0 0 0 0 0 0 0 0 0 0 0\n",
       " [5689] 0 0 1 0 0 0 0 0 0 0 0 1 0 0 0 0 0 0 0 0 0 0 0 0 0 0 0 1 0 0 0 0 0 0 0 0\n",
       " [5725] 0 0 0 0 0 0 0 0 0 0 1 0 0 0 0 0 0 0 0 0 0 0 0 0 0 0 0 0 0 1 0 0 0 0 0 0\n",
       " [5761] 0 1 0 0 0 0 0 0 0 0 0 0 0 0 0 0 0 0 0 0 0 0 0 1 0 0 0 0 0 0 0 0 0 0 1 0\n",
       " [5797] 0 0 0 0 0 0 1 0 0 0 0 0 0 0 1 0 0 0 0 0 0 0 0 0 1 0 0 0 0 0 0 1 0 0 0 0\n",
       " [5833] 0 0 0 0 0 1 0 0 0 0 0 0 1 0 0 0 1 0 0 0 0 0 0 0 0 1 0 1 0 1 0 0 0 0 0 0\n",
       " [5869] 0 0 0 0 0 0 0 1 0 0 0 0 0 0 0 0 0 0 0 0 0 1 0 1 0 0 0 0 0 0 0 0 0 0 0 0\n",
       " [5905] 0 0 0 0 0 0 0 0 0 0 0 0 0 1 0 0 0 0 0 0 0 0 0 0 0 0 0 0 0 1 0 0 0 0 0 0\n",
       " [5941] 0 0 0 0 0 0 0 0 0 0 0 0 0 0 0 0 0 0 0 0 0 0 0 0 0 0 0 0 1 0 0 0 0 0 0 0\n",
       " [5977] 0 0 0 0 1 0 0 0 0 0 0 0 0 0 0 0 0 1 0 1 0 0 0 0 0 0 0 1 0 0 0 0 0 0 0 0\n",
       " [6013] 0 0 0 0 0 0 0 1 0 0 1 0 0 0 0 0 0 0 0 0 0 0 0 0 0 1 1 0 0 0 0 0 0 0 0 0\n",
       " [6049] 0 0 0 1 0 0 0 0 1 0 0 0 1 0 0 0 0 0 0 0 0 0 0 0 0 0 0 0 0 0 0 0 0 0 0 0\n",
       " [6085] 0 0 0 0 0 0 0 1 0 0 0 0 0 0 0 0 0 0 0 0 0 0 0 0 0 0 0 0 0 0 0 0 0 0 0 0\n",
       " [6121] 0 0 0 0 0 0 0 0 0 0 0 0 0 0 0 0 0 1 0 0 0 0 0 0 0 0 0 0 0 0 0 0 0 1 0 1\n",
       " [6157] 0 1 0 0 0 0 0 0 0 1 0 0 0 0 0 0 0 0 0 0 0 0 0 0 0 0 0 1 0 0 0 0 1 0 0 0\n",
       " [6193] 0 0 0 0 0 0 0 0 0 0 0 0 0 1 0 0 0 0 0 0 0 1 0 0 0 0 0 0 0 0 0 0 0 0 0 0\n",
       " [6229] 0 0 0 0 0 0 0 0 0 0 0 0 0 0 0 0 0 0 0 0 0 0 0 0 0 0 0 0 0 0 0 0 0 0 0 0\n",
       " [6265] 0 0 0 1 0 0 0 0 0 0 0 1 0 0 0 0 0 0 0 0 0 0 0 0 0 0 0 0 0 0 0 0 0 0 0 0\n",
       " [6301] 1 0 0 0 0 1 0 0 0 0 0 0 0 1 1 0 0 0 0 0 0 1 0 0 0 0 1 0 0 0 0 0 0 0 1 0\n",
       " [6337] 0 0 0 0 0 0 0 0 1 0 0 0 1 0 0 0 0 1 0 0 0 0 0 0 0 0 0 0 0 0 0 1 0 0 1 0\n",
       " [6373] 0 0 0 0 0 0 0 0 0 0 0 0 0 0 0 0 0 0 0 0 0 0 0 0 0 0 0 0 0 0 0 0 0 0 0 0\n",
       " [6409] 0 0 1 0 0 0 0 0 0 0 0 0 0 0 1 0 0 0 0 0 0 0 0 0 0 0 0 0 0 0 0 0 0 0 0 0\n",
       " [6445] 0 0 0 0 0 0 0 0 0 0 0 1 0 0 0 0 0 0 0 0 0 0 0 0 0 0 0 0 0 0 0 0 0 0 0 0\n",
       " [6481] 0 0 0 0 0 0 0 0 1 0 0 0 0 0 0 0 0 1 0 0 0 0 0 0 0 0 0 0 0 0 0 0 0 0 0 0\n",
       " [6517] 0 0 0 0 0 0 0 0 0 0 0 0 0 0 0 0 0 0 0 0 0 0 0 0 0 1 0 0 0 0 1 0 0 0 0 0\n",
       " [6553] 0 0 1 0 0 0 0 1 0 0 0 0 0 0 0 0 0 0 1 0 0 0 0 0 0 0 0 0 0 0 0 0 0 0 0 0\n",
       " [6589] 0 0 0 0 0 0 0 0 0 0 0 0 0 0 0 0 0 0 0 0 0 0 0 0 0 0 0 0 0 0 0 0 0 0 1 0\n",
       " [6625] 1 0 0 0 0 0 0 0 0 1 0 0 0 0 0 0 0 0 0 0 0 0 0 0 1 0 0 0 0 1 0 0 0 0 0 0\n",
       " [6661] 0 0 0 0 0 0 0 0 0 0 0 0 1 0 0 0 0 0 0 0 0 0 0 0 0 0 1 1 0 0 0 0 0 0 0 0\n",
       " [6697] 0 0 0 0 0 0 0 0 0 0 0 0 0 0 0 0 0 0 0 0 1 0 0 0 1 0 0 0 0 0 0 0 1 0 0 0\n",
       " [6733] 0 0 0 0 0 0 0 0 0 0 1 0 0 0 0 0 0 0 0 0 1 0 0 0 0 0 0 0 0 0 0 0 0 0 0 0\n",
       " [6769] 0 1 0 0 0 0 0 0 0 0 0 0 0 0 0 0 1 0 1 0 0 0 0 0 1 0 0 0 0 0 0 0 0 0 0 0\n",
       " [6805] 0 0 0 0 0 1 0 0 0 0 0 0 0 0 0 0 0 0 0 0 0 0 0 0 0 0 0 0 0 0 0 0 0 0 0 0\n",
       " [6841] 0 0 0 0 0 0 0 0 0 0 0 0 0 0 1 0 0 1 0 0 0 0 1 0 1 0 0 0 0 0 1 0 0 0 0 0\n",
       " [6877] 0 0 0 0 0 0 0 0 0 0 0 0 0 0 0 0 0 0 0 0 0 0 1 1 0 0 0 0 0 0 0 0 0 0 0 0\n",
       " [6913] 0 0 0 1 0 1 1 0 0 0 0 0 0 0 1 0 0 0 0 1 0 0 0 0 0 0 0 0 0 0 0 0 0 0 0 0\n",
       " [6949] 0 1 0 0 0 0 0 0 0 0 1 0 0 0 0 0 0 0 0 0 1 0 0 0 0 0 1 0 0 0 0 0 0 0 0 0\n",
       " [6985] 0 0 0 0 0 0 0 0 0 0 0 0 1 0 0 0 0 0 0 0 0 0 0 0 0 0 0 0 0 0 0 0 0 0 0 0\n",
       " [7021] 0 0 0 0 0 0 1 0 0 1 0 0 0 0 1 0 1 0 0 0 0 0 0 0 0 0 0 0 0 0 0 0 0 0 0 0\n",
       " [7057] 0 0 0 0 0 0 0 0 0 0 0 0 0 0 0 0 0 0 0 0 0 0 1 0 0 0 0 0 0 0 0 0 0 0 0 0\n",
       " [7093] 1 0 0 0 0 0 0 0 0 1 0 0 0 0 0 0 0 0 0 0 0 1 0 0 0 0 0 0 1 0 0 0 0 0 0 0\n",
       " [7129] 0 0 1 1 0 0 0 1 0 0 0 0 0 0 0 0 0 0 0 0 0 0 0 0 0 0 0 0 0 0 1 0 0 0 0 1\n",
       " [7165] 0 0 0 0 0 0 0 0 1 0 0 0 0 0 0 0 0 0 0 0 0 0 0 0 0 0 1 0 0 0 0 0 0 0 0 0\n",
       " [7201] 0 0 0 1 0 0 0 0 0 0 0 0 0 0 0 0 0 0 0 0 0 0 0 0 0 0 0 0 0 0 0 0 0 0 0 0\n",
       " [7237] 0 1 0 1 0 0 0 0 0 0 1 0 0 0 0 0 0 0 0 0 0 0 0 0 0 0 0 1 0 1 0 1 0 0 0 0\n",
       " [7273] 0 0 1 0 0 0 0 0 1 0 0 0 0 0 0 0 0 0 0 0 0 0 0 0 0 0 0 0 0 0 0 0 0 0 0 0\n",
       " [7309] 0 0 0 0 0 0 0 0 1 0 1 0 0 1 0 0 0 0 0 0 0 0 0 0 0 0 0 0 0 0 0 0 0 0 0 0\n",
       " [7345] 0 0 0 0 0 0 1 0 0 0 0 0 0 0 0 1 0 0 0 0 0 0 0 0 0 0 0 1 1 1 0 0 0 0 0 0\n",
       " [7381] 0 0 0 0 0 0 1 0 0 0 0 0 0 0 0 1 0 0 0 1 0 0 0 0 0 0 0 0 0 1 0 0 1 0 0 0\n",
       " [7417] 0 0 0 0 0 1 0 0 0 0 0 0 0 0 0 0 0 0 0 0 0 0 0 0 0 0 0 0 0 0 0 1 0 0 0 0\n",
       " [7453] 0 0 0 0 0 0 0 0 0 0 0 0 1 1 0 0 0 0 0 0 0 0 0 0 0 0 0 0 0 0 0 0 0 0 0 0\n",
       " [7489] 0 0 1 0 0 0 1 0 0 0 0 0 1 0 0 0 0 0 0 0 0 0 0 0 0 0 0 0 0 0 0 0 0 0 0 0\n",
       " [7525] 0 1 0 1 0 0 0 0 0 0 0 0 0 0 0 0 0 0 0 0 0 0 0 0 0 0 0 0 0 0 0 0 0 0 0 0\n",
       " [7561] 0 0 0 0 0 0 0 0 0 0 0 0 0 0 0 0 0 0 0 1 0 0 0 0 0 0 0 0 0 0 0 0 0 0 0 0\n",
       " [7597] 0 0 0 0 0 0 1 0 0 1 0 1 0 0 0 0 0 1 0 0 0 0 0 0 1 0 0 0 0 0 0 0 1 0 0 1\n",
       " [7633] 0 0 0 0 0 1 0 0 0 0 0 0 0 0 0 0 0 0 0 0 0 0 0 0 0 0 0 0 0 0 0 0 0 0 1 0\n",
       " [7669] 0 0 0 1 0 0 0 0 0 0 0 0 0 0 0 0 0 0 1 0 0 0 0 0 0 0 1 0 0 0 0 0 0 0 0 0\n",
       " [7705] 0 0 0 0 0 0 0 0 0 0 1 0 0 0 0 0 0 0 0 0 0 1 0 0 0 0 0 0 1 0 0 1 0 0 0 0\n",
       " [7741] 0 0 0 0 0 0 0 0 0 0 0 0 0 0 0 0 0 0 1 1 0 0 0 0 0 0 1 0 0 0 0 0 0 0 0 0\n",
       " [7777] 0 0 0 0 0 0 0 0 0 0 0 0 0 0 0 0 0 0 0 0 1 0 0 0 0 0 0 0 0 0 0 0 0 0 0 0\n",
       " [7813] 0 0 0 0 0 0 0 0 0 0 0 0 0 0 0 0 0 0 0 0 1 0 0 0 0 0 0 0 0 0 0 0 0 0 0 0\n",
       " [7849] 0 0 0 0 0 0 0 0 0 0 0 0 0 0 0 0 0 0 0 1 0 0 0 0 0 0 0 1 1 1 0 0 0 0 0 1\n",
       " [7885] 0 0 0 0 0 0 0 0 0 0 0 0 0 0 0 0 0 0 0 1 0 0 0 0 0 0 0 0 0 0 0 0 0 0 0 0\n",
       " [7921] 0 0 0 0 0 0 0 0 0 0 0 0 0 0 0 0 0 0 0 0 0 0 0 0 0 0 0 0 0 1 0 0 0 0 1 0\n",
       " [7957] 0 0 0 0 0 0 0 0 0 0 0 0 1 1 0 0 0 0 0 1 0 0 0 0 0 0 0 0 0 0 0 0 0 0 0 1\n",
       " [7993] 0 0 0 0 0 0 0 0 0 0 0 0 0 0 0 0 0 0 0 0 0 0 0 0 1 0 0 0 0 1 0 0 0 0 0 0\n",
       " [8029] 0 0 0 0 0 0 0 0 0 0 0 0 0 0 0 0 0 0 0 0 0 0 0 0 0 0 0 0 0 0 0 0 0 0 0 0\n",
       " [8065] 0 1 0 1 0 0 0 0 0 0 1 0 0 0 0 0 0 0 0 0 1 0 0 0 0 0 0 0 0 0 0 0 0 0 1 0\n",
       " [8101] 0 0 1 0 0 0 0 0 0 0 0 0 0 0 0 0 0 0 0 0 1 0 0 0 0 0 0 0 0 0 0 0 0 0 0 0\n",
       " [8137] 0 0 0 0 0 0 0 0 0 0 0 0 0 1 0 0 0 0 0 0 1 0 0 0 0 0 0 0 0 0 0 0 0 0 1 0\n",
       " [8173] 0 0 0 0 1 0 1 0 0 0 1 0 0 0 0 0 0 0 0 1 0 0 0 1 0 0 0 0 0 0 0 0 0 0 0 0\n",
       " [8209] 0 0 0 0 0 0 0 0 0 0 0 0 0 0 1 0 0 0 0 0 0 0 0 0 0 0 0 1 0 0 0 0 0 0 0 0\n",
       " [8245] 0 0 0 0 1 0 0 0 0 0 0 0 0 1 0 0 0 0 0 0 0 0 1 1 0 0 0 0 0 0 0 0 1 0 0 0\n",
       " [8281] 1 0 0 0 0 0 0 0 0 0 0 0 0 0 0 0 0 0 0 0 0 0 0 0 0 0 0 0 1 0 0 0 0 1 0 0\n",
       " [8317] 1 0 1 1 0 0 0 0 0 0 0 0 0 0 0 0 0 0 0 0 0 0 0 1 0 0 0 0 0 0 0 0 0 0 0 0\n",
       " [8353] 0 0 0 0 1 0 1 0 0 0 0 0 0 0 0 0 0 0 0 0 0 0 0 1 0 0 1 0 0 0 0 0 0 1 0 0\n",
       " [8389] 0 0 0 0 0 0 0 0 0 0 0 0 0 0 0 0 0 0 0 0 0 0 0 0 0 0 0 0 0 0 0 0 0 0 0 0\n",
       " [8425] 0 0 0 0 0 0 0 0 0 0 1 1 0 0 0 1 1 0 0 0 0 0 0 0 0 0 0 0 0 0 0 0 0 0 0 0\n",
       " [8461] 0 0 0 0 0 1 0 1 0 0 0 0 0 0 0 0 0 0 0 1 0 0 0 1 0 0 0 0 0 0 0 0 0 0 0 0\n",
       " [8497] 0 1 0 0 0 0 0 1 0 0 0 1 0 1 0 1 0 0 0 0 1 0 0 0 0 0 0 0 0 0 0 0 0 0 0 0\n",
       " [8533] 0 0 0 0 0 0 0 0 0 0 0 1 0 0 0 0 0 0 0 0 0 0 0 0 0 0 0 0 0 0 0 0 1 0 0 0\n",
       " [8569] 0 0 0 0 0 0 0 0 0 0 0 0 0 0 0 0 0 0 0 0 0 0 0 1 0 0 0 0 0 1 0 0 0 0 0 0\n",
       " [8605] 0 0 0 0 0 0 0 0 0 1 0 0 0 0 0 0 0 0 0 0 0 0 0 0 0 1 1 0 0 0 0 1 0 0 0 1\n",
       " [8641] 0 0 0 0 0 0 0 0 0 0 0 0 0 0 0 0 0 0 0 0 0 0 0 1 0 0 0 0 0 0 0 0 0 0 0 0\n",
       " [8677] 0 1 0 0 0 0 0 1 0 0 0 0 0 0 0 0 0 0 0 0 0 0 0 0 0 0 0 0 0 0 0 0 0 0 0 0\n",
       " [8713] 0 0 0 1 0 0 0 1 0 0 0 0 0 0 0 0 0 0 0 0 0 0 0 0 0 1 0 0 0 0 0 0 0 0 0 0\n",
       " [8749] 0 0 0 0 0 0 0 0 0 0 0 0 0 0 0 0 0 0 0 0 0 0 0 0 0 0 1 0 0 0 0 0 0 0 0 0\n",
       " [8785] 0 0 0 0 0 0 0 1 0 1 0 0 1 0 0 0 0 0 0 0 0 0 0 0 0 0 0 0 0 0 1 0 0 0 0 0\n",
       " [8821] 1 0 0 0 0 0 0 0 0 0 0 0 0 0 0 0 0 0 0 0 0 0 0 0 0 0 0 1 0 0 0 1 0 0 0 0\n",
       " [8857] 0 0 0 0 0 0 0 0 0 0 0 0 0 0 0 0 0 0 0 0 1 0 0 0 0 0 0 0 1 0 0 0 0 0 0 0\n",
       " [8893] 0 0 0 0 0 0 1 0 1 0 0 0 0 0 0 0 0 0 0 0 0 0 0 0 0 0 0 0 0 0 0 0 0 0 0 0\n",
       " [8929] 0 0 0 0 0 0 0 0 0 0 0 0 0 0 0 0 0 0 0 0 0 0 0 0 0 0 0 0 0 0 0 0 1 0 0 0\n",
       " [8965] 0 0 0 0 0 0 0 0 0 0 0 0 0 0 1 0 0 1 0 1 0 0 0 0 0 0 0 0 0 0 0 0 0 0 0 0\n",
       " [9001] 0 0 0 1 0 0 0 0 0 0 0 0 0 0 0 0 0 0 0 0 0 0 1 0 1 0 0 0 0 0 0 0 0 0 0 0\n",
       " [9037] 0 0 0 0 0 0 0 0 0 0 0 0 0 0 0 0 0 0 0 0 0 0 0 0 0 0 0 0 0 0 0 0 0 0 0 0\n",
       " [9073] 1 0 0 0 0 0 0 0 0 0 0 0 0 0 0 1 0 1 0 0 0 0 0 0 0 0 1 0 0 0 0 0 0 0 0 0\n",
       " [9109] 0 0 0 0 0 0 0 0 0 0 0 0 0 0 0 1 0 0 0 0 0 0 0 0 0 0 1 0 0 0 0 0 1 0 0 0\n",
       " [9145] 0 0 0 0 0 0 0 0 0 0 0 0 0 0 0 0 0 0 0 0 0 0 0 0 0 0 0 0 0 0 0 0 0 1 0 0\n",
       " [9181] 0 0 0 0 0 0 0 0 0 0 0 0 0 0 0 0 1 0 0 0 0 0 0 0 0 0 0 0 0 0 0 0 0 1 0 0\n",
       " [9217] 0 0 0 0 0 0 0 0 0 0 0 0 0 0 0 0 0 0 0 0 0 0 0 0 0 0 0 0 0 0 0 0 0 0 0 0\n",
       " [9253] 0 1 0 0 1 0 0 0 0 0 0 0 0 0 0 0 0 0 0 0 0 0 0 0 0 0 0 0 0 0 0 0 0 0 0 0\n",
       " [9289] 0 0 0 0 0 0 0 0 0 0 0 1 0 0 0 0 0 0 0 1 0 0 0 0 0 0 0 1 0 0 0 0 1 0 0 0\n",
       " [9325] 0 0 0 0 0 0 0 0 0 0 0 0 0 0 0 0 0 0 0 0 0 0 0 0 0 0 0 0 0 0 0 0 0 0 0 0\n",
       " [9361] 0 0 0 0 1 0 0 0 0 0 0 0 0 0 0 0 1 0 0 1 1 0 0 1 0 1 0 0 0 0 0 0 0 0 0 0\n",
       " [9397] 0 1 0 0 0 0 0 0 0 0 0 0 0 0 0 0 0 0 0 0 0 0 0 0 0 0 0 0 0 0 0 0 0 0 0 0\n",
       " [9433] 0 0 0 0 0 0 0 0 0 0 0 0 0 0 0 0 0 0 1 0 0 0 0 0 0 0 0 0 0 0 0 0 0 0 0 0\n",
       " [9469] 0 0 0 0 0 0 0 0 0 0 0 0 0 0 1 0 0 0 0 0 0 0 0 0 0 0 0 0 0 0 0 0 0 0 0 0\n",
       " [9505] 0 1 0 0 0 0 1 1 0 0 0 0 1 0 0 0 0 0 1 0 1 0 0 0 0 0 0 1 1 0 0 0 0 0 0 0\n",
       " [9541] 0 0 0 0 1 0 0 0 0 0 0 0 0 0 0 0 0 0 0 0 0 0 0 0 0 0 0 0 0 0 0 0 0 1 0 0\n",
       " [9577] 0 0 0 0 0 0 0 0 0 0 0 1 0 0 0 0 0 0 0 0 0 1 0 0 0 0 0 0 0 0 0 0 0 0 0 0\n",
       " [9613] 0 0 0 0 0 0 0 0 0 0 0 1 0 1 0 0 0 0 0 0 0 0 0 0 0 0 0 0 0 0 0 0 0 1 0 0\n",
       " [9649] 0 0 1 0 0 0 0 0 0 0 0 0 1 0 0 0 0 0 0 0 0 0 0 0 0 0 0 0 0 0 0 0 0 0 1 0\n",
       " [9685] 0 0 0 0 0 0 1 0 0 0 0 0 0 0 0 0 0 0 0 0 1 0 0 0 0 0 0 1 0 0 0 0 0 1 0 0\n",
       " [9721] 0 0 0 0 0 0 0 0 0 0 1 0 0 0 0 0 0 0 0 0 0 0 0 0 0 0 1 0 0 0 0 0 0 0 0 0\n",
       " [9757] 0 0 1 0 0 0 0 0 1 0 0 0 0 0 0 0 0 0 0 0 0 0 0 0 0 0 0 0 0 0 0 0 0 0 0 0\n",
       " [9793] 0 0 0 0 0 0 0 1 0 0 0 0 0 0 0 0 0 0 0 0 1 0 0 0 0 0 0 0 0 0 0 0 0 0 0 0\n",
       " [9829] 0 0 0 0 0 0 0 0 0 0 0 0 0 0 0 0 0 0 0 0 0 0 0 0 0 0 0 0 0 0 0 0 0 0 0 0\n",
       " [9865] 0 0 0 0 0 0 0 0 1 0 0 0 0 0 0 0 0 0 0 0 0 1 0 0 0 0 0 0 0 0 0 0 0 0 0 0\n",
       " [9901] 0 0 0 0 0 0 0 0 0 0 0 0 0 0 0 1 0 0 0 0 0 0 0 0 0 0 0 0 0 0 0 0 0 0 0 0\n",
       " [9937] 0 0 0 0 0 0 0 0 0 0 0 0 0 0 0 0 0 0 0 0 0 0 0 0 0 0 0 0 1 0 0 0 0 0 0 0\n",
       " [9973] 0 1 0 0 0 0 0 0 0 0 0 0 0 0 1 0 0 0 0 0 0 0 0 0 0 0 0 0 0 0 0 0 0 0 0 1\n",
       "[10009] 0 0 0 0 0 0 0 1 0 0 0 0 0 0 0 0 0 0 0 0 0 0 0 0 1 0 0 0 0 1 0 0 0 0 0 0\n",
       "[10045] 0 0 0 1 0 0 0 0 0 0 0 0 0 0 0 0 0 0 0 0 0 0 0 0 0 0 0 1 0 0 0 0 0 0 0 0\n",
       "[10081] 0 0 0 0 0 1 0 1 0 0 0 0 0 1 0 0 0 0 0 0 0 0 0 0 0 0 0 0 0 1 0 0 0 0 0 0\n",
       "[10117] 0 0 1 0 0 0 1 0 0 0 0 0 0 0 1 0 0 0 0 0 0 0 0 0 0 0 0 0 0 0 1 1 0 0 0 1\n",
       "[10153] 0 0 1 0 1 0 0 0 0 0 0 0 0 1 0 0 0 0 0 0 0 0 0 0 0 0 0 0 0 0 0 0 0 0 0 0\n",
       "[10189] 0 0 0 0 0 0 1 0 0 0 0 0 0 0 0 0 0 0 0 0 0 0 0 0 0 0 0 1 0 0 0 0 0 0 0 0\n",
       "[10225] 1 0 0 0 0 0 0 0 0 0 0 0 0 0 0 0 0 0 0 1 0 0 0 0 0 0 0 0 0 0 0 1 0 0 0 0\n",
       "[10261] 0 0 0 0 1 0 0 0 0 0 0 0 0 0 0 0 0 0 0 0 0 0 0 0 0 0 0 0 0 0 0 0 0 0 0 0\n",
       "[10297] 0 0 0 0 0 0 0 0 0 0 0 0 0 0 0 0 0 0 0 0 0 0 0 0 0 0 1 0 0 1 0 0 0 0 0 0\n",
       "[10333] 0 0 0 0 0 0 0 0 0 0 0 0 0 0 0 0 0 0 0 0 0 0 0 1 0 0 0 1 0 0 0 0 0 0 0 0\n",
       "[10369] 0 0 0 0 0 0 0 0 0 0 0 1 0 0 0 0 0 0 0 0 0 0 0 0 0 0 0 0 0 0 0 0 0 0 0 0\n",
       "[10405] 0 0 1 0 0 0 0 0 0 0 1 1 0 0 0 0 0 0 0 0 1 0 0 0 0 1 0 0 0 0 0 0 0 0 1 0\n",
       "[10441] 0 0 0 0 0 0 1 0 0 0 0 0 0 0 0 0 0 0 0 1 0 1 0 0 0 0 0 0 0 0 0 0 0 0 0 0\n",
       "[10477] 0 0 1 0 0 1 0 0 0 0 0 0 0 0 0 0 0 0 0 1 0 0 0 0 0 0 0 0 1 0 0 0 0 0 0 0\n",
       "[10513] 0 0 0 0 0 1 0 0 0 0 0 0 0 1 0 0 0 0 0 0 1 0 0 0 0 0 0 0 0 0 0 0 0 0 0 0\n",
       "[10549] 0 0 0 0 0 0 0 0 1 0 0 0 0 0 0 0 0 0 0 0 0 0 0 0 0 1 0 0 0 0 0 0 0 0 0 0\n",
       "[10585] 0 0 0 0 1 0 0 1 0 0 0 0 0 0 0 0 0 0 0 0 0 0 0 0 0 0 0 0 0 0 0 0 1 0 0 0\n",
       "[10621] 0 0 0 0 0 0 0 0 0 0 0 0 0 0 0 1 0 0 0 0 0 0 0 0 0 0 0 0 0 0 0 0 1 0 0 0\n",
       "[10657] 0 0 0 0 1 0 0 0 0 0 0 0 0 0 0 0 0 0 0 0 1 0 0 0 0 0 0 0 1 0 0 0 0 1 0 1\n",
       "[10693] 0 0 0 1 0 0 0 0 1 0 0 0 0 0 0 0 0 0 0 0 0 0 0 0 0 0 0 0 0 1 1 0 0 0 0 1\n",
       "[10729] 0 0 0 0 0 0 0 0 0 0 0 0 0 0 0 1 0 0 0 0 0 0 0 0 0 0 0 0 0 0 0 0 0 0 0 0\n",
       "[10765] 1 0 0 0 0 0 0 0 0 0 0 0 0 0 0 0 0 0 0 0 0 0 0 0 1 0 0 0 1 0 0 0 0 0 0 0\n",
       "[10801] 1 0 0 0 0 0 0 0 0 0 1 0 1 0 0 0 0 0 0 0 0 0 0 0 0 0 0 0 0 0 0 0 0 0 0 0\n",
       "[10837] 0 0 0 0 0 0 0 0 0 0 0 0 0 0 0 0 0 0 0 0 0 0 0 0 0 1 0 0 0 0 0 0 1 0 0 0\n",
       "[10873] 0 0 0 0 0 1 0 0 0 0 0 1 0 0 0 0 0 0 0 0 0 0 0 0 0 0 0 0 0 0 0 0 0 0 0 0\n",
       "[10909] 0 0 0 0 0 0 0 0 0 0 0 0 0 0 0 0 0 0 0 0 0 0 0 1 0 0 0 0 0 0 0 1 0 0 0 0\n",
       "[10945] 0 0 0 0 1 0 1 1 0 0 0 0 0 0 0 1 0 0 0 0 0 0 0 0 0 0 0 0 0 1 0 1 0 0 0 0\n",
       "[10981] 0 0 1 0 0 0 0 0 0 1 0 0 0 0 0 0 0 0 0 0 0 0 0 0 0 0 0 0 0 0 0 0 0 0 0 1\n",
       "[11017] 0 0 0 0 0 0 0 0 0 0 0 0 0 0 0 0 0 0 0 0 0 0 0 1 0 0 0 0 0 1 0 0 0 0 0 0\n",
       "[11053] 0 0 0 0 0 0 0 0 0 1 0 0 0 0 0 1 0 0 0 0 1 0 0 0 0 0 0 0 0 0 0 0 0 1 0 0\n",
       "[11089] 0 0 0 0 0 0 0 0 0 0 0 0 0 0 0 0 0 0 0 0 0 0 0 0 0 0 0 0 0 0 0 0 0 1 0 0\n",
       "[11125] 0 0 0 0 0 0 0 0 0 1 0 0 0 0 0 0 0 0 0 0 0 0 0 0 0 0 0 0 0 0 1 0 0 1 0 0\n",
       "[11161] 0 0 1 0 0 0 0 0 0 0 0 0 0 0 0 0 0 0 0 0 0 0 0 0 0 0 0 0 1 0 0 0 0 0 0 1\n",
       "[11197] 0 0 0 1 0 1 0 0 0 1 0 0 0 0 0 0 0 0 0 0 0 0 0 0 0 0 0 0 0 0 0 0 0 0 0 0\n",
       "[11233] 0 0 0 0 0 0 0 0 0 0 0 0 0 0 0 0 0 0 0 0 0 0 0 0 0 0 0 0 0 0 0 0 0 0 0 0\n",
       "[11269] 0 0 0 0 0 0 0 0 0 0 0 0 0 0 0 0 0 0 0 0 0 0 0 0 0 0 0 0 1 0 0 0 0 0 1 0\n",
       "[11305] 1 0 0 1 0 0 1 0 0 0 0 0 0 0 0 1 0 0 0 0 0 0 0 0 0 0 1 0 0 0 0 0 0 0 0 0\n",
       "[11341] 0 0 0 0 0 0 0 0 0 1 0 0 0 0 0 0 0 0 0 0 0 0 0 0 0 0 0 0 0 1 0 0 0 0 0 0\n",
       "[11377] 0 0 0 0 0 0 0 0 0 0 0 0 0 0 0 0 0 0 0 0 0 0 0 0 0 0 0 0 0 0 0 0 0 0 0 1\n",
       "[11413] 0 0 1 1 0 0 0 0 0 0 1 0 0 0 0 0 1 1 0 0 0 0 0 0 0 0 0 0 0 0 0 0 0 0 0 0\n",
       "[11449] 0 0 0 0 0 0 0 0 0 0 0 0 1 0 0 0 0 0 0 0 0 0 0 0 0 0 0 0 0 0 0 0 0 0 0 0\n",
       "[11485] 0 1 0 0 0 0 0 0 0 0 0 0 1 0 0 0 0 0 0 0 0 0 0 0 0 1 0 0 0 0 1 1 0 0 0 0\n",
       "[11521] 0 0 0 0 0 0 0 0 0 0 0 0 0 0 0 0 0 0 0 0 0 0 0 0 0 1 0 0 0 0 0 0 0 0 0 0\n",
       "[11557] 0 0 1 0 0 0 0 1 0 0 0 0 0 0 0 0 0 0 0 0 1 1 0 0 0 0 0 0 0 0 0 0 0 0 0 0\n",
       "[11593] 0 0 0 0 0 0 0 0 0 1 1 0 0 0 0 0 0 0 0 0 0 0 0 0 0 0 0 1 1 0 0 0 0 0 0 0\n",
       "[11629] 0 1 0 0 0 0 0 0 0 0 0 0 0 1 1 0 1 0 0 0 0 1 0 1 0 0 0 0 0 0 0 0 0 1 0 0\n",
       "[11665] 0 0 0 0 0 0 0 0 0 0 0 0 0 1 0 0 0 0 0 0 0 0 0 1 0 0 0 0 0 0 0 0 0 0 0 0\n",
       "[11701] 0 0 0 1 0 0 0 0 0 0 0 0 0 0 0 0 0 0 0 0 0 0 0 0 0 0 0 0 0 0 0 0 0 0 0 0\n",
       "[11737] 0 1 0 0 0 0 0 0 0 0 0 0 0 0 0 1 0 0 0 0 0 0 0 0 0 0 0 0 0 1 0 0 0 0 1 0\n",
       "[11773] 0 0 0 0 0 0 0 0 0 0 0 1 0 1 0 0 0 0 0 0 0 0 0 1 0 0 0 0 1 0 0 0 0 0 0 0\n",
       "[11809] 0 0 1 0 0 0 0 0 0 0 0 0 1 0 0 0 0 0 1 0 0 0 0 0 0 0 0 0 0 0 0 0 0 0 0 0\n",
       "[11845] 1 0 1 0 0 0 0 1 0 0 0 0 0 0 0 1 0 0 0 0 0 0 0 0 0 0 0 0 0 0 0 0 0 0 0 0\n",
       "[11881] 0 0 0 0 0 0 1 0 0 0 0 0 0 0 0 0 0 0 0 0 0 0 1 0 0 0 0 0 0 0 0 0 0 0 0 0\n",
       "[11917] 0 0 0 0 0 0 0 0 0 0 0 0 0 0 0 0 0 0 0 0 0 0 0 1 0 0 0 0 1 0 0 0 0 0 0 0\n",
       "[11953] 0 0 0 0 0 0 0 1 0 0 0 0 0 0 0 0 0 0 0 0 0 0 0 0 0 0 0 0 1 0 0 0 0 0 1 0\n",
       "[11989] 0 0 0 0 0 1 0 0 0 0 0 0"
      ]
     },
     "metadata": {},
     "output_type": "display_data"
    }
   ],
   "source": [
    "# La fórmula predict en el logit devuelve una probabilidad entonces tampoco arroja valores 0 o 1 como la clasificación que queremos, por lo tanto lo tenemos que separar en base a un criterio\n",
    "# usamos la función creada antes\n",
    "clasif(logit_pred, 0.5) \n",
    "logit_rdos['f1'] <- f1_score(clasif(logit_pred, 0.3) , y.test)"
   ]
  },
  {
   "cell_type": "code",
   "execution_count": 28,
   "id": "06df185f-7caf-4baf-a89c-3ca593fdf5a9",
   "metadata": {
    "colab": {
     "base_uri": "https://localhost:8080/",
     "height": 34
    },
    "executionInfo": {
     "elapsed": 60,
     "status": "ok",
     "timestamp": 1653562468398,
     "user": {
      "displayName": "Pablo Quintana",
      "userId": "00674039532099061635"
     },
     "user_tz": 180
    },
    "id": "06df185f-7caf-4baf-a89c-3ca593fdf5a9",
    "outputId": "8ccf3eae-596a-41f9-88e9-f6ed57f0ca79"
   },
   "outputs": [
    {
     "data": {
      "text/html": [
       "<strong>f1:</strong> 0.502742946708464"
      ],
      "text/latex": [
       "\\textbf{f1:} 0.502742946708464"
      ],
      "text/markdown": [
       "**f1:** 0.502742946708464"
      ],
      "text/plain": [
       "       f1 \n",
       "0.5027429 "
      ]
     },
     "metadata": {},
     "output_type": "display_data"
    }
   ],
   "source": [
    "logit_rdos['f1']"
   ]
  },
  {
   "cell_type": "code",
   "execution_count": 29,
   "id": "5de6e5be-9eed-4753-b354-2cb29104b6ca",
   "metadata": {
    "colab": {
     "base_uri": "https://localhost:8080/",
     "height": 161
    },
    "executionInfo": {
     "elapsed": 60,
     "status": "ok",
     "timestamp": 1653562468399,
     "user": {
      "displayName": "Pablo Quintana",
      "userId": "00674039532099061635"
     },
     "user_tz": 180
    },
    "id": "5de6e5be-9eed-4753-b354-2cb29104b6ca",
    "outputId": "2d819140-d4af-4a2d-e207-cf8f8f1d511b"
   },
   "outputs": [
    {
     "data": {
      "text/html": [
       "<table class=\"dataframe\">\n",
       "<caption>A matrix: 3 × 2 of type dbl</caption>\n",
       "<thead>\n",
       "\t<tr><th></th><th scope=col>ols_rdos</th><th scope=col>logit_rdos</th></tr>\n",
       "</thead>\n",
       "<tbody>\n",
       "\t<tr><th scope=row>mse_train</th><td>0.2019455</td><td>0.2019257</td></tr>\n",
       "\t<tr><th scope=row>mse_test</th><td>0.2012196</td><td>0.2014333</td></tr>\n",
       "\t<tr><th scope=row>f1</th><td>0.5095327</td><td>0.5027429</td></tr>\n",
       "</tbody>\n",
       "</table>\n"
      ],
      "text/latex": [
       "A matrix: 3 × 2 of type dbl\n",
       "\\begin{tabular}{r|ll}\n",
       "  & ols\\_rdos & logit\\_rdos\\\\\n",
       "\\hline\n",
       "\tmse\\_train & 0.2019455 & 0.2019257\\\\\n",
       "\tmse\\_test & 0.2012196 & 0.2014333\\\\\n",
       "\tf1 & 0.5095327 & 0.5027429\\\\\n",
       "\\end{tabular}\n"
      ],
      "text/markdown": [
       "\n",
       "A matrix: 3 × 2 of type dbl\n",
       "\n",
       "| <!--/--> | ols_rdos | logit_rdos |\n",
       "|---|---|---|\n",
       "| mse_train | 0.2019455 | 0.2019257 |\n",
       "| mse_test | 0.2012196 | 0.2014333 |\n",
       "| f1 | 0.5095327 | 0.5027429 |\n",
       "\n"
      ],
      "text/plain": [
       "          ols_rdos  logit_rdos\n",
       "mse_train 0.2019455 0.2019257 \n",
       "mse_test  0.2012196 0.2014333 \n",
       "f1        0.5095327 0.5027429 "
      ]
     },
     "metadata": {},
     "output_type": "display_data"
    }
   ],
   "source": [
    "# ponemos ambos modelos en un df que va agrupando los resultados\n",
    "rdos <- cbind(ols_rdos,logit_rdos)\n",
    "rdos"
   ]
  },
  {
   "cell_type": "code",
   "execution_count": 30,
   "id": "0e52e957-69d5-476b-a8c6-21dc7ee75780",
   "metadata": {
    "colab": {
     "base_uri": "https://localhost:8080/",
     "height": 96
    },
    "executionInfo": {
     "elapsed": 3570,
     "status": "error",
     "timestamp": 1653562471910,
     "user": {
      "displayName": "Pablo Quintana",
      "userId": "00674039532099061635"
     },
     "user_tz": 180
    },
    "id": "0e52e957-69d5-476b-a8c6-21dc7ee75780",
    "outputId": "4221818a-6292-43c0-b175-da3548af4494"
   },
   "outputs": [],
   "source": [
    "ols2 <- lm(linear.inter, data = X.train)\n"
   ]
  },
  {
   "cell_type": "code",
   "execution_count": 31,
   "id": "48e23507-4103-4883-844f-eaee8cae850e",
   "metadata": {
    "executionInfo": {
     "elapsed": 340626,
     "status": "aborted",
     "timestamp": 1653562471912,
     "user": {
      "displayName": "Pablo Quintana",
      "userId": "00674039532099061635"
     },
     "user_tz": 180
    },
    "id": "48e23507-4103-4883-844f-eaee8cae850e"
   },
   "outputs": [],
   "source": [
    "logit2 <- glm(linear.inter, data = X.train, family = \"binomial\")\n",
    "#mse(logit2, X.train, X.test)"
   ]
  },
  {
   "cell_type": "markdown",
   "id": "747bafa4-bf0b-4271-983b-e37496d74a95",
   "metadata": {
    "id": "747bafa4-bf0b-4271-983b-e37496d74a95"
   },
   "source": [
    "### Regresion con descomposcición de valores singulares\n",
    "\n",
    "Un método utilizado por los sowtwares de predicción en machine learning es la regresión utilizando la pseudo inversa de la matriz de datos. Para encontrar dicha pseudo-inversa se utiliza la descomposición de valores singulares. Sea $A$ una matriz $n\\ x\\  p$ \n",
    "\n",
    "\\begin{equation}\n",
    "A = U\\Sigma V^T\n",
    "\\end{equation}\n",
    "\n",
    "siendo $U$ una matriz $n\\ x\\ n$ , $\\Sigma$ es una matriz $m\\ x\\ p$ y $V^T$ es una matriz cuadrada $p\\ x\\ p$. Las matrices $U$ y $V^T$ son matrices unitarias lo que les da unas propiedades muy convenientes ya que $UU^T\\ =\\ I$ y $VV^T\\ =\\ I$. Por otro lado $\\Sigma$ es una matriz diagonal sólo en en sus primeros $r$ renglones siendo $r=\\ min(n,p)$ llenando todos los demás espacios con ceros, que suelen eliminarse. La primera ventaja que proporciona este método es que no importa la forma de la matriz, siempre se puede descomponer en estas tres matrices mencionadas, incluso cuando $p > n$.\n",
    "\n",
    "Dado un sistema de ecuaciones, podemos resolverlo con la descomposición mencionada.\n",
    "\n",
    "\\begin{equation}\n",
    "Ax\\ =\\ b \n",
    "\\end{equation}\n",
    "\n",
    "\\begin{equation}\n",
    "(U\\Sigma V^T)^{-1}(U\\Sigma V^T)x\\ =\\ (U\\Sigma V^T)^{-1}b \n",
    "\\end{equation}\n",
    "\n",
    "\\begin{equation}\n",
    "\\hat{x}\\ =\\ V\\Sigma^{-1}U^Tb\n",
    "\\end{equation}\n",
    "\n",
    "Cómo vemos las matriz descompuesta es muy fácil de invertir. La complejidad computacional en usar este método es al rededor de $O\\left(n^2\\right)$ mientras que con el método normal la complejidad es de alrededor de $O\\left(n^{2.4}\\right)$ hasta $O\\left(n^3\\right)$\n",
    "\n",
    "En R podemos encontrar la función *svd* que permite descomponer las matrices, luego con está podemos construir la regresión."
   ]
  },
  {
   "cell_type": "code",
   "execution_count": 32,
   "id": "fee2b146-0560-4133-8b30-d0f189380760",
   "metadata": {
    "executionInfo": {
     "elapsed": 340625,
     "status": "aborted",
     "timestamp": 1653562471913,
     "user": {
      "displayName": "Pablo Quintana",
      "userId": "00674039532099061635"
     },
     "user_tz": 180
    },
    "id": "fee2b146-0560-4133-8b30-d0f189380760"
   },
   "outputs": [],
   "source": [
    "# está función reg.svm devuelve los coeficientes calculados bajo este método\n",
    "reg.svm <- function(modelo, y,X) {\n",
    "    X <- model.matrix(modelo,X) #la función model.matrix devuleve la matriz de acuerdo a la fórmula\n",
    "    dX <- svd(X)\n",
    "    x_hat <- (dX$v) %*% solve(diag(dX$d)) %*% t(dX$u) %*% y\n",
    "    #y_pred <- X %*% x_hat\n",
    "    return(x_hat)\n",
    "    }\n",
    "#creamos una función predict\n",
    "\n",
    "predict.svm <- function(modelo, X, coef){\n",
    "    pred <- model.matrix(modelo,X) %*% coef\n",
    "    return(pred)\n",
    "           }\n"
   ]
  },
  {
   "cell_type": "code",
   "execution_count": 33,
   "id": "1560464e-380e-4a66-aa6d-f56b6606685f",
   "metadata": {
    "executionInfo": {
     "elapsed": 340624,
     "status": "aborted",
     "timestamp": 1653562471916,
     "user": {
      "displayName": "Pablo Quintana",
      "userId": "00674039532099061635"
     },
     "user_tz": 180
    },
    "id": "1560464e-380e-4a66-aa6d-f56b6606685f"
   },
   "outputs": [
    {
     "data": {
      "text/html": [
       "<style>\n",
       ".dl-inline {width: auto; margin:0; padding: 0}\n",
       ".dl-inline>dt, .dl-inline>dd {float: none; width: auto; display: inline-block}\n",
       ".dl-inline>dt::after {content: \":\\0020\"; padding-right: .5ex}\n",
       ".dl-inline>dt:not(:first-of-type) {padding-left: .5ex}\n",
       "</style><dl class=dl-inline><dt>mse_train</dt><dd>0.201945471512763</dd><dt>mse_test</dt><dd>0.201219570688055</dd></dl>\n"
      ],
      "text/latex": [
       "\\begin{description*}\n",
       "\\item[mse\\textbackslash{}\\_train] 0.201945471512763\n",
       "\\item[mse\\textbackslash{}\\_test] 0.201219570688055\n",
       "\\end{description*}\n"
      ],
      "text/markdown": [
       "mse_train\n",
       ":   0.201945471512763mse_test\n",
       ":   0.201219570688055\n",
       "\n"
      ],
      "text/plain": [
       "mse_train  mse_test \n",
       "0.2019455 0.2012196 "
      ]
     },
     "metadata": {},
     "output_type": "display_data"
    }
   ],
   "source": [
    "coef <- reg.svm(linear, y.train, X.train)\n",
    "pred_train <- predict.svm(linear, X.train, coef)\n",
    "pred_test <- predict.svm(linear, X.test, coef)\n",
    "\n",
    "svm_rdos <- c('mse_train' = mse(pred_train, y.train), 'mse_test' = mse(pred_test, y.test))\n",
    "svm_rdos"
   ]
  },
  {
   "cell_type": "code",
   "execution_count": 34,
   "id": "1d66f39a-b171-4ad0-8252-760c59b1c958",
   "metadata": {
    "executionInfo": {
     "elapsed": 340618,
     "status": "aborted",
     "timestamp": 1653562471917,
     "user": {
      "displayName": "Pablo Quintana",
      "userId": "00674039532099061635"
     },
     "user_tz": 180
    },
    "id": "1d66f39a-b171-4ad0-8252-760c59b1c958"
   },
   "outputs": [
    {
     "data": {
      "text/html": [
       "<strong>f1:</strong> 0.509532710280374"
      ],
      "text/latex": [
       "\\textbf{f1:} 0.509532710280374"
      ],
      "text/markdown": [
       "**f1:** 0.509532710280374"
      ],
      "text/plain": [
       "       f1 \n",
       "0.5095327 "
      ]
     },
     "metadata": {},
     "output_type": "display_data"
    }
   ],
   "source": [
    "#sigue con el mismo problema de clasificación usamos la función clasif creada y calculamos el f1\n",
    "svm_rdos['f1'] <- f1_score(clasif(pred_test,0.3), y.test)\n",
    "svm_rdos['f1']"
   ]
  },
  {
   "cell_type": "code",
   "execution_count": 35,
   "id": "397ddb71-6366-46b4-9eb2-a344324c0fee",
   "metadata": {
    "executionInfo": {
     "elapsed": 340615,
     "status": "aborted",
     "timestamp": 1653562471919,
     "user": {
      "displayName": "Pablo Quintana",
      "userId": "00674039532099061635"
     },
     "user_tz": 180
    },
    "id": "397ddb71-6366-46b4-9eb2-a344324c0fee"
   },
   "outputs": [
    {
     "data": {
      "text/html": [
       "<table class=\"dataframe\">\n",
       "<caption>A matrix: 3 × 3 of type dbl</caption>\n",
       "<thead>\n",
       "\t<tr><th></th><th scope=col>ols_rdos</th><th scope=col>logit_rdos</th><th scope=col>svm_rdos</th></tr>\n",
       "</thead>\n",
       "<tbody>\n",
       "\t<tr><th scope=row>mse_train</th><td>0.2019455</td><td>0.2019257</td><td>0.2019455</td></tr>\n",
       "\t<tr><th scope=row>mse_test</th><td>0.2012196</td><td>0.2014333</td><td>0.2012196</td></tr>\n",
       "\t<tr><th scope=row>f1</th><td>0.5095327</td><td>0.5027429</td><td>0.5095327</td></tr>\n",
       "</tbody>\n",
       "</table>\n"
      ],
      "text/latex": [
       "A matrix: 3 × 3 of type dbl\n",
       "\\begin{tabular}{r|lll}\n",
       "  & ols\\_rdos & logit\\_rdos & svm\\_rdos\\\\\n",
       "\\hline\n",
       "\tmse\\_train & 0.2019455 & 0.2019257 & 0.2019455\\\\\n",
       "\tmse\\_test & 0.2012196 & 0.2014333 & 0.2012196\\\\\n",
       "\tf1 & 0.5095327 & 0.5027429 & 0.5095327\\\\\n",
       "\\end{tabular}\n"
      ],
      "text/markdown": [
       "\n",
       "A matrix: 3 × 3 of type dbl\n",
       "\n",
       "| <!--/--> | ols_rdos | logit_rdos | svm_rdos |\n",
       "|---|---|---|---|\n",
       "| mse_train | 0.2019455 | 0.2019257 | 0.2019455 |\n",
       "| mse_test | 0.2012196 | 0.2014333 | 0.2012196 |\n",
       "| f1 | 0.5095327 | 0.5027429 | 0.5095327 |\n",
       "\n"
      ],
      "text/plain": [
       "          ols_rdos  logit_rdos svm_rdos \n",
       "mse_train 0.2019455 0.2019257  0.2019455\n",
       "mse_test  0.2012196 0.2014333  0.2012196\n",
       "f1        0.5095327 0.5027429  0.5095327"
      ]
     },
     "metadata": {},
     "output_type": "display_data"
    }
   ],
   "source": [
    "rdos <- cbind(rdos,svm_rdos)\n",
    "rdos"
   ]
  },
  {
   "cell_type": "markdown",
   "id": "95d4a13d-d65c-42dc-9929-dd33a8a893c3",
   "metadata": {
    "id": "95d4a13d-d65c-42dc-9929-dd33a8a893c3"
   },
   "source": [
    "### Ridge regresión\n",
    "\n",
    "El teorema Gauss-Markov dice que el estimador de mínimos cuadrados es el mejor estimador lineal insesgado, pero puede ser que exista un estimador que sea sesgado y mejor. Esta discusión pasa por un trade-off entre el sesgo y la varianza muy usual en machine learning, como los objetivos acá no son la estimación si no la predicción se prefiere un estimador que sea sesgado mientras disminuya la varianza. Esto sucede con los estimadores restringidos. \n",
    "\n",
    "El estimador que proviene de la ridge regresión surje de solucionar el siguiente problema:\n",
    "\n",
    "\\begin{equation}\n",
    "\\hat{\\beta}^{ridge} = argmin_β\\left(y_i-\\beta_0-\\sum_{j=1}^p\\beta_j^2\\right)^2\n",
    "\\end{equation}\n",
    "\\begin{equation}\n",
    "sujeto\\ a\\ \\sum_{j=1}^p\\beta_j^2\\ <= t\n",
    "\\end{equation}\n",
    "\n",
    "Resolviendo el problema el estimador nos queda de la siguiente forma:\n",
    "\n",
    "\\begin{equation}\n",
    "\\hat{\\beta}^{ridge} = argmin_β\\left\\{\\left(y_i-\\beta_0-\\sum_{j=1}^p\\beta_j^2\\right)^2 + λ\\sum_{j=1}^p\\beta_j^2\\right\\}\n",
    "\\end{equation}\n",
    "\n",
    "El parámetro $\\lambda$ es el que regulariza los estimadores llevando a 0 los parámetros. La regresión ridge no es invariante a las escalas de los parámetros, es por eso que se deben estandarizar las variables previo a hacer los cálculos. \n",
    "\n",
    "Si escribimos el problema en forma matricial nos queda de la siguiente forma:\n",
    "\n",
    "\\begin{equation}\n",
    "\\hat{\\beta}^{ridge} = \\left(\\boldsymbol{X}^T\\boldsymbol{X}+\\lambda\\boldsymbol{I} \\right)^{-1}\\boldsymbol{X}^T\\boldsymbol{y} \n",
    "\\end{equation}\n",
    "\n",
    "La matriz $\\boldsymbol{X}^T\\boldsymbol{X}$ puede no tener rango completo, incluso son los principales problemas perseguidos con este tipo de regresión y la forma de solucionarlo es con la descomposición de valores singulares.\n",
    "\n",
    "Para trabajar la regresión ridge y LASSO usamos el paquete glmnet y la función de ese mismo paquete. La forma de determinar cual vamos a utilizar es con el parámtero alpha, si este es 0 la regresión es ridge y si es 1 es LASSO.\n",
    "\n",
    "EL parámetro a identficar es el parámetro $\\lambda$, no hay una forma de saber que valor poner a este parámetro por eso lo ideal es hacer varias regresiones y tomar el que mejores resultados, para ello se hace un grid con un rango de posibles valores para lambda, en este caso desde $10^{10}$ hasta $10^{-2}$ "
   ]
  },
  {
   "cell_type": "code",
   "execution_count": 36,
   "id": "927e35f4-a7b9-4e5b-99e6-0e616234ad23",
   "metadata": {
    "colab": {
     "base_uri": "https://localhost:8080/"
    },
    "executionInfo": {
     "elapsed": 1582,
     "status": "ok",
     "timestamp": 1653562522001,
     "user": {
      "displayName": "Pablo Quintana",
      "userId": "00674039532099061635"
     },
     "user_tz": 180
    },
    "id": "927e35f4-a7b9-4e5b-99e6-0e616234ad23",
    "outputId": "35193fc6-2a1d-48be-bd69-5289523ea2d2"
   },
   "outputs": [
    {
     "name": "stderr",
     "output_type": "stream",
     "text": [
      "Loading required package: glmnet\n",
      "\n",
      "Loading required package: Matrix\n",
      "\n",
      "Loaded glmnet 4.1-4\n",
      "\n"
     ]
    }
   ],
   "source": [
    "require(glmnet)\n",
    "grid <- 10^seq(10,-2, length = 100)\n",
    "ridge.mod <- glmnet(model.matrix(linear, X.train), y.train, alpha = 0, lambda = grid)"
   ]
  },
  {
   "cell_type": "markdown",
   "id": "37ff2cb4-ac93-4b09-9534-f89945f0f20a",
   "metadata": {
    "id": "37ff2cb4-ac93-4b09-9534-f89945f0f20a"
   },
   "source": [
    "Lo que la función \"glmnet\" ha hecho ahora es calcular 100 regresiones para los distintos valores de $\\lambda$ que le pasamos, por lo tanto cuando queremos consultar los coeficientes que arroja el modelo, se hace con el método \"coef\" y este va arrojar una matriz de k * 100 siendo k la cantidad de coeficientes que estamos estimando."
   ]
  },
  {
   "cell_type": "code",
   "execution_count": 37,
   "id": "679df4a0-0b24-4c8d-acc8-58e3c41c7899",
   "metadata": {
    "colab": {
     "base_uri": "https://localhost:8080/",
     "height": 34
    },
    "executionInfo": {
     "elapsed": 630,
     "status": "ok",
     "timestamp": 1653566779258,
     "user": {
      "displayName": "Pablo Quintana",
      "userId": "00674039532099061635"
     },
     "user_tz": 180
    },
    "id": "679df4a0-0b24-4c8d-acc8-58e3c41c7899",
    "outputId": "9b242b8b-b490-4f4f-a3af-fa0888430da6"
   },
   "outputs": [
    {
     "data": {
      "text/html": [
       "<style>\n",
       ".list-inline {list-style: none; margin:0; padding: 0}\n",
       ".list-inline>li {display: inline-block}\n",
       ".list-inline>li:not(:last-child)::after {content: \"\\00b7\"; padding: 0 .5ex}\n",
       "</style>\n",
       "<ol class=list-inline><li>35</li><li>100</li></ol>\n"
      ],
      "text/latex": [
       "\\begin{enumerate*}\n",
       "\\item 35\n",
       "\\item 100\n",
       "\\end{enumerate*}\n"
      ],
      "text/markdown": [
       "1. 35\n",
       "2. 100\n",
       "\n",
       "\n"
      ],
      "text/plain": [
       "[1]  35 100"
      ]
     },
     "metadata": {},
     "output_type": "display_data"
    }
   ],
   "source": [
    "dim(coef(ridge.mod))"
   ]
  },
  {
   "cell_type": "markdown",
   "id": "c20085cb-afe1-44da-ac37-fb682462b09b",
   "metadata": {},
   "source": [
    "El hiper parámetro $\\lambda$ se selecciona con cross-validation. Recordemos que la elección de los bloques en las carpetas de cross-validation se hace de manera aleatoria, entonces para poder repetir el experimento es necesario pasarle una semilla al software, así siempre nos arroja los mismos datos\n",
    "\n",
    "Para ejecutar la cross-validation en R se utiliza la función cv.glmnet y los parámetros que recibe son los mismos que los que recibe glmnet y se le agregan los de cross-validations. El argumento lambda es opcional, se puede pasar una lista propia o si se deja vació el programa tomara distintos lambda por defecto. La cantidad de carpetas está por defecto en 10 que también puede ser modificada. Entre los argumentos de salida podemos encontrar a lambda.min que representa el valor de lambda que minimiza el error.\n"
   ]
  },
  {
   "cell_type": "code",
   "execution_count": 38,
   "id": "8a2ea785-6c3c-46f7-9e6d-73014c8faf6e",
   "metadata": {
    "executionInfo": {
     "elapsed": 340605,
     "status": "aborted",
     "timestamp": 1653562471921,
     "user": {
      "displayName": "Pablo Quintana",
      "userId": "00674039532099061635"
     },
     "user_tz": 180
    },
    "id": "8a2ea785-6c3c-46f7-9e6d-73014c8faf6e"
   },
   "outputs": [
    {
     "data": {
      "text/html": [
       "0.0465895718498589"
      ],
      "text/latex": [
       "0.0465895718498589"
      ],
      "text/markdown": [
       "0.0465895718498589"
      ],
      "text/plain": [
       "[1] 0.04658957"
      ]
     },
     "metadata": {},
     "output_type": "display_data"
    },
    {
     "data": {
      "image/png": "[encoded data removed]",
      "text/plain": [
       "plot without title"
      ]
     },
     "metadata": {
      "image/png": {
       "height": 420,
       "width": 420
      }
     },
     "output_type": "display_data"
    }
   ],
   "source": [
    "set.seed(154)\n",
    "cv_ <- cv.glmnet(as.matrix(X.train), y.train, alpha = 0)\n",
    "plot(cv_)\n",
    "bestlam <- cv_$lambda.min\n",
    "bestlam"
   ]
  },
  {
   "cell_type": "markdown",
   "id": "0f4f6540-c098-4d2d-9790-48b80d77ed62",
   "metadata": {},
   "source": [
    "La función plot aplicada al objeto de cv.glmnet nos muestra un gráfico con los valores de lambda y el error cuadrático medio en el eje y. En este caso se muestra que si incrementamos la penalización el error se va incrementando.\n",
    "\n",
    "Para predecir los valores volvemos a usar la función predict solo que en este caso le debemos pasar el argumento \"s\", que se refiere al valor de lambda por el cual queremos estimar."
   ]
  },
  {
   "cell_type": "code",
   "execution_count": 39,
   "id": "7d03d567-25a0-4b6a-a09e-185bc2fe7a86",
   "metadata": {
    "executionInfo": {
     "elapsed": 340601,
     "status": "aborted",
     "timestamp": 1653562471922,
     "user": {
      "displayName": "Pablo Quintana",
      "userId": "00674039532099061635"
     },
     "user_tz": 180
    },
    "id": "7d03d567-25a0-4b6a-a09e-185bc2fe7a86"
   },
   "outputs": [
    {
     "data": {
      "text/html": [
       "<style>\n",
       ".dl-inline {width: auto; margin:0; padding: 0}\n",
       ".dl-inline>dt, .dl-inline>dd {float: none; width: auto; display: inline-block}\n",
       ".dl-inline>dt::after {content: \":\\0020\"; padding-right: .5ex}\n",
       ".dl-inline>dt:not(:first-of-type) {padding-left: .5ex}\n",
       "</style><dl class=dl-inline><dt>mse_train</dt><dd>0.202132448150482</dd><dt>mse_test</dt><dd>0.201400236433329</dd></dl>\n"
      ],
      "text/latex": [
       "\\begin{description*}\n",
       "\\item[mse\\textbackslash{}\\_train] 0.202132448150482\n",
       "\\item[mse\\textbackslash{}\\_test] 0.201400236433329\n",
       "\\end{description*}\n"
      ],
      "text/markdown": [
       "mse_train\n",
       ":   0.202132448150482mse_test\n",
       ":   0.201400236433329\n",
       "\n"
      ],
      "text/plain": [
       "mse_train  mse_test \n",
       "0.2021324 0.2014002 "
      ]
     },
     "metadata": {},
     "output_type": "display_data"
    }
   ],
   "source": [
    "ridge.pred <- predict(ridge.mod, s= bestlam, newx = (model.matrix(linear, X.test)))\n",
    "ridge.pred.train <- predict(ridge.mod, s=bestlam, newx = model.matrix(linear, X.train))\n",
    "\n",
    "ridge_rdos <- c('mse_train' = mse(ridge.pred.train, y.train), 'mse_test' = mse(ridge.pred, y.test))\n",
    "ridge_rdos"
   ]
  },
  {
   "cell_type": "code",
   "execution_count": 40,
   "id": "d2c4d080-e71d-4f99-8d3c-6e1da5199afb",
   "metadata": {},
   "outputs": [
    {
     "data": {
      "text/html": [
       "<strong>f1:</strong> 0.511314306825529"
      ],
      "text/latex": [
       "\\textbf{f1:} 0.511314306825529"
      ],
      "text/markdown": [
       "**f1:** 0.511314306825529"
      ],
      "text/plain": [
       "       f1 \n",
       "0.5113143 "
      ]
     },
     "metadata": {},
     "output_type": "display_data"
    }
   ],
   "source": [
    "# aplciamos clasificación\n",
    "clas <- clasif(ridge.pred, 0.3)\n",
    "ridge_rdos['f1'] <- f1_score(clas, y.test)\n",
    "ridge_rdos['f1']"
   ]
  },
  {
   "cell_type": "code",
   "execution_count": 41,
   "id": "81daae65-d174-4059-a84a-86ea263b4ded",
   "metadata": {},
   "outputs": [
    {
     "data": {
      "text/html": [
       "<table class=\"dataframe\">\n",
       "<caption>A matrix: 3 × 4 of type dbl</caption>\n",
       "<thead>\n",
       "\t<tr><th></th><th scope=col>ols_rdos</th><th scope=col>logit_rdos</th><th scope=col>svm_rdos</th><th scope=col>ridge_rdos</th></tr>\n",
       "</thead>\n",
       "<tbody>\n",
       "\t<tr><th scope=row>mse_train</th><td>0.2019455</td><td>0.2019257</td><td>0.2019455</td><td>0.2021324</td></tr>\n",
       "\t<tr><th scope=row>mse_test</th><td>0.2012196</td><td>0.2014333</td><td>0.2012196</td><td>0.2014002</td></tr>\n",
       "\t<tr><th scope=row>f1</th><td>0.5095327</td><td>0.5027429</td><td>0.5095327</td><td>0.5113143</td></tr>\n",
       "</tbody>\n",
       "</table>\n"
      ],
      "text/latex": [
       "A matrix: 3 × 4 of type dbl\n",
       "\\begin{tabular}{r|llll}\n",
       "  & ols\\_rdos & logit\\_rdos & svm\\_rdos & ridge\\_rdos\\\\\n",
       "\\hline\n",
       "\tmse\\_train & 0.2019455 & 0.2019257 & 0.2019455 & 0.2021324\\\\\n",
       "\tmse\\_test & 0.2012196 & 0.2014333 & 0.2012196 & 0.2014002\\\\\n",
       "\tf1 & 0.5095327 & 0.5027429 & 0.5095327 & 0.5113143\\\\\n",
       "\\end{tabular}\n"
      ],
      "text/markdown": [
       "\n",
       "A matrix: 3 × 4 of type dbl\n",
       "\n",
       "| <!--/--> | ols_rdos | logit_rdos | svm_rdos | ridge_rdos |\n",
       "|---|---|---|---|---|\n",
       "| mse_train | 0.2019455 | 0.2019257 | 0.2019455 | 0.2021324 |\n",
       "| mse_test | 0.2012196 | 0.2014333 | 0.2012196 | 0.2014002 |\n",
       "| f1 | 0.5095327 | 0.5027429 | 0.5095327 | 0.5113143 |\n",
       "\n"
      ],
      "text/plain": [
       "          ols_rdos  logit_rdos svm_rdos  ridge_rdos\n",
       "mse_train 0.2019455 0.2019257  0.2019455 0.2021324 \n",
       "mse_test  0.2012196 0.2014333  0.2012196 0.2014002 \n",
       "f1        0.5095327 0.5027429  0.5095327 0.5113143 "
      ]
     },
     "metadata": {},
     "output_type": "display_data"
    }
   ],
   "source": [
    "rdos <- cbind(rdos, ridge_rdos)\n",
    "rdos"
   ]
  },
  {
   "cell_type": "code",
   "execution_count": 42,
   "id": "60c184e6-84b1-4b02-bff0-782b642ee5dd",
   "metadata": {
    "executionInfo": {
     "elapsed": 340597,
     "status": "aborted",
     "timestamp": 1653562471923,
     "user": {
      "displayName": "Pablo Quintana",
      "userId": "00674039532099061635"
     },
     "user_tz": 180
    },
    "id": "60c184e6-84b1-4b02-bff0-782b642ee5dd"
   },
   "outputs": [
    {
     "data": {
      "text/plain": [
       "35 x 1 sparse Matrix of class \"dgCMatrix\"\n",
       "                                    s1\n",
       "(Intercept)               0.3184022756\n",
       "(Intercept)               .           \n",
       "yob                      -0.0260589120\n",
       "hh_size                   0.0051772359\n",
       "sex                      -0.0043684285\n",
       "city                      0.0384384809\n",
       "g2000                    -0.0064590779\n",
       "g2002                     0.0281784997\n",
       "p2000                     0.0342361034\n",
       "p2002                     0.0516700494\n",
       "p2004                     0.0672946573\n",
       "totalpopulation_estimate  0.0079586708\n",
       "percent_male             -0.0032137090\n",
       "median_age                0.0054647061\n",
       "percent_62yearsandover    0.0036362456\n",
       "percent_white             0.0085212063\n",
       "percent_black             0.0078908661\n",
       "median_income             0.0146987121\n",
       "employ_20to64            -0.0116581171\n",
       "highschool                0.0127484396\n",
       "bach_orhigher            -0.0032986286\n",
       "percent_hispanicorlatino -0.0017423180\n",
       "noise1                   -0.0002216600\n",
       "noise2                    0.0005995435\n",
       "noise3                   -0.0023031111\n",
       "noise4                   -0.0021870293\n",
       "noise5                   -0.0008989118\n",
       "noise6                    0.0022365450\n",
       "noise7                    0.0004353775\n",
       "noise8                    0.0011305628\n",
       "noise9                   -0.0004479132\n",
       "noise10                   0.0008822160\n",
       "noise11                   0.0002807225\n",
       "noise12                  -0.0001615805\n",
       "noise13                   0.0011130831"
      ]
     },
     "metadata": {},
     "output_type": "display_data"
    }
   ],
   "source": [
    "# si queremos ver los coeficientes hay que agregar el argumento \"coefficients\"\n",
    "predict(ridge.mod, type = \"coefficients\", s = bestlam)"
   ]
  },
  {
   "cell_type": "markdown",
   "id": "0258e068-1803-4d65-82f3-65fdf7266573",
   "metadata": {
    "id": "0258e068-1803-4d65-82f3-65fdf7266573"
   },
   "source": [
    "### LASSO\n",
    "\n",
    "La regresión LASSO es muy similar a la ridge, la diferencia es que se cambia la penalización $L2$ por la penalización $L1$. \n",
    "\n",
    "\\begin{equation}\n",
    "\\hat{\\beta}^{lasso} = argmin_β\\left(y_i-\\beta_0-\\sum_{j=1}^p\\beta_j^2\\right)^2\n",
    "\\end{equation}\n",
    "\\begin{equation}\n",
    "sujeto\\ a\\ \\sum_{j=1}^p|\\beta_j|\\ <= t\n",
    "\\end{equation}\n",
    "\n",
    "Resolviendo el problema el estimador nos queda de la siguiente forma:\n",
    "\n",
    "\\begin{equation}\n",
    "\\hat{\\beta}^{lasso} = argmin_β\\left\\{\\left(y_i-\\beta_0-\\sum_{j=1}^p\\beta_j^2\\right)^2 + λ\\sum_{j=1}^p|\\beta_j|\\right\\}\n",
    "\\end{equation}\n",
    "\n",
    "La restricción de esta regresión lleva los parametros $\\beta$ hacia 0 anulando los que no son relevantes para la solución del problema, a diferencia de la ridge que se acerca a 0 asintóticamente. Esta regresión es muy útil para la selección de variables es por eso que ultimamente es más utilizada que la ridge. \n",
    "\n",
    "Como ya había mencionado la función para calcular lasso es la misma que la de ridge, solo que ahora se le cambia el parámetro alpha y se pone en valor 1. Lo demás funciona de la mísma manera"
   ]
  },
  {
   "cell_type": "code",
   "execution_count": 43,
   "id": "b9773f9a-f859-4c30-97e3-1cd45f18da2b",
   "metadata": {
    "executionInfo": {
     "elapsed": 340589,
     "status": "aborted",
     "timestamp": 1653562471923,
     "user": {
      "displayName": "Pablo Quintana",
      "userId": "00674039532099061635"
     },
     "user_tz": 180
    },
    "id": "b9773f9a-f859-4c30-97e3-1cd45f18da2b"
   },
   "outputs": [
    {
     "name": "stderr",
     "output_type": "stream",
     "text": [
      "Warning message in regularize.values(x, y, ties, missing(ties), na.rm = na.rm):\n",
      "\"collapsing to unique 'x' values\"\n"
     ]
    },
    {
     "data": {
      "image/png": "[encoded data removed]",
      "text/plain": [
       "plot without title"
      ]
     },
     "metadata": {
      "image/png": {
       "height": 420,
       "width": 420
      }
     },
     "output_type": "display_data"
    }
   ],
   "source": [
    "lasso.mod <- glmnet(model.matrix(linear, X.train), y.train, alpha = 1, lambda = grid)\n",
    "plot(lasso.mod)"
   ]
  },
  {
   "cell_type": "code",
   "execution_count": 44,
   "id": "be301e63-5054-4055-9085-d4b2d2c83458",
   "metadata": {
    "executionInfo": {
     "elapsed": 340587,
     "status": "aborted",
     "timestamp": 1653562471926,
     "user": {
      "displayName": "Pablo Quintana",
      "userId": "00674039532099061635"
     },
     "user_tz": 180
    },
    "id": "be301e63-5054-4055-9085-d4b2d2c83458"
   },
   "outputs": [
    {
     "data": {
      "text/html": [
       "0.000326791214339085"
      ],
      "text/latex": [
       "0.000326791214339085"
      ],
      "text/markdown": [
       "0.000326791214339085"
      ],
      "text/plain": [
       "[1] 0.0003267912"
      ]
     },
     "metadata": {},
     "output_type": "display_data"
    },
    {
     "data": {
      "text/html": [
       "<style>\n",
       ".dl-inline {width: auto; margin:0; padding: 0}\n",
       ".dl-inline>dt, .dl-inline>dd {float: none; width: auto; display: inline-block}\n",
       ".dl-inline>dt::after {content: \":\\0020\"; padding-right: .5ex}\n",
       ".dl-inline>dt:not(:first-of-type) {padding-left: .5ex}\n",
       "</style><dl class=dl-inline><dt>mse_train</dt><dd>0.201957691657874</dd><dt>mse_test</dt><dd>0.201219171102631</dd><dt>f1</dt><dd>0.510586699001959</dd></dl>\n"
      ],
      "text/latex": [
       "\\begin{description*}\n",
       "\\item[mse\\textbackslash{}\\_train] 0.201957691657874\n",
       "\\item[mse\\textbackslash{}\\_test] 0.201219171102631\n",
       "\\item[f1] 0.510586699001959\n",
       "\\end{description*}\n"
      ],
      "text/markdown": [
       "mse_train\n",
       ":   0.201957691657874mse_test\n",
       ":   0.201219171102631f1\n",
       ":   0.510586699001959\n",
       "\n"
      ],
      "text/plain": [
       "mse_train  mse_test        f1 \n",
       "0.2019577 0.2012192 0.5105867 "
      ]
     },
     "metadata": {},
     "output_type": "display_data"
    },
    {
     "data": {
      "image/png": "[encoded data removed]",
      "text/plain": [
       "plot without title"
      ]
     },
     "metadata": {
      "image/png": {
       "height": 420,
       "width": 420
      }
     },
     "output_type": "display_data"
    }
   ],
   "source": [
    "set.seed(154)\n",
    "#X.train <- model.matrix(linear, as.data.frame(X.train))\n",
    "#X.test <- model.matrix(linear, as.data.frame(X.test))\n",
    "cv_lasso <- cv.glmnet(model.matrix(linear,X.train), y.train, alpha = 1)\n",
    "plot(cv_lasso)\n",
    "bestlam <- cv_lasso$lambda.min\n",
    "bestlam\n",
    "\n",
    "lasso.pred <- predict(cv_lasso, s= bestlam, newx = model.matrix(linear,X.test))\n",
    "lasso.pred.train <- predict(cv_lasso, s= bestlam, newx = model.matrix(linear,X.train))\n",
    "clas <- clasif(lasso.pred, 0.3)\n",
    "\n",
    "lasso_rdos <- c('mse_train' = mse(lasso.pred.train, y.train), 'mse_test' = mse(lasso.pred, y.test), 'f1' = f1_score(clas, y.test))\n",
    "lasso_rdos"
   ]
  },
  {
   "cell_type": "code",
   "execution_count": 45,
   "id": "52a6d5bf-a9b0-40ff-8f65-aed01d09f690",
   "metadata": {
    "executionInfo": {
     "elapsed": 340584,
     "status": "aborted",
     "timestamp": 1653562471928,
     "user": {
      "displayName": "Pablo Quintana",
      "userId": "00674039532099061635"
     },
     "user_tz": 180
    },
    "id": "52a6d5bf-a9b0-40ff-8f65-aed01d09f690"
   },
   "outputs": [
    {
     "data": {
      "text/plain": [
       "35 x 1 sparse Matrix of class \"dgCMatrix\"\n",
       "                                    s1\n",
       "(Intercept)               3.183872e-01\n",
       "(Intercept)               .           \n",
       "yob                      -2.816626e-02\n",
       "hh_size                   7.156824e-03\n",
       "sex                      -4.172734e-03\n",
       "city                      4.293234e-02\n",
       "g2000                    -8.825061e-03\n",
       "g2002                     2.936918e-02\n",
       "p2000                     3.743254e-02\n",
       "p2002                     5.675968e-02\n",
       "p2004                     7.498304e-02\n",
       "totalpopulation_estimate  1.022712e-02\n",
       "percent_male             -3.709430e-03\n",
       "median_age                2.788469e-03\n",
       "percent_62yearsandover    6.241068e-03\n",
       "percent_white             1.488301e-02\n",
       "percent_black             1.365543e-02\n",
       "median_income             2.362776e-02\n",
       "employ_20to64            -1.283373e-02\n",
       "highschool                2.201891e-02\n",
       "bach_orhigher             .           \n",
       "percent_hispanicorlatino  .           \n",
       "noise1                    .           \n",
       "noise2                    2.638516e-04\n",
       "noise3                   -2.214100e-03\n",
       "noise4                   -2.041656e-03\n",
       "noise5                   -6.094112e-04\n",
       "noise6                    2.112031e-03\n",
       "noise7                    1.763937e-04\n",
       "noise8                    8.916539e-04\n",
       "noise9                   -1.420510e-04\n",
       "noise10                   6.669624e-04\n",
       "noise11                   4.860416e-05\n",
       "noise12                   .           \n",
       "noise13                   8.374545e-04"
      ]
     },
     "metadata": {},
     "output_type": "display_data"
    }
   ],
   "source": [
    "predict(cv_lasso, type = \"coefficients\", s = bestlam)"
   ]
  },
  {
   "cell_type": "code",
   "execution_count": 46,
   "id": "784fbcc9-5866-43dd-b9ac-a077618d545e",
   "metadata": {},
   "outputs": [
    {
     "data": {
      "text/html": [
       "<table class=\"dataframe\">\n",
       "<caption>A matrix: 3 × 5 of type dbl</caption>\n",
       "<thead>\n",
       "\t<tr><th></th><th scope=col>ols_rdos</th><th scope=col>logit_rdos</th><th scope=col>svm_rdos</th><th scope=col>ridge_rdos</th><th scope=col>lasso_rdos</th></tr>\n",
       "</thead>\n",
       "<tbody>\n",
       "\t<tr><th scope=row>mse_train</th><td>0.2019455</td><td>0.2019257</td><td>0.2019455</td><td>0.2021324</td><td>0.2019577</td></tr>\n",
       "\t<tr><th scope=row>mse_test</th><td>0.2012196</td><td>0.2014333</td><td>0.2012196</td><td>0.2014002</td><td>0.2012192</td></tr>\n",
       "\t<tr><th scope=row>f1</th><td>0.5095327</td><td>0.5027429</td><td>0.5095327</td><td>0.5113143</td><td>0.5105867</td></tr>\n",
       "</tbody>\n",
       "</table>\n"
      ],
      "text/latex": [
       "A matrix: 3 × 5 of type dbl\n",
       "\\begin{tabular}{r|lllll}\n",
       "  & ols\\_rdos & logit\\_rdos & svm\\_rdos & ridge\\_rdos & lasso\\_rdos\\\\\n",
       "\\hline\n",
       "\tmse\\_train & 0.2019455 & 0.2019257 & 0.2019455 & 0.2021324 & 0.2019577\\\\\n",
       "\tmse\\_test & 0.2012196 & 0.2014333 & 0.2012196 & 0.2014002 & 0.2012192\\\\\n",
       "\tf1 & 0.5095327 & 0.5027429 & 0.5095327 & 0.5113143 & 0.5105867\\\\\n",
       "\\end{tabular}\n"
      ],
      "text/markdown": [
       "\n",
       "A matrix: 3 × 5 of type dbl\n",
       "\n",
       "| <!--/--> | ols_rdos | logit_rdos | svm_rdos | ridge_rdos | lasso_rdos |\n",
       "|---|---|---|---|---|---|\n",
       "| mse_train | 0.2019455 | 0.2019257 | 0.2019455 | 0.2021324 | 0.2019577 |\n",
       "| mse_test | 0.2012196 | 0.2014333 | 0.2012196 | 0.2014002 | 0.2012192 |\n",
       "| f1 | 0.5095327 | 0.5027429 | 0.5095327 | 0.5113143 | 0.5105867 |\n",
       "\n"
      ],
      "text/plain": [
       "          ols_rdos  logit_rdos svm_rdos  ridge_rdos lasso_rdos\n",
       "mse_train 0.2019455 0.2019257  0.2019455 0.2021324  0.2019577 \n",
       "mse_test  0.2012196 0.2014333  0.2012196 0.2014002  0.2012192 \n",
       "f1        0.5095327 0.5027429  0.5095327 0.5113143  0.5105867 "
      ]
     },
     "metadata": {},
     "output_type": "display_data"
    }
   ],
   "source": [
    "rdos <- cbind(rdos, lasso_rdos)\n",
    "rdos"
   ]
  },
  {
   "cell_type": "markdown",
   "id": "02c4d469-669e-4e07-bf51-df936077c684",
   "metadata": {},
   "source": [
    "Otro argumento de salida que ofrece glmnet es \"lambda.1se\" este no es el mínimo lambda es pero es el valor que más regulariza y se encuentra dentro del error estandard del mínimo. Se suele utilizar mucho porque a los efectos de seleccionar variables es más estricto."
   ]
  },
  {
   "cell_type": "code",
   "execution_count": 47,
   "id": "41e96c79-1a73-42f8-abab-5bc3c57a4482",
   "metadata": {},
   "outputs": [
    {
     "data": {
      "text/html": [
       "<style>\n",
       ".dl-inline {width: auto; margin:0; padding: 0}\n",
       ".dl-inline>dt, .dl-inline>dd {float: none; width: auto; display: inline-block}\n",
       ".dl-inline>dt::after {content: \":\\0020\"; padding-right: .5ex}\n",
       ".dl-inline>dt:not(:first-of-type) {padding-left: .5ex}\n",
       "</style><dl class=dl-inline><dt>mse_train</dt><dd>0.202293626323213</dd><dt>mse_test</dt><dd>0.201374201850021</dd><dt>f1</dt><dd>0.510053495665006</dd></dl>\n"
      ],
      "text/latex": [
       "\\begin{description*}\n",
       "\\item[mse\\textbackslash{}\\_train] 0.202293626323213\n",
       "\\item[mse\\textbackslash{}\\_test] 0.201374201850021\n",
       "\\item[f1] 0.510053495665006\n",
       "\\end{description*}\n"
      ],
      "text/markdown": [
       "mse_train\n",
       ":   0.202293626323213mse_test\n",
       ":   0.201374201850021f1\n",
       ":   0.510053495665006\n",
       "\n"
      ],
      "text/plain": [
       "mse_train  mse_test        f1 \n",
       "0.2022936 0.2013742 0.5100535 "
      ]
     },
     "metadata": {},
     "output_type": "display_data"
    }
   ],
   "source": [
    "lasso.pred2 <- predict(cv_lasso, s= cv_lasso$lambda.1se, newx = model.matrix(linear,X.test))\n",
    "lasso.pred2.train <- predict(cv_lasso, s= cv_lasso$lambda.1se, newx = model.matrix(linear,X.train))\n",
    "clas <- clasif(lasso.pred2, 0.3)\n",
    "\n",
    "lasso2_rdos <- c('mse_train' = mse(lasso.pred2.train, y.train), 'mse_test' = mse(lasso.pred2, y.test), 'f1' = f1_score(clas, y.test))\n",
    "lasso2_rdos"
   ]
  },
  {
   "cell_type": "code",
   "execution_count": 48,
   "id": "a84b1311-fa7c-432e-b561-cc0bc2240075",
   "metadata": {},
   "outputs": [
    {
     "data": {
      "text/html": [
       "<table class=\"dataframe\">\n",
       "<caption>A matrix: 3 × 6 of type dbl</caption>\n",
       "<thead>\n",
       "\t<tr><th></th><th scope=col>ols_rdos</th><th scope=col>logit_rdos</th><th scope=col>svm_rdos</th><th scope=col>ridge_rdos</th><th scope=col>lasso_rdos</th><th scope=col>lasso2_rdos</th></tr>\n",
       "</thead>\n",
       "<tbody>\n",
       "\t<tr><th scope=row>mse_train</th><td>0.2019455</td><td>0.2019257</td><td>0.2019455</td><td>0.2021324</td><td>0.2019577</td><td>0.2022936</td></tr>\n",
       "\t<tr><th scope=row>mse_test</th><td>0.2012196</td><td>0.2014333</td><td>0.2012196</td><td>0.2014002</td><td>0.2012192</td><td>0.2013742</td></tr>\n",
       "\t<tr><th scope=row>f1</th><td>0.5095327</td><td>0.5027429</td><td>0.5095327</td><td>0.5113143</td><td>0.5105867</td><td>0.5100535</td></tr>\n",
       "</tbody>\n",
       "</table>\n"
      ],
      "text/latex": [
       "A matrix: 3 × 6 of type dbl\n",
       "\\begin{tabular}{r|llllll}\n",
       "  & ols\\_rdos & logit\\_rdos & svm\\_rdos & ridge\\_rdos & lasso\\_rdos & lasso2\\_rdos\\\\\n",
       "\\hline\n",
       "\tmse\\_train & 0.2019455 & 0.2019257 & 0.2019455 & 0.2021324 & 0.2019577 & 0.2022936\\\\\n",
       "\tmse\\_test & 0.2012196 & 0.2014333 & 0.2012196 & 0.2014002 & 0.2012192 & 0.2013742\\\\\n",
       "\tf1 & 0.5095327 & 0.5027429 & 0.5095327 & 0.5113143 & 0.5105867 & 0.5100535\\\\\n",
       "\\end{tabular}\n"
      ],
      "text/markdown": [
       "\n",
       "A matrix: 3 × 6 of type dbl\n",
       "\n",
       "| <!--/--> | ols_rdos | logit_rdos | svm_rdos | ridge_rdos | lasso_rdos | lasso2_rdos |\n",
       "|---|---|---|---|---|---|---|\n",
       "| mse_train | 0.2019455 | 0.2019257 | 0.2019455 | 0.2021324 | 0.2019577 | 0.2022936 |\n",
       "| mse_test | 0.2012196 | 0.2014333 | 0.2012196 | 0.2014002 | 0.2012192 | 0.2013742 |\n",
       "| f1 | 0.5095327 | 0.5027429 | 0.5095327 | 0.5113143 | 0.5105867 | 0.5100535 |\n",
       "\n"
      ],
      "text/plain": [
       "          ols_rdos  logit_rdos svm_rdos  ridge_rdos lasso_rdos lasso2_rdos\n",
       "mse_train 0.2019455 0.2019257  0.2019455 0.2021324  0.2019577  0.2022936  \n",
       "mse_test  0.2012196 0.2014333  0.2012196 0.2014002  0.2012192  0.2013742  \n",
       "f1        0.5095327 0.5027429  0.5095327 0.5113143  0.5105867  0.5100535  "
      ]
     },
     "metadata": {},
     "output_type": "display_data"
    }
   ],
   "source": [
    "rdos <- cbind(rdos, lasso2_rdos)\n",
    "rdos"
   ]
  },
  {
   "cell_type": "code",
   "execution_count": 49,
   "id": "f0250eb2-2393-4ffb-a6ab-af24604f66d0",
   "metadata": {},
   "outputs": [
    {
     "data": {
      "text/plain": [
       "35 x 1 sparse Matrix of class \"dgCMatrix\"\n",
       "                                    s1\n",
       "(Intercept)               0.3184102134\n",
       "(Intercept)               .           \n",
       "yob                      -0.0249206744\n",
       "hh_size                   0.0035385429\n",
       "sex                      -0.0021181861\n",
       "city                      0.0389276178\n",
       "g2000                    -0.0044323692\n",
       "g2002                     0.0268710977\n",
       "p2000                     0.0348893771\n",
       "p2002                     0.0548121692\n",
       "p2004                     0.0712812422\n",
       "totalpopulation_estimate  0.0021933249\n",
       "percent_male              .           \n",
       "median_age                0.0065279892\n",
       "percent_62yearsandover    .           \n",
       "percent_white             0.0005478882\n",
       "percent_black             .           \n",
       "median_income             0.0032295022\n",
       "employ_20to64            -0.0093657030\n",
       "highschool                0.0054411236\n",
       "bach_orhigher             .           \n",
       "percent_hispanicorlatino -0.0013336100\n",
       "noise1                    .           \n",
       "noise2                    .           \n",
       "noise3                    .           \n",
       "noise4                    .           \n",
       "noise5                    .           \n",
       "noise6                    .           \n",
       "noise7                    .           \n",
       "noise8                    .           \n",
       "noise9                    .           \n",
       "noise10                   .           \n",
       "noise11                   .           \n",
       "noise12                   .           \n",
       "noise13                   .           "
      ]
     },
     "metadata": {},
     "output_type": "display_data"
    }
   ],
   "source": [
    "predict(cv_lasso, type = \"coefficients\",s = cv_lasso$lambda.1se)"
   ]
  },
  {
   "cell_type": "markdown",
   "id": "833e5cfe-7fa8-4b1f-95db-2711f47b990c",
   "metadata": {
    "id": "833e5cfe-7fa8-4b1f-95db-2711f47b990c"
   },
   "source": [
    "### Ridge y Lasso para una regresión logística\n",
    "\n",
    "Ante el mismo problema de clasificación podemos transformar a ridge o LASSO en una regresión logística agregando el argumento \"family = 'binomial'\" al comando glmnet o cv.glmnet"
   ]
  },
  {
   "cell_type": "code",
   "execution_count": 50,
   "id": "e79993a7-f1c5-4e5e-8d57-fa631a998135",
   "metadata": {
    "executionInfo": {
     "elapsed": 340578,
     "status": "aborted",
     "timestamp": 1653562471931,
     "user": {
      "displayName": "Pablo Quintana",
      "userId": "00674039532099061635"
     },
     "user_tz": 180
    },
    "id": "e79993a7-f1c5-4e5e-8d57-fa631a998135"
   },
   "outputs": [
    {
     "data": {
      "image/png": "[encoded data removed]",
      "text/plain": [
       "plot without title"
      ]
     },
     "metadata": {
      "image/png": {
       "height": 420,
       "width": 420
      }
     },
     "output_type": "display_data"
    }
   ],
   "source": [
    "ridge.logit <- glmnet(X.train, y.train, alpha = 0, family = 'binomial')\n",
    "plot(ridge.logit, label = FALSE)"
   ]
  },
  {
   "cell_type": "code",
   "execution_count": 51,
   "id": "677e7835-d0fd-4b03-b87a-c684bc3a12f4",
   "metadata": {
    "executionInfo": {
     "elapsed": 340573,
     "status": "aborted",
     "timestamp": 1653562471931,
     "user": {
      "displayName": "Pablo Quintana",
      "userId": "00674039532099061635"
     },
     "user_tz": 180
    },
    "id": "677e7835-d0fd-4b03-b87a-c684bc3a12f4"
   },
   "outputs": [
    {
     "name": "stderr",
     "output_type": "stream",
     "text": [
      "Warning message in plotCoef(x$beta, lambda = x$lambda, df = x$df, dev = x$dev.ratio, :\n",
      "\"1 or less nonzero coefficients; glmnet plot is not meaningful\"\n"
     ]
    },
    {
     "data": {
      "image/png": "[encoded data removed]",
      "text/plain": [
       "plot without title"
      ]
     },
     "metadata": {
      "image/png": {
       "height": 420,
       "width": 420
      }
     },
     "output_type": "display_data"
    }
   ],
   "source": [
    "lasso.logit <- glmnet(X.train, y.train, alpha = 1, family = 'binomial')\n",
    "plot(lasso.logit, label = FALSE)"
   ]
  },
  {
   "cell_type": "markdown",
   "id": "54f74caa-f32e-4be3-b403-ba3b8f8fde02",
   "metadata": {
    "id": "54f74caa-f32e-4be3-b403-ba3b8f8fde02"
   },
   "source": [
    "podemos obtener los coeficientes para uno o mas valoresd e $\\lambda$"
   ]
  },
  {
   "cell_type": "code",
   "execution_count": 52,
   "id": "de6dd1c9-a613-4f03-9521-9c725cd25059",
   "metadata": {
    "executionInfo": {
     "elapsed": 340568,
     "status": "aborted",
     "timestamp": 1653562471932,
     "user": {
      "displayName": "Pablo Quintana",
      "userId": "00674039532099061635"
     },
     "user_tz": 180
    },
    "id": "de6dd1c9-a613-4f03-9521-9c725cd25059"
   },
   "outputs": [
    {
     "data": {
      "text/plain": [
       "36 x 2 sparse Matrix of class \"dgCMatrix\"\n",
       "                                s1        s2\n",
       "(Intercept)              -3.721355 -5.337852\n",
       "Y                         6.654074  9.909548\n",
       "W                         .         .       \n",
       "yob                       .         .       \n",
       "hh_size                   .         .       \n",
       "sex                       .         .       \n",
       "city                      .         .       \n",
       "g2000                     .         .       \n",
       "g2002                     .         .       \n",
       "p2000                     .         .       \n",
       "p2002                     .         .       \n",
       "p2004                     .         .       \n",
       "totalpopulation_estimate  .         .       \n",
       "percent_male              .         .       \n",
       "median_age                .         .       \n",
       "percent_62yearsandover    .         .       \n",
       "percent_white             .         .       \n",
       "percent_black             .         .       \n",
       "median_income             .         .       \n",
       "employ_20to64             .         .       \n",
       "highschool                .         .       \n",
       "bach_orhigher             .         .       \n",
       "percent_hispanicorlatino  .         .       \n",
       "noise1                    .         .       \n",
       "noise2                    .         .       \n",
       "noise3                    .         .       \n",
       "noise4                    .         .       \n",
       "noise5                    .         .       \n",
       "noise6                    .         .       \n",
       "noise7                    .         .       \n",
       "noise8                    .         .       \n",
       "noise9                    .         .       \n",
       "noise10                   .         .       \n",
       "noise11                   .         .       \n",
       "noise12                   .         .       \n",
       "noise13                   .         .       "
      ]
     },
     "metadata": {},
     "output_type": "display_data"
    }
   ],
   "source": [
    "coef(lasso.logit, s = c(0.03457, 0.007))"
   ]
  },
  {
   "cell_type": "code",
   "execution_count": 53,
   "id": "9c4c0e0d-87c3-4032-ab2b-ce9e64e84bf7",
   "metadata": {
    "executionInfo": {
     "elapsed": 340567,
     "status": "aborted",
     "timestamp": 1653562471933,
     "user": {
      "displayName": "Pablo Quintana",
      "userId": "00674039532099061635"
     },
     "user_tz": 180
    },
    "id": "9c4c0e0d-87c3-4032-ab2b-ce9e64e84bf7"
   },
   "outputs": [],
   "source": [
    "pre.lasso.logit <- predict(lasso.logit, newx = as.matrix( X.test), \n",
    "                   s = c(0.03457, 0.007), type = \"response\")"
   ]
  },
  {
   "cell_type": "code",
   "execution_count": 54,
   "id": "82285d83-e995-4dcc-afd6-970a23561c34",
   "metadata": {
    "executionInfo": {
     "elapsed": 340562,
     "status": "aborted",
     "timestamp": 1653562471933,
     "user": {
      "displayName": "Pablo Quintana",
      "userId": "00674039532099061635"
     },
     "user_tz": 180
    },
    "id": "82285d83-e995-4dcc-afd6-970a23561c34"
   },
   "outputs": [
    {
     "data": {
      "image/png": "[encoded data removed]",
      "text/plain": [
       "plot without title"
      ]
     },
     "metadata": {
      "image/png": {
       "height": 420,
       "width": 420
      }
     },
     "output_type": "display_data"
    }
   ],
   "source": [
    "#usamos cross validation\n",
    "cv.glm.logit <- cv.glmnet(model.matrix(linear,X.train), y.train, alpha = 1, family = 'binomial')\n",
    "plot(cv.glm.logit)\n"
   ]
  },
  {
   "cell_type": "code",
   "execution_count": 55,
   "id": "895c1e35-738e-4e9d-bcaa-b8f0a3a6368d",
   "metadata": {
    "executionInfo": {
     "elapsed": 340558,
     "status": "aborted",
     "timestamp": 1653562471934,
     "user": {
      "displayName": "Pablo Quintana",
      "userId": "00674039532099061635"
     },
     "user_tz": 180
    },
    "id": "895c1e35-738e-4e9d-bcaa-b8f0a3a6368d"
   },
   "outputs": [
    {
     "data": {
      "text/plain": [
       "35 x 1 sparse Matrix of class \"dgCMatrix\"\n",
       "                                   s1\n",
       "(Intercept)              -0.815605015\n",
       "(Intercept)               .          \n",
       "yob                      -0.122287335\n",
       "hh_size                   .          \n",
       "sex                      -0.004410615\n",
       "city                      0.173216751\n",
       "g2000                     .          \n",
       "g2002                     0.149877166\n",
       "p2000                     0.158145980\n",
       "p2002                     0.256773517\n",
       "p2004                     0.338156130\n",
       "totalpopulation_estimate  .          \n",
       "percent_male              .          \n",
       "median_age                0.027876934\n",
       "percent_62yearsandover    .          \n",
       "percent_white             .          \n",
       "percent_black             .          \n",
       "median_income             .          \n",
       "employ_20to64            -0.039573571\n",
       "highschool                0.006640390\n",
       "bach_orhigher             .          \n",
       "percent_hispanicorlatino -0.003735525\n",
       "noise1                    .          \n",
       "noise2                    .          \n",
       "noise3                    .          \n",
       "noise4                    .          \n",
       "noise5                    .          \n",
       "noise6                    .          \n",
       "noise7                    .          \n",
       "noise8                    .          \n",
       "noise9                    .          \n",
       "noise10                   .          \n",
       "noise11                   .          \n",
       "noise12                   .          \n",
       "noise13                   .          "
      ]
     },
     "metadata": {},
     "output_type": "display_data"
    }
   ],
   "source": [
    "bestlam <- cv.glm.logit$lambda.1se\n",
    "coef(cv.glm.logit, s = bestlam)"
   ]
  },
  {
   "cell_type": "code",
   "execution_count": 56,
   "id": "5dd7f266-d3d8-4c04-9b8e-fcf2a909fc3b",
   "metadata": {
    "executionInfo": {
     "elapsed": 340556,
     "status": "aborted",
     "timestamp": 1653562471934,
     "user": {
      "displayName": "Pablo Quintana",
      "userId": "00674039532099061635"
     },
     "user_tz": 180
    },
    "id": "5dd7f266-d3d8-4c04-9b8e-fcf2a909fc3b"
   },
   "outputs": [
    {
     "name": "stderr",
     "output_type": "stream",
     "text": [
      "Warning message in pred - y_test:\n",
      "\"longitud de objeto mayor no es múltiplo de la longitud de uno menor\"\n"
     ]
    },
    {
     "data": {
      "text/html": [
       "<style>\n",
       ".dl-inline {width: auto; margin:0; padding: 0}\n",
       ".dl-inline>dt, .dl-inline>dd {float: none; width: auto; display: inline-block}\n",
       ".dl-inline>dt::after {content: \":\\0020\"; padding-right: .5ex}\n",
       ".dl-inline>dt:not(:first-of-type) {padding-left: .5ex}\n",
       "</style><dl class=dl-inline><dt>mse_train</dt><dd>0.229829349865633</dd><dt>mse_test</dt><dd>0.201666208479141</dd><dt>f1</dt><dd>0.504658534242628</dd></dl>\n"
      ],
      "text/latex": [
       "\\begin{description*}\n",
       "\\item[mse\\textbackslash{}\\_train] 0.229829349865633\n",
       "\\item[mse\\textbackslash{}\\_test] 0.201666208479141\n",
       "\\item[f1] 0.504658534242628\n",
       "\\end{description*}\n"
      ],
      "text/markdown": [
       "mse_train\n",
       ":   0.229829349865633mse_test\n",
       ":   0.201666208479141f1\n",
       ":   0.504658534242628\n",
       "\n"
      ],
      "text/plain": [
       "mse_train  mse_test        f1 \n",
       "0.2298293 0.2016662 0.5046585 "
      ]
     },
     "metadata": {},
     "output_type": "display_data"
    }
   ],
   "source": [
    "pre.cv.glm.logit <- as.vector(predict(cv.glm.logit, newx = model.matrix(linear,X.test), s = bestlam, type = \"response\" ))\n",
    "pre.cv.glm.train <- as.vector(predict(cv.glm.logit, newx = model.matrix(linear,X.test), s = bestlam,type = \"response\"))\n",
    "pre.lasso.logit <- clasif(pre.cv.glm.logit,0.3)\n",
    "#predict(cv.glm.logit, newx = model.matrix(linear,X.test), s = bestlam, type = 'class')\n",
    "\n",
    "lasso_logit_rdos <- c('mse_train' = mse(pre.cv.glm.train,y.train), 'mse_test' = mse(pre.cv.glm.logit, y.test), 'f1' = f1_score(pre.lasso.logit, y.test))\n",
    "lasso_logit_rdos"
   ]
  },
  {
   "cell_type": "code",
   "execution_count": 57,
   "id": "b69c32f8-330d-44aa-a871-3a38b9f55773",
   "metadata": {
    "executionInfo": {
     "elapsed": 340554,
     "status": "aborted",
     "timestamp": 1653562471934,
     "user": {
      "displayName": "Pablo Quintana",
      "userId": "00674039532099061635"
     },
     "user_tz": 180
    },
    "id": "b69c32f8-330d-44aa-a871-3a38b9f55773"
   },
   "outputs": [
    {
     "data": {
      "text/html": [
       "<table class=\"dataframe\">\n",
       "<caption>A matrix: 3 × 7 of type dbl</caption>\n",
       "<thead>\n",
       "\t<tr><th></th><th scope=col>ols_rdos</th><th scope=col>logit_rdos</th><th scope=col>svm_rdos</th><th scope=col>ridge_rdos</th><th scope=col>lasso_rdos</th><th scope=col>lasso2_rdos</th><th scope=col>lasso_logit_rdos</th></tr>\n",
       "</thead>\n",
       "<tbody>\n",
       "\t<tr><th scope=row>mse_train</th><td>0.2019455</td><td>0.2019257</td><td>0.2019455</td><td>0.2021324</td><td>0.2019577</td><td>0.2022936</td><td>0.2298293</td></tr>\n",
       "\t<tr><th scope=row>mse_test</th><td>0.2012196</td><td>0.2014333</td><td>0.2012196</td><td>0.2014002</td><td>0.2012192</td><td>0.2013742</td><td>0.2016662</td></tr>\n",
       "\t<tr><th scope=row>f1</th><td>0.5095327</td><td>0.5027429</td><td>0.5095327</td><td>0.5113143</td><td>0.5105867</td><td>0.5100535</td><td>0.5046585</td></tr>\n",
       "</tbody>\n",
       "</table>\n"
      ],
      "text/latex": [
       "A matrix: 3 × 7 of type dbl\n",
       "\\begin{tabular}{r|lllllll}\n",
       "  & ols\\_rdos & logit\\_rdos & svm\\_rdos & ridge\\_rdos & lasso\\_rdos & lasso2\\_rdos & lasso\\_logit\\_rdos\\\\\n",
       "\\hline\n",
       "\tmse\\_train & 0.2019455 & 0.2019257 & 0.2019455 & 0.2021324 & 0.2019577 & 0.2022936 & 0.2298293\\\\\n",
       "\tmse\\_test & 0.2012196 & 0.2014333 & 0.2012196 & 0.2014002 & 0.2012192 & 0.2013742 & 0.2016662\\\\\n",
       "\tf1 & 0.5095327 & 0.5027429 & 0.5095327 & 0.5113143 & 0.5105867 & 0.5100535 & 0.5046585\\\\\n",
       "\\end{tabular}\n"
      ],
      "text/markdown": [
       "\n",
       "A matrix: 3 × 7 of type dbl\n",
       "\n",
       "| <!--/--> | ols_rdos | logit_rdos | svm_rdos | ridge_rdos | lasso_rdos | lasso2_rdos | lasso_logit_rdos |\n",
       "|---|---|---|---|---|---|---|---|\n",
       "| mse_train | 0.2019455 | 0.2019257 | 0.2019455 | 0.2021324 | 0.2019577 | 0.2022936 | 0.2298293 |\n",
       "| mse_test | 0.2012196 | 0.2014333 | 0.2012196 | 0.2014002 | 0.2012192 | 0.2013742 | 0.2016662 |\n",
       "| f1 | 0.5095327 | 0.5027429 | 0.5095327 | 0.5113143 | 0.5105867 | 0.5100535 | 0.5046585 |\n",
       "\n"
      ],
      "text/plain": [
       "          ols_rdos  logit_rdos svm_rdos  ridge_rdos lasso_rdos lasso2_rdos\n",
       "mse_train 0.2019455 0.2019257  0.2019455 0.2021324  0.2019577  0.2022936  \n",
       "mse_test  0.2012196 0.2014333  0.2012196 0.2014002  0.2012192  0.2013742  \n",
       "f1        0.5095327 0.5027429  0.5095327 0.5113143  0.5105867  0.5100535  \n",
       "          lasso_logit_rdos\n",
       "mse_train 0.2298293       \n",
       "mse_test  0.2016662       \n",
       "f1        0.5046585       "
      ]
     },
     "metadata": {},
     "output_type": "display_data"
    }
   ],
   "source": [
    "rdos <- cbind(rdos, lasso_logit_rdos)\n",
    "rdos"
   ]
  },
  {
   "cell_type": "markdown",
   "id": "4f67092a-f1f8-44c7-90d2-238924b31a41",
   "metadata": {
    "id": "4f67092a-f1f8-44c7-90d2-238924b31a41"
   },
   "source": [
    "### Elastic net"
   ]
  },
  {
   "cell_type": "markdown",
   "id": "58563688-deef-470d-af45-ce64f44d89d9",
   "metadata": {},
   "source": [
    "El método *elastic net* junta las penalizaciones $L1$ y $L2$ en un solo algoritmo. La fórmula del estimador quedaría de la siguiente forma:\n",
    "\n",
    "\\begin{equation}\n",
    "\\hat{\\beta}^{en} = argmin_β\\left\\{\\left(y_i-\\beta_0-\\sum_{j=1}^p\\beta_j^2\\right)^2 + (1-\\alpha) λ\\sum_{j=1}^p\\beta_j^2+\\alpha\\lambda\\sum_{j=1}^p|\\beta_j|\\right\\}\n",
    "\\end{equation}\n",
    "\n",
    "Es muy similar a los anteriores solo que ajusta con un parámetro $\\alpha$ a cual penalización le da más importancia, LASSO y ridge son casos particulares de elastic net cuando $\\alpha = 1$ y cuando $\\alpha = 0$ respectivamente.\n",
    "\n",
    "De esta misma forma se trabaja en R, con la misma función glmnet salvo que ahora el parámetro alpha va estar dentro del intérvalo $(0,1)$. Siendo todo lo demás igual\n"
   ]
  },
  {
   "cell_type": "code",
   "execution_count": 58,
   "id": "c975e83d-f057-4a56-9ace-e2b6cb025e76",
   "metadata": {
    "executionInfo": {
     "elapsed": 340553,
     "status": "aborted",
     "timestamp": 1653562471935,
     "user": {
      "displayName": "Pablo Quintana",
      "userId": "00674039532099061635"
     },
     "user_tz": 180
    },
    "id": "c975e83d-f057-4a56-9ace-e2b6cb025e76"
   },
   "outputs": [],
   "source": [
    "elastnet.reg <- glmnet( X.train, y.train, alpha = 0.2)"
   ]
  },
  {
   "cell_type": "code",
   "execution_count": 59,
   "id": "8ed710a0-b130-467a-ba5e-db2aac2a20b6",
   "metadata": {
    "executionInfo": {
     "elapsed": 340549,
     "status": "aborted",
     "timestamp": 1653562471935,
     "user": {
      "displayName": "Pablo Quintana",
      "userId": "00674039532099061635"
     },
     "user_tz": 180
    },
    "id": "8ed710a0-b130-467a-ba5e-db2aac2a20b6"
   },
   "outputs": [
    {
     "name": "stderr",
     "output_type": "stream",
     "text": [
      "Warning message in plotCoef(x$beta, lambda = x$lambda, df = x$df, dev = x$dev.ratio, :\n",
      "\"1 or less nonzero coefficients; glmnet plot is not meaningful\"\n"
     ]
    },
    {
     "data": {
      "image/png": "[encoded data removed]",
      "text/plain": [
       "plot without title"
      ]
     },
     "metadata": {
      "image/png": {
       "height": 420,
       "width": 420
      }
     },
     "output_type": "display_data"
    }
   ],
   "source": [
    "plot(elastnet.reg, xvar = \"lambda\", label = FALSE)\n",
    "grid()"
   ]
  },
  {
   "cell_type": "markdown",
   "id": "e90b3def-c5e1-471c-84c1-0fb09284e1b3",
   "metadata": {},
   "source": [
    "La función cv.glmnet no aplica cross-validation sobre el parámetro alpha por lo tanos eso se debe hacer probando varios coeficientes."
   ]
  },
  {
   "cell_type": "code",
   "execution_count": 60,
   "id": "e30cfb39-bbf1-43f1-bc80-92072beb0911",
   "metadata": {
    "executionInfo": {
     "elapsed": 340545,
     "status": "aborted",
     "timestamp": 1653562471936,
     "user": {
      "displayName": "Pablo Quintana",
      "userId": "00674039532099061635"
     },
     "user_tz": 180
    },
    "id": "e30cfb39-bbf1-43f1-bc80-92072beb0911"
   },
   "outputs": [
    {
     "data": {
      "text/html": [
       "<style>\n",
       ".dl-inline {width: auto; margin:0; padding: 0}\n",
       ".dl-inline>dt, .dl-inline>dd {float: none; width: auto; display: inline-block}\n",
       ".dl-inline>dt::after {content: \":\\0020\"; padding-right: .5ex}\n",
       ".dl-inline>dt:not(:first-of-type) {padding-left: .5ex}\n",
       "</style><dl class=dl-inline><dt>mse_train</dt><dd>0.202441699842654</dd><dt>mse_test</dt><dd>0.201673347512014</dd><dt>f1</dt><dd>0.504511422537915</dd></dl>\n"
      ],
      "text/latex": [
       "\\begin{description*}\n",
       "\\item[mse\\textbackslash{}\\_train] 0.202441699842654\n",
       "\\item[mse\\textbackslash{}\\_test] 0.201673347512014\n",
       "\\item[f1] 0.504511422537915\n",
       "\\end{description*}\n"
      ],
      "text/markdown": [
       "mse_train\n",
       ":   0.202441699842654mse_test\n",
       ":   0.201673347512014f1\n",
       ":   0.504511422537915\n",
       "\n"
      ],
      "text/plain": [
       "mse_train  mse_test        f1 \n",
       "0.2024417 0.2016733 0.5045114 "
      ]
     },
     "metadata": {},
     "output_type": "display_data"
    }
   ],
   "source": [
    "elastnet.logit <- cv.glmnet( model.matrix(linear,X.train), y.train, alpha = 0.8, family = 'binomial')\n",
    "optlambda <- elastnet.logit$lambda.1se\n",
    "\n",
    "pre.elastnet <- as.vector(predict(elastnet.logit, newx = model.matrix(linear,X.test), s = optlambda, type = \"response\" ))\n",
    "pre.elastnet.train <- as.vector(predict(elastnet.logit, newx = model.matrix(linear,X.train), s = optlambda,type = \"response\"))\n",
    "pre.elastnet.logit <- clasif(pre.elastnet,0.3)\n",
    "\n",
    "elastnet_logit_rdos <- c('mse_train' = mse(pre.elastnet.train,y.train), 'mse_test' = mse(pre.elastnet, y.test), 'f1' = f1_score(pre.elastnet.logit, y.test))\n",
    "elastnet_logit_rdos"
   ]
  },
  {
   "cell_type": "code",
   "execution_count": 61,
   "id": "62f6a60d-217c-4358-af3b-0c75f7ca2f1e",
   "metadata": {},
   "outputs": [
    {
     "data": {
      "text/html": [
       "<table class=\"dataframe\">\n",
       "<caption>A matrix: 3 × 8 of type dbl</caption>\n",
       "<thead>\n",
       "\t<tr><th></th><th scope=col>ols_rdos</th><th scope=col>logit_rdos</th><th scope=col>svm_rdos</th><th scope=col>ridge_rdos</th><th scope=col>lasso_rdos</th><th scope=col>lasso2_rdos</th><th scope=col>lasso_logit_rdos</th><th scope=col>elastnet_logit_rdos</th></tr>\n",
       "</thead>\n",
       "<tbody>\n",
       "\t<tr><th scope=row>mse_train</th><td>0.2019455</td><td>0.2019257</td><td>0.2019455</td><td>0.2021324</td><td>0.2019577</td><td>0.2022936</td><td>0.2298293</td><td>0.2024417</td></tr>\n",
       "\t<tr><th scope=row>mse_test</th><td>0.2012196</td><td>0.2014333</td><td>0.2012196</td><td>0.2014002</td><td>0.2012192</td><td>0.2013742</td><td>0.2016662</td><td>0.2016733</td></tr>\n",
       "\t<tr><th scope=row>f1</th><td>0.5095327</td><td>0.5027429</td><td>0.5095327</td><td>0.5113143</td><td>0.5105867</td><td>0.5100535</td><td>0.5046585</td><td>0.5045114</td></tr>\n",
       "</tbody>\n",
       "</table>\n"
      ],
      "text/latex": [
       "A matrix: 3 × 8 of type dbl\n",
       "\\begin{tabular}{r|llllllll}\n",
       "  & ols\\_rdos & logit\\_rdos & svm\\_rdos & ridge\\_rdos & lasso\\_rdos & lasso2\\_rdos & lasso\\_logit\\_rdos & elastnet\\_logit\\_rdos\\\\\n",
       "\\hline\n",
       "\tmse\\_train & 0.2019455 & 0.2019257 & 0.2019455 & 0.2021324 & 0.2019577 & 0.2022936 & 0.2298293 & 0.2024417\\\\\n",
       "\tmse\\_test & 0.2012196 & 0.2014333 & 0.2012196 & 0.2014002 & 0.2012192 & 0.2013742 & 0.2016662 & 0.2016733\\\\\n",
       "\tf1 & 0.5095327 & 0.5027429 & 0.5095327 & 0.5113143 & 0.5105867 & 0.5100535 & 0.5046585 & 0.5045114\\\\\n",
       "\\end{tabular}\n"
      ],
      "text/markdown": [
       "\n",
       "A matrix: 3 × 8 of type dbl\n",
       "\n",
       "| <!--/--> | ols_rdos | logit_rdos | svm_rdos | ridge_rdos | lasso_rdos | lasso2_rdos | lasso_logit_rdos | elastnet_logit_rdos |\n",
       "|---|---|---|---|---|---|---|---|---|\n",
       "| mse_train | 0.2019455 | 0.2019257 | 0.2019455 | 0.2021324 | 0.2019577 | 0.2022936 | 0.2298293 | 0.2024417 |\n",
       "| mse_test | 0.2012196 | 0.2014333 | 0.2012196 | 0.2014002 | 0.2012192 | 0.2013742 | 0.2016662 | 0.2016733 |\n",
       "| f1 | 0.5095327 | 0.5027429 | 0.5095327 | 0.5113143 | 0.5105867 | 0.5100535 | 0.5046585 | 0.5045114 |\n",
       "\n"
      ],
      "text/plain": [
       "          ols_rdos  logit_rdos svm_rdos  ridge_rdos lasso_rdos lasso2_rdos\n",
       "mse_train 0.2019455 0.2019257  0.2019455 0.2021324  0.2019577  0.2022936  \n",
       "mse_test  0.2012196 0.2014333  0.2012196 0.2014002  0.2012192  0.2013742  \n",
       "f1        0.5095327 0.5027429  0.5095327 0.5113143  0.5105867  0.5100535  \n",
       "          lasso_logit_rdos elastnet_logit_rdos\n",
       "mse_train 0.2298293        0.2024417          \n",
       "mse_test  0.2016662        0.2016733          \n",
       "f1        0.5046585        0.5045114          "
      ]
     },
     "metadata": {},
     "output_type": "display_data"
    }
   ],
   "source": [
    "rdos <- cbind(rdos, elastnet_logit_rdos)\n",
    "rdos"
   ]
  },
  {
   "cell_type": "code",
   "execution_count": 62,
   "id": "20b1a115-bd68-4d74-83ee-f98a35333630",
   "metadata": {
    "executionInfo": {
     "elapsed": 340534,
     "status": "aborted",
     "timestamp": 1653562471937,
     "user": {
      "displayName": "Pablo Quintana",
      "userId": "00674039532099061635"
     },
     "user_tz": 180
    },
    "id": "20b1a115-bd68-4d74-83ee-f98a35333630"
   },
   "outputs": [
    {
     "data": {
      "text/plain": [
       "35 x 1 sparse Matrix of class \"dgCMatrix\"\n",
       "                                    s1\n",
       "(Intercept)              -0.8131202054\n",
       "(Intercept)               .           \n",
       "yob                      -0.1197573140\n",
       "hh_size                   .           \n",
       "sex                      -0.0003716016\n",
       "city                      0.1663460951\n",
       "g2000                     .           \n",
       "g2002                     0.1454205845\n",
       "p2000                     0.1542527256\n",
       "p2002                     0.2525058987\n",
       "p2004                     0.3318767969\n",
       "totalpopulation_estimate  .           \n",
       "percent_male              .           \n",
       "median_age                0.0251260777\n",
       "percent_62yearsandover    .           \n",
       "percent_white             .           \n",
       "percent_black             .           \n",
       "median_income             .           \n",
       "employ_20to64            -0.0380410025\n",
       "highschool                0.0016586280\n",
       "bach_orhigher             .           \n",
       "percent_hispanicorlatino  .           \n",
       "noise1                    .           \n",
       "noise2                    .           \n",
       "noise3                    .           \n",
       "noise4                    .           \n",
       "noise5                    .           \n",
       "noise6                    .           \n",
       "noise7                    .           \n",
       "noise8                    .           \n",
       "noise9                    .           \n",
       "noise10                   .           \n",
       "noise11                   .           \n",
       "noise12                   .           \n",
       "noise13                   .           "
      ]
     },
     "metadata": {},
     "output_type": "display_data"
    }
   ],
   "source": [
    "coef(cv.glm.logit, s = optlambda)"
   ]
  },
  {
   "cell_type": "markdown",
   "id": "e430fbc1-bb73-4a40-aa9a-74378a724ffa",
   "metadata": {},
   "source": [
    "### MCO con variables seleccionadas por LASSO"
   ]
  },
  {
   "cell_type": "code",
   "execution_count": 63,
   "id": "a3c7c323-d727-4b6c-8cbc-71c1268e176e",
   "metadata": {},
   "outputs": [
    {
     "data": {
      "text/html": [
       "<style>\n",
       ".list-inline {list-style: none; margin:0; padding: 0}\n",
       ".list-inline>li {display: inline-block}\n",
       ".list-inline>li:not(:last-child)::after {content: \"\\00b7\"; padding: 0 .5ex}\n",
       "</style>\n",
       "<ol class=list-inline><li>'yob'</li><li>'hh_size'</li><li>'sex'</li><li>'city'</li><li>'g2000'</li><li>'g2002'</li><li>'p2000'</li><li>'p2002'</li><li>'p2004'</li><li>'totalpopulation_estimate'</li><li>'median_age'</li><li>'percent_white'</li><li>'median_income'</li><li>'employ_20to64'</li><li>'highschool'</li><li>'percent_hispanicorlatino'</li></ol>\n"
      ],
      "text/latex": [
       "\\begin{enumerate*}\n",
       "\\item 'yob'\n",
       "\\item 'hh\\_size'\n",
       "\\item 'sex'\n",
       "\\item 'city'\n",
       "\\item 'g2000'\n",
       "\\item 'g2002'\n",
       "\\item 'p2000'\n",
       "\\item 'p2002'\n",
       "\\item 'p2004'\n",
       "\\item 'totalpopulation\\_estimate'\n",
       "\\item 'median\\_age'\n",
       "\\item 'percent\\_white'\n",
       "\\item 'median\\_income'\n",
       "\\item 'employ\\_20to64'\n",
       "\\item 'highschool'\n",
       "\\item 'percent\\_hispanicorlatino'\n",
       "\\end{enumerate*}\n"
      ],
      "text/markdown": [
       "1. 'yob'\n",
       "2. 'hh_size'\n",
       "3. 'sex'\n",
       "4. 'city'\n",
       "5. 'g2000'\n",
       "6. 'g2002'\n",
       "7. 'p2000'\n",
       "8. 'p2002'\n",
       "9. 'p2004'\n",
       "10. 'totalpopulation_estimate'\n",
       "11. 'median_age'\n",
       "12. 'percent_white'\n",
       "13. 'median_income'\n",
       "14. 'employ_20to64'\n",
       "15. 'highschool'\n",
       "16. 'percent_hispanicorlatino'\n",
       "\n",
       "\n"
      ],
      "text/plain": [
       " [1] \"yob\"                      \"hh_size\"                 \n",
       " [3] \"sex\"                      \"city\"                    \n",
       " [5] \"g2000\"                    \"g2002\"                   \n",
       " [7] \"p2000\"                    \"p2002\"                   \n",
       " [9] \"p2004\"                    \"totalpopulation_estimate\"\n",
       "[11] \"median_age\"               \"percent_white\"           \n",
       "[13] \"median_income\"            \"employ_20to64\"           \n",
       "[15] \"highschool\"               \"percent_hispanicorlatino\""
      ]
     },
     "metadata": {},
     "output_type": "display_data"
    }
   ],
   "source": [
    "coef_lasso <- predict(cv_lasso, type = \"nonzero\") # otra forma de estimar los coeficientes\n",
    "col <-colnames(model.matrix(linear,X.train))\n",
    "sel.var <- col[unlist(coef_lasso)]\n",
    "sel.var"
   ]
  },
  {
   "cell_type": "code",
   "execution_count": 65,
   "id": "cce60408-d4e3-4346-8e08-273aad08ec74",
   "metadata": {},
   "outputs": [
    {
     "data": {
      "text/plain": [
       "Y ~ yob + hh_size + sex + city + g2000 + g2002 + p2000 + p2002 + \n",
       "    p2004 + totalpopulation_estimate + median_age + percent_white + \n",
       "    median_income + employ_20to64 + highschool + percent_hispanicorlatino"
      ]
     },
     "metadata": {},
     "output_type": "display_data"
    }
   ],
   "source": [
    "# creamos la fórmula con las variables que quedan\n",
    "linear_lasso <- paste('Y', paste(sel.var, collapse = \" + \") , sep = \" ~ \")\n",
    "linear_lasso <- as.formula(linear_lasso)\n",
    "linear_lasso"
   ]
  },
  {
   "cell_type": "code",
   "execution_count": 66,
   "id": "c19d2e22-d1bf-4d7b-94af-921f4532a65c",
   "metadata": {},
   "outputs": [
    {
     "data": {
      "text/plain": [
       "\n",
       "Call:\n",
       "lm(formula = linear_lasso, data = X.train)\n",
       "\n",
       "Residuals:\n",
       "    Min      1Q  Median      3Q     Max \n",
       "-0.7699 -0.3381 -0.2185  0.5458  1.0129 \n",
       "\n",
       "Coefficients:\n",
       "                          Estimate Std. Error t value Pr(>|t|)    \n",
       "(Intercept)               0.318390   0.001368 232.746  < 2e-16 ***\n",
       "yob                      -0.028643   0.001507 -19.011  < 2e-16 ***\n",
       "hh_size                   0.007688   0.001447   5.313 1.08e-07 ***\n",
       "sex                      -0.004408   0.001370  -3.218  0.00129 ** \n",
       "city                      0.043364   0.001462  29.652  < 2e-16 ***\n",
       "g2000                    -0.009433   0.001500  -6.287 3.25e-10 ***\n",
       "g2002                     0.029778   0.001502  19.820  < 2e-16 ***\n",
       "p2000                     0.037993   0.001406  27.032  < 2e-16 ***\n",
       "p2002                     0.057121   0.001422  40.163  < 2e-16 ***\n",
       "p2004                     0.075756   0.001400  54.116  < 2e-16 ***\n",
       "totalpopulation_estimate  0.012523   0.001755   7.137 9.62e-13 ***\n",
       "median_age                0.008779   0.001740   5.044 4.56e-07 ***\n",
       "percent_white             0.002715   0.001884   1.441  0.14947    \n",
       "median_income             0.017785   0.002277   7.810 5.76e-15 ***\n",
       "employ_20to64            -0.012729   0.001813  -7.020 2.23e-12 ***\n",
       "highschool                0.020673   0.002565   8.060 7.73e-16 ***\n",
       "percent_hispanicorlatino -0.002054   0.001718  -1.195  0.23199    \n",
       "---\n",
       "Signif. codes:  0 '***' 0.001 '**' 0.01 '*' 0.05 '.' 0.1 ' ' 1\n",
       "\n",
       "Residual standard error: 0.4496 on 107982 degrees of freedom\n",
       "Multiple R-squared:  0.06906,\tAdjusted R-squared:  0.06893 \n",
       "F-statistic: 500.7 on 16 and 107982 DF,  p-value: < 2.2e-16\n"
      ]
     },
     "metadata": {},
     "output_type": "display_data"
    }
   ],
   "source": [
    "ols_lasso <- lm(linear_lasso, data = X.train)\n",
    "summary(ols_lasso)"
   ]
  },
  {
   "cell_type": "code",
   "execution_count": 67,
   "id": "30dc6fab-5e2c-4562-9964-dca68ab85132",
   "metadata": {},
   "outputs": [
    {
     "data": {
      "text/html": [
       "<style>\n",
       ".dl-inline {width: auto; margin:0; padding: 0}\n",
       ".dl-inline>dt, .dl-inline>dd {float: none; width: auto; display: inline-block}\n",
       ".dl-inline>dt::after {content: \":\\0020\"; padding-right: .5ex}\n",
       ".dl-inline>dt:not(:first-of-type) {padding-left: .5ex}\n",
       "</style><dl class=dl-inline><dt>mse_train</dt><dd>0.20206782970869</dd><dt>mse_test</dt><dd>0.201265172313486</dd><dt>f1</dt><dd>0.508958566629339</dd></dl>\n"
      ],
      "text/latex": [
       "\\begin{description*}\n",
       "\\item[mse\\textbackslash{}\\_train] 0.20206782970869\n",
       "\\item[mse\\textbackslash{}\\_test] 0.201265172313486\n",
       "\\item[f1] 0.508958566629339\n",
       "\\end{description*}\n"
      ],
      "text/markdown": [
       "mse_train\n",
       ":   0.20206782970869mse_test\n",
       ":   0.201265172313486f1\n",
       ":   0.508958566629339\n",
       "\n"
      ],
      "text/plain": [
       "mse_train  mse_test        f1 \n",
       "0.2020678 0.2012652 0.5089586 "
      ]
     },
     "metadata": {},
     "output_type": "display_data"
    }
   ],
   "source": [
    "pred_ols.lasso.train <- predict(ols_lasso, X.train)\n",
    "pred_ols.lasso <- predict(ols_lasso, X.test)\n",
    "clas <- clasif(pred_ols.lasso, 0.3) \n",
    "ols_lasso_rdos <- c('mse_train' = mse(pred_ols.lasso.train, y.train), 'mse_test' = mse(pred_ols.lasso, y.test), 'f1' = f1_score(clas,y.test))\n",
    "ols_lasso_rdos"
   ]
  },
  {
   "cell_type": "code",
   "execution_count": 68,
   "id": "e2c8000d-ef5e-424f-80ec-255bf596e8c0",
   "metadata": {},
   "outputs": [
    {
     "data": {
      "text/html": [
       "<table class=\"dataframe\">\n",
       "<caption>A matrix: 3 × 9 of type dbl</caption>\n",
       "<thead>\n",
       "\t<tr><th></th><th scope=col>ols_rdos</th><th scope=col>logit_rdos</th><th scope=col>svm_rdos</th><th scope=col>ridge_rdos</th><th scope=col>lasso_rdos</th><th scope=col>lasso2_rdos</th><th scope=col>lasso_logit_rdos</th><th scope=col>elastnet_logit_rdos</th><th scope=col>ols_lasso_rdos</th></tr>\n",
       "</thead>\n",
       "<tbody>\n",
       "\t<tr><th scope=row>mse_train</th><td>0.2019455</td><td>0.2019257</td><td>0.2019455</td><td>0.2021324</td><td>0.2019577</td><td>0.2022936</td><td>0.2298293</td><td>0.2024417</td><td>0.2020678</td></tr>\n",
       "\t<tr><th scope=row>mse_test</th><td>0.2012196</td><td>0.2014333</td><td>0.2012196</td><td>0.2014002</td><td>0.2012192</td><td>0.2013742</td><td>0.2016662</td><td>0.2016733</td><td>0.2012652</td></tr>\n",
       "\t<tr><th scope=row>f1</th><td>0.5095327</td><td>0.5027429</td><td>0.5095327</td><td>0.5113143</td><td>0.5105867</td><td>0.5100535</td><td>0.5046585</td><td>0.5045114</td><td>0.5089586</td></tr>\n",
       "</tbody>\n",
       "</table>\n"
      ],
      "text/latex": [
       "A matrix: 3 × 9 of type dbl\n",
       "\\begin{tabular}{r|lllllllll}\n",
       "  & ols\\_rdos & logit\\_rdos & svm\\_rdos & ridge\\_rdos & lasso\\_rdos & lasso2\\_rdos & lasso\\_logit\\_rdos & elastnet\\_logit\\_rdos & ols\\_lasso\\_rdos\\\\\n",
       "\\hline\n",
       "\tmse\\_train & 0.2019455 & 0.2019257 & 0.2019455 & 0.2021324 & 0.2019577 & 0.2022936 & 0.2298293 & 0.2024417 & 0.2020678\\\\\n",
       "\tmse\\_test & 0.2012196 & 0.2014333 & 0.2012196 & 0.2014002 & 0.2012192 & 0.2013742 & 0.2016662 & 0.2016733 & 0.2012652\\\\\n",
       "\tf1 & 0.5095327 & 0.5027429 & 0.5095327 & 0.5113143 & 0.5105867 & 0.5100535 & 0.5046585 & 0.5045114 & 0.5089586\\\\\n",
       "\\end{tabular}\n"
      ],
      "text/markdown": [
       "\n",
       "A matrix: 3 × 9 of type dbl\n",
       "\n",
       "| <!--/--> | ols_rdos | logit_rdos | svm_rdos | ridge_rdos | lasso_rdos | lasso2_rdos | lasso_logit_rdos | elastnet_logit_rdos | ols_lasso_rdos |\n",
       "|---|---|---|---|---|---|---|---|---|---|\n",
       "| mse_train | 0.2019455 | 0.2019257 | 0.2019455 | 0.2021324 | 0.2019577 | 0.2022936 | 0.2298293 | 0.2024417 | 0.2020678 |\n",
       "| mse_test | 0.2012196 | 0.2014333 | 0.2012196 | 0.2014002 | 0.2012192 | 0.2013742 | 0.2016662 | 0.2016733 | 0.2012652 |\n",
       "| f1 | 0.5095327 | 0.5027429 | 0.5095327 | 0.5113143 | 0.5105867 | 0.5100535 | 0.5046585 | 0.5045114 | 0.5089586 |\n",
       "\n"
      ],
      "text/plain": [
       "          ols_rdos  logit_rdos svm_rdos  ridge_rdos lasso_rdos lasso2_rdos\n",
       "mse_train 0.2019455 0.2019257  0.2019455 0.2021324  0.2019577  0.2022936  \n",
       "mse_test  0.2012196 0.2014333  0.2012196 0.2014002  0.2012192  0.2013742  \n",
       "f1        0.5095327 0.5027429  0.5095327 0.5113143  0.5105867  0.5100535  \n",
       "          lasso_logit_rdos elastnet_logit_rdos ols_lasso_rdos\n",
       "mse_train 0.2298293        0.2024417           0.2020678     \n",
       "mse_test  0.2016662        0.2016733           0.2012652     \n",
       "f1        0.5046585        0.5045114           0.5089586     "
      ]
     },
     "metadata": {},
     "output_type": "display_data"
    }
   ],
   "source": [
    "rdos <- cbind(rdos, ols_lasso_rdos)\n",
    "rdos"
   ]
  },
  {
   "cell_type": "code",
   "execution_count": null,
   "id": "a9f9f342-978d-4f64-b6cb-fdd4cf3fa951",
   "metadata": {},
   "outputs": [],
   "source": []
  }
 ],
 "metadata": {
  "colab": {
   "name": "Untitled.ipynb",
   "provenance": []
  },
  "kernelspec": {
   "display_name": "R",
   "language": "R",
   "name": "ir"
  },
  "language_info": {
   "codemirror_mode": "r",
   "file_extension": ".r",
   "mimetype": "text/x-r-source",
   "name": "R",
   "pygments_lexer": "r",
   "version": "4.1.3"
  }
 },
 "nbformat": 4,
 "nbformat_minor": 5
}
