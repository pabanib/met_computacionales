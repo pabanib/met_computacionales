{
 "cells": [
  {
   "cell_type": "markdown",
   "metadata": {
    "id": "mBETKs-95aKm"
   },
   "source": [
    "# Introducción de R en google colab\n"
   ]
  },
  {
   "cell_type": "markdown",
   "metadata": {
    "id": "E5Nk5N2f6BmM"
   },
   "source": [
    "## Habilitar R\n",
    "\n",
    "Cuándo se abre google colab el lenbguaje base es siempre python, pero existe una forma de trabajar con R también. \n",
    "\n",
    "1- Primero hay que abrir el navegador\n",
    "\n",
    "2- Colocar alguna de las siguientes URL:\n",
    "  \n",
    "   - https://colab.research.google.com/#create=true&language=\n",
    "   - https://colab.to/r\n",
    "\n",
    "Para poder ingresar tienen que tener abierta su sesion de Google drive\n",
    "\n",
    "Google Colaboratory proporciona la posibilidad de trabajar en la nube lo que permite usar el potencial de máquina que ofrece google. No es el único que trabaja de esta manera, existen otras plataformas que trabajan igual:\n",
    "\n",
    "- Binder: https://mybinder.org/ es gratuito pero hay que tener el código en github. Trabaja R, Python y Julia\n",
    "- Kaggle: https://www.kaggle.com/ ideal para practicar además tiene bases de datos disponibles. Trabaja R y Python\n",
    "- Microsoft Azure: ofrece horas gratis pero es de pago\n",
    "- JetBrains datalore : También tiene horas gratis el resto es pago\n",
    "\n"
   ]
  },
  {
   "cell_type": "markdown",
   "metadata": {},
   "source": [
    "## Estructuras de datos\n",
    "\n",
    "### Vectores en R\n",
    "\n",
    "Los vectores siempre contienen elementos de un mismo tipo. Se construyen con la función c. Si se agrega un dato de tipo distino a los que tiene el vector este transforma todos los datos en en tipo más genérico que pueda soportar a todos los elementos que contiene."
   ]
  },
  {
   "cell_type": "code",
   "execution_count": 19,
   "metadata": {},
   "outputs": [
    {
     "data": {
      "text/html": [
       "<style>\n",
       ".list-inline {list-style: none; margin:0; padding: 0}\n",
       ".list-inline>li {display: inline-block}\n",
       ".list-inline>li:not(:last-child)::after {content: \"\\00b7\"; padding: 0 .5ex}\n",
       "</style>\n",
       "<ol class=list-inline><li>5</li><li>6</li><li>8</li></ol>\n"
      ],
      "text/latex": [
       "\\begin{enumerate*}\n",
       "\\item 5\n",
       "\\item 6\n",
       "\\item 8\n",
       "\\end{enumerate*}\n"
      ],
      "text/markdown": [
       "1. 5\n",
       "2. 6\n",
       "3. 8\n",
       "\n",
       "\n"
      ],
      "text/plain": [
       "[1] 5 6 8"
      ]
     },
     "metadata": {},
     "output_type": "display_data"
    }
   ],
   "source": [
    "x <- c(5,6,8)\n",
    "x"
   ]
  },
  {
   "cell_type": "markdown",
   "metadata": {},
   "source": [
    "Para elegir un elemento se pone su posición entre corchetes. Esté además puede ser modificado por lo que es un objeto de tipo mutable"
   ]
  },
  {
   "cell_type": "code",
   "execution_count": 20,
   "metadata": {},
   "outputs": [
    {
     "data": {
      "text/html": [
       "<style>\n",
       ".list-inline {list-style: none; margin:0; padding: 0}\n",
       ".list-inline>li {display: inline-block}\n",
       ".list-inline>li:not(:last-child)::after {content: \"\\00b7\"; padding: 0 .5ex}\n",
       "</style>\n",
       "<ol class=list-inline><li>5</li><li>7</li><li>8</li></ol>\n"
      ],
      "text/latex": [
       "\\begin{enumerate*}\n",
       "\\item 5\n",
       "\\item 7\n",
       "\\item 8\n",
       "\\end{enumerate*}\n"
      ],
      "text/markdown": [
       "1. 5\n",
       "2. 7\n",
       "3. 8\n",
       "\n",
       "\n"
      ],
      "text/plain": [
       "[1] 5 7 8"
      ]
     },
     "metadata": {},
     "output_type": "display_data"
    }
   ],
   "source": [
    "x[2] <- 7\n",
    "x"
   ]
  },
  {
   "cell_type": "markdown",
   "metadata": {},
   "source": [
    "### Matrices y arrays\n",
    "\n",
    "Las matrices se podrían considerar como vectores de  dos dimensiones, por lo tanto al igual que un vector pueden tener datos de un solo tipo. Un array es una generalización de las matrices y puede adoptar cualquier dimensión, aunque también es encesario qeu sean del mismo tipo los elementos. En machine learning se usan mucho los tensores que son arrays de matrices.\n",
    "\n",
    "Para crear una matriz se utiliza el comando *matrix()*. Esta función acepta un argumento que son los datos y luego dos argumentos más que son el número de filas *nrows* y el número de columnas *ncol*. \n"
   ]
  },
  {
   "cell_type": "code",
   "execution_count": 21,
   "metadata": {},
   "outputs": [
    {
     "data": {
      "text/html": [
       "<table class=\"dataframe\">\n",
       "<caption>A matrix: 3 × 4 of type int</caption>\n",
       "<tbody>\n",
       "\t<tr><td>1</td><td>4</td><td>7</td><td>10</td></tr>\n",
       "\t<tr><td>2</td><td>5</td><td>8</td><td>11</td></tr>\n",
       "\t<tr><td>3</td><td>6</td><td>9</td><td>12</td></tr>\n",
       "</tbody>\n",
       "</table>\n"
      ],
      "text/latex": [
       "A matrix: 3 × 4 of type int\n",
       "\\begin{tabular}{llll}\n",
       "\t 1 & 4 & 7 & 10\\\\\n",
       "\t 2 & 5 & 8 & 11\\\\\n",
       "\t 3 & 6 & 9 & 12\\\\\n",
       "\\end{tabular}\n"
      ],
      "text/markdown": [
       "\n",
       "A matrix: 3 × 4 of type int\n",
       "\n",
       "| 1 | 4 | 7 | 10 |\n",
       "| 2 | 5 | 8 | 11 |\n",
       "| 3 | 6 | 9 | 12 |\n",
       "\n"
      ],
      "text/plain": [
       "     [,1] [,2] [,3] [,4]\n",
       "[1,] 1    4    7    10  \n",
       "[2,] 2    5    8    11  \n",
       "[3,] 3    6    9    12  "
      ]
     },
     "metadata": {},
     "output_type": "display_data"
    }
   ],
   "source": [
    "A <- matrix(1:12, 3,4 )\n",
    "A"
   ]
  },
  {
   "cell_type": "markdown",
   "metadata": {},
   "source": [
    "Para elegir un elemento de le matriz, se debe indicar el número de fila y el número de columna en el cual está el elemento"
   ]
  },
  {
   "cell_type": "code",
   "execution_count": 22,
   "metadata": {},
   "outputs": [
    {
     "data": {
      "text/html": [
       "8"
      ],
      "text/latex": [
       "8"
      ],
      "text/markdown": [
       "8"
      ],
      "text/plain": [
       "[1] 8"
      ]
     },
     "metadata": {},
     "output_type": "display_data"
    }
   ],
   "source": [
    "A[2,3]"
   ]
  },
  {
   "cell_type": "markdown",
   "metadata": {},
   "source": [
    "También se puede elegir un elemento marcando la posición que tiene el elemento contando como si fuera un vector"
   ]
  },
  {
   "cell_type": "code",
   "execution_count": 24,
   "metadata": {},
   "outputs": [
    {
     "data": {
      "text/html": [
       "5"
      ],
      "text/latex": [
       "5"
      ],
      "text/markdown": [
       "5"
      ],
      "text/plain": [
       "[1] 5"
      ]
     },
     "metadata": {},
     "output_type": "display_data"
    }
   ],
   "source": [
    "A[5]"
   ]
  },
  {
   "cell_type": "markdown",
   "metadata": {},
   "source": [
    "En caso que se quiera seleccionar una fila o una columna entera no se pone nada en esa posición y se acompaña la coma. $M[f,]$ para elegir una fila, $M[,c]$ para elegir una columna"
   ]
  },
  {
   "cell_type": "code",
   "execution_count": 23,
   "metadata": {},
   "outputs": [
    {
     "data": {
      "text/html": [
       "<style>\n",
       ".list-inline {list-style: none; margin:0; padding: 0}\n",
       ".list-inline>li {display: inline-block}\n",
       ".list-inline>li:not(:last-child)::after {content: \"\\00b7\"; padding: 0 .5ex}\n",
       "</style>\n",
       "<ol class=list-inline><li>2</li><li>5</li><li>8</li><li>11</li></ol>\n"
      ],
      "text/latex": [
       "\\begin{enumerate*}\n",
       "\\item 2\n",
       "\\item 5\n",
       "\\item 8\n",
       "\\item 11\n",
       "\\end{enumerate*}\n"
      ],
      "text/markdown": [
       "1. 2\n",
       "2. 5\n",
       "3. 8\n",
       "4. 11\n",
       "\n",
       "\n"
      ],
      "text/plain": [
       "[1]  2  5  8 11"
      ]
     },
     "metadata": {},
     "output_type": "display_data"
    }
   ],
   "source": [
    "A[2,]"
   ]
  },
  {
   "cell_type": "markdown",
   "metadata": {},
   "source": [
    "Otra forma de crear matrices es con las funciones *cbind* y *rbind* para apilar vectores en columnas y vectores en filas respectivamente"
   ]
  },
  {
   "cell_type": "code",
   "execution_count": 25,
   "metadata": {},
   "outputs": [
    {
     "data": {
      "text/html": [
       "<table class=\"dataframe\">\n",
       "<caption>A matrix: 4 × 2 of type int</caption>\n",
       "<tbody>\n",
       "\t<tr><td>1</td><td>2</td></tr>\n",
       "\t<tr><td>2</td><td>3</td></tr>\n",
       "\t<tr><td>3</td><td>4</td></tr>\n",
       "\t<tr><td>4</td><td>5</td></tr>\n",
       "</tbody>\n",
       "</table>\n"
      ],
      "text/latex": [
       "A matrix: 4 × 2 of type int\n",
       "\\begin{tabular}{ll}\n",
       "\t 1 & 2\\\\\n",
       "\t 2 & 3\\\\\n",
       "\t 3 & 4\\\\\n",
       "\t 4 & 5\\\\\n",
       "\\end{tabular}\n"
      ],
      "text/markdown": [
       "\n",
       "A matrix: 4 × 2 of type int\n",
       "\n",
       "| 1 | 2 |\n",
       "| 2 | 3 |\n",
       "| 3 | 4 |\n",
       "| 4 | 5 |\n",
       "\n"
      ],
      "text/plain": [
       "     [,1] [,2]\n",
       "[1,] 1    2   \n",
       "[2,] 2    3   \n",
       "[3,] 3    4   \n",
       "[4,] 4    5   "
      ]
     },
     "metadata": {},
     "output_type": "display_data"
    }
   ],
   "source": [
    "cbind(c(1:4), c(2:5))"
   ]
  },
  {
   "cell_type": "code",
   "execution_count": 27,
   "metadata": {},
   "outputs": [
    {
     "data": {
      "text/html": [
       "<table class=\"dataframe\">\n",
       "<caption>A matrix: 2 × 4 of type int</caption>\n",
       "<tbody>\n",
       "\t<tr><td>1</td><td>2</td><td>3</td><td>4</td></tr>\n",
       "\t<tr><td>2</td><td>3</td><td>4</td><td>5</td></tr>\n",
       "</tbody>\n",
       "</table>\n"
      ],
      "text/latex": [
       "A matrix: 2 × 4 of type int\n",
       "\\begin{tabular}{llll}\n",
       "\t 1 & 2 & 3 & 4\\\\\n",
       "\t 2 & 3 & 4 & 5\\\\\n",
       "\\end{tabular}\n"
      ],
      "text/markdown": [
       "\n",
       "A matrix: 2 × 4 of type int\n",
       "\n",
       "| 1 | 2 | 3 | 4 |\n",
       "| 2 | 3 | 4 | 5 |\n",
       "\n"
      ],
      "text/plain": [
       "     [,1] [,2] [,3] [,4]\n",
       "[1,] 1    2    3    4   \n",
       "[2,] 2    3    4    5   "
      ]
     },
     "metadata": {},
     "output_type": "display_data"
    }
   ],
   "source": [
    "rbind(c(1:4), c(2:5))"
   ]
  },
  {
   "cell_type": "markdown",
   "metadata": {},
   "source": [
    "### Data frames\n",
    "\n",
    "Los data frames son matrices que pueden adoptar cualquier tipo de dato. Son muy utilizados para trabajar, porque es el formato que adopatan las bases de datos. Las columnas de un dataframe son vectores, por lo tanto solo aceptan datos de un solo tipo, en el caso de las filas si se aceptan diferentes tipo de datos.\n",
    "\n",
    "Para crear un data frame se usa la función *data.frame()* y se le pueden agregar nombres a las columnas\n"
   ]
  },
  {
   "cell_type": "code",
   "execution_count": 31,
   "metadata": {},
   "outputs": [
    {
     "data": {
      "text/html": [
       "<table class=\"dataframe\">\n",
       "<caption>A data.frame: 4 × 3</caption>\n",
       "<thead>\n",
       "\t<tr><th scope=col>entero</th><th scope=col>factor</th><th scope=col>numero</th></tr>\n",
       "\t<tr><th scope=col>&lt;int&gt;</th><th scope=col>&lt;chr&gt;</th><th scope=col>&lt;dbl&gt;</th></tr>\n",
       "</thead>\n",
       "<tbody>\n",
       "\t<tr><td>1</td><td>a</td><td>1.2</td></tr>\n",
       "\t<tr><td>2</td><td>b</td><td>3.4</td></tr>\n",
       "\t<tr><td>3</td><td>c</td><td>4.5</td></tr>\n",
       "\t<tr><td>4</td><td>d</td><td>5.6</td></tr>\n",
       "</tbody>\n",
       "</table>\n"
      ],
      "text/latex": [
       "A data.frame: 4 × 3\n",
       "\\begin{tabular}{lll}\n",
       " entero & factor & numero\\\\\n",
       " <int> & <chr> & <dbl>\\\\\n",
       "\\hline\n",
       "\t 1 & a & 1.2\\\\\n",
       "\t 2 & b & 3.4\\\\\n",
       "\t 3 & c & 4.5\\\\\n",
       "\t 4 & d & 5.6\\\\\n",
       "\\end{tabular}\n"
      ],
      "text/markdown": [
       "\n",
       "A data.frame: 4 × 3\n",
       "\n",
       "| entero &lt;int&gt; | factor &lt;chr&gt; | numero &lt;dbl&gt; |\n",
       "|---|---|---|\n",
       "| 1 | a | 1.2 |\n",
       "| 2 | b | 3.4 |\n",
       "| 3 | c | 4.5 |\n",
       "| 4 | d | 5.6 |\n",
       "\n"
      ],
      "text/plain": [
       "  entero factor numero\n",
       "1 1      a      1.2   \n",
       "2 2      b      3.4   \n",
       "3 3      c      4.5   \n",
       "4 4      d      5.6   "
      ]
     },
     "metadata": {},
     "output_type": "display_data"
    }
   ],
   "source": [
    "mi_df <- data.frame(\n",
    "  \"entero\" = 1:4, \n",
    "  \"factor\" = c(\"a\", \"b\", \"c\", \"d\"), \n",
    "  \"numero\" = c(1.2, 3.4, 4.5, 5.6)\n",
    "  #\"cadena\" = as.character(c(\"a\", \"b\", \"c\", \"d\"))\n",
    ")\n",
    "\n",
    "mi_df"
   ]
  },
  {
   "cell_type": "code",
   "execution_count": 32,
   "metadata": {},
   "outputs": [
    {
     "data": {
      "text/html": [
       "<style>\n",
       ".list-inline {list-style: none; margin:0; padding: 0}\n",
       ".list-inline>li {display: inline-block}\n",
       ".list-inline>li:not(:last-child)::after {content: \"\\00b7\"; padding: 0 .5ex}\n",
       "</style>\n",
       "<ol class=list-inline><li>4</li><li>3</li></ol>\n"
      ],
      "text/latex": [
       "\\begin{enumerate*}\n",
       "\\item 4\n",
       "\\item 3\n",
       "\\end{enumerate*}\n"
      ],
      "text/markdown": [
       "1. 4\n",
       "2. 3\n",
       "\n",
       "\n"
      ],
      "text/plain": [
       "[1] 4 3"
      ]
     },
     "metadata": {},
     "output_type": "display_data"
    }
   ],
   "source": [
    "# la función dim arroja la cantidad de filas y columnas que tiene el df\n",
    "\n",
    "dim(mi_df)"
   ]
  },
  {
   "cell_type": "code",
   "execution_count": 33,
   "metadata": {},
   "outputs": [
    {
     "data": {
      "text/html": [
       "3"
      ],
      "text/latex": [
       "3"
      ],
      "text/markdown": [
       "3"
      ],
      "text/plain": [
       "[1] 3"
      ]
     },
     "metadata": {},
     "output_type": "display_data"
    }
   ],
   "source": [
    "# la función length arrija la cantidad de columnas\n",
    "length(mi_df)"
   ]
  },
  {
   "cell_type": "markdown",
   "metadata": {},
   "source": [
    "Para seleccionar elementos se trabaja de la misma forma que para una matriz, con un adicional, acá se puede elegir una columna de acuerdo al nombre que le hayamos puesto"
   ]
  },
  {
   "cell_type": "code",
   "execution_count": 34,
   "metadata": {},
   "outputs": [
    {
     "data": {
      "text/html": [
       "<table class=\"dataframe\">\n",
       "<caption>A data.frame: 4 × 1</caption>\n",
       "<thead>\n",
       "\t<tr><th scope=col>factor</th></tr>\n",
       "\t<tr><th scope=col>&lt;chr&gt;</th></tr>\n",
       "</thead>\n",
       "<tbody>\n",
       "\t<tr><td>a</td></tr>\n",
       "\t<tr><td>b</td></tr>\n",
       "\t<tr><td>c</td></tr>\n",
       "\t<tr><td>d</td></tr>\n",
       "</tbody>\n",
       "</table>\n"
      ],
      "text/latex": [
       "A data.frame: 4 × 1\n",
       "\\begin{tabular}{l}\n",
       " factor\\\\\n",
       " <chr>\\\\\n",
       "\\hline\n",
       "\t a\\\\\n",
       "\t b\\\\\n",
       "\t c\\\\\n",
       "\t d\\\\\n",
       "\\end{tabular}\n"
      ],
      "text/markdown": [
       "\n",
       "A data.frame: 4 × 1\n",
       "\n",
       "| factor &lt;chr&gt; |\n",
       "|---|\n",
       "| a |\n",
       "| b |\n",
       "| c |\n",
       "| d |\n",
       "\n"
      ],
      "text/plain": [
       "  factor\n",
       "1 a     \n",
       "2 b     \n",
       "3 c     \n",
       "4 d     "
      ]
     },
     "metadata": {},
     "output_type": "display_data"
    }
   ],
   "source": [
    "mi_df['factor']"
   ]
  },
  {
   "cell_type": "code",
   "execution_count": 40,
   "metadata": {},
   "outputs": [
    {
     "data": {
      "text/html": [
       "'c'"
      ],
      "text/latex": [
       "'c'"
      ],
      "text/markdown": [
       "'c'"
      ],
      "text/plain": [
       "[1] \"c\""
      ]
     },
     "metadata": {},
     "output_type": "display_data"
    }
   ],
   "source": [
    "# fila 3 de la columna factor\n",
    "mi_df[3,'factor']"
   ]
  },
  {
   "cell_type": "markdown",
   "metadata": {},
   "source": [
    "### Listas\n",
    "\n",
    "Las listas son unidimensionales como los vectores, pero pueden contener cualquier elemento dentro de ellas, incluso otras listas. Se pueden crear con la función *list()*"
   ]
  },
  {
   "cell_type": "code",
   "execution_count": 41,
   "metadata": {},
   "outputs": [
    {
     "data": {
      "text/html": [
       "<ol>\n",
       "\t<li><style>\n",
       ".list-inline {list-style: none; margin:0; padding: 0}\n",
       ".list-inline>li {display: inline-block}\n",
       ".list-inline>li:not(:last-child)::after {content: \"\\00b7\"; padding: 0 .5ex}\n",
       "</style>\n",
       "<ol class=list-inline><li>5</li><li>4</li></ol>\n",
       "</li>\n",
       "\t<li><table class=\"dataframe\">\n",
       "<caption>A matrix: 2 × 2 of type int</caption>\n",
       "<tbody>\n",
       "\t<tr><td>1</td><td>3</td></tr>\n",
       "\t<tr><td>2</td><td>4</td></tr>\n",
       "</tbody>\n",
       "</table>\n",
       "</li>\n",
       "\t<li>4</li>\n",
       "\t<li>'pepe'</li>\n",
       "</ol>\n"
      ],
      "text/latex": [
       "\\begin{enumerate}\n",
       "\\item \\begin{enumerate*}\n",
       "\\item 5\n",
       "\\item 4\n",
       "\\end{enumerate*}\n",
       "\n",
       "\\item A matrix: 2 × 2 of type int\n",
       "\\begin{tabular}{ll}\n",
       "\t 1 & 3\\\\\n",
       "\t 2 & 4\\\\\n",
       "\\end{tabular}\n",
       "\n",
       "\\item 4\n",
       "\\item 'pepe'\n",
       "\\end{enumerate}\n"
      ],
      "text/markdown": [
       "1. 1. 5\n",
       "2. 4\n",
       "\n",
       "\n",
       "\n",
       "2. \n",
       "A matrix: 2 × 2 of type int\n",
       "\n",
       "| 1 | 3 |\n",
       "| 2 | 4 |\n",
       "\n",
       "\n",
       "3. 4\n",
       "4. 'pepe'\n",
       "\n",
       "\n"
      ],
      "text/plain": [
       "[[1]]\n",
       "[1] 5 4\n",
       "\n",
       "[[2]]\n",
       "     [,1] [,2]\n",
       "[1,]    1    3\n",
       "[2,]    2    4\n",
       "\n",
       "[[3]]\n",
       "[1] 4\n",
       "\n",
       "[[4]]\n",
       "[1] \"pepe\"\n"
      ]
     },
     "metadata": {},
     "output_type": "display_data"
    }
   ],
   "source": [
    "lista1 <- list(c(5,4), matrix(1:4,2,2), 4,'pepe')\n",
    "lista1"
   ]
  },
  {
   "cell_type": "code",
   "execution_count": 42,
   "metadata": {},
   "outputs": [
    {
     "data": {
      "text/html": [
       "<ol>\n",
       "\t<li><ol>\n",
       "\t<li><style>\n",
       ".list-inline {list-style: none; margin:0; padding: 0}\n",
       ".list-inline>li {display: inline-block}\n",
       ".list-inline>li:not(:last-child)::after {content: \"\\00b7\"; padding: 0 .5ex}\n",
       "</style>\n",
       "<ol class=list-inline><li>5</li><li>4</li></ol>\n",
       "</li>\n",
       "\t<li><table class=\"dataframe\">\n",
       "<caption>A matrix: 2 × 2 of type int</caption>\n",
       "<tbody>\n",
       "\t<tr><td>1</td><td>3</td></tr>\n",
       "\t<tr><td>2</td><td>4</td></tr>\n",
       "</tbody>\n",
       "</table>\n",
       "</li>\n",
       "\t<li>4</li>\n",
       "\t<li>'pepe'</li>\n",
       "</ol>\n",
       "</li>\n",
       "\t<li><table class=\"dataframe\">\n",
       "<caption>A data.frame: 4 × 3</caption>\n",
       "<thead>\n",
       "\t<tr><th scope=col>entero</th><th scope=col>factor</th><th scope=col>numero</th></tr>\n",
       "\t<tr><th scope=col>&lt;int&gt;</th><th scope=col>&lt;chr&gt;</th><th scope=col>&lt;dbl&gt;</th></tr>\n",
       "</thead>\n",
       "<tbody>\n",
       "\t<tr><td>1</td><td>a</td><td>1.2</td></tr>\n",
       "\t<tr><td>2</td><td>b</td><td>3.4</td></tr>\n",
       "\t<tr><td>3</td><td>c</td><td>4.5</td></tr>\n",
       "\t<tr><td>4</td><td>d</td><td>5.6</td></tr>\n",
       "</tbody>\n",
       "</table>\n",
       "</li>\n",
       "</ol>\n"
      ],
      "text/latex": [
       "\\begin{enumerate}\n",
       "\\item \\begin{enumerate}\n",
       "\\item \\begin{enumerate*}\n",
       "\\item 5\n",
       "\\item 4\n",
       "\\end{enumerate*}\n",
       "\n",
       "\\item A matrix: 2 × 2 of type int\n",
       "\\begin{tabular}{ll}\n",
       "\t 1 & 3\\\\\n",
       "\t 2 & 4\\\\\n",
       "\\end{tabular}\n",
       "\n",
       "\\item 4\n",
       "\\item 'pepe'\n",
       "\\end{enumerate}\n",
       "\n",
       "\\item A data.frame: 4 × 3\n",
       "\\begin{tabular}{lll}\n",
       " entero & factor & numero\\\\\n",
       " <int> & <chr> & <dbl>\\\\\n",
       "\\hline\n",
       "\t 1 & a & 1.2\\\\\n",
       "\t 2 & b & 3.4\\\\\n",
       "\t 3 & c & 4.5\\\\\n",
       "\t 4 & d & 5.6\\\\\n",
       "\\end{tabular}\n",
       "\n",
       "\\end{enumerate}\n"
      ],
      "text/markdown": [
       "1. 1. 1. 5\n",
       "2. 4\n",
       "\n",
       "\n",
       "\n",
       "2. \n",
       "A matrix: 2 × 2 of type int\n",
       "\n",
       "| 1 | 3 |\n",
       "| 2 | 4 |\n",
       "\n",
       "\n",
       "3. 4\n",
       "4. 'pepe'\n",
       "\n",
       "\n",
       "\n",
       "2. \n",
       "A data.frame: 4 × 3\n",
       "\n",
       "| entero &lt;int&gt; | factor &lt;chr&gt; | numero &lt;dbl&gt; |\n",
       "|---|---|---|\n",
       "| 1 | a | 1.2 |\n",
       "| 2 | b | 3.4 |\n",
       "| 3 | c | 4.5 |\n",
       "| 4 | d | 5.6 |\n",
       "\n",
       "\n",
       "\n",
       "\n"
      ],
      "text/plain": [
       "[[1]]\n",
       "[[1]][[1]]\n",
       "[1] 5 4\n",
       "\n",
       "[[1]][[2]]\n",
       "     [,1] [,2]\n",
       "[1,]    1    3\n",
       "[2,]    2    4\n",
       "\n",
       "[[1]][[3]]\n",
       "[1] 4\n",
       "\n",
       "[[1]][[4]]\n",
       "[1] \"pepe\"\n",
       "\n",
       "\n",
       "[[2]]\n",
       "  entero factor numero\n",
       "1      1      a    1.2\n",
       "2      2      b    3.4\n",
       "3      3      c    4.5\n",
       "4      4      d    5.6\n"
      ]
     },
     "metadata": {},
     "output_type": "display_data"
    }
   ],
   "source": [
    "lista2 <- list(lista1, mi_df)\n",
    "lista2"
   ]
  },
  {
   "cell_type": "markdown",
   "metadata": {},
   "source": [
    "## Condicionales if y else\n",
    "\n",
    "La función if sirve para ejecutar una dfeterminada función siempre que ocurra alguna condición en particular. La estructura de la misma en R se escribe de la siguiente forma:\n",
    "\n",
    "if (condición) {\n",
    "\n",
    "    operaciones\n",
    "\n",
    "    }\n",
    "    \n",
    "Esto nos dice que va hacer el programa cuando ocurra la condición, en caso de que esto no suceda no va pasar nada. Si queremos agregar operaciones que actuén en caso de falsedad de la condicíon hay que agregar el comando *else*\n",
    "\n",
    "if (condición) {\n",
    "    \n",
    "    opearciones si se cumple\n",
    "    \n",
    "    } else \n",
    "    {\n",
    "    \n",
    "    operaciones si no se cumple\n",
    "    \n",
    "    }\n",
    "  \n",
    "\n",
    "**Ejemplo**\n",
    "\n",
    "Excluir la división por 0"
   ]
  },
  {
   "cell_type": "code",
   "execution_count": 9,
   "metadata": {},
   "outputs": [
    {
     "name": "stdout",
     "output_type": "stream",
     "text": [
      "[1] 3\n"
     ]
    }
   ],
   "source": [
    "n = 6\n",
    "d = 2\n",
    "\n",
    "if (d != 0){\n",
    "    print (n/d)\n",
    "    } else \n",
    "    {\n",
    "    print('no se puede dividir por 0')\n",
    "          }\n"
   ]
  },
  {
   "cell_type": "markdown",
   "metadata": {},
   "source": [
    "### ifesle\n",
    "\n",
    "El comando ifelse opera cuando queremos trabajar sobre listas, nos va devolever el grado de verdad por cada elemento de la lista.\n",
    "\n",
    "Estructura:\n",
    "\n",
    "ifelse( vector y condición, valor si es verdadero, valor si es falso)\n"
   ]
  },
  {
   "cell_type": "code",
   "execution_count": 11,
   "metadata": {},
   "outputs": [
    {
     "data": {
      "text/html": [
       "<style>\n",
       ".list-inline {list-style: none; margin:0; padding: 0}\n",
       ".list-inline>li {display: inline-block}\n",
       ".list-inline>li:not(:last-child)::after {content: \"\\00b7\"; padding: 0 .5ex}\n",
       "</style>\n",
       "<ol class=list-inline><li>'No se puede dividir'</li><li>'3'</li><li>'2'</li></ol>\n"
      ],
      "text/latex": [
       "\\begin{enumerate*}\n",
       "\\item 'No se puede dividir'\n",
       "\\item '3'\n",
       "\\item '2'\n",
       "\\end{enumerate*}\n"
      ],
      "text/markdown": [
       "1. 'No se puede dividir'\n",
       "2. '3'\n",
       "3. '2'\n",
       "\n",
       "\n"
      ],
      "text/plain": [
       "[1] \"No se puede dividir\" \"3\"                   \"2\"                  "
      ]
     },
     "metadata": {},
     "output_type": "display_data"
    }
   ],
   "source": [
    "n = 6\n",
    "d = c(0,2,3)\n",
    "\n",
    "ifelse(d == 0, 'No se puede dividir', 6/d) "
   ]
  },
  {
   "cell_type": "markdown",
   "metadata": {
    "id": "gBuQP-6aHPyV"
   },
   "source": [
    "## Iterar en R\n",
    "\n",
    "Una de las funciones principales para crear un programa es manejar las iteraciones o bucles\n",
    "\n",
    "### Instrucción for\n",
    "\n",
    "for (i in secuencia) {\n",
    "  \n",
    "      operación 1\n",
    "  \n",
    "      ...\n",
    "  \n",
    "      operación final\n",
    "  \n",
    "    }"
   ]
  },
  {
   "cell_type": "markdown",
   "metadata": {
    "id": "IqB3yhc6NOdD"
   },
   "source": [
    "**Ejemplo** \n",
    "\n",
    "Multiplicación de dos vectores "
   ]
  },
  {
   "cell_type": "code",
   "execution_count": null,
   "metadata": {
    "colab": {
     "base_uri": "https://localhost:8080/",
     "height": 34
    },
    "executionInfo": {
     "elapsed": 277,
     "status": "ok",
     "timestamp": 1652046973180,
     "user": {
      "displayName": "Pablo Quintana",
      "userId": "00674039532099061635"
     },
     "user_tz": 180
    },
    "id": "G2zDLdy4LwyM",
    "outputId": "a3905dc8-3dc8-4c2e-cee4-eab799beadf1"
   },
   "outputs": [
    {
     "data": {
      "text/html": [
       "<style>\n",
       ".list-inline {list-style: none; margin:0; padding: 0}\n",
       ".list-inline>li {display: inline-block}\n",
       ".list-inline>li:not(:last-child)::after {content: \"\\00b7\"; padding: 0 .5ex}\n",
       "</style>\n",
       "<ol class=list-inline><li>10</li><li>42</li><li>8</li></ol>\n"
      ],
      "text/latex": [
       "\\begin{enumerate*}\n",
       "\\item 10\n",
       "\\item 42\n",
       "\\item 8\n",
       "\\end{enumerate*}\n"
      ],
      "text/markdown": [
       "1. 10\n",
       "2. 42\n",
       "3. 8\n",
       "\n",
       "\n"
      ],
      "text/plain": [
       "[1] 10 42  8"
      ]
     },
     "metadata": {},
     "output_type": "display_data"
    }
   ],
   "source": [
    "a <- c(2,6,4)\n",
    "b <- c(5,7,2)\n",
    "\n",
    "rdo <- numeric()  #creamos un vector vacío\n",
    "\n",
    "for (i in 1:length(a)){\n",
    "  x <- a[i]*b[i]\n",
    "  rdo[i] <- x\n",
    "}\n",
    "\n",
    "rdo"
   ]
  },
  {
   "cell_type": "code",
   "execution_count": null,
   "metadata": {
    "colab": {
     "base_uri": "https://localhost:8080/",
     "height": 34
    },
    "executionInfo": {
     "elapsed": 268,
     "status": "ok",
     "timestamp": 1652046974365,
     "user": {
      "displayName": "Pablo Quintana",
      "userId": "00674039532099061635"
     },
     "user_tz": 180
    },
    "id": "CSYrclBwLD9y",
    "outputId": "08e2fc80-b5fb-4fbb-b9c1-569119310b94"
   },
   "outputs": [
    {
     "data": {
      "text/html": [
       "<style>\n",
       ".list-inline {list-style: none; margin:0; padding: 0}\n",
       ".list-inline>li {display: inline-block}\n",
       ".list-inline>li:not(:last-child)::after {content: \"\\00b7\"; padding: 0 .5ex}\n",
       "</style>\n",
       "<ol class=list-inline><li>10</li><li>42</li><li>8</li></ol>\n"
      ],
      "text/latex": [
       "\\begin{enumerate*}\n",
       "\\item 10\n",
       "\\item 42\n",
       "\\item 8\n",
       "\\end{enumerate*}\n"
      ],
      "text/markdown": [
       "1. 10\n",
       "2. 42\n",
       "3. 8\n",
       "\n",
       "\n"
      ],
      "text/plain": [
       "[1] 10 42  8"
      ]
     },
     "metadata": {},
     "output_type": "display_data"
    }
   ],
   "source": [
    "a*b"
   ]
  },
  {
   "cell_type": "markdown",
   "metadata": {
    "id": "xwBirUVHMKiw"
   },
   "source": [
    "instrucción while\n",
    "\n",
    "while (condición) {\n",
    "\n",
    "  operación 1\n",
    "\n",
    "  ...\n",
    "\n",
    "  operación final \n",
    "  \n",
    "}\n"
   ]
  },
  {
   "cell_type": "markdown",
   "metadata": {
    "id": "jXwyMmpuNaqi"
   },
   "source": [
    "**Ejemplo**\n",
    "\n",
    "Serie de Fibonacci"
   ]
  },
  {
   "cell_type": "code",
   "execution_count": null,
   "metadata": {
    "colab": {
     "base_uri": "https://localhost:8080/",
     "height": 34
    },
    "executionInfo": {
     "elapsed": 254,
     "status": "ok",
     "timestamp": 1652046977262,
     "user": {
      "displayName": "Pablo Quintana",
      "userId": "00674039532099061635"
     },
     "user_tz": 180
    },
    "id": "zxAKGUEKLneh",
    "outputId": "7abc2335-e010-4053-fb87-35bc37f60d6a"
   },
   "outputs": [
    {
     "data": {
      "text/html": [
       "<style>\n",
       ".list-inline {list-style: none; margin:0; padding: 0}\n",
       ".list-inline>li {display: inline-block}\n",
       ".list-inline>li:not(:last-child)::after {content: \"\\00b7\"; padding: 0 .5ex}\n",
       "</style>\n",
       "<ol class=list-inline><li>1</li><li>1</li><li>2</li><li>3</li><li>5</li><li>8</li><li>13</li><li>21</li><li>34</li></ol>\n"
      ],
      "text/latex": [
       "\\begin{enumerate*}\n",
       "\\item 1\n",
       "\\item 1\n",
       "\\item 2\n",
       "\\item 3\n",
       "\\item 5\n",
       "\\item 8\n",
       "\\item 13\n",
       "\\item 21\n",
       "\\item 34\n",
       "\\end{enumerate*}\n"
      ],
      "text/markdown": [
       "1. 1\n",
       "2. 1\n",
       "3. 2\n",
       "4. 3\n",
       "5. 5\n",
       "6. 8\n",
       "7. 13\n",
       "8. 21\n",
       "9. 34\n",
       "\n",
       "\n"
      ],
      "text/plain": [
       "[1]  1  1  2  3  5  8 13 21 34"
      ]
     },
     "metadata": {},
     "output_type": "display_data"
    }
   ],
   "source": [
    "max <- 10 \n",
    "i <- 0  #iterador\n",
    "rdo <- numeric()\n",
    "\n",
    "while (i < max) {\n",
    "  if (length(rdo) < 2) {\n",
    "     rdo[i] <- 1\n",
    "      }\n",
    "  else{\n",
    "    rdo[i] <- rdo[i-1]+rdo[i-2]\n",
    "  }\n",
    "  i <- i+1  #importante para no tener un bucle infinito\n",
    "}\n",
    "\n",
    "rdo"
   ]
  },
  {
   "cell_type": "markdown",
   "metadata": {
    "id": "3j2daKe0Vx6B"
   },
   "source": [
    "## Funciones\n",
    "\n",
    "Estructura\n",
    "\n",
    "nombre_de_función <- function(variable1, variable2,...){\n",
    "  \n",
    "    cuerpo\n",
    "\n",
    "    return(resultado)\n",
    "  }\n",
    "\n",
    "\n",
    "Por ejemplo función que devuelve la serie de Fibonacci"
   ]
  },
  {
   "cell_type": "code",
   "execution_count": null,
   "metadata": {
    "id": "CuqK3AzkORWu"
   },
   "outputs": [],
   "source": [
    "Fibonacci <- function(cantidad_digitos){\n",
    "  i <- 0  #iterador\n",
    "  rdo <- numeric()\n",
    "\n",
    "while (i <= cantidad_digitos) {\n",
    "  if (length(rdo) < 2) {\n",
    "     rdo[i] <- 1\n",
    "      }\n",
    "  else{\n",
    "    rdo[i] <- rdo[i-1]+rdo[i-2]\n",
    "  }\n",
    "  i <- i+1  #importante para no tener un bucle infinito\n",
    "}\n",
    "\n",
    "return(rdo)\n",
    "\n",
    "}"
   ]
  },
  {
   "cell_type": "code",
   "execution_count": null,
   "metadata": {
    "colab": {
     "base_uri": "https://localhost:8080/",
     "height": 52
    },
    "executionInfo": {
     "elapsed": 279,
     "status": "ok",
     "timestamp": 1652046981688,
     "user": {
      "displayName": "Pablo Quintana",
      "userId": "00674039532099061635"
     },
     "user_tz": 180
    },
    "id": "P7Qqo0bWcEnL",
    "outputId": "44f27736-2af3-4f82-bc02-2daf5d0c618c"
   },
   "outputs": [
    {
     "data": {
      "text/html": [
       "<style>\n",
       ".list-inline {list-style: none; margin:0; padding: 0}\n",
       ".list-inline>li {display: inline-block}\n",
       ".list-inline>li:not(:last-child)::after {content: \"\\00b7\"; padding: 0 .5ex}\n",
       "</style>\n",
       "<ol class=list-inline><li>1</li><li>1</li><li>2</li><li>3</li><li>5</li><li>8</li><li>13</li><li>21</li></ol>\n"
      ],
      "text/latex": [
       "\\begin{enumerate*}\n",
       "\\item 1\n",
       "\\item 1\n",
       "\\item 2\n",
       "\\item 3\n",
       "\\item 5\n",
       "\\item 8\n",
       "\\item 13\n",
       "\\item 21\n",
       "\\end{enumerate*}\n"
      ],
      "text/markdown": [
       "1. 1\n",
       "2. 1\n",
       "3. 2\n",
       "4. 3\n",
       "5. 5\n",
       "6. 8\n",
       "7. 13\n",
       "8. 21\n",
       "\n",
       "\n"
      ],
      "text/plain": [
       "[1]  1  1  2  3  5  8 13 21"
      ]
     },
     "metadata": {},
     "output_type": "display_data"
    },
    {
     "data": {
      "text/html": [
       "<style>\n",
       ".list-inline {list-style: none; margin:0; padding: 0}\n",
       ".list-inline>li {display: inline-block}\n",
       ".list-inline>li:not(:last-child)::after {content: \"\\00b7\"; padding: 0 .5ex}\n",
       "</style>\n",
       "<ol class=list-inline><li>1</li><li>1</li><li>2</li><li>3</li><li>5</li><li>8</li></ol>\n"
      ],
      "text/latex": [
       "\\begin{enumerate*}\n",
       "\\item 1\n",
       "\\item 1\n",
       "\\item 2\n",
       "\\item 3\n",
       "\\item 5\n",
       "\\item 8\n",
       "\\end{enumerate*}\n"
      ],
      "text/markdown": [
       "1. 1\n",
       "2. 1\n",
       "3. 2\n",
       "4. 3\n",
       "5. 5\n",
       "6. 8\n",
       "\n",
       "\n"
      ],
      "text/plain": [
       "[1] 1 1 2 3 5 8"
      ]
     },
     "metadata": {},
     "output_type": "display_data"
    }
   ],
   "source": [
    "Fibonacci(8)\n",
    "Fibonacci(6)"
   ]
  },
  {
   "cell_type": "markdown",
   "metadata": {
    "id": "y2a1CkzjnxTZ"
   },
   "source": [
    "## Montar una imágen de google drive"
   ]
  },
  {
   "cell_type": "code",
   "execution_count": null,
   "metadata": {
    "colab": {
     "base_uri": "https://localhost:8080/"
    },
    "executionInfo": {
     "elapsed": 6998,
     "status": "ok",
     "timestamp": 1652046999403,
     "user": {
      "displayName": "Pablo Quintana",
      "userId": "00674039532099061635"
     },
     "user_tz": 180
    },
    "id": "tNeS-b7wicGI",
    "outputId": "67304409-0666-4e6e-8ddf-3c83a652ddda"
   },
   "outputs": [
    {
     "name": "stderr",
     "output_type": "stream",
     "text": [
      "Installing package into ‘/usr/local/lib/R/site-library’\n",
      "(as ‘lib’ is unspecified)\n",
      "\n"
     ]
    }
   ],
   "source": [
    "install.packages(\"googledrive\")\n",
    "library(googledrive)"
   ]
  },
  {
   "cell_type": "code",
   "execution_count": null,
   "metadata": {
    "id": "o1d0J65qn8-n"
   },
   "outputs": [],
   "source": [
    "if (file.exists(\"/usr/local/lib/python3.6/dist-packages/google/colab/_ipython.py\")) {\n",
    "  install.packages(\"R.utils\")\n",
    "  library(\"R.utils\")\n",
    "  library(\"httr\")\n",
    "  my_check <- function() {return(TRUE)}\n",
    "  reassignInPackage(\"is_interactive\", pkgName = \"httr\", my_check) \n",
    "  options(rlang_interactive=TRUE)\n",
    "}"
   ]
  },
  {
   "cell_type": "code",
   "execution_count": null,
   "metadata": {
    "colab": {
     "base_uri": "https://localhost:8080/",
     "height": 374
    },
    "executionInfo": {
     "elapsed": 630,
     "status": "error",
     "timestamp": 1652048907075,
     "user": {
      "displayName": "Pablo Quintana",
      "userId": "00674039532099061635"
     },
     "user_tz": 180
    },
    "id": "3jJAiGLjyZYf",
    "outputId": "826d399b-f663-4620-ad51-58c047d74d08"
   },
   "outputs": [
    {
     "ename": "ERROR",
     "evalue": "ignored",
     "output_type": "error",
     "traceback": [
      "\u001b[1m\u001b[33mError\u001b[39m in \u001b[1m\u001b[1m`drive_auth()`:\u001b[22m\n\u001b[1m\u001b[22m\u001b[33m!\u001b[39m Can't get Google credentials\n\u001b[36mℹ\u001b[39m Are you running googledrive in a non-interactive session? Consider:\n\u001b[36m•\u001b[39m `drive_deauth()` to prevent the attempt to get credentials\n\u001b[36m•\u001b[39m Call `drive_auth()` directly with all necessary specifics\n\u001b[36mℹ\u001b[39m See gargle's \"Non-interactive auth\" vignette for more details:\n\u001b[36mℹ\u001b[39m \u001b[3m\u001b[34m<https://gargle.r-lib.org/articles/non-interactive-auth.html>\u001b[39m\u001b[23m\nTraceback:\n",
      "1. drive_auth(use_oob = TRUE, cache = TRUE)",
      "2. drive_abort(c(\"Can't get Google credentials\", i = \"Are you running googledrive in a non-interactive session? \\\\\\n             Consider:\", \n .     `*` = \"{.fun drive_deauth} to prevent the attempt to get credentials\", \n .     `*` = \"Call {.fun drive_auth} directly with all necessary specifics\", \n .     i = \"See gargle's \\\"Non-interactive auth\\\" vignette for more details:\", \n .     i = \"{.url https://gargle.r-lib.org/articles/non-interactive-auth.html}\"))",
      "3. cli::cli_abort(message = message, ..., .envir = .envir)",
      "4. rlang::abort(message, ..., call = call, use_cli_format = TRUE)",
      "5. signal_abort(cnd, .file)"
     ]
    }
   ],
   "source": [
    "drive_auth(use_oob = TRUE, cache = TRUE)"
   ]
  },
  {
   "cell_type": "code",
   "execution_count": null,
   "metadata": {
    "colab": {
     "base_uri": "https://localhost:8080/",
     "height": 374
    },
    "executionInfo": {
     "elapsed": 613,
     "status": "error",
     "timestamp": 1652048364410,
     "user": {
      "displayName": "Pablo Quintana",
      "userId": "00674039532099061635"
     },
     "user_tz": 180
    },
    "id": "GF_1DHgxoDGp",
    "outputId": "02958c18-2466-40b6-f4f4-7a8c2cdbb0cb"
   },
   "outputs": [
    {
     "ename": "ERROR",
     "evalue": "ignored",
     "output_type": "error",
     "traceback": [
      "\u001b[1m\u001b[33mError\u001b[39m in \u001b[1m\u001b[1m`drive_auth()`:\u001b[22m\n\u001b[1m\u001b[22m\u001b[33m!\u001b[39m Can't get Google credentials\n\u001b[36mℹ\u001b[39m Are you running googledrive in a non-interactive session? Consider:\n\u001b[36m•\u001b[39m `drive_deauth()` to prevent the attempt to get credentials\n\u001b[36m•\u001b[39m Call `drive_auth()` directly with all necessary specifics\n\u001b[36mℹ\u001b[39m See gargle's \"Non-interactive auth\" vignette for more details:\n\u001b[36mℹ\u001b[39m \u001b[3m\u001b[34m<https://gargle.r-lib.org/articles/non-interactive-auth.html>\u001b[39m\u001b[23m\nTraceback:\n",
      "1. drive_auth(email = \"pabanib@hotmail.com\")",
      "2. drive_abort(c(\"Can't get Google credentials\", i = \"Are you running googledrive in a non-interactive session? \\\\\\n             Consider:\", \n .     `*` = \"{.fun drive_deauth} to prevent the attempt to get credentials\", \n .     `*` = \"Call {.fun drive_auth} directly with all necessary specifics\", \n .     i = \"See gargle's \\\"Non-interactive auth\\\" vignette for more details:\", \n .     i = \"{.url https://gargle.r-lib.org/articles/non-interactive-auth.html}\"))",
      "3. cli::cli_abort(message = message, ..., .envir = .envir)",
      "4. rlang::abort(message, ..., call = call, use_cli_format = TRUE)",
      "5. signal_abort(cnd, .file)"
     ]
    }
   ],
   "source": [
    "options(gargle_oauth_email = \"pabanib@hotmail.com\")\n",
    "drive_auth(email = \"pabanib@hotmail.com\")"
   ]
  },
  {
   "cell_type": "code",
   "execution_count": null,
   "metadata": {
    "colab": {
     "base_uri": "https://localhost:8080/",
     "height": 461
    },
    "executionInfo": {
     "elapsed": 576,
     "status": "error",
     "timestamp": 1652047417849,
     "user": {
      "displayName": "Pablo Quintana",
      "userId": "00674039532099061635"
     },
     "user_tz": 180
    },
    "id": "jyswC2xzq3uC",
    "outputId": "a030c231-138a-45c3-febd-1cc7785cdfdf"
   },
   "outputs": [
    {
     "ename": "ERROR",
     "evalue": "ignored",
     "output_type": "error",
     "traceback": [
      "\u001b[1m\u001b[33mError\u001b[39m in \u001b[1m\u001b[1m`drive_auth()`:\u001b[22m\n\u001b[1m\u001b[22m\u001b[33m!\u001b[39m Can't get Google credentials\n\u001b[36mℹ\u001b[39m Are you running googledrive in a non-interactive session? Consider:\n\u001b[36m•\u001b[39m `drive_deauth()` to prevent the attempt to get credentials\n\u001b[36m•\u001b[39m Call `drive_auth()` directly with all necessary specifics\n\u001b[36mℹ\u001b[39m See gargle's \"Non-interactive auth\" vignette for more details:\n\u001b[36mℹ\u001b[39m \u001b[3m\u001b[34m<https://gargle.r-lib.org/articles/non-interactive-auth.html>\u001b[39m\u001b[23m\nTraceback:\n",
      "1. drive_find()",
      "2. request_generate(endpoint = \"drive.files.list\", params = params)",
      "3. gargle::request_build(path = req$path, method = req$method, params = req$params, \n .     body = req$body, token = token)",
      "4. drive_token()",
      "5. drive_auth()",
      "6. drive_abort(c(\"Can't get Google credentials\", i = \"Are you running googledrive in a non-interactive session? \\\\\\n             Consider:\", \n .     `*` = \"{.fun drive_deauth} to prevent the attempt to get credentials\", \n .     `*` = \"Call {.fun drive_auth} directly with all necessary specifics\", \n .     i = \"See gargle's \\\"Non-interactive auth\\\" vignette for more details:\", \n .     i = \"{.url https://gargle.r-lib.org/articles/non-interactive-auth.html}\"))",
      "7. cli::cli_abort(message = message, ..., .envir = .envir)",
      "8. rlang::abort(message, ..., call = call, use_cli_format = TRUE)",
      "9. signal_abort(cnd, .file)"
     ]
    }
   ],
   "source": [
    "drive_find()"
   ]
  },
  {
   "cell_type": "code",
   "execution_count": null,
   "metadata": {
    "id": "HABD8t9msw0t"
   },
   "outputs": [],
   "source": [
    "help(drive_auth)"
   ]
  },
  {
   "cell_type": "code",
   "execution_count": null,
   "metadata": {
    "id": "tt4n5nr8s1TF"
   },
   "outputs": [],
   "source": []
  }
 ],
 "metadata": {
  "colab": {
   "name": "Intro_R_colab.ipynb",
   "provenance": []
  },
  "kernelspec": {
   "display_name": "R",
   "language": "R",
   "name": "ir"
  },
  "language_info": {
   "codemirror_mode": "r",
   "file_extension": ".r",
   "mimetype": "text/x-r-source",
   "name": "R",
   "pygments_lexer": "r",
   "version": "4.1.3"
  }
 },
 "nbformat": 4,
 "nbformat_minor": 4
}
