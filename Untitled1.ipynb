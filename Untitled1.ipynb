{
 "cells": [
  {
   "cell_type": "markdown",
   "id": "88690b95-227b-48ea-9857-56f6e36b64df",
   "metadata": {},
   "source": [
    "# Salarios"
   ]
  },
  {
   "cell_type": "code",
   "execution_count": 2,
   "id": "2e6d22c0-c721-477c-85eb-6bc7bfb711cc",
   "metadata": {},
   "outputs": [],
   "source": [
    "library(ISLR)"
   ]
  },
  {
   "cell_type": "code",
   "execution_count": 4,
   "id": "927c3f61-f115-4630-8ee7-1d17a7f04f05",
   "metadata": {},
   "outputs": [
    {
     "data": {
      "text/html": [
       "<table class=\"dataframe\">\n",
       "<caption>A data.frame: 6 × 11</caption>\n",
       "<thead>\n",
       "\t<tr><th></th><th scope=col>year</th><th scope=col>age</th><th scope=col>maritl</th><th scope=col>race</th><th scope=col>education</th><th scope=col>region</th><th scope=col>jobclass</th><th scope=col>health</th><th scope=col>health_ins</th><th scope=col>logwage</th><th scope=col>wage</th></tr>\n",
       "\t<tr><th></th><th scope=col>&lt;int&gt;</th><th scope=col>&lt;int&gt;</th><th scope=col>&lt;fct&gt;</th><th scope=col>&lt;fct&gt;</th><th scope=col>&lt;fct&gt;</th><th scope=col>&lt;fct&gt;</th><th scope=col>&lt;fct&gt;</th><th scope=col>&lt;fct&gt;</th><th scope=col>&lt;fct&gt;</th><th scope=col>&lt;dbl&gt;</th><th scope=col>&lt;dbl&gt;</th></tr>\n",
       "</thead>\n",
       "<tbody>\n",
       "\t<tr><th scope=row>231655</th><td>2006</td><td>18</td><td>1. Never Married</td><td>1. White</td><td><span style=white-space:pre-wrap>1. &lt; HS Grad   </span></td><td>2. Middle Atlantic</td><td>1. Industrial </td><td><span style=white-space:pre-wrap>1. &lt;=Good     </span></td><td>2. No </td><td>4.318063</td><td> 75.04315</td></tr>\n",
       "\t<tr><th scope=row>86582</th><td>2004</td><td>24</td><td>1. Never Married</td><td>1. White</td><td>4. College Grad</td><td>2. Middle Atlantic</td><td>2. Information</td><td>2. &gt;=Very Good</td><td>2. No </td><td>4.255273</td><td> 70.47602</td></tr>\n",
       "\t<tr><th scope=row>161300</th><td>2003</td><td>45</td><td><span style=white-space:pre-wrap>2. Married      </span></td><td>1. White</td><td>3. Some College</td><td>2. Middle Atlantic</td><td>1. Industrial </td><td><span style=white-space:pre-wrap>1. &lt;=Good     </span></td><td>1. Yes</td><td>4.875061</td><td>130.98218</td></tr>\n",
       "\t<tr><th scope=row>155159</th><td>2003</td><td>43</td><td><span style=white-space:pre-wrap>2. Married      </span></td><td>3. Asian</td><td>4. College Grad</td><td>2. Middle Atlantic</td><td>2. Information</td><td>2. &gt;=Very Good</td><td>1. Yes</td><td>5.041393</td><td>154.68529</td></tr>\n",
       "\t<tr><th scope=row>11443</th><td>2005</td><td>50</td><td><span style=white-space:pre-wrap>4. Divorced     </span></td><td>1. White</td><td><span style=white-space:pre-wrap>2. HS Grad     </span></td><td>2. Middle Atlantic</td><td>2. Information</td><td><span style=white-space:pre-wrap>1. &lt;=Good     </span></td><td>1. Yes</td><td>4.318063</td><td> 75.04315</td></tr>\n",
       "\t<tr><th scope=row>376662</th><td>2008</td><td>54</td><td><span style=white-space:pre-wrap>2. Married      </span></td><td>1. White</td><td>4. College Grad</td><td>2. Middle Atlantic</td><td>2. Information</td><td>2. &gt;=Very Good</td><td>1. Yes</td><td>4.845098</td><td>127.11574</td></tr>\n",
       "</tbody>\n",
       "</table>\n"
      ],
      "text/latex": [
       "A data.frame: 6 × 11\n",
       "\\begin{tabular}{r|lllllllllll}\n",
       "  & year & age & maritl & race & education & region & jobclass & health & health\\_ins & logwage & wage\\\\\n",
       "  & <int> & <int> & <fct> & <fct> & <fct> & <fct> & <fct> & <fct> & <fct> & <dbl> & <dbl>\\\\\n",
       "\\hline\n",
       "\t231655 & 2006 & 18 & 1. Never Married & 1. White & 1. < HS Grad    & 2. Middle Atlantic & 1. Industrial  & 1. <=Good      & 2. No  & 4.318063 &  75.04315\\\\\n",
       "\t86582 & 2004 & 24 & 1. Never Married & 1. White & 4. College Grad & 2. Middle Atlantic & 2. Information & 2. >=Very Good & 2. No  & 4.255273 &  70.47602\\\\\n",
       "\t161300 & 2003 & 45 & 2. Married       & 1. White & 3. Some College & 2. Middle Atlantic & 1. Industrial  & 1. <=Good      & 1. Yes & 4.875061 & 130.98218\\\\\n",
       "\t155159 & 2003 & 43 & 2. Married       & 3. Asian & 4. College Grad & 2. Middle Atlantic & 2. Information & 2. >=Very Good & 1. Yes & 5.041393 & 154.68529\\\\\n",
       "\t11443 & 2005 & 50 & 4. Divorced      & 1. White & 2. HS Grad      & 2. Middle Atlantic & 2. Information & 1. <=Good      & 1. Yes & 4.318063 &  75.04315\\\\\n",
       "\t376662 & 2008 & 54 & 2. Married       & 1. White & 4. College Grad & 2. Middle Atlantic & 2. Information & 2. >=Very Good & 1. Yes & 4.845098 & 127.11574\\\\\n",
       "\\end{tabular}\n"
      ],
      "text/markdown": [
       "\n",
       "A data.frame: 6 × 11\n",
       "\n",
       "| <!--/--> | year &lt;int&gt; | age &lt;int&gt; | maritl &lt;fct&gt; | race &lt;fct&gt; | education &lt;fct&gt; | region &lt;fct&gt; | jobclass &lt;fct&gt; | health &lt;fct&gt; | health_ins &lt;fct&gt; | logwage &lt;dbl&gt; | wage &lt;dbl&gt; |\n",
       "|---|---|---|---|---|---|---|---|---|---|---|---|\n",
       "| 231655 | 2006 | 18 | 1. Never Married | 1. White | 1. &lt; HS Grad    | 2. Middle Atlantic | 1. Industrial  | 1. &lt;=Good      | 2. No  | 4.318063 |  75.04315 |\n",
       "| 86582 | 2004 | 24 | 1. Never Married | 1. White | 4. College Grad | 2. Middle Atlantic | 2. Information | 2. &gt;=Very Good | 2. No  | 4.255273 |  70.47602 |\n",
       "| 161300 | 2003 | 45 | 2. Married       | 1. White | 3. Some College | 2. Middle Atlantic | 1. Industrial  | 1. &lt;=Good      | 1. Yes | 4.875061 | 130.98218 |\n",
       "| 155159 | 2003 | 43 | 2. Married       | 3. Asian | 4. College Grad | 2. Middle Atlantic | 2. Information | 2. &gt;=Very Good | 1. Yes | 5.041393 | 154.68529 |\n",
       "| 11443 | 2005 | 50 | 4. Divorced      | 1. White | 2. HS Grad      | 2. Middle Atlantic | 2. Information | 1. &lt;=Good      | 1. Yes | 4.318063 |  75.04315 |\n",
       "| 376662 | 2008 | 54 | 2. Married       | 1. White | 4. College Grad | 2. Middle Atlantic | 2. Information | 2. &gt;=Very Good | 1. Yes | 4.845098 | 127.11574 |\n",
       "\n"
      ],
      "text/plain": [
       "       year age maritl           race     education       region            \n",
       "231655 2006 18  1. Never Married 1. White 1. < HS Grad    2. Middle Atlantic\n",
       "86582  2004 24  1. Never Married 1. White 4. College Grad 2. Middle Atlantic\n",
       "161300 2003 45  2. Married       1. White 3. Some College 2. Middle Atlantic\n",
       "155159 2003 43  2. Married       3. Asian 4. College Grad 2. Middle Atlantic\n",
       "11443  2005 50  4. Divorced      1. White 2. HS Grad      2. Middle Atlantic\n",
       "376662 2008 54  2. Married       1. White 4. College Grad 2. Middle Atlantic\n",
       "       jobclass       health         health_ins logwage  wage     \n",
       "231655 1. Industrial  1. <=Good      2. No      4.318063  75.04315\n",
       "86582  2. Information 2. >=Very Good 2. No      4.255273  70.47602\n",
       "161300 1. Industrial  1. <=Good      1. Yes     4.875061 130.98218\n",
       "155159 2. Information 2. >=Very Good 1. Yes     5.041393 154.68529\n",
       "11443  2. Information 1. <=Good      1. Yes     4.318063  75.04315\n",
       "376662 2. Information 2. >=Very Good 1. Yes     4.845098 127.11574"
      ]
     },
     "metadata": {},
     "output_type": "display_data"
    }
   ],
   "source": [
    "head(Wage)"
   ]
  },
  {
   "cell_type": "code",
   "execution_count": 61,
   "id": "13491990-b1a3-4033-a576-c947b40f1b71",
   "metadata": {},
   "outputs": [],
   "source": [
    "ols <- lm(logwage~poly(age,3)*maritl+race+jobclass+health+health_ins, data = Wage)"
   ]
  },
  {
   "cell_type": "code",
   "execution_count": 62,
   "id": "9784d6bc-d48e-48c2-b441-261a5fbd2a8d",
   "metadata": {},
   "outputs": [
    {
     "data": {
      "text/plain": [
       "\n",
       "Call:\n",
       "lm(formula = logwage ~ poly(age, 3) * maritl + race + jobclass + \n",
       "    health + health_ins, data = Wage)\n",
       "\n",
       "Residuals:\n",
       "     Min       1Q   Median       3Q      Max \n",
       "-1.58219 -0.16951 -0.00599  0.17606  1.25364 \n",
       "\n",
       "Coefficients:\n",
       "                                 Estimate Std. Error t value Pr(>|t|)    \n",
       "(Intercept)                       4.50907    0.01994 226.182  < 2e-16 ***\n",
       "poly(age, 3)1                     1.12868    0.95307   1.184 0.236402    \n",
       "poly(age, 3)2                    -2.56548    0.88017  -2.915 0.003586 ** \n",
       "poly(age, 3)3                     1.92528    0.68351   2.817 0.004883 ** \n",
       "maritl2. Married                  0.13594    0.01823   7.456 1.16e-13 ***\n",
       "maritl3. Widowed                 -0.02899    0.09135  -0.317 0.750986    \n",
       "maritl4. Divorced                -0.00696    0.03411  -0.204 0.838308    \n",
       "maritl5. Separated                0.03471    0.04685   0.741 0.458760    \n",
       "race2. Black                     -0.06808    0.01892  -3.598 0.000326 ***\n",
       "race3. Asian                      0.04674    0.02273   2.056 0.039859 *  \n",
       "race4. Other                     -0.10779    0.04998  -2.157 0.031109 *  \n",
       "jobclass2. Information            0.09515    0.01125   8.460  < 2e-16 ***\n",
       "health2. >=Very Good              0.09536    0.01243   7.670 2.31e-14 ***\n",
       "health_ins2. No                  -0.21698    0.01236 -17.556  < 2e-16 ***\n",
       "poly(age, 3)1:maritl2. Married    1.82004    1.06806   1.704 0.088473 .  \n",
       "poly(age, 3)2:maritl2. Married   -0.97594    1.00863  -0.968 0.333328    \n",
       "poly(age, 3)3:maritl2. Married   -1.09241    0.82580  -1.323 0.185986    \n",
       "poly(age, 3)1:maritl3. Widowed    6.61210    6.68025   0.990 0.322353    \n",
       "poly(age, 3)2:maritl3. Widowed   -1.89654    6.64320  -0.285 0.775291    \n",
       "poly(age, 3)3:maritl3. Widowed   -1.05979    4.61367  -0.230 0.818336    \n",
       "poly(age, 3)1:maritl4. Divorced   3.12886    2.32560   1.345 0.178601    \n",
       "poly(age, 3)2:maritl4. Divorced  -0.26766    2.16271  -0.124 0.901511    \n",
       "poly(age, 3)3:maritl4. Divorced   0.63694    1.73818   0.366 0.714061    \n",
       "poly(age, 3)1:maritl5. Separated  2.57234    3.89849   0.660 0.509415    \n",
       "poly(age, 3)2:maritl5. Separated  2.44023    4.10990   0.594 0.552728    \n",
       "poly(age, 3)3:maritl5. Separated -4.22677    5.03805  -0.839 0.401554    \n",
       "---\n",
       "Signif. codes:  0 '***' 0.001 '**' 0.01 '*' 0.05 '.' 0.1 ' ' 1\n",
       "\n",
       "Residual standard error: 0.3001 on 2974 degrees of freedom\n",
       "Multiple R-squared:  0.2783,\tAdjusted R-squared:  0.2722 \n",
       "F-statistic: 45.87 on 25 and 2974 DF,  p-value: < 2.2e-16\n"
      ]
     },
     "metadata": {},
     "output_type": "display_data"
    }
   ],
   "source": [
    "summary(ols)"
   ]
  },
  {
   "cell_type": "code",
   "execution_count": 69,
   "id": "26abdce2-70f4-4a60-b153-2cc381b5535b",
   "metadata": {},
   "outputs": [],
   "source": [
    "ols <- lm(logwage~poly(age,3)+maritl+as.factor(year)+race+jobclass+health+health_ins, data = Wage)"
   ]
  },
  {
   "cell_type": "code",
   "execution_count": 70,
   "id": "d1200891-7965-46eb-aecb-b61ba9f145e8",
   "metadata": {},
   "outputs": [
    {
     "data": {
      "text/plain": [
       "\n",
       "Call:\n",
       "lm(formula = logwage ~ poly(age, 3) + maritl + as.factor(year) + \n",
       "    race + jobclass + health + health_ins, data = Wage)\n",
       "\n",
       "Residuals:\n",
       "     Min       1Q   Median       3Q      Max \n",
       "-1.57123 -0.16944 -0.00534  0.17444  1.23454 \n",
       "\n",
       "Coefficients:\n",
       "                        Estimate Std. Error t value Pr(>|t|)    \n",
       "(Intercept)             4.475636   0.021344 209.694  < 2e-16 ***\n",
       "poly(age, 3)1           2.548425   0.349711   7.287 4.03e-13 ***\n",
       "poly(age, 3)2          -2.917938   0.319242  -9.140  < 2e-16 ***\n",
       "poly(age, 3)3           0.925435   0.303679   3.047 0.002328 ** \n",
       "maritl2. Married        0.118762   0.016040   7.404 1.71e-13 ***\n",
       "maritl3. Widowed        0.013196   0.070535   0.187 0.851606    \n",
       "maritl4. Divorced      -0.011972   0.025921  -0.462 0.644214    \n",
       "maritl5. Separated      0.006372   0.042842   0.149 0.881766    \n",
       "as.factor(year)2004     0.031219   0.018996   1.643 0.100390    \n",
       "as.factor(year)2005     0.050767   0.019377   2.620 0.008838 ** \n",
       "as.factor(year)2006     0.081698   0.020095   4.066 4.92e-05 ***\n",
       "as.factor(year)2007     0.067405   0.020202   3.337 0.000858 ***\n",
       "as.factor(year)2008     0.074888   0.020130   3.720 0.000203 ***\n",
       "as.factor(year)2009     0.093019   0.020146   4.617 4.05e-06 ***\n",
       "race2. Black           -0.072502   0.018765  -3.864 0.000114 ***\n",
       "race3. Asian            0.045123   0.022641   1.993 0.046355 *  \n",
       "race4. Other           -0.109556   0.049699  -2.204 0.027573 *  \n",
       "jobclass2. Information  0.093880   0.011199   8.383  < 2e-16 ***\n",
       "health2. >=Very Good    0.097487   0.012362   7.886 4.34e-15 ***\n",
       "health_ins2. No        -0.217629   0.012269 -17.738  < 2e-16 ***\n",
       "---\n",
       "Signif. codes:  0 '***' 0.001 '**' 0.01 '*' 0.05 '.' 0.1 ' ' 1\n",
       "\n",
       "Residual standard error: 0.2989 on 2980 degrees of freedom\n",
       "Multiple R-squared:  0.2824,\tAdjusted R-squared:  0.2778 \n",
       "F-statistic: 61.72 on 19 and 2980 DF,  p-value: < 2.2e-16\n"
      ]
     },
     "metadata": {},
     "output_type": "display_data"
    }
   ],
   "source": [
    "summary(ols)"
   ]
  },
  {
   "cell_type": "code",
   "execution_count": null,
   "id": "87ed76ba-cfd8-4600-804a-254abc34082b",
   "metadata": {},
   "outputs": [],
   "source": []
  }
 ],
 "metadata": {
  "kernelspec": {
   "display_name": "R",
   "language": "R",
   "name": "ir"
  },
  "language_info": {
   "codemirror_mode": "r",
   "file_extension": ".r",
   "mimetype": "text/x-r-source",
   "name": "R",
   "pygments_lexer": "r",
   "version": "4.1.3"
  }
 },
 "nbformat": 4,
 "nbformat_minor": 5
}
