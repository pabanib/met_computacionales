{
 "cells": [
  {
   "cell_type": "markdown",
   "id": "2bf60d5b-33d6-40cd-af42-24f3946dd0b6",
   "metadata": {
    "id": "2bf60d5b-33d6-40cd-af42-24f3946dd0b6"
   },
   "source": [
    "# Métodos no supervisados"
   ]
  },
  {
   "cell_type": "markdown",
   "id": "057e152f-575c-4df7-b8dd-318c5e03ae72",
   "metadata": {
    "id": "057e152f-575c-4df7-b8dd-318c5e03ae72",
    "tags": []
   },
   "source": [
    "## Análisis de componentes principales\n",
    "\n",
    "\n",
    "\n",
    "Una de las formas de obtener los componentes principales (PCA) es\n",
    "buscando la máxima variabilidad de los datos. Al encontrar las variable\n",
    "oculta que expliquen la gran mayoría de la variabilidad de los datos\n",
    "observados vamos a tener las variables que son mas influyentes en\n",
    "la muestra. \n",
    "\n",
    "Consideremos un conjunto de datos $\\{\\mathbf{x}_{n}\\}$ en dónde $n\\,=\\,1,\\dots,N,$\n",
    "y $\\mathbf{x}_{n}$ es una variable euclideana con dimensionalidad\n",
    "$D$. El objetivo es encontrar una proyección de los datos dentro\n",
    "de un espacio que tenga dimensionalidad $M<D$ mientras se maximiza\n",
    "la varianza de los datos proyectados.\n",
    "\n",
    "Supongamos que queremos proyectar los datos en una sola dimensión\n",
    "$\\left(M=1\\right)$. Para esto definimos un vector de dimensión $D$\n",
    "$\\mathbf{u_{1}}$el cual cumple la siguiente restricción: $\\mathbf{u}_{1}^{T}\\mathbf{u}_{1}=1$\n",
    "esto sería una normalizacián cuadrática del vector (varianza igual\n",
    "a 1). Cada punto puede ser proyectado en un valor escalar de la siguiente\n",
    "forma: $\\mathbf{u}_{1}^{T}\\mathbf{x}_{n}$. El promedio proyectado \n",
    "viene dado por $\\mathbf{u}_{1}^{T}\\mathbf{\\bar{x}}$. Por lo tanto\n",
    "la varianza de dicha proyección se configura de la siguiente forma:\n",
    "\n",
    "\\begin{equation}\n",
    "\\frac{1}{N}\\sum_{n=1}^{N}\\left(\\mathbf{u}_{1}^{T}\\mathbf{x}_{n}-\\mathbf{u}_{1}^{T}\\mathbf{\\bar{x}}\\right)^{2}=\\frac{1}{N}\\sum_{n=1}^{N}\\mathbf{u}_{1}^{T}\\left(\\mathbf{x}_{n}-\\mathbf{\\bar{x}}\\right)\\left(\\mathbf{x}_{n}-\\mathbf{\\bar{x}}\\right)^{T}\\mathbf{u}_{1}=\\mathbf{u}_{1}^{T}\\frac{1}{N}\\sum_{n=1}^{N}\\left(\\mathbf{x}_{n}-\\mathbf{\\bar{x}}\\right)\\left(\\mathbf{x}_{n}-\\mathbf{\\bar{x}}\\right)^{T}\\mathbf{u}_{1}=\\mathbf{u}_{1}^{T}\\mathbf{S}\\mathbf{u}_{1}\n",
    "\\end{equation}\n",
    "\n",
    "en dónde $ \\mathbf{S} $ es la matriz de covarianzas de los datos\n",
    "\n",
    "Una vez obtenida la varianza el objetivo es maximizarla con respecto\n",
    "a $\\mathbf{u}_{1}$sujeta a la restricción de la normalización $\\mathbf{u}_{1}^{T}\\mathbf{u}_{1}=1$\n",
    "para evitar que se vaya a infinito. Por lo tanto el Lagrangiano queda\n",
    "de la siguiente forma:\n",
    "\n",
    "\\begin{equation}\n",
    "\\mathbf{u}_{1}^{T}\\mathbf{S}\\mathbf{u}_{1}+\\lambda_{1}\\left(1-\\mathbf{u}_{1}^{T}\\mathbf{u}_{1}\\right)\n",
    "\\end{equation}\n",
    "\n",
    "La condición de primer orden queda de la sigueinte forma:\n",
    "\n",
    "\\begin{equation}\n",
    "\\mathbf{Su}_{1}=\\lambda_{1}\\mathbf{u}_{1}\n",
    "\\end{equation}\n",
    "\n",
    "Multiplicando ambos lados por $\\mathbf{u}_{1}^{T}$ nos queda que\n",
    "la varianza es igual al coeficiente de Lagrange, que no es otra cosa\n",
    "que el autovalor de la matriz de covarianzas.\n",
    "\n",
    "\\begin{equation}\n",
    "\\mathbf{u}_{1}^{T}\\mathbf{Su}=\\lambda_{1}\n",
    "\\end{equation}\n",
    "\n",
    "Entonces lo que vemos que la varianza se maximiza cuando igualamos\n",
    "$\\mathbf{u}_{1}$al autovector para el mayor autovalor $\\lambda_{1}$.\n",
    "Este autovector es conocido como el componente principal.\n",
    "\n",
    "Prosiguiende para los siguientes $M$ componentes principales se puede\n",
    "lograr el espacio completo."
   ]
  },
  {
   "cell_type": "code",
   "execution_count": 1,
   "id": "a7bd6316-e357-4564-981e-481effabea64",
   "metadata": {},
   "outputs": [
    {
     "data": {
      "text/html": [
       "<table class=\"dataframe\">\n",
       "<caption>A matrix: 4 × 4 of type dbl</caption>\n",
       "<thead>\n",
       "\t<tr><th></th><th scope=col>Murder</th><th scope=col>Assault</th><th scope=col>UrbanPop</th><th scope=col>Rape</th></tr>\n",
       "</thead>\n",
       "<tbody>\n",
       "\t<tr><th scope=row>Murder</th><td>1.00000000</td><td>0.8018733</td><td>0.06957262</td><td>0.5635788</td></tr>\n",
       "\t<tr><th scope=row>Assault</th><td>0.80187331</td><td>1.0000000</td><td>0.25887170</td><td>0.6652412</td></tr>\n",
       "\t<tr><th scope=row>UrbanPop</th><td>0.06957262</td><td>0.2588717</td><td>1.00000000</td><td>0.4113412</td></tr>\n",
       "\t<tr><th scope=row>Rape</th><td>0.56357883</td><td>0.6652412</td><td>0.41134124</td><td>1.0000000</td></tr>\n",
       "</tbody>\n",
       "</table>\n"
      ],
      "text/latex": [
       "A matrix: 4 × 4 of type dbl\n",
       "\\begin{tabular}{r|llll}\n",
       "  & Murder & Assault & UrbanPop & Rape\\\\\n",
       "\\hline\n",
       "\tMurder & 1.00000000 & 0.8018733 & 0.06957262 & 0.5635788\\\\\n",
       "\tAssault & 0.80187331 & 1.0000000 & 0.25887170 & 0.6652412\\\\\n",
       "\tUrbanPop & 0.06957262 & 0.2588717 & 1.00000000 & 0.4113412\\\\\n",
       "\tRape & 0.56357883 & 0.6652412 & 0.41134124 & 1.0000000\\\\\n",
       "\\end{tabular}\n"
      ],
      "text/markdown": [
       "\n",
       "A matrix: 4 × 4 of type dbl\n",
       "\n",
       "| <!--/--> | Murder | Assault | UrbanPop | Rape |\n",
       "|---|---|---|---|---|\n",
       "| Murder | 1.00000000 | 0.8018733 | 0.06957262 | 0.5635788 |\n",
       "| Assault | 0.80187331 | 1.0000000 | 0.25887170 | 0.6652412 |\n",
       "| UrbanPop | 0.06957262 | 0.2588717 | 1.00000000 | 0.4113412 |\n",
       "| Rape | 0.56357883 | 0.6652412 | 0.41134124 | 1.0000000 |\n",
       "\n"
      ],
      "text/plain": [
       "         Murder     Assault   UrbanPop   Rape     \n",
       "Murder   1.00000000 0.8018733 0.06957262 0.5635788\n",
       "Assault  0.80187331 1.0000000 0.25887170 0.6652412\n",
       "UrbanPop 0.06957262 0.2588717 1.00000000 0.4113412\n",
       "Rape     0.56357883 0.6652412 0.41134124 1.0000000"
      ]
     },
     "metadata": {},
     "output_type": "display_data"
    }
   ],
   "source": [
    "#1° paso escalamos los datos\n",
    "s_USArrests <- scale(USArrests)\n",
    "# 2° paso calculamos la matriz de covarianzas\n",
    "matriz_cov <- cov(s_USArrests)\n",
    "matriz_cov"
   ]
  },
  {
   "cell_type": "code",
   "execution_count": 2,
   "id": "f71fc3eb-edfa-406e-9b47-8b83708fffd9",
   "metadata": {},
   "outputs": [
    {
     "data": {
      "text/plain": [
       "eigen() decomposition\n",
       "$values\n",
       "[1] 2.4802416 0.9897652 0.3565632 0.1734301\n",
       "\n",
       "$vectors\n",
       "           [,1]       [,2]       [,3]        [,4]\n",
       "[1,] -0.5358995  0.4181809 -0.3412327  0.64922780\n",
       "[2,] -0.5831836  0.1879856 -0.2681484 -0.74340748\n",
       "[3,] -0.2781909 -0.8728062 -0.3780158  0.13387773\n",
       "[4,] -0.5434321 -0.1673186  0.8177779  0.08902432\n"
      ]
     },
     "metadata": {},
     "output_type": "display_data"
    }
   ],
   "source": [
    "# 3 paso calculamos los valores y vectores propios de la matriz de covarianzas\n",
    "vp <- eigen(matriz_cov)\n",
    "vp \n"
   ]
  },
  {
   "cell_type": "code",
   "execution_count": 3,
   "id": "43b294d8-df58-43a7-8005-789c4df22993",
   "metadata": {},
   "outputs": [
    {
     "data": {
      "text/html": [
       "<style>\n",
       ".list-inline {list-style: none; margin:0; padding: 0}\n",
       ".list-inline>li {display: inline-block}\n",
       ".list-inline>li:not(:last-child)::after {content: \"\\00b7\"; padding: 0 .5ex}\n",
       "</style>\n",
       "<ol class=list-inline><li>-0.535899474938155</li><li>-0.58318363490967</li><li>-0.278190874619433</li><li>-0.543432091445683</li></ol>\n"
      ],
      "text/latex": [
       "\\begin{enumerate*}\n",
       "\\item -0.535899474938155\n",
       "\\item -0.58318363490967\n",
       "\\item -0.278190874619433\n",
       "\\item -0.543432091445683\n",
       "\\end{enumerate*}\n"
      ],
      "text/markdown": [
       "1. -0.535899474938155\n",
       "2. -0.58318363490967\n",
       "3. -0.278190874619433\n",
       "4. -0.543432091445683\n",
       "\n",
       "\n"
      ],
      "text/plain": [
       "[1] -0.5358995 -0.5831836 -0.2781909 -0.5434321"
      ]
     },
     "metadata": {},
     "output_type": "display_data"
    }
   ],
   "source": [
    "# 4 extraemos los M componentes principales\n",
    "vp_ord <- sort(vp$values, decreasing = TRUE) #ordenamos los autovalores\n",
    "pos <- which(vp$values == vp_ord[1]) #determinamos la posición del mayor\n",
    "primer_cp <- vp$vectors[, pos] \n",
    "primer_cp"
   ]
  },
  {
   "cell_type": "code",
   "execution_count": 4,
   "id": "6532bd6f-7e0e-4bef-8a51-359a374910cb",
   "metadata": {},
   "outputs": [
    {
     "data": {
      "text/html": [
       "<table class=\"dataframe\">\n",
       "<caption>A matrix: 4 × 2 of type dbl</caption>\n",
       "<thead>\n",
       "\t<tr><th scope=col>primer_cp</th><th scope=col>segundo_cp</th></tr>\n",
       "</thead>\n",
       "<tbody>\n",
       "\t<tr><td>-0.5358995</td><td> 0.4181809</td></tr>\n",
       "\t<tr><td>-0.5831836</td><td> 0.1879856</td></tr>\n",
       "\t<tr><td>-0.2781909</td><td>-0.8728062</td></tr>\n",
       "\t<tr><td>-0.5434321</td><td>-0.1673186</td></tr>\n",
       "</tbody>\n",
       "</table>\n"
      ],
      "text/latex": [
       "A matrix: 4 × 2 of type dbl\n",
       "\\begin{tabular}{ll}\n",
       " primer\\_cp & segundo\\_cp\\\\\n",
       "\\hline\n",
       "\t -0.5358995 &  0.4181809\\\\\n",
       "\t -0.5831836 &  0.1879856\\\\\n",
       "\t -0.2781909 & -0.8728062\\\\\n",
       "\t -0.5434321 & -0.1673186\\\\\n",
       "\\end{tabular}\n"
      ],
      "text/markdown": [
       "\n",
       "A matrix: 4 × 2 of type dbl\n",
       "\n",
       "| primer_cp | segundo_cp |\n",
       "|---|---|\n",
       "| -0.5358995 |  0.4181809 |\n",
       "| -0.5831836 |  0.1879856 |\n",
       "| -0.2781909 | -0.8728062 |\n",
       "| -0.5434321 | -0.1673186 |\n",
       "\n"
      ],
      "text/plain": [
       "     primer_cp  segundo_cp\n",
       "[1,] -0.5358995  0.4181809\n",
       "[2,] -0.5831836  0.1879856\n",
       "[3,] -0.2781909 -0.8728062\n",
       "[4,] -0.5434321 -0.1673186"
      ]
     },
     "metadata": {},
     "output_type": "display_data"
    }
   ],
   "source": [
    "# hacemos lo mismo con el segundo y construimos la matriz\n",
    "pos <- which(vp$values == vp_ord[2]) #determinamos la posición del segundo mayor\n",
    "segundo_cp <- vp$vectors[, pos] \n",
    "cp <- cbind(primer_cp,segundo_cp)\n",
    "cp"
   ]
  },
  {
   "cell_type": "code",
   "execution_count": 5,
   "id": "28a8025d-0b4b-441c-9a47-ed2e86f2a3d4",
   "metadata": {},
   "outputs": [
    {
     "data": {
      "text/html": [
       "<table class=\"dataframe\">\n",
       "<caption>A matrix: 1 × 2 of type dbl</caption>\n",
       "<thead>\n",
       "\t<tr><th scope=col>primer_cp</th><th scope=col>segundo_cp</th></tr>\n",
       "</thead>\n",
       "<tbody>\n",
       "\t<tr><td>-0.9756604</td><td>1.122001</td></tr>\n",
       "</tbody>\n",
       "</table>\n"
      ],
      "text/latex": [
       "A matrix: 1 × 2 of type dbl\n",
       "\\begin{tabular}{ll}\n",
       " primer\\_cp & segundo\\_cp\\\\\n",
       "\\hline\n",
       "\t -0.9756604 & 1.122001\\\\\n",
       "\\end{tabular}\n"
      ],
      "text/markdown": [
       "\n",
       "A matrix: 1 × 2 of type dbl\n",
       "\n",
       "| primer_cp | segundo_cp |\n",
       "|---|---|\n",
       "| -0.9756604 | 1.122001 |\n",
       "\n"
      ],
      "text/plain": [
       "     primer_cp  segundo_cp\n",
       "[1,] -0.9756604 1.122001  "
      ]
     },
     "metadata": {},
     "output_type": "display_data"
    }
   ],
   "source": [
    "# podemos ver la proyección de un elemento \n",
    "s_USArrests[1,] %*% cp"
   ]
  },
  {
   "cell_type": "code",
   "execution_count": 6,
   "id": "d1e8e6e5-4ac3-4ec2-bd73-5ab079ca26ec",
   "metadata": {},
   "outputs": [
    {
     "data": {
      "text/html": [
       "<table class=\"dataframe\">\n",
       "<caption>A matrix: 6 × 2 of type dbl</caption>\n",
       "<thead>\n",
       "\t<tr><th></th><th scope=col>primer_cp</th><th scope=col>segundo_cp</th></tr>\n",
       "</thead>\n",
       "<tbody>\n",
       "\t<tr><th scope=row>Alabama</th><td>-0.9756604</td><td> 1.1220012</td></tr>\n",
       "\t<tr><th scope=row>Alaska</th><td>-1.9305379</td><td> 1.0624269</td></tr>\n",
       "\t<tr><th scope=row>Arizona</th><td>-1.7454429</td><td>-0.7384595</td></tr>\n",
       "\t<tr><th scope=row>Arkansas</th><td> 0.1399989</td><td> 1.1085423</td></tr>\n",
       "\t<tr><th scope=row>California</th><td>-2.4986128</td><td>-1.5274267</td></tr>\n",
       "\t<tr><th scope=row>Colorado</th><td>-1.4993407</td><td>-0.9776297</td></tr>\n",
       "</tbody>\n",
       "</table>\n"
      ],
      "text/latex": [
       "A matrix: 6 × 2 of type dbl\n",
       "\\begin{tabular}{r|ll}\n",
       "  & primer\\_cp & segundo\\_cp\\\\\n",
       "\\hline\n",
       "\tAlabama & -0.9756604 &  1.1220012\\\\\n",
       "\tAlaska & -1.9305379 &  1.0624269\\\\\n",
       "\tArizona & -1.7454429 & -0.7384595\\\\\n",
       "\tArkansas &  0.1399989 &  1.1085423\\\\\n",
       "\tCalifornia & -2.4986128 & -1.5274267\\\\\n",
       "\tColorado & -1.4993407 & -0.9776297\\\\\n",
       "\\end{tabular}\n"
      ],
      "text/markdown": [
       "\n",
       "A matrix: 6 × 2 of type dbl\n",
       "\n",
       "| <!--/--> | primer_cp | segundo_cp |\n",
       "|---|---|---|\n",
       "| Alabama | -0.9756604 |  1.1220012 |\n",
       "| Alaska | -1.9305379 |  1.0624269 |\n",
       "| Arizona | -1.7454429 | -0.7384595 |\n",
       "| Arkansas |  0.1399989 |  1.1085423 |\n",
       "| California | -2.4986128 | -1.5274267 |\n",
       "| Colorado | -1.4993407 | -0.9776297 |\n",
       "\n"
      ],
      "text/plain": [
       "           primer_cp  segundo_cp\n",
       "Alabama    -0.9756604  1.1220012\n",
       "Alaska     -1.9305379  1.0624269\n",
       "Arizona    -1.7454429 -0.7384595\n",
       "Arkansas    0.1399989  1.1085423\n",
       "California -2.4986128 -1.5274267\n",
       "Colorado   -1.4993407 -0.9776297"
      ]
     },
     "metadata": {},
     "output_type": "display_data"
    }
   ],
   "source": [
    "# vemos la proyección entera\n",
    "usa_proy <- s_USArrests %*% cp \n",
    "head(usa_proy)"
   ]
  },
  {
   "cell_type": "code",
   "execution_count": 7,
   "id": "6bad0312-ff39-4f07-afb5-7ac9e7b7768a",
   "metadata": {},
   "outputs": [
    {
     "data": {
      "image/png": "[encoded data removed]",
      "text/plain": [
       "plot without title"
      ]
     },
     "metadata": {
      "image/png": {
       "height": 420,
       "width": 420
      }
     },
     "output_type": "display_data"
    }
   ],
   "source": [
    "# todo estos pasos se pueden hacer con la función prcomp de R\n",
    "row.names(USArrests) <- c()\n",
    "pc <- prcomp(USArrests, scale = TRUE)\n",
    "pc$rotation = -pc$rotation\n",
    "pc$x = -pc$x\n",
    "biplot(pc,  scale = 0)"
   ]
  },
  {
   "cell_type": "markdown",
   "id": "b9c591d6-a292-4950-831f-d14f8d356c8c",
   "metadata": {
    "id": "b9c591d6-a292-4950-831f-d14f8d356c8c"
   },
   "source": [
    "### Aplicación de PCA\n",
    "\n",
    "Cuando tenemos que volver a utilizar código lo mejor es crear scripts de código separado, de está forma podemos reutilizar lo que ya habíamos hecho y en caso de tener que modificarlo solo se realiza una vez. Para ejecutar estos scripts externos en R se utiliza el comando source, la variable \"local\" indica si queremos tomar las variables del script en nuestro nuevo código"
   ]
  },
  {
   "cell_type": "code",
   "execution_count": 42,
   "id": "206310cd-9a9f-4e9d-b353-3157bb00e623",
   "metadata": {
    "colab": {
     "base_uri": "https://localhost:8080/",
     "height": 306
    },
    "executionInfo": {
     "elapsed": 5291,
     "status": "ok",
     "timestamp": 1653910861207,
     "user": {
      "displayName": "Pablo Quintana",
      "userId": "00674039532099061635"
     },
     "user_tz": 180
    },
    "id": "206310cd-9a9f-4e9d-b353-3157bb00e623",
    "outputId": "49d3011f-9df8-4504-a835-91eb650a9196"
   },
   "outputs": [
    {
     "data": {
      "text/html": [
       "<table class=\"dataframe\">\n",
       "<caption>A data.frame: 6 × 35</caption>\n",
       "<thead>\n",
       "\t<tr><th></th><th scope=col>Y</th><th scope=col>W</th><th scope=col>yob</th><th scope=col>hh_size</th><th scope=col>sex</th><th scope=col>city</th><th scope=col>g2000</th><th scope=col>g2002</th><th scope=col>p2000</th><th scope=col>p2002</th><th scope=col>...</th><th scope=col>noise4</th><th scope=col>noise5</th><th scope=col>noise6</th><th scope=col>noise7</th><th scope=col>noise8</th><th scope=col>noise9</th><th scope=col>noise10</th><th scope=col>noise11</th><th scope=col>noise12</th><th scope=col>noise13</th></tr>\n",
       "\t<tr><th></th><th scope=col>&lt;int&gt;</th><th scope=col>&lt;int&gt;</th><th scope=col>&lt;dbl&gt;</th><th scope=col>&lt;dbl&gt;</th><th scope=col>&lt;dbl&gt;</th><th scope=col>&lt;dbl&gt;</th><th scope=col>&lt;dbl&gt;</th><th scope=col>&lt;dbl&gt;</th><th scope=col>&lt;dbl&gt;</th><th scope=col>&lt;dbl&gt;</th><th scope=col>...</th><th scope=col>&lt;dbl&gt;</th><th scope=col>&lt;dbl&gt;</th><th scope=col>&lt;dbl&gt;</th><th scope=col>&lt;dbl&gt;</th><th scope=col>&lt;dbl&gt;</th><th scope=col>&lt;dbl&gt;</th><th scope=col>&lt;dbl&gt;</th><th scope=col>&lt;dbl&gt;</th><th scope=col>&lt;dbl&gt;</th><th scope=col>&lt;dbl&gt;</th></tr>\n",
       "</thead>\n",
       "<tbody>\n",
       "\t<tr><th scope=row>23</th><td>1</td><td>0</td><td>-0.6077890</td><td> 0.1219464</td><td> 0.9926313</td><td>-0.3158338</td><td> 0.3935609</td><td> 0.4454418</td><td>-0.6012121</td><td>-0.8298043</td><td>...</td><td> 0.77012994</td><td> 1.24903929</td><td> 0.2942622</td><td>-0.62385308</td><td> 1.22529518</td><td>-1.51767589</td><td> 1.1758261</td><td>-0.23843797</td><td> 1.5347982</td><td>-0.37561480</td></tr>\n",
       "\t<tr><th scope=row>62</th><td>0</td><td>0</td><td> 0.7935536</td><td> 0.1219464</td><td>-1.0074151</td><td>-0.5157274</td><td> 0.3935609</td><td> 0.4454418</td><td>-0.6012121</td><td>-0.8298043</td><td>...</td><td>-0.02181989</td><td>-1.26385847</td><td> 1.4876540</td><td>-0.08717877</td><td>-0.03764698</td><td> 0.29593870</td><td> 1.1475140</td><td> 1.21815688</td><td> 0.7737389</td><td> 1.42532788</td></tr>\n",
       "\t<tr><th scope=row>88</th><td>0</td><td>0</td><td>-0.1173190</td><td>-1.2639279</td><td>-1.0074151</td><td> 2.4826762</td><td> 0.3935609</td><td> 0.4454418</td><td>-0.6012121</td><td> 1.2050934</td><td>...</td><td> 1.50080401</td><td> 0.86203302</td><td>-1.6905551</td><td>-0.84897030</td><td> 1.68335896</td><td> 1.43972743</td><td>-0.7627703</td><td>-0.09657208</td><td> 1.6266430</td><td> 1.01949329</td></tr>\n",
       "\t<tr><th scope=row>93</th><td>0</td><td>1</td><td> 1.7744935</td><td> 1.5078207</td><td>-1.0074151</td><td> 0.9634851</td><td>-2.5408815</td><td>-2.2449434</td><td>-0.6012121</td><td>-0.8298043</td><td>...</td><td> 1.43929161</td><td>-1.45333569</td><td>-1.5383169</td><td> 0.86882510</td><td>-1.20177717</td><td>-1.27479739</td><td> 0.9543886</td><td> 1.55659698</td><td> 0.9908934</td><td>-0.62018487</td></tr>\n",
       "\t<tr><th scope=row>101</th><td>0</td><td>0</td><td> 0.2330166</td><td>-1.2639279</td><td>-1.0074151</td><td>-0.4757487</td><td>-2.5408815</td><td> 0.4454418</td><td>-0.6012121</td><td>-0.8298043</td><td>...</td><td> 0.52731873</td><td>-0.74443530</td><td> 1.6048084</td><td> 1.47237688</td><td>-0.72584154</td><td>-0.07298326</td><td> 0.7763825</td><td>-1.00186576</td><td>-0.8948283</td><td> 0.08577853</td></tr>\n",
       "\t<tr><th scope=row>115</th><td>0</td><td>1</td><td>-0.2574533</td><td>-1.2639279</td><td> 0.9926313</td><td> 0.9634851</td><td>-2.5408815</td><td> 0.4454418</td><td>-0.6012121</td><td>-0.8298043</td><td>...</td><td> 0.09897677</td><td> 0.06086519</td><td>-1.0696476</td><td>-1.05388885</td><td> 0.53239406</td><td>-1.28366193</td><td> 0.9244529</td><td>-0.28889122</td><td>-0.9004667</td><td>-0.96364391</td></tr>\n",
       "</tbody>\n",
       "</table>\n"
      ],
      "text/latex": [
       "A data.frame: 6 × 35\n",
       "\\begin{tabular}{r|lllllllllllllllllllll}\n",
       "  & Y & W & yob & hh\\_size & sex & city & g2000 & g2002 & p2000 & p2002 & ... & noise4 & noise5 & noise6 & noise7 & noise8 & noise9 & noise10 & noise11 & noise12 & noise13\\\\\n",
       "  & <int> & <int> & <dbl> & <dbl> & <dbl> & <dbl> & <dbl> & <dbl> & <dbl> & <dbl> & ... & <dbl> & <dbl> & <dbl> & <dbl> & <dbl> & <dbl> & <dbl> & <dbl> & <dbl> & <dbl>\\\\\n",
       "\\hline\n",
       "\t23 & 1 & 0 & -0.6077890 &  0.1219464 &  0.9926313 & -0.3158338 &  0.3935609 &  0.4454418 & -0.6012121 & -0.8298043 & ... &  0.77012994 &  1.24903929 &  0.2942622 & -0.62385308 &  1.22529518 & -1.51767589 &  1.1758261 & -0.23843797 &  1.5347982 & -0.37561480\\\\\n",
       "\t62 & 0 & 0 &  0.7935536 &  0.1219464 & -1.0074151 & -0.5157274 &  0.3935609 &  0.4454418 & -0.6012121 & -0.8298043 & ... & -0.02181989 & -1.26385847 &  1.4876540 & -0.08717877 & -0.03764698 &  0.29593870 &  1.1475140 &  1.21815688 &  0.7737389 &  1.42532788\\\\\n",
       "\t88 & 0 & 0 & -0.1173190 & -1.2639279 & -1.0074151 &  2.4826762 &  0.3935609 &  0.4454418 & -0.6012121 &  1.2050934 & ... &  1.50080401 &  0.86203302 & -1.6905551 & -0.84897030 &  1.68335896 &  1.43972743 & -0.7627703 & -0.09657208 &  1.6266430 &  1.01949329\\\\\n",
       "\t93 & 0 & 1 &  1.7744935 &  1.5078207 & -1.0074151 &  0.9634851 & -2.5408815 & -2.2449434 & -0.6012121 & -0.8298043 & ... &  1.43929161 & -1.45333569 & -1.5383169 &  0.86882510 & -1.20177717 & -1.27479739 &  0.9543886 &  1.55659698 &  0.9908934 & -0.62018487\\\\\n",
       "\t101 & 0 & 0 &  0.2330166 & -1.2639279 & -1.0074151 & -0.4757487 & -2.5408815 &  0.4454418 & -0.6012121 & -0.8298043 & ... &  0.52731873 & -0.74443530 &  1.6048084 &  1.47237688 & -0.72584154 & -0.07298326 &  0.7763825 & -1.00186576 & -0.8948283 &  0.08577853\\\\\n",
       "\t115 & 0 & 1 & -0.2574533 & -1.2639279 &  0.9926313 &  0.9634851 & -2.5408815 &  0.4454418 & -0.6012121 & -0.8298043 & ... &  0.09897677 &  0.06086519 & -1.0696476 & -1.05388885 &  0.53239406 & -1.28366193 &  0.9244529 & -0.28889122 & -0.9004667 & -0.96364391\\\\\n",
       "\\end{tabular}\n"
      ],
      "text/markdown": [
       "\n",
       "A data.frame: 6 × 35\n",
       "\n",
       "| <!--/--> | Y &lt;int&gt; | W &lt;int&gt; | yob &lt;dbl&gt; | hh_size &lt;dbl&gt; | sex &lt;dbl&gt; | city &lt;dbl&gt; | g2000 &lt;dbl&gt; | g2002 &lt;dbl&gt; | p2000 &lt;dbl&gt; | p2002 &lt;dbl&gt; | ... ... | noise4 &lt;dbl&gt; | noise5 &lt;dbl&gt; | noise6 &lt;dbl&gt; | noise7 &lt;dbl&gt; | noise8 &lt;dbl&gt; | noise9 &lt;dbl&gt; | noise10 &lt;dbl&gt; | noise11 &lt;dbl&gt; | noise12 &lt;dbl&gt; | noise13 &lt;dbl&gt; |\n",
       "|---|---|---|---|---|---|---|---|---|---|---|---|---|---|---|---|---|---|---|---|---|---|\n",
       "| 23 | 1 | 0 | -0.6077890 |  0.1219464 |  0.9926313 | -0.3158338 |  0.3935609 |  0.4454418 | -0.6012121 | -0.8298043 | ... |  0.77012994 |  1.24903929 |  0.2942622 | -0.62385308 |  1.22529518 | -1.51767589 |  1.1758261 | -0.23843797 |  1.5347982 | -0.37561480 |\n",
       "| 62 | 0 | 0 |  0.7935536 |  0.1219464 | -1.0074151 | -0.5157274 |  0.3935609 |  0.4454418 | -0.6012121 | -0.8298043 | ... | -0.02181989 | -1.26385847 |  1.4876540 | -0.08717877 | -0.03764698 |  0.29593870 |  1.1475140 |  1.21815688 |  0.7737389 |  1.42532788 |\n",
       "| 88 | 0 | 0 | -0.1173190 | -1.2639279 | -1.0074151 |  2.4826762 |  0.3935609 |  0.4454418 | -0.6012121 |  1.2050934 | ... |  1.50080401 |  0.86203302 | -1.6905551 | -0.84897030 |  1.68335896 |  1.43972743 | -0.7627703 | -0.09657208 |  1.6266430 |  1.01949329 |\n",
       "| 93 | 0 | 1 |  1.7744935 |  1.5078207 | -1.0074151 |  0.9634851 | -2.5408815 | -2.2449434 | -0.6012121 | -0.8298043 | ... |  1.43929161 | -1.45333569 | -1.5383169 |  0.86882510 | -1.20177717 | -1.27479739 |  0.9543886 |  1.55659698 |  0.9908934 | -0.62018487 |\n",
       "| 101 | 0 | 0 |  0.2330166 | -1.2639279 | -1.0074151 | -0.4757487 | -2.5408815 |  0.4454418 | -0.6012121 | -0.8298043 | ... |  0.52731873 | -0.74443530 |  1.6048084 |  1.47237688 | -0.72584154 | -0.07298326 |  0.7763825 | -1.00186576 | -0.8948283 |  0.08577853 |\n",
       "| 115 | 0 | 1 | -0.2574533 | -1.2639279 |  0.9926313 |  0.9634851 | -2.5408815 |  0.4454418 | -0.6012121 | -0.8298043 | ... |  0.09897677 |  0.06086519 | -1.0696476 | -1.05388885 |  0.53239406 | -1.28366193 |  0.9244529 | -0.28889122 | -0.9004667 | -0.96364391 |\n",
       "\n"
      ],
      "text/plain": [
       "    Y W yob        hh_size    sex        city       g2000      g2002     \n",
       "23  1 0 -0.6077890  0.1219464  0.9926313 -0.3158338  0.3935609  0.4454418\n",
       "62  0 0  0.7935536  0.1219464 -1.0074151 -0.5157274  0.3935609  0.4454418\n",
       "88  0 0 -0.1173190 -1.2639279 -1.0074151  2.4826762  0.3935609  0.4454418\n",
       "93  0 1  1.7744935  1.5078207 -1.0074151  0.9634851 -2.5408815 -2.2449434\n",
       "101 0 0  0.2330166 -1.2639279 -1.0074151 -0.4757487 -2.5408815  0.4454418\n",
       "115 0 1 -0.2574533 -1.2639279  0.9926313  0.9634851 -2.5408815  0.4454418\n",
       "    p2000      p2002      ... noise4      noise5      noise6     noise7     \n",
       "23  -0.6012121 -0.8298043 ...  0.77012994  1.24903929  0.2942622 -0.62385308\n",
       "62  -0.6012121 -0.8298043 ... -0.02181989 -1.26385847  1.4876540 -0.08717877\n",
       "88  -0.6012121  1.2050934 ...  1.50080401  0.86203302 -1.6905551 -0.84897030\n",
       "93  -0.6012121 -0.8298043 ...  1.43929161 -1.45333569 -1.5383169  0.86882510\n",
       "101 -0.6012121 -0.8298043 ...  0.52731873 -0.74443530  1.6048084  1.47237688\n",
       "115 -0.6012121 -0.8298043 ...  0.09897677  0.06086519 -1.0696476 -1.05388885\n",
       "    noise8      noise9      noise10    noise11     noise12    noise13    \n",
       "23   1.22529518 -1.51767589  1.1758261 -0.23843797  1.5347982 -0.37561480\n",
       "62  -0.03764698  0.29593870  1.1475140  1.21815688  0.7737389  1.42532788\n",
       "88   1.68335896  1.43972743 -0.7627703 -0.09657208  1.6266430  1.01949329\n",
       "93  -1.20177717 -1.27479739  0.9543886  1.55659698  0.9908934 -0.62018487\n",
       "101 -0.72584154 -0.07298326  0.7763825 -1.00186576 -0.8948283  0.08577853\n",
       "115  0.53239406 -1.28366193  0.9244529 -0.28889122 -0.9004667 -0.96364391"
      ]
     },
     "metadata": {},
     "output_type": "display_data"
    }
   ],
   "source": [
    "source(\"procesar_datos.r\", local = TRUE)\n",
    "head(X.test)"
   ]
  },
  {
   "cell_type": "code",
   "execution_count": 43,
   "id": "13d9459a-437d-4802-9d55-57ef436da309",
   "metadata": {
    "colab": {
     "base_uri": "https://localhost:8080/",
     "height": 139
    },
    "executionInfo": {
     "elapsed": 43,
     "status": "ok",
     "timestamp": 1653910861210,
     "user": {
      "displayName": "Pablo Quintana",
      "userId": "00674039532099061635"
     },
     "user_tz": 180
    },
    "id": "13d9459a-437d-4802-9d55-57ef436da309",
    "outputId": "a9035477-410b-4520-9201-bdcc369f7035"
   },
   "outputs": [
    {
     "data": {
      "text/plain": [
       "Y ~ yob + hh_size + sex + city + g2000 + g2002 + p2000 + p2002 + \n",
       "    p2004 + totalpopulation_estimate + percent_male + median_age + \n",
       "    percent_62yearsandover + percent_white + percent_black + \n",
       "    median_income + employ_20to64 + highschool + bach_orhigher + \n",
       "    percent_hispanicorlatino + noise1 + noise2 + noise3 + noise4 + \n",
       "    noise5 + noise6 + noise7 + noise8 + noise9 + noise10 + noise11 + \n",
       "    noise12 + noise13"
      ]
     },
     "metadata": {},
     "output_type": "display_data"
    }
   ],
   "source": [
    "linear"
   ]
  },
  {
   "cell_type": "code",
   "execution_count": 44,
   "id": "fd8c1805-67d5-4fd9-9770-6b405e585b29",
   "metadata": {
    "executionInfo": {
     "elapsed": 41,
     "status": "ok",
     "timestamp": 1653910861211,
     "user": {
      "displayName": "Pablo Quintana",
      "userId": "00674039532099061635"
     },
     "user_tz": 180
    },
    "id": "fd8c1805-67d5-4fd9-9770-6b405e585b29"
   },
   "outputs": [],
   "source": [
    "# con la función model.matrix transformamos la matriz con las variables que vamos a utilizar de acuerdo al modelo que ya venimos trabajando\n",
    "linear.inter <- update(linear.inter,\". ~ . -1\")\n",
    "X.train1 <- model.matrix(update(linear,\". ~ . -1\"), X.train)\n",
    "X.test1 <- model.matrix(linear, X.test)\n",
    "X.train2 <- model.matrix(linear.inter, as.data.frame(X.train))\n",
    "X.test2 <- model.matrix(linear, X.test)"
   ]
  },
  {
   "cell_type": "markdown",
   "id": "5f5a1aca-6fbb-4a84-9c7d-6befd122fd24",
   "metadata": {},
   "source": [
    "Examinemos los datos de la base social utilizada antes."
   ]
  },
  {
   "cell_type": "code",
   "execution_count": 11,
   "id": "c0ec129b-9b0a-43fe-9bd2-0101cad1595e",
   "metadata": {},
   "outputs": [
    {
     "data": {
      "text/html": [
       "<table class=\"dataframe\">\n",
       "<caption>A data.frame: 33 × 2</caption>\n",
       "<thead>\n",
       "\t<tr><th></th><th scope=col>media</th><th scope=col>varianza</th></tr>\n",
       "\t<tr><th></th><th scope=col>&lt;dbl&gt;</th><th scope=col>&lt;dbl&gt;</th></tr>\n",
       "</thead>\n",
       "<tbody>\n",
       "\t<tr><th scope=row>yob</th><td> 9.397954e-04</td><td>1.0013665</td></tr>\n",
       "\t<tr><th scope=row>hh_size</th><td>-1.051077e-03</td><td>1.0009306</td></tr>\n",
       "\t<tr><th scope=row>sex</th><td> 1.546415e-04</td><td>0.9999986</td></tr>\n",
       "\t<tr><th scope=row>city</th><td> 8.371879e-04</td><td>1.0004011</td></tr>\n",
       "\t<tr><th scope=row>g2000</th><td>-7.176792e-04</td><td>1.0015415</td></tr>\n",
       "\t<tr><th scope=row>g2002</th><td> 2.536818e-04</td><td>0.9995444</td></tr>\n",
       "\t<tr><th scope=row>p2000</th><td> 3.549130e-04</td><td>1.0003777</td></tr>\n",
       "\t<tr><th scope=row>p2002</th><td>-7.830514e-04</td><td>0.9997064</td></tr>\n",
       "\t<tr><th scope=row>p2004</th><td> 1.286558e-03</td><td>1.0004250</td></tr>\n",
       "\t<tr><th scope=row>totalpopulation_estimate</th><td>-5.868299e-04</td><td>0.9987116</td></tr>\n",
       "\t<tr><th scope=row>percent_male</th><td>-1.616122e-04</td><td>0.9949054</td></tr>\n",
       "\t<tr><th scope=row>median_age</th><td> 1.049574e-03</td><td>0.9997857</td></tr>\n",
       "\t<tr><th scope=row>percent_62yearsandover</th><td> 1.186222e-03</td><td>1.0010447</td></tr>\n",
       "\t<tr><th scope=row>percent_white</th><td>-4.446171e-04</td><td>1.0014716</td></tr>\n",
       "\t<tr><th scope=row>percent_black</th><td> 1.531004e-04</td><td>1.0029966</td></tr>\n",
       "\t<tr><th scope=row>median_income</th><td> 7.866690e-04</td><td>1.0030718</td></tr>\n",
       "\t<tr><th scope=row>employ_20to64</th><td>-4.668143e-04</td><td>1.0021255</td></tr>\n",
       "\t<tr><th scope=row>highschool</th><td> 3.998317e-04</td><td>1.0018939</td></tr>\n",
       "\t<tr><th scope=row>bach_orhigher</th><td>-3.291933e-05</td><td>1.0019189</td></tr>\n",
       "\t<tr><th scope=row>percent_hispanicorlatino</th><td>-1.527454e-03</td><td>0.9936697</td></tr>\n",
       "\t<tr><th scope=row>noise1</th><td> 4.267217e-04</td><td>1.0001740</td></tr>\n",
       "\t<tr><th scope=row>noise2</th><td> 4.242676e-04</td><td>1.0008470</td></tr>\n",
       "\t<tr><th scope=row>noise3</th><td> 1.229910e-04</td><td>0.9991376</td></tr>\n",
       "\t<tr><th scope=row>noise4</th><td> 4.248117e-04</td><td>1.0000200</td></tr>\n",
       "\t<tr><th scope=row>noise5</th><td> 1.290324e-03</td><td>1.0014438</td></tr>\n",
       "\t<tr><th scope=row>noise6</th><td> 1.183725e-03</td><td>1.0004992</td></tr>\n",
       "\t<tr><th scope=row>noise7</th><td>-9.459712e-04</td><td>1.0007837</td></tr>\n",
       "\t<tr><th scope=row>noise8</th><td> 1.093798e-03</td><td>0.9998463</td></tr>\n",
       "\t<tr><th scope=row>noise9</th><td>-9.870753e-04</td><td>1.0006989</td></tr>\n",
       "\t<tr><th scope=row>noise10</th><td> 5.792830e-04</td><td>1.0000106</td></tr>\n",
       "\t<tr><th scope=row>noise11</th><td>-2.316736e-03</td><td>1.0001000</td></tr>\n",
       "\t<tr><th scope=row>noise12</th><td> 1.351893e-03</td><td>1.0007720</td></tr>\n",
       "\t<tr><th scope=row>noise13</th><td>-4.368477e-04</td><td>1.0019708</td></tr>\n",
       "</tbody>\n",
       "</table>\n"
      ],
      "text/latex": [
       "A data.frame: 33 × 2\n",
       "\\begin{tabular}{r|ll}\n",
       "  & media & varianza\\\\\n",
       "  & <dbl> & <dbl>\\\\\n",
       "\\hline\n",
       "\tyob &  9.397954e-04 & 1.0013665\\\\\n",
       "\thh\\_size & -1.051077e-03 & 1.0009306\\\\\n",
       "\tsex &  1.546415e-04 & 0.9999986\\\\\n",
       "\tcity &  8.371879e-04 & 1.0004011\\\\\n",
       "\tg2000 & -7.176792e-04 & 1.0015415\\\\\n",
       "\tg2002 &  2.536818e-04 & 0.9995444\\\\\n",
       "\tp2000 &  3.549130e-04 & 1.0003777\\\\\n",
       "\tp2002 & -7.830514e-04 & 0.9997064\\\\\n",
       "\tp2004 &  1.286558e-03 & 1.0004250\\\\\n",
       "\ttotalpopulation\\_estimate & -5.868299e-04 & 0.9987116\\\\\n",
       "\tpercent\\_male & -1.616122e-04 & 0.9949054\\\\\n",
       "\tmedian\\_age &  1.049574e-03 & 0.9997857\\\\\n",
       "\tpercent\\_62yearsandover &  1.186222e-03 & 1.0010447\\\\\n",
       "\tpercent\\_white & -4.446171e-04 & 1.0014716\\\\\n",
       "\tpercent\\_black &  1.531004e-04 & 1.0029966\\\\\n",
       "\tmedian\\_income &  7.866690e-04 & 1.0030718\\\\\n",
       "\temploy\\_20to64 & -4.668143e-04 & 1.0021255\\\\\n",
       "\thighschool &  3.998317e-04 & 1.0018939\\\\\n",
       "\tbach\\_orhigher & -3.291933e-05 & 1.0019189\\\\\n",
       "\tpercent\\_hispanicorlatino & -1.527454e-03 & 0.9936697\\\\\n",
       "\tnoise1 &  4.267217e-04 & 1.0001740\\\\\n",
       "\tnoise2 &  4.242676e-04 & 1.0008470\\\\\n",
       "\tnoise3 &  1.229910e-04 & 0.9991376\\\\\n",
       "\tnoise4 &  4.248117e-04 & 1.0000200\\\\\n",
       "\tnoise5 &  1.290324e-03 & 1.0014438\\\\\n",
       "\tnoise6 &  1.183725e-03 & 1.0004992\\\\\n",
       "\tnoise7 & -9.459712e-04 & 1.0007837\\\\\n",
       "\tnoise8 &  1.093798e-03 & 0.9998463\\\\\n",
       "\tnoise9 & -9.870753e-04 & 1.0006989\\\\\n",
       "\tnoise10 &  5.792830e-04 & 1.0000106\\\\\n",
       "\tnoise11 & -2.316736e-03 & 1.0001000\\\\\n",
       "\tnoise12 &  1.351893e-03 & 1.0007720\\\\\n",
       "\tnoise13 & -4.368477e-04 & 1.0019708\\\\\n",
       "\\end{tabular}\n"
      ],
      "text/markdown": [
       "\n",
       "A data.frame: 33 × 2\n",
       "\n",
       "| <!--/--> | media &lt;dbl&gt; | varianza &lt;dbl&gt; |\n",
       "|---|---|---|\n",
       "| yob |  9.397954e-04 | 1.0013665 |\n",
       "| hh_size | -1.051077e-03 | 1.0009306 |\n",
       "| sex |  1.546415e-04 | 0.9999986 |\n",
       "| city |  8.371879e-04 | 1.0004011 |\n",
       "| g2000 | -7.176792e-04 | 1.0015415 |\n",
       "| g2002 |  2.536818e-04 | 0.9995444 |\n",
       "| p2000 |  3.549130e-04 | 1.0003777 |\n",
       "| p2002 | -7.830514e-04 | 0.9997064 |\n",
       "| p2004 |  1.286558e-03 | 1.0004250 |\n",
       "| totalpopulation_estimate | -5.868299e-04 | 0.9987116 |\n",
       "| percent_male | -1.616122e-04 | 0.9949054 |\n",
       "| median_age |  1.049574e-03 | 0.9997857 |\n",
       "| percent_62yearsandover |  1.186222e-03 | 1.0010447 |\n",
       "| percent_white | -4.446171e-04 | 1.0014716 |\n",
       "| percent_black |  1.531004e-04 | 1.0029966 |\n",
       "| median_income |  7.866690e-04 | 1.0030718 |\n",
       "| employ_20to64 | -4.668143e-04 | 1.0021255 |\n",
       "| highschool |  3.998317e-04 | 1.0018939 |\n",
       "| bach_orhigher | -3.291933e-05 | 1.0019189 |\n",
       "| percent_hispanicorlatino | -1.527454e-03 | 0.9936697 |\n",
       "| noise1 |  4.267217e-04 | 1.0001740 |\n",
       "| noise2 |  4.242676e-04 | 1.0008470 |\n",
       "| noise3 |  1.229910e-04 | 0.9991376 |\n",
       "| noise4 |  4.248117e-04 | 1.0000200 |\n",
       "| noise5 |  1.290324e-03 | 1.0014438 |\n",
       "| noise6 |  1.183725e-03 | 1.0004992 |\n",
       "| noise7 | -9.459712e-04 | 1.0007837 |\n",
       "| noise8 |  1.093798e-03 | 0.9998463 |\n",
       "| noise9 | -9.870753e-04 | 1.0006989 |\n",
       "| noise10 |  5.792830e-04 | 1.0000106 |\n",
       "| noise11 | -2.316736e-03 | 1.0001000 |\n",
       "| noise12 |  1.351893e-03 | 1.0007720 |\n",
       "| noise13 | -4.368477e-04 | 1.0019708 |\n",
       "\n"
      ],
      "text/plain": [
       "                         media         varianza \n",
       "yob                       9.397954e-04 1.0013665\n",
       "hh_size                  -1.051077e-03 1.0009306\n",
       "sex                       1.546415e-04 0.9999986\n",
       "city                      8.371879e-04 1.0004011\n",
       "g2000                    -7.176792e-04 1.0015415\n",
       "g2002                     2.536818e-04 0.9995444\n",
       "p2000                     3.549130e-04 1.0003777\n",
       "p2002                    -7.830514e-04 0.9997064\n",
       "p2004                     1.286558e-03 1.0004250\n",
       "totalpopulation_estimate -5.868299e-04 0.9987116\n",
       "percent_male             -1.616122e-04 0.9949054\n",
       "median_age                1.049574e-03 0.9997857\n",
       "percent_62yearsandover    1.186222e-03 1.0010447\n",
       "percent_white            -4.446171e-04 1.0014716\n",
       "percent_black             1.531004e-04 1.0029966\n",
       "median_income             7.866690e-04 1.0030718\n",
       "employ_20to64            -4.668143e-04 1.0021255\n",
       "highschool                3.998317e-04 1.0018939\n",
       "bach_orhigher            -3.291933e-05 1.0019189\n",
       "percent_hispanicorlatino -1.527454e-03 0.9936697\n",
       "noise1                    4.267217e-04 1.0001740\n",
       "noise2                    4.242676e-04 1.0008470\n",
       "noise3                    1.229910e-04 0.9991376\n",
       "noise4                    4.248117e-04 1.0000200\n",
       "noise5                    1.290324e-03 1.0014438\n",
       "noise6                    1.183725e-03 1.0004992\n",
       "noise7                   -9.459712e-04 1.0007837\n",
       "noise8                    1.093798e-03 0.9998463\n",
       "noise9                   -9.870753e-04 1.0006989\n",
       "noise10                   5.792830e-04 1.0000106\n",
       "noise11                  -2.316736e-03 1.0001000\n",
       "noise12                   1.351893e-03 1.0007720\n",
       "noise13                  -4.368477e-04 1.0019708"
      ]
     },
     "metadata": {},
     "output_type": "display_data"
    }
   ],
   "source": [
    "df <- as.data.frame(apply(X.train, 2, mean))\n",
    "df <- cbind(df,apply(X.train,2,var))\n",
    "colnames(df) <- c('media','varianza')\n",
    "df            "
   ]
  },
  {
   "cell_type": "markdown",
   "id": "3f6e7560-4f33-47a8-8c61-9914e8458f51",
   "metadata": {},
   "source": [
    "Los datos ya se encuentran estandarizados por eso es que todas las variables tienen media cercana a cero y la varianza cercana a 1.\n",
    "\n",
    "Procedemos a encontrar los componentes principales con la funcion *prcomp* "
   ]
  },
  {
   "cell_type": "code",
   "execution_count": 12,
   "id": "4944a6fc-8783-4d98-afc0-09a74565e11a",
   "metadata": {
    "executionInfo": {
     "elapsed": 44,
     "status": "ok",
     "timestamp": 1653910861214,
     "user": {
      "displayName": "Pablo Quintana",
      "userId": "00674039532099061635"
     },
     "user_tz": 180
    },
    "id": "4944a6fc-8783-4d98-afc0-09a74565e11a"
   },
   "outputs": [
    {
     "name": "stdout",
     "output_type": "stream",
     "text": [
      "List of 5\n",
      " $ sdev    : num [1:33] 1.94 1.66 1.39 1.24 1.06 ...\n",
      " $ rotation: num [1:33, 1:33] -0.1209 -0.0557 0.0034 -0.185 0.0094 ...\n",
      "  ..- attr(*, \"dimnames\")=List of 2\n",
      "  .. ..$ : chr [1:33] \"yob\" \"hh_size\" \"sex\" \"city\" ...\n",
      "  .. ..$ : chr [1:33] \"PC1\" \"PC2\" \"PC3\" \"PC4\" ...\n",
      " $ center  : Named num [1:33] 0.00094 -0.001051 0.000155 0.000837 -0.000718 ...\n",
      "  ..- attr(*, \"names\")= chr [1:33] \"yob\" \"hh_size\" \"sex\" \"city\" ...\n",
      " $ scale   : logi FALSE\n",
      " $ x       : num [1:107999, 1:33] -1.8989 1.5749 -2.0062 -3.5896 -0.0123 ...\n",
      "  ..- attr(*, \"dimnames\")=List of 2\n",
      "  .. ..$ : chr [1:107999] \"20811\" \"90336\" \"19514\" \"36363\" ...\n",
      "  .. ..$ : chr [1:33] \"PC1\" \"PC2\" \"PC3\" \"PC4\" ...\n",
      " - attr(*, \"class\")= chr \"prcomp\"\n"
     ]
    }
   ],
   "source": [
    "pc_train <- prcomp(X.train)\n",
    "str(pc_train) #podemos ver todos los componentes que ofrece la salida de la función"
   ]
  },
  {
   "cell_type": "code",
   "execution_count": 13,
   "id": "f41f923a-ce62-4290-8797-768c0db29563",
   "metadata": {
    "colab": {
     "base_uri": "https://localhost:8080/",
     "height": 208
    },
    "executionInfo": {
     "elapsed": 44,
     "status": "ok",
     "timestamp": 1653910861215,
     "user": {
      "displayName": "Pablo Quintana",
      "userId": "00674039532099061635"
     },
     "user_tz": 180
    },
    "id": "f41f923a-ce62-4290-8797-768c0db29563",
    "outputId": "2f55fb10-a220-4ee8-c6bc-1305faaaed8b"
   },
   "outputs": [
    {
     "data": {
      "text/html": [
       "<table class=\"dataframe\">\n",
       "<caption>A data.frame: 6 × 1</caption>\n",
       "<thead>\n",
       "\t<tr><th></th><th scope=col>pc_train$center</th></tr>\n",
       "\t<tr><th></th><th scope=col>&lt;dbl&gt;</th></tr>\n",
       "</thead>\n",
       "<tbody>\n",
       "\t<tr><th scope=row>yob</th><td> 0.0009397954</td></tr>\n",
       "\t<tr><th scope=row>hh_size</th><td>-0.0010510773</td></tr>\n",
       "\t<tr><th scope=row>sex</th><td> 0.0001546415</td></tr>\n",
       "\t<tr><th scope=row>city</th><td> 0.0008371879</td></tr>\n",
       "\t<tr><th scope=row>g2000</th><td>-0.0007176792</td></tr>\n",
       "\t<tr><th scope=row>g2002</th><td> 0.0002536818</td></tr>\n",
       "</tbody>\n",
       "</table>\n"
      ],
      "text/latex": [
       "A data.frame: 6 × 1\n",
       "\\begin{tabular}{r|l}\n",
       "  & pc\\_train\\$center\\\\\n",
       "  & <dbl>\\\\\n",
       "\\hline\n",
       "\tyob &  0.0009397954\\\\\n",
       "\thh\\_size & -0.0010510773\\\\\n",
       "\tsex &  0.0001546415\\\\\n",
       "\tcity &  0.0008371879\\\\\n",
       "\tg2000 & -0.0007176792\\\\\n",
       "\tg2002 &  0.0002536818\\\\\n",
       "\\end{tabular}\n"
      ],
      "text/markdown": [
       "\n",
       "A data.frame: 6 × 1\n",
       "\n",
       "| <!--/--> | pc_train$center &lt;dbl&gt; |\n",
       "|---|---|\n",
       "| yob |  0.0009397954 |\n",
       "| hh_size | -0.0010510773 |\n",
       "| sex |  0.0001546415 |\n",
       "| city |  0.0008371879 |\n",
       "| g2000 | -0.0007176792 |\n",
       "| g2002 |  0.0002536818 |\n",
       "\n"
      ],
      "text/plain": [
       "        pc_train$center\n",
       "yob      0.0009397954  \n",
       "hh_size -0.0010510773  \n",
       "sex      0.0001546415  \n",
       "city     0.0008371879  \n",
       "g2000   -0.0007176792  \n",
       "g2002    0.0002536818  "
      ]
     },
     "metadata": {},
     "output_type": "display_data"
    }
   ],
   "source": [
    "head(as.data.frame(pc_train$center))"
   ]
  },
  {
   "cell_type": "markdown",
   "id": "f87819ef-df1c-4cb1-8948-27c64cc133ff",
   "metadata": {},
   "source": [
    "El atributo \"center\" y \"scale\" devuelve la media y la varianza antes de aplicar el análisis de componentes principales que los va transformar. En este caso que no utilizamos la función scale  nos va devolver FALSE"
   ]
  },
  {
   "cell_type": "code",
   "execution_count": 14,
   "id": "16a6f8c2-2dd7-44d9-b7a1-073d8dc3ef11",
   "metadata": {
    "colab": {
     "base_uri": "https://localhost:8080/",
     "height": 34
    },
    "executionInfo": {
     "elapsed": 43,
     "status": "ok",
     "timestamp": 1653910861216,
     "user": {
      "displayName": "Pablo Quintana",
      "userId": "00674039532099061635"
     },
     "user_tz": 180
    },
    "id": "16a6f8c2-2dd7-44d9-b7a1-073d8dc3ef11",
    "outputId": "6385713b-37f8-4fc4-d3fa-baff9e37fd0c"
   },
   "outputs": [
    {
     "data": {
      "text/html": [
       "FALSE"
      ],
      "text/latex": [
       "FALSE"
      ],
      "text/markdown": [
       "FALSE"
      ],
      "text/plain": [
       "[1] FALSE"
      ]
     },
     "metadata": {},
     "output_type": "display_data"
    }
   ],
   "source": [
    "pc_train$scale"
   ]
  },
  {
   "cell_type": "markdown",
   "id": "41244a4e-03a0-4dcf-8911-51dcea213c31",
   "metadata": {},
   "source": [
    "El atributo \"rotation\" devulve la matriz de componentes principales. En este caso tenemos una matriz de 33 X 33. Esto es esperado porque en general, en una matriz $n\\ X\\  p$ existen $min\\left(n-1,p\\right)$ componentes principales informativos"
   ]
  },
  {
   "cell_type": "code",
   "execution_count": 15,
   "id": "462887c4-2f52-4b04-a692-f45fe6458ca4",
   "metadata": {
    "colab": {
     "base_uri": "https://localhost:8080/",
     "height": 379
    },
    "executionInfo": {
     "elapsed": 42,
     "status": "ok",
     "timestamp": 1653910861217,
     "user": {
      "displayName": "Pablo Quintana",
      "userId": "00674039532099061635"
     },
     "user_tz": 180
    },
    "id": "462887c4-2f52-4b04-a692-f45fe6458ca4",
    "outputId": "fa981b8d-a7b8-43f5-f78a-acaebfb822a0"
   },
   "outputs": [
    {
     "data": {
      "text/html": [
       "<table class=\"dataframe\">\n",
       "<caption>A matrix: 6 × 33 of type dbl</caption>\n",
       "<thead>\n",
       "\t<tr><th></th><th scope=col>PC1</th><th scope=col>PC2</th><th scope=col>PC3</th><th scope=col>PC4</th><th scope=col>PC5</th><th scope=col>PC6</th><th scope=col>PC7</th><th scope=col>PC8</th><th scope=col>PC9</th><th scope=col>PC10</th><th scope=col>...</th><th scope=col>PC24</th><th scope=col>PC25</th><th scope=col>PC26</th><th scope=col>PC27</th><th scope=col>PC28</th><th scope=col>PC29</th><th scope=col>PC30</th><th scope=col>PC31</th><th scope=col>PC32</th><th scope=col>PC33</th></tr>\n",
       "</thead>\n",
       "<tbody>\n",
       "\t<tr><th scope=row>yob</th><td>-0.120866058</td><td> 0.020183536</td><td>-0.42376768</td><td> 0.119941732</td><td>-0.09841139</td><td> 0.06096716</td><td>-0.002109606</td><td>-0.0126688648</td><td>-0.01983587</td><td>-0.025947948</td><td>...</td><td> 0.17555581</td><td> 0.73601658</td><td>-0.13357118</td><td>-0.083187271</td><td> 0.031130569</td><td>-0.0207118322</td><td> 0.0323787081</td><td>-0.0062818671</td><td> 0.003576379</td><td>-0.0007467200</td></tr>\n",
       "\t<tr><th scope=row>hh_size</th><td>-0.055681350</td><td> 0.025211574</td><td>-0.34860327</td><td> 0.152984691</td><td>-0.25458625</td><td> 0.20661979</td><td> 0.014984593</td><td>-0.0009195866</td><td> 0.02157062</td><td> 0.020888628</td><td>...</td><td>-0.04232669</td><td>-0.49009848</td><td> 0.02545472</td><td> 0.101313322</td><td>-0.027689267</td><td> 0.0005950935</td><td> 0.0002327359</td><td> 0.0071383525</td><td>-0.006727614</td><td>-0.0008880443</td></tr>\n",
       "\t<tr><th scope=row>sex</th><td> 0.003403222</td><td>-0.005339473</td><td>-0.01433724</td><td> 0.004750259</td><td> 0.14649151</td><td>-0.05568789</td><td>-0.020526135</td><td>-0.2887155876</td><td> 0.04898992</td><td>-0.543717858</td><td>...</td><td> 0.02297895</td><td>-0.09566210</td><td> 0.04173488</td><td>-0.005171593</td><td>-0.002981031</td><td> 0.0026141165</td><td>-0.0082379639</td><td>-0.0007514174</td><td>-0.001328813</td><td>-0.0002857038</td></tr>\n",
       "\t<tr><th scope=row>city</th><td>-0.185011657</td><td>-0.028549349</td><td> 0.21733003</td><td> 0.131208890</td><td>-0.02320243</td><td> 0.14753847</td><td> 0.005965800</td><td>-0.0260463604</td><td>-0.01591203</td><td>-0.007405519</td><td>...</td><td> 0.73267293</td><td> 0.04292532</td><td> 0.05109398</td><td> 0.022887883</td><td> 0.103363678</td><td>-0.0631826280</td><td>-0.0325024633</td><td> 0.0289395777</td><td> 0.010998663</td><td>-0.0080979798</td></tr>\n",
       "\t<tr><th scope=row>g2000</th><td> 0.009402724</td><td>-0.016515142</td><td> 0.43736040</td><td>-0.237594459</td><td> 0.06706684</td><td>-0.02648518</td><td>-0.004873721</td><td>-0.0080151350</td><td> 0.01598691</td><td>-0.021151649</td><td>...</td><td>-0.19822008</td><td> 0.27031681</td><td>-0.41452284</td><td> 0.487916200</td><td>-0.014883193</td><td>-0.0135643164</td><td> 0.0054213787</td><td> 0.0024939378</td><td> 0.001690843</td><td> 0.0035039676</td></tr>\n",
       "\t<tr><th scope=row>g2002</th><td> 0.001522584</td><td>-0.010526993</td><td> 0.42939959</td><td>-0.258022956</td><td>-0.03036396</td><td>-0.01067006</td><td>-0.007518787</td><td>-0.0112968894</td><td>-0.01285197</td><td> 0.022386648</td><td>...</td><td>-0.16305885</td><td> 0.10831446</td><td> 0.35707160</td><td>-0.580228773</td><td> 0.023307567</td><td> 0.0072672902</td><td> 0.0146118060</td><td>-0.0033265148</td><td>-0.002912899</td><td>-0.0012067769</td></tr>\n",
       "</tbody>\n",
       "</table>\n"
      ],
      "text/latex": [
       "A matrix: 6 × 33 of type dbl\n",
       "\\begin{tabular}{r|lllllllllllllllllllll}\n",
       "  & PC1 & PC2 & PC3 & PC4 & PC5 & PC6 & PC7 & PC8 & PC9 & PC10 & ... & PC24 & PC25 & PC26 & PC27 & PC28 & PC29 & PC30 & PC31 & PC32 & PC33\\\\\n",
       "\\hline\n",
       "\tyob & -0.120866058 &  0.020183536 & -0.42376768 &  0.119941732 & -0.09841139 &  0.06096716 & -0.002109606 & -0.0126688648 & -0.01983587 & -0.025947948 & ... &  0.17555581 &  0.73601658 & -0.13357118 & -0.083187271 &  0.031130569 & -0.0207118322 &  0.0323787081 & -0.0062818671 &  0.003576379 & -0.0007467200\\\\\n",
       "\thh\\_size & -0.055681350 &  0.025211574 & -0.34860327 &  0.152984691 & -0.25458625 &  0.20661979 &  0.014984593 & -0.0009195866 &  0.02157062 &  0.020888628 & ... & -0.04232669 & -0.49009848 &  0.02545472 &  0.101313322 & -0.027689267 &  0.0005950935 &  0.0002327359 &  0.0071383525 & -0.006727614 & -0.0008880443\\\\\n",
       "\tsex &  0.003403222 & -0.005339473 & -0.01433724 &  0.004750259 &  0.14649151 & -0.05568789 & -0.020526135 & -0.2887155876 &  0.04898992 & -0.543717858 & ... &  0.02297895 & -0.09566210 &  0.04173488 & -0.005171593 & -0.002981031 &  0.0026141165 & -0.0082379639 & -0.0007514174 & -0.001328813 & -0.0002857038\\\\\n",
       "\tcity & -0.185011657 & -0.028549349 &  0.21733003 &  0.131208890 & -0.02320243 &  0.14753847 &  0.005965800 & -0.0260463604 & -0.01591203 & -0.007405519 & ... &  0.73267293 &  0.04292532 &  0.05109398 &  0.022887883 &  0.103363678 & -0.0631826280 & -0.0325024633 &  0.0289395777 &  0.010998663 & -0.0080979798\\\\\n",
       "\tg2000 &  0.009402724 & -0.016515142 &  0.43736040 & -0.237594459 &  0.06706684 & -0.02648518 & -0.004873721 & -0.0080151350 &  0.01598691 & -0.021151649 & ... & -0.19822008 &  0.27031681 & -0.41452284 &  0.487916200 & -0.014883193 & -0.0135643164 &  0.0054213787 &  0.0024939378 &  0.001690843 &  0.0035039676\\\\\n",
       "\tg2002 &  0.001522584 & -0.010526993 &  0.42939959 & -0.258022956 & -0.03036396 & -0.01067006 & -0.007518787 & -0.0112968894 & -0.01285197 &  0.022386648 & ... & -0.16305885 &  0.10831446 &  0.35707160 & -0.580228773 &  0.023307567 &  0.0072672902 &  0.0146118060 & -0.0033265148 & -0.002912899 & -0.0012067769\\\\\n",
       "\\end{tabular}\n"
      ],
      "text/markdown": [
       "\n",
       "A matrix: 6 × 33 of type dbl\n",
       "\n",
       "| <!--/--> | PC1 | PC2 | PC3 | PC4 | PC5 | PC6 | PC7 | PC8 | PC9 | PC10 | ... | PC24 | PC25 | PC26 | PC27 | PC28 | PC29 | PC30 | PC31 | PC32 | PC33 |\n",
       "|---|---|---|---|---|---|---|---|---|---|---|---|---|---|---|---|---|---|---|---|---|---|\n",
       "| yob | -0.120866058 |  0.020183536 | -0.42376768 |  0.119941732 | -0.09841139 |  0.06096716 | -0.002109606 | -0.0126688648 | -0.01983587 | -0.025947948 | ... |  0.17555581 |  0.73601658 | -0.13357118 | -0.083187271 |  0.031130569 | -0.0207118322 |  0.0323787081 | -0.0062818671 |  0.003576379 | -0.0007467200 |\n",
       "| hh_size | -0.055681350 |  0.025211574 | -0.34860327 |  0.152984691 | -0.25458625 |  0.20661979 |  0.014984593 | -0.0009195866 |  0.02157062 |  0.020888628 | ... | -0.04232669 | -0.49009848 |  0.02545472 |  0.101313322 | -0.027689267 |  0.0005950935 |  0.0002327359 |  0.0071383525 | -0.006727614 | -0.0008880443 |\n",
       "| sex |  0.003403222 | -0.005339473 | -0.01433724 |  0.004750259 |  0.14649151 | -0.05568789 | -0.020526135 | -0.2887155876 |  0.04898992 | -0.543717858 | ... |  0.02297895 | -0.09566210 |  0.04173488 | -0.005171593 | -0.002981031 |  0.0026141165 | -0.0082379639 | -0.0007514174 | -0.001328813 | -0.0002857038 |\n",
       "| city | -0.185011657 | -0.028549349 |  0.21733003 |  0.131208890 | -0.02320243 |  0.14753847 |  0.005965800 | -0.0260463604 | -0.01591203 | -0.007405519 | ... |  0.73267293 |  0.04292532 |  0.05109398 |  0.022887883 |  0.103363678 | -0.0631826280 | -0.0325024633 |  0.0289395777 |  0.010998663 | -0.0080979798 |\n",
       "| g2000 |  0.009402724 | -0.016515142 |  0.43736040 | -0.237594459 |  0.06706684 | -0.02648518 | -0.004873721 | -0.0080151350 |  0.01598691 | -0.021151649 | ... | -0.19822008 |  0.27031681 | -0.41452284 |  0.487916200 | -0.014883193 | -0.0135643164 |  0.0054213787 |  0.0024939378 |  0.001690843 |  0.0035039676 |\n",
       "| g2002 |  0.001522584 | -0.010526993 |  0.42939959 | -0.258022956 | -0.03036396 | -0.01067006 | -0.007518787 | -0.0112968894 | -0.01285197 |  0.022386648 | ... | -0.16305885 |  0.10831446 |  0.35707160 | -0.580228773 |  0.023307567 |  0.0072672902 |  0.0146118060 | -0.0033265148 | -0.002912899 | -0.0012067769 |\n",
       "\n"
      ],
      "text/plain": [
       "        PC1          PC2          PC3         PC4          PC5        \n",
       "yob     -0.120866058  0.020183536 -0.42376768  0.119941732 -0.09841139\n",
       "hh_size -0.055681350  0.025211574 -0.34860327  0.152984691 -0.25458625\n",
       "sex      0.003403222 -0.005339473 -0.01433724  0.004750259  0.14649151\n",
       "city    -0.185011657 -0.028549349  0.21733003  0.131208890 -0.02320243\n",
       "g2000    0.009402724 -0.016515142  0.43736040 -0.237594459  0.06706684\n",
       "g2002    0.001522584 -0.010526993  0.42939959 -0.258022956 -0.03036396\n",
       "        PC6         PC7          PC8           PC9         PC10         ...\n",
       "yob      0.06096716 -0.002109606 -0.0126688648 -0.01983587 -0.025947948 ...\n",
       "hh_size  0.20661979  0.014984593 -0.0009195866  0.02157062  0.020888628 ...\n",
       "sex     -0.05568789 -0.020526135 -0.2887155876  0.04898992 -0.543717858 ...\n",
       "city     0.14753847  0.005965800 -0.0260463604 -0.01591203 -0.007405519 ...\n",
       "g2000   -0.02648518 -0.004873721 -0.0080151350  0.01598691 -0.021151649 ...\n",
       "g2002   -0.01067006 -0.007518787 -0.0112968894 -0.01285197  0.022386648 ...\n",
       "        PC24        PC25        PC26        PC27         PC28        \n",
       "yob      0.17555581  0.73601658 -0.13357118 -0.083187271  0.031130569\n",
       "hh_size -0.04232669 -0.49009848  0.02545472  0.101313322 -0.027689267\n",
       "sex      0.02297895 -0.09566210  0.04173488 -0.005171593 -0.002981031\n",
       "city     0.73267293  0.04292532  0.05109398  0.022887883  0.103363678\n",
       "g2000   -0.19822008  0.27031681 -0.41452284  0.487916200 -0.014883193\n",
       "g2002   -0.16305885  0.10831446  0.35707160 -0.580228773  0.023307567\n",
       "        PC29          PC30          PC31          PC32         PC33         \n",
       "yob     -0.0207118322  0.0323787081 -0.0062818671  0.003576379 -0.0007467200\n",
       "hh_size  0.0005950935  0.0002327359  0.0071383525 -0.006727614 -0.0008880443\n",
       "sex      0.0026141165 -0.0082379639 -0.0007514174 -0.001328813 -0.0002857038\n",
       "city    -0.0631826280 -0.0325024633  0.0289395777  0.010998663 -0.0080979798\n",
       "g2000   -0.0135643164  0.0054213787  0.0024939378  0.001690843  0.0035039676\n",
       "g2002    0.0072672902  0.0146118060 -0.0033265148 -0.002912899 -0.0012067769"
      ]
     },
     "metadata": {},
     "output_type": "display_data"
    }
   ],
   "source": [
    "head(pc_train$rotation)"
   ]
  },
  {
   "cell_type": "code",
   "execution_count": 16,
   "id": "84885df5-4676-406d-b661-dbeac4a1deef",
   "metadata": {
    "colab": {
     "base_uri": "https://localhost:8080/",
     "height": 472
    },
    "executionInfo": {
     "elapsed": 3040,
     "status": "ok",
     "timestamp": 1653910864217,
     "user": {
      "displayName": "Pablo Quintana",
      "userId": "00674039532099061635"
     },
     "user_tz": 180
    },
    "id": "84885df5-4676-406d-b661-dbeac4a1deef",
    "outputId": "54faa131-de4e-4348-8303-298ea68f1be0"
   },
   "outputs": [
    {
     "data": {
      "image/png": "[encoded data removed]",
      "text/plain": [
       "plot without title"
      ]
     },
     "metadata": {
      "image/png": {
       "height": 420,
       "width": 420
      }
     },
     "output_type": "display_data"
    }
   ],
   "source": [
    "biplot(pc_train)"
   ]
  },
  {
   "cell_type": "code",
   "execution_count": 22,
   "id": "6dc08073-4ceb-4aeb-b7fa-4f0fa0955035",
   "metadata": {
    "colab": {
     "base_uri": "https://localhost:8080/",
     "height": 121
    },
    "executionInfo": {
     "elapsed": 34,
     "status": "ok",
     "timestamp": 1653910864218,
     "user": {
      "displayName": "Pablo Quintana",
      "userId": "00674039532099061635"
     },
     "user_tz": 180
    },
    "id": "6dc08073-4ceb-4aeb-b7fa-4f0fa0955035",
    "outputId": "0d0b7ff3-56f2-41bb-f372-9619a3dfd941"
   },
   "outputs": [
    {
     "data": {
      "text/html": [
       "<style>\n",
       ".list-inline {list-style: none; margin:0; padding: 0}\n",
       ".list-inline>li {display: inline-block}\n",
       ".list-inline>li:not(:last-child)::after {content: \"\\00b7\"; padding: 0 .5ex}\n",
       "</style>\n",
       "<ol class=list-inline><li>0.113693781970524</li><li>0.0839647456434015</li><li>0.0588982671350345</li><li>0.0468155026183935</li><li>0.0339348028773934</li><li>0.0326629825407229</li><li>0.0309307221818187</li><li>0.0307940216364914</li><li>0.0307058644086561</li><li>0.0305303719656818</li><li>0.0304972616526782</li><li>0.0303942364329256</li><li>0.0302808854488139</li><li>0.0302406686950742</li><li>0.0301967353651898</li><li>0.0301430950107647</li><li>0.0300464437844906</li><li>0.0299510360793572</li><li>0.0298694084677904</li><li>0.0297682519855419</li><li>0.029107521588516</li><li>0.0262980231771967</li><li>0.0260414006118816</li><li>0.0239512956094175</li><li>0.0202815462870405</li><li>0.0195227746883005</li><li>0.0189870507238633</li><li>0.0174023038383967</li><li>0.0103673277927755</li><li>0.00737254881143325</li><li>0.00303198240470624</li><li>0.00227982801652823</li><li>0.0010373105491993</li></ol>\n"
      ],
      "text/latex": [
       "\\begin{enumerate*}\n",
       "\\item 0.113693781970524\n",
       "\\item 0.0839647456434015\n",
       "\\item 0.0588982671350345\n",
       "\\item 0.0468155026183935\n",
       "\\item 0.0339348028773934\n",
       "\\item 0.0326629825407229\n",
       "\\item 0.0309307221818187\n",
       "\\item 0.0307940216364914\n",
       "\\item 0.0307058644086561\n",
       "\\item 0.0305303719656818\n",
       "\\item 0.0304972616526782\n",
       "\\item 0.0303942364329256\n",
       "\\item 0.0302808854488139\n",
       "\\item 0.0302406686950742\n",
       "\\item 0.0301967353651898\n",
       "\\item 0.0301430950107647\n",
       "\\item 0.0300464437844906\n",
       "\\item 0.0299510360793572\n",
       "\\item 0.0298694084677904\n",
       "\\item 0.0297682519855419\n",
       "\\item 0.029107521588516\n",
       "\\item 0.0262980231771967\n",
       "\\item 0.0260414006118816\n",
       "\\item 0.0239512956094175\n",
       "\\item 0.0202815462870405\n",
       "\\item 0.0195227746883005\n",
       "\\item 0.0189870507238633\n",
       "\\item 0.0174023038383967\n",
       "\\item 0.0103673277927755\n",
       "\\item 0.00737254881143325\n",
       "\\item 0.00303198240470624\n",
       "\\item 0.00227982801652823\n",
       "\\item 0.0010373105491993\n",
       "\\end{enumerate*}\n"
      ],
      "text/markdown": [
       "1. 0.113693781970524\n",
       "2. 0.0839647456434015\n",
       "3. 0.0588982671350345\n",
       "4. 0.0468155026183935\n",
       "5. 0.0339348028773934\n",
       "6. 0.0326629825407229\n",
       "7. 0.0309307221818187\n",
       "8. 0.0307940216364914\n",
       "9. 0.0307058644086561\n",
       "10. 0.0305303719656818\n",
       "11. 0.0304972616526782\n",
       "12. 0.0303942364329256\n",
       "13. 0.0302808854488139\n",
       "14. 0.0302406686950742\n",
       "15. 0.0301967353651898\n",
       "16. 0.0301430950107647\n",
       "17. 0.0300464437844906\n",
       "18. 0.0299510360793572\n",
       "19. 0.0298694084677904\n",
       "20. 0.0297682519855419\n",
       "21. 0.029107521588516\n",
       "22. 0.0262980231771967\n",
       "23. 0.0260414006118816\n",
       "24. 0.0239512956094175\n",
       "25. 0.0202815462870405\n",
       "26. 0.0195227746883005\n",
       "27. 0.0189870507238633\n",
       "28. 0.0174023038383967\n",
       "29. 0.0103673277927755\n",
       "30. 0.00737254881143325\n",
       "31. 0.00303198240470624\n",
       "32. 0.00227982801652823\n",
       "33. 0.0010373105491993\n",
       "\n",
       "\n"
      ],
      "text/plain": [
       " [1] 0.113693782 0.083964746 0.058898267 0.046815503 0.033934803 0.032662983\n",
       " [7] 0.030930722 0.030794022 0.030705864 0.030530372 0.030497262 0.030394236\n",
       "[13] 0.030280885 0.030240669 0.030196735 0.030143095 0.030046444 0.029951036\n",
       "[19] 0.029869408 0.029768252 0.029107522 0.026298023 0.026041401 0.023951296\n",
       "[25] 0.020281546 0.019522775 0.018987051 0.017402304 0.010367328 0.007372549\n",
       "[31] 0.003031982 0.002279828 0.001037311"
      ]
     },
     "metadata": {},
     "output_type": "display_data"
    }
   ],
   "source": [
    "# podemos ver la varianza explicada por cada uno de los componentes\n",
    "pr.var <- pc_train$sdev^2\n",
    "pve <- pr.var/sum(pr.var)\n",
    "pve"
   ]
  },
  {
   "cell_type": "markdown",
   "id": "c8b8b05a-98d1-4558-a5e8-87522ba58fb1",
   "metadata": {},
   "source": [
    "En el gráfico de abajo se muestra la proporción de varianzas que explica cada uno de los componentes. En el otro de más abajo vemos como va aumentando la varianza explicada a medida que agregamos componentes"
   ]
  },
  {
   "cell_type": "code",
   "execution_count": 18,
   "id": "99f5a66b-8997-408c-9568-3da82b34cc4e",
   "metadata": {
    "colab": {
     "base_uri": "https://localhost:8080/",
     "height": 437
    },
    "executionInfo": {
     "elapsed": 34,
     "status": "ok",
     "timestamp": 1653910864219,
     "user": {
      "displayName": "Pablo Quintana",
      "userId": "00674039532099061635"
     },
     "user_tz": 180
    },
    "id": "99f5a66b-8997-408c-9568-3da82b34cc4e",
    "outputId": "32b31989-21be-411a-edaa-caf5818fdc01"
   },
   "outputs": [
    {
     "data": {
      "image/png": "[encoded data removed]",
      "text/plain": [
       "plot without title"
      ]
     },
     "metadata": {
      "image/png": {
       "height": 420,
       "width": 420
      }
     },
     "output_type": "display_data"
    }
   ],
   "source": [
    "plot(pve , xlab =\"Componentes principales\", ylab =\"Proporción de varianza explicada\", ylim=c(0 ,1) ,type='b')"
   ]
  },
  {
   "cell_type": "code",
   "execution_count": 19,
   "id": "fd6bef1d-a330-43a3-82e2-66efd7861376",
   "metadata": {
    "colab": {
     "base_uri": "https://localhost:8080/",
     "height": 437
    },
    "executionInfo": {
     "elapsed": 33,
     "status": "ok",
     "timestamp": 1653910864219,
     "user": {
      "displayName": "Pablo Quintana",
      "userId": "00674039532099061635"
     },
     "user_tz": 180
    },
    "id": "fd6bef1d-a330-43a3-82e2-66efd7861376",
    "outputId": "4da832e7-079f-445b-960c-3ce0b39e0726"
   },
   "outputs": [
    {
     "data": {
      "image/png": "[encoded data removed]",
      "text/plain": [
       "plot without title"
      ]
     },
     "metadata": {
      "image/png": {
       "height": 420,
       "width": 420
      }
     },
     "output_type": "display_data"
    }
   ],
   "source": [
    "plot(cumsum(pve) , xlab =\"Componentes principales\", ylab =\"Acumulado de varianza explicada\", ylim=c(0 ,1) ,type='b')"
   ]
  },
  {
   "cell_type": "code",
   "execution_count": 20,
   "id": "757f9511-341b-44f2-b9de-f8e04f4c6329",
   "metadata": {
    "colab": {
     "base_uri": "https://localhost:8080/",
     "height": 382
    },
    "executionInfo": {
     "elapsed": 33,
     "status": "ok",
     "timestamp": 1653910864220,
     "user": {
      "displayName": "Pablo Quintana",
      "userId": "00674039532099061635"
     },
     "user_tz": 180
    },
    "id": "757f9511-341b-44f2-b9de-f8e04f4c6329",
    "outputId": "1a9b534d-0705-4405-dde5-4b79f993a780"
   },
   "outputs": [
    {
     "data": {
      "text/plain": [
       "Importance of components:\n",
       "                          PC1     PC2    PC3     PC4     PC5     PC6     PC7\n",
       "Standard deviation     1.9373 1.66489 1.3944 1.24317 1.05842 1.03840 1.01049\n",
       "Proportion of Variance 0.1137 0.08396 0.0589 0.04682 0.03393 0.03266 0.03093\n",
       "Cumulative Proportion  0.1137 0.19766 0.2566 0.30337 0.33731 0.36997 0.40090\n",
       "                           PC8     PC9    PC10   PC11    PC12    PC13    PC14\n",
       "Standard deviation     1.00825 1.00681 1.00393 1.0034 1.00169 0.99982 0.99916\n",
       "Proportion of Variance 0.03079 0.03071 0.03053 0.0305 0.03039 0.03028 0.03024\n",
       "Cumulative Proportion  0.43169 0.46240 0.49293 0.5234 0.55382 0.58410 0.61434\n",
       "                         PC15    PC16    PC17    PC18    PC19    PC20    PC21\n",
       "Standard deviation     0.9984 0.99754 0.99594 0.99436 0.99300 0.99132 0.98026\n",
       "Proportion of Variance 0.0302 0.03014 0.03005 0.02995 0.02987 0.02977 0.02911\n",
       "Cumulative Proportion  0.6445 0.67468 0.70473 0.73468 0.76455 0.79432 0.82343\n",
       "                         PC22    PC23    PC24    PC25    PC26    PC27   PC28\n",
       "Standard deviation     0.9317 0.92719 0.88920 0.81825 0.80280 0.79171 0.7579\n",
       "Proportion of Variance 0.0263 0.02604 0.02395 0.02028 0.01952 0.01899 0.0174\n",
       "Cumulative Proportion  0.8497 0.87577 0.89972 0.92000 0.93952 0.95851 0.9759\n",
       "                          PC29    PC30    PC31    PC32    PC33\n",
       "Standard deviation     0.58502 0.49334 0.31637 0.27434 0.18505\n",
       "Proportion of Variance 0.01037 0.00737 0.00303 0.00228 0.00104\n",
       "Cumulative Proportion  0.98628 0.99365 0.99668 0.99896 1.00000"
      ]
     },
     "metadata": {},
     "output_type": "display_data"
    }
   ],
   "source": [
    "summary(pc_train)"
   ]
  },
  {
   "cell_type": "code",
   "execution_count": 33,
   "id": "12269f73-e7fb-4593-9e42-80f7a35716c8",
   "metadata": {},
   "outputs": [],
   "source": [
    "pc2 <- prcomp(X.train2)"
   ]
  },
  {
   "cell_type": "code",
   "execution_count": 35,
   "id": "fa3c46ae-b808-49bf-ab4a-031be9dff02a",
   "metadata": {},
   "outputs": [
    {
     "data": {
      "image/png": "[encoded data removed]",
      "text/plain": [
       "plot without title"
      ]
     },
     "metadata": {
      "image/png": {
       "height": 420,
       "width": 420
      }
     },
     "output_type": "display_data"
    }
   ],
   "source": [
    "pr.var <- pc2$sdev^2\n",
    "pve <- pr.var/sum(pr.var)\n",
    "plot(pve , xlab =\"Componentes principales\", ylab =\"Proporción de varianza explicada\", ylim=c(0 ,1) ,type='b')"
   ]
  },
  {
   "cell_type": "code",
   "execution_count": 36,
   "id": "1f95aa2d-ba9a-4855-905e-ea952d078718",
   "metadata": {},
   "outputs": [
    {
     "data": {
      "image/png": "[encoded data removed]",
      "text/plain": [
       "plot without title"
      ]
     },
     "metadata": {
      "image/png": {
       "height": 420,
       "width": 420
      }
     },
     "output_type": "display_data"
    }
   ],
   "source": [
    "plot(cumsum(pve) , xlab =\"Componentes principales\", ylab =\"Acumulado de varianza explicada\", ylim=c(0 ,1) ,type='b')"
   ]
  },
  {
   "cell_type": "markdown",
   "id": "851799a5-5d11-43a6-90ef-89931aa4316b",
   "metadata": {},
   "source": [
    "### Regresión CP\n",
    "\n",
    "Luego de calcular los componentes principales, podemos usarlos para trabajar en dimensiones menores y calcular una regresión  con ellos. Esto se puede hacer con un paquete en R que es \"pls\". Además aplica cross-validation para determinar que cantidad de componentes principales hacen falta."
   ]
  },
  {
   "cell_type": "code",
   "execution_count": 53,
   "id": "324ef8b3-1f18-4535-b29f-3cec53abe1e1",
   "metadata": {},
   "outputs": [
    {
     "name": "stderr",
     "output_type": "stream",
     "text": [
      "Warning message:\n",
      "\"package 'pls' is in use and will not be installed\"\n"
     ]
    }
   ],
   "source": [
    "install.packages('pls')\n",
    "library(pls)\n",
    "set.seed(45)\n",
    "pcr.fit <- pcr(linear, data = X.train, validation = \"CV\")"
   ]
  },
  {
   "cell_type": "code",
   "execution_count": 54,
   "id": "39754d59-a813-4a53-ba80-6ec6252da1a5",
   "metadata": {},
   "outputs": [
    {
     "name": "stdout",
     "output_type": "stream",
     "text": [
      "Data: \tX dimension: 107999 33 \n",
      "\tY dimension: 107999 1\n",
      "Fit method: svdpc\n",
      "Number of components considered: 33\n",
      "\n",
      "VALIDATION: RMSEP\n",
      "Cross-validated using 10 random segments.\n",
      "       (Intercept)  1 comps  2 comps  3 comps  4 comps  5 comps  6 comps\n",
      "CV          0.4659   0.4655   0.4654   0.4597   0.4596   0.4594   0.4593\n",
      "adjCV       0.4659   0.4655   0.4654   0.4597   0.4596   0.4594   0.4593\n",
      "       7 comps  8 comps  9 comps  10 comps  11 comps  12 comps  13 comps\n",
      "CV      0.4593   0.4593   0.4593    0.4593    0.4592    0.4592    0.4592\n",
      "adjCV   0.4593   0.4593   0.4593    0.4592    0.4592    0.4592    0.4591\n",
      "       14 comps  15 comps  16 comps  17 comps  18 comps  19 comps  20 comps\n",
      "CV       0.4591    0.4591    0.4591    0.4591    0.4591     0.459     0.459\n",
      "adjCV    0.4591    0.4591    0.4591    0.4591    0.4591     0.459     0.459\n",
      "       21 comps  22 comps  23 comps  24 comps  25 comps  26 comps  27 comps\n",
      "CV        0.459    0.4578    0.4561    0.4517    0.4503      0.45    0.4499\n",
      "adjCV     0.459    0.4578    0.4561    0.4517    0.4503      0.45    0.4499\n",
      "       28 comps  29 comps  30 comps  31 comps  32 comps  33 comps\n",
      "CV       0.4499    0.4499    0.4496    0.4496    0.4495    0.4495\n",
      "adjCV    0.4499    0.4499    0.4496    0.4496    0.4495    0.4495\n",
      "\n",
      "TRAINING: % variance explained\n",
      "   1 comps  2 comps  3 comps  4 comps  5 comps  6 comps  7 comps  8 comps\n",
      "X  11.3694  19.7659   25.656    30.34   33.731   36.997   40.090   43.169\n",
      "Y   0.1898   0.2092    2.656     2.69    2.779    2.806    2.812    2.813\n",
      "   9 comps  10 comps  11 comps  12 comps  13 comps  14 comps  15 comps\n",
      "X   46.240    49.293    52.343    55.382    58.410    61.434    64.454\n",
      "Y    2.815     2.862     2.864     2.884     2.904     2.911     2.914\n",
      "   16 comps  17 comps  18 comps  19 comps  20 comps  21 comps  22 comps\n",
      "X    67.468    70.473    73.468    76.455    79.432    82.343    84.972\n",
      "Y     2.922     2.948     2.958     2.962     2.965     2.965     3.492\n",
      "   23 comps  24 comps  25 comps  26 comps  27 comps  28 comps  29 comps\n",
      "X    87.577    89.972    92.000    93.952    95.851    97.591    98.628\n",
      "Y     4.205     6.059     6.637     6.773     6.784     6.799     6.807\n",
      "   30 comps  31 comps  32 comps  33 comps\n",
      "X    99.365    99.668     99.90   100.000\n",
      "Y     6.913     6.914      6.95     6.963\n"
     ]
    }
   ],
   "source": [
    "summary(pcr.fit)"
   ]
  },
  {
   "cell_type": "code",
   "execution_count": 55,
   "id": "b1e28c3f-43a2-4577-88a1-55a4560c42b4",
   "metadata": {},
   "outputs": [
    {
     "data": {
      "image/png": "[encoded data removed]",
      "text/plain": [
       "Plot with title \"Y\""
      ]
     },
     "metadata": {
      "image/png": {
       "height": 420,
       "width": 420
      }
     },
     "output_type": "display_data"
    }
   ],
   "source": [
    "validationplot(pcr.fit ,val.type = \"MSEP\")"
   ]
  },
  {
   "cell_type": "code",
   "execution_count": 71,
   "id": "63dc0eb8-52ef-4821-869c-d86c08a65191",
   "metadata": {},
   "outputs": [
    {
     "data": {
      "text/html": [
       "<style>\n",
       ".dl-inline {width: auto; margin:0; padding: 0}\n",
       ".dl-inline>dt, .dl-inline>dd {float: none; width: auto; display: inline-block}\n",
       ".dl-inline>dt::after {content: \":\\0020\"; padding-right: .5ex}\n",
       ".dl-inline>dt:not(:first-of-type) {padding-left: .5ex}\n",
       "</style><dl class=dl-inline><dt>mse train</dt><dd>0.202652328927995</dd><dt>mse test</dt><dd>0.201476208948748</dd><dt>f1</dt><dd>0.50767941915666</dd></dl>\n"
      ],
      "text/latex": [
       "\\begin{description*}\n",
       "\\item[mse train] 0.202652328927995\n",
       "\\item[mse test] 0.201476208948748\n",
       "\\item[f1] 0.50767941915666\n",
       "\\end{description*}\n"
      ],
      "text/markdown": [
       "mse train\n",
       ":   0.202652328927995mse test\n",
       ":   0.201476208948748f1\n",
       ":   0.50767941915666\n",
       "\n"
      ],
      "text/plain": [
       "mse train  mse test        f1 \n",
       "0.2026523 0.2014762 0.5076794 "
      ]
     },
     "metadata": {},
     "output_type": "display_data"
    }
   ],
   "source": [
    "source(\"funciones.r\")\n",
    "pred.train <- as.matrix(predict(pcr.fit, X.train, ncomp=25))\n",
    "pred.test <-  as.matrix(predict(pcr.fit, X.test, ncomp=25))\n",
    "f1 <- f1_score(clasif(pred.test, 0.3), y.test)\n",
    "\n",
    "pcr.reg.rdos <- c(\"mse train\" = mse(pred.train, y.train), \"mse test\" = mse(pred.test, y.test), \"f1\" = f1)\n",
    "pcr.reg.rdos"
   ]
  },
  {
   "cell_type": "markdown",
   "id": "2121b9dc-1c23-4424-8948-eb1a8e5ec81f",
   "metadata": {},
   "source": [
    "## T Distributed Stochastic Neighbor Embedding (t-SNE)"
   ]
  },
  {
   "cell_type": "code",
   "execution_count": 14,
   "id": "42b1c818-93e3-45ab-8807-33cd74025bf9",
   "metadata": {},
   "outputs": [
    {
     "name": "stderr",
     "output_type": "stream",
     "text": [
      "Installing package into 'D:/Archivos/documentos/R/win-library/4.1'\n",
      "(as 'lib' is unspecified)\n",
      "\n"
     ]
    },
    {
     "name": "stdout",
     "output_type": "stream",
     "text": [
      "package 'Rtsne' successfully unpacked and MD5 sums checked\n",
      "\n",
      "The downloaded binary packages are in\n",
      "\tC:\\Users\\Pablo\\AppData\\Local\\Temp\\Rtmpue056N\\downloaded_packages\n"
     ]
    },
    {
     "name": "stderr",
     "output_type": "stream",
     "text": [
      "Loading required package: Rtsne\n",
      "\n"
     ]
    }
   ],
   "source": [
    "install.packages('Rtsne')\n",
    "require(Rtsne)"
   ]
  },
  {
   "cell_type": "code",
   "execution_count": 15,
   "id": "2159e862-5d04-40c7-b591-29dd406f6dce",
   "metadata": {},
   "outputs": [],
   "source": [
    "#rdos_tsne <- Rtsne(X.train, initial_dims = 15)"
   ]
  },
  {
   "cell_type": "code",
   "execution_count": 25,
   "id": "e071793f-6940-4c69-92c8-3eda69fdfbc0",
   "metadata": {},
   "outputs": [],
   "source": [
    "rdos_tsne <- Rtsne(X, check_duplicates = FALSE, perplexity = 80)"
   ]
  },
  {
   "cell_type": "code",
   "execution_count": 26,
   "id": "8e4018f8-2b5f-43db-84aa-f01480268418",
   "metadata": {},
   "outputs": [
    {
     "data": {
      "image/png": "[encoded data removed]",
      "text/plain": [
       "plot without title"
      ]
     },
     "metadata": {
      "image/png": {
       "height": 420,
       "width": 420
      }
     },
     "output_type": "display_data"
    }
   ],
   "source": [
    "plot(rdos_tsne$Y)"
   ]
  },
  {
   "cell_type": "markdown",
   "id": "1dd4c60e-8c0a-4a54-9532-3c719044047f",
   "metadata": {
    "id": "1dd4c60e-8c0a-4a54-9532-3c719044047f"
   },
   "source": [
    "## Clustering"
   ]
  },
  {
   "cell_type": "code",
   "execution_count": 16,
   "id": "477fed9a-c9c7-4cc9-bb52-b9e38b267dba",
   "metadata": {
    "colab": {
     "base_uri": "https://localhost:8080/",
     "height": 306
    },
    "executionInfo": {
     "elapsed": 33,
     "status": "ok",
     "timestamp": 1653910864222,
     "user": {
      "displayName": "Pablo Quintana",
      "userId": "00674039532099061635"
     },
     "user_tz": 180
    },
    "id": "477fed9a-c9c7-4cc9-bb52-b9e38b267dba",
    "outputId": "af8c304d-abc9-4a36-b6ee-913a051f7597"
   },
   "outputs": [
    {
     "data": {
      "text/html": [
       "<table class=\"dataframe\">\n",
       "<caption>A data.frame: 6 × 13</caption>\n",
       "<thead>\n",
       "\t<tr><th></th><th scope=col>fixed.acidity</th><th scope=col>volatile.acidity</th><th scope=col>citric.acid</th><th scope=col>residual.sugar</th><th scope=col>chlorides</th><th scope=col>free.sulfur.dioxide</th><th scope=col>total.sulfur.dioxide</th><th scope=col>density</th><th scope=col>pH</th><th scope=col>sulphates</th><th scope=col>alcohol</th><th scope=col>quality</th><th scope=col>Id</th></tr>\n",
       "\t<tr><th></th><th scope=col>&lt;dbl&gt;</th><th scope=col>&lt;dbl&gt;</th><th scope=col>&lt;dbl&gt;</th><th scope=col>&lt;dbl&gt;</th><th scope=col>&lt;dbl&gt;</th><th scope=col>&lt;dbl&gt;</th><th scope=col>&lt;dbl&gt;</th><th scope=col>&lt;dbl&gt;</th><th scope=col>&lt;dbl&gt;</th><th scope=col>&lt;dbl&gt;</th><th scope=col>&lt;dbl&gt;</th><th scope=col>&lt;int&gt;</th><th scope=col>&lt;int&gt;</th></tr>\n",
       "</thead>\n",
       "<tbody>\n",
       "\t<tr><th scope=row>1</th><td> 7.4</td><td>0.70</td><td>0.00</td><td>1.9</td><td>0.076</td><td>11</td><td>34</td><td>0.9978</td><td>3.51</td><td>0.56</td><td>9.4</td><td>5</td><td>0</td></tr>\n",
       "\t<tr><th scope=row>2</th><td> 7.8</td><td>0.88</td><td>0.00</td><td>2.6</td><td>0.098</td><td>25</td><td>67</td><td>0.9968</td><td>3.20</td><td>0.68</td><td>9.8</td><td>5</td><td>1</td></tr>\n",
       "\t<tr><th scope=row>3</th><td> 7.8</td><td>0.76</td><td>0.04</td><td>2.3</td><td>0.092</td><td>15</td><td>54</td><td>0.9970</td><td>3.26</td><td>0.65</td><td>9.8</td><td>5</td><td>2</td></tr>\n",
       "\t<tr><th scope=row>4</th><td>11.2</td><td>0.28</td><td>0.56</td><td>1.9</td><td>0.075</td><td>17</td><td>60</td><td>0.9980</td><td>3.16</td><td>0.58</td><td>9.8</td><td>6</td><td>3</td></tr>\n",
       "\t<tr><th scope=row>5</th><td> 7.4</td><td>0.70</td><td>0.00</td><td>1.9</td><td>0.076</td><td>11</td><td>34</td><td>0.9978</td><td>3.51</td><td>0.56</td><td>9.4</td><td>5</td><td>4</td></tr>\n",
       "\t<tr><th scope=row>6</th><td> 7.4</td><td>0.66</td><td>0.00</td><td>1.8</td><td>0.075</td><td>13</td><td>40</td><td>0.9978</td><td>3.51</td><td>0.56</td><td>9.4</td><td>5</td><td>5</td></tr>\n",
       "</tbody>\n",
       "</table>\n"
      ],
      "text/latex": [
       "A data.frame: 6 × 13\n",
       "\\begin{tabular}{r|lllllllllllll}\n",
       "  & fixed.acidity & volatile.acidity & citric.acid & residual.sugar & chlorides & free.sulfur.dioxide & total.sulfur.dioxide & density & pH & sulphates & alcohol & quality & Id\\\\\n",
       "  & <dbl> & <dbl> & <dbl> & <dbl> & <dbl> & <dbl> & <dbl> & <dbl> & <dbl> & <dbl> & <dbl> & <int> & <int>\\\\\n",
       "\\hline\n",
       "\t1 &  7.4 & 0.70 & 0.00 & 1.9 & 0.076 & 11 & 34 & 0.9978 & 3.51 & 0.56 & 9.4 & 5 & 0\\\\\n",
       "\t2 &  7.8 & 0.88 & 0.00 & 2.6 & 0.098 & 25 & 67 & 0.9968 & 3.20 & 0.68 & 9.8 & 5 & 1\\\\\n",
       "\t3 &  7.8 & 0.76 & 0.04 & 2.3 & 0.092 & 15 & 54 & 0.9970 & 3.26 & 0.65 & 9.8 & 5 & 2\\\\\n",
       "\t4 & 11.2 & 0.28 & 0.56 & 1.9 & 0.075 & 17 & 60 & 0.9980 & 3.16 & 0.58 & 9.8 & 6 & 3\\\\\n",
       "\t5 &  7.4 & 0.70 & 0.00 & 1.9 & 0.076 & 11 & 34 & 0.9978 & 3.51 & 0.56 & 9.4 & 5 & 4\\\\\n",
       "\t6 &  7.4 & 0.66 & 0.00 & 1.8 & 0.075 & 13 & 40 & 0.9978 & 3.51 & 0.56 & 9.4 & 5 & 5\\\\\n",
       "\\end{tabular}\n"
      ],
      "text/markdown": [
       "\n",
       "A data.frame: 6 × 13\n",
       "\n",
       "| <!--/--> | fixed.acidity &lt;dbl&gt; | volatile.acidity &lt;dbl&gt; | citric.acid &lt;dbl&gt; | residual.sugar &lt;dbl&gt; | chlorides &lt;dbl&gt; | free.sulfur.dioxide &lt;dbl&gt; | total.sulfur.dioxide &lt;dbl&gt; | density &lt;dbl&gt; | pH &lt;dbl&gt; | sulphates &lt;dbl&gt; | alcohol &lt;dbl&gt; | quality &lt;int&gt; | Id &lt;int&gt; |\n",
       "|---|---|---|---|---|---|---|---|---|---|---|---|---|---|\n",
       "| 1 |  7.4 | 0.70 | 0.00 | 1.9 | 0.076 | 11 | 34 | 0.9978 | 3.51 | 0.56 | 9.4 | 5 | 0 |\n",
       "| 2 |  7.8 | 0.88 | 0.00 | 2.6 | 0.098 | 25 | 67 | 0.9968 | 3.20 | 0.68 | 9.8 | 5 | 1 |\n",
       "| 3 |  7.8 | 0.76 | 0.04 | 2.3 | 0.092 | 15 | 54 | 0.9970 | 3.26 | 0.65 | 9.8 | 5 | 2 |\n",
       "| 4 | 11.2 | 0.28 | 0.56 | 1.9 | 0.075 | 17 | 60 | 0.9980 | 3.16 | 0.58 | 9.8 | 6 | 3 |\n",
       "| 5 |  7.4 | 0.70 | 0.00 | 1.9 | 0.076 | 11 | 34 | 0.9978 | 3.51 | 0.56 | 9.4 | 5 | 4 |\n",
       "| 6 |  7.4 | 0.66 | 0.00 | 1.8 | 0.075 | 13 | 40 | 0.9978 | 3.51 | 0.56 | 9.4 | 5 | 5 |\n",
       "\n"
      ],
      "text/plain": [
       "  fixed.acidity volatile.acidity citric.acid residual.sugar chlorides\n",
       "1  7.4          0.70             0.00        1.9            0.076    \n",
       "2  7.8          0.88             0.00        2.6            0.098    \n",
       "3  7.8          0.76             0.04        2.3            0.092    \n",
       "4 11.2          0.28             0.56        1.9            0.075    \n",
       "5  7.4          0.70             0.00        1.9            0.076    \n",
       "6  7.4          0.66             0.00        1.8            0.075    \n",
       "  free.sulfur.dioxide total.sulfur.dioxide density pH   sulphates alcohol\n",
       "1 11                  34                   0.9978  3.51 0.56      9.4    \n",
       "2 25                  67                   0.9968  3.20 0.68      9.8    \n",
       "3 15                  54                   0.9970  3.26 0.65      9.8    \n",
       "4 17                  60                   0.9980  3.16 0.58      9.8    \n",
       "5 11                  34                   0.9978  3.51 0.56      9.4    \n",
       "6 13                  40                   0.9978  3.51 0.56      9.4    \n",
       "  quality Id\n",
       "1 5       0 \n",
       "2 5       1 \n",
       "3 5       2 \n",
       "4 6       3 \n",
       "5 5       4 \n",
       "6 5       5 "
      ]
     },
     "metadata": {},
     "output_type": "display_data"
    }
   ],
   "source": [
    "vinos <- read.csv(\"WineQT.csv\")\n",
    "head(vinos)"
   ]
  },
  {
   "cell_type": "code",
   "execution_count": 17,
   "id": "4d34b9cc-a9dc-457c-9265-a003c02d0dd9",
   "metadata": {
    "colab": {
     "base_uri": "https://localhost:8080/",
     "height": 34
    },
    "executionInfo": {
     "elapsed": 34,
     "status": "ok",
     "timestamp": 1653910864224,
     "user": {
      "displayName": "Pablo Quintana",
      "userId": "00674039532099061635"
     },
     "user_tz": 180
    },
    "id": "4d34b9cc-a9dc-457c-9265-a003c02d0dd9",
    "outputId": "67b21925-33f5-4df6-f335-d1dc14620dd9"
   },
   "outputs": [
    {
     "data": {
      "text/html": [
       "<style>\n",
       ".list-inline {list-style: none; margin:0; padding: 0}\n",
       ".list-inline>li {display: inline-block}\n",
       ".list-inline>li:not(:last-child)::after {content: \"\\00b7\"; padding: 0 .5ex}\n",
       "</style>\n",
       "<ol class=list-inline><li>5</li><li>6</li><li>7</li><li>4</li><li>8</li><li>3</li></ol>\n"
      ],
      "text/latex": [
       "\\begin{enumerate*}\n",
       "\\item 5\n",
       "\\item 6\n",
       "\\item 7\n",
       "\\item 4\n",
       "\\item 8\n",
       "\\item 3\n",
       "\\end{enumerate*}\n"
      ],
      "text/markdown": [
       "1. 5\n",
       "2. 6\n",
       "3. 7\n",
       "4. 4\n",
       "5. 8\n",
       "6. 3\n",
       "\n",
       "\n"
      ],
      "text/plain": [
       "[1] 5 6 7 4 8 3"
      ]
     },
     "metadata": {},
     "output_type": "display_data"
    }
   ],
   "source": [
    "unique(vinos$quality)"
   ]
  },
  {
   "cell_type": "code",
   "execution_count": 18,
   "id": "653769aa-f4d2-42c6-bbd4-7057399a2113",
   "metadata": {
    "colab": {
     "base_uri": "https://localhost:8080/",
     "height": 52
    },
    "executionInfo": {
     "elapsed": 33,
     "status": "ok",
     "timestamp": 1653910864224,
     "user": {
      "displayName": "Pablo Quintana",
      "userId": "00674039532099061635"
     },
     "user_tz": 180
    },
    "id": "653769aa-f4d2-42c6-bbd4-7057399a2113",
    "outputId": "c10b0e0c-772f-4c99-e050-38f4bff4a8d4"
   },
   "outputs": [
    {
     "data": {
      "text/html": [
       "<style>\n",
       ".list-inline {list-style: none; margin:0; padding: 0}\n",
       ".list-inline>li {display: inline-block}\n",
       ".list-inline>li:not(:last-child)::after {content: \"\\00b7\"; padding: 0 .5ex}\n",
       "</style>\n",
       "<ol class=list-inline><li>'fixed.acidity'</li><li>'volatile.acidity'</li><li>'citric.acid'</li><li>'residual.sugar'</li><li>'chlorides'</li><li>'free.sulfur.dioxide'</li><li>'total.sulfur.dioxide'</li><li>'density'</li><li>'pH'</li><li>'sulphates'</li><li>'alcohol'</li></ol>\n"
      ],
      "text/latex": [
       "\\begin{enumerate*}\n",
       "\\item 'fixed.acidity'\n",
       "\\item 'volatile.acidity'\n",
       "\\item 'citric.acid'\n",
       "\\item 'residual.sugar'\n",
       "\\item 'chlorides'\n",
       "\\item 'free.sulfur.dioxide'\n",
       "\\item 'total.sulfur.dioxide'\n",
       "\\item 'density'\n",
       "\\item 'pH'\n",
       "\\item 'sulphates'\n",
       "\\item 'alcohol'\n",
       "\\end{enumerate*}\n"
      ],
      "text/markdown": [
       "1. 'fixed.acidity'\n",
       "2. 'volatile.acidity'\n",
       "3. 'citric.acid'\n",
       "4. 'residual.sugar'\n",
       "5. 'chlorides'\n",
       "6. 'free.sulfur.dioxide'\n",
       "7. 'total.sulfur.dioxide'\n",
       "8. 'density'\n",
       "9. 'pH'\n",
       "10. 'sulphates'\n",
       "11. 'alcohol'\n",
       "\n",
       "\n"
      ],
      "text/plain": [
       " [1] \"fixed.acidity\"        \"volatile.acidity\"     \"citric.acid\"         \n",
       " [4] \"residual.sugar\"       \"chlorides\"            \"free.sulfur.dioxide\" \n",
       " [7] \"total.sulfur.dioxide\" \"density\"              \"pH\"                  \n",
       "[10] \"sulphates\"            \"alcohol\"             "
      ]
     },
     "metadata": {},
     "output_type": "display_data"
    }
   ],
   "source": [
    "# tomamos las variables que vamos a usar para agrupar\n",
    "variables <- names(vinos)[1:(length(names(vinos))-2)]\n",
    "variables"
   ]
  },
  {
   "cell_type": "code",
   "execution_count": 19,
   "id": "746fa616-11ae-4b39-8f3c-86330d3e4660",
   "metadata": {
    "executionInfo": {
     "elapsed": 2350,
     "status": "ok",
     "timestamp": 1653910866542,
     "user": {
      "displayName": "Pablo Quintana",
      "userId": "00674039532099061635"
     },
     "user_tz": 180
    },
    "id": "746fa616-11ae-4b39-8f3c-86330d3e4660"
   },
   "outputs": [],
   "source": [
    "set.seed(54)\n",
    "vinos.scaled <- scale(vinos)\n",
    "X <- vinos.scaled[,variables]\n",
    "X <- as.data.frame(X)\n",
    "#lista_train_test <- train_test(vinos.scaled,0.9)\n",
    "#v.y.train <- as.matrix(lista_train_test[[1]]$quality, ncol = 1)\n",
    "#v.y.test <- as.matrix(lista_train_test[[1]]$quality, ncol = 1)\n",
    "#v.X.train <- lista_train_test[[1]][,variables]\n",
    "#v.X.test <- lista_train_test[[2]][,variables]"
   ]
  },
  {
   "cell_type": "code",
   "execution_count": 18,
   "id": "dcae9192-4621-4140-a11e-bc125c935e50",
   "metadata": {
    "executionInfo": {
     "elapsed": 61,
     "status": "ok",
     "timestamp": 1653910866543,
     "user": {
      "displayName": "Pablo Quintana",
      "userId": "00674039532099061635"
     },
     "user_tz": 180
    },
    "id": "dcae9192-4621-4140-a11e-bc125c935e50"
   },
   "outputs": [],
   "source": [
    "km.vinos <- kmeans(X,6)"
   ]
  },
  {
   "cell_type": "code",
   "execution_count": 19,
   "id": "9051737e-7020-45f1-848d-a7e3a75ee3ca",
   "metadata": {
    "colab": {
     "base_uri": "https://localhost:8080/",
     "height": 677
    },
    "executionInfo": {
     "elapsed": 63,
     "status": "ok",
     "timestamp": 1653910866545,
     "user": {
      "displayName": "Pablo Quintana",
      "userId": "00674039532099061635"
     },
     "user_tz": 180
    },
    "id": "9051737e-7020-45f1-848d-a7e3a75ee3ca",
    "outputId": "91486e7b-6e7a-46ac-abdb-1ebf2b0240c0"
   },
   "outputs": [
    {
     "data": {
      "text/html": [
       "<style>\n",
       ".list-inline {list-style: none; margin:0; padding: 0}\n",
       ".list-inline>li {display: inline-block}\n",
       ".list-inline>li:not(:last-child)::after {content: \"\\00b7\"; padding: 0 .5ex}\n",
       "</style>\n",
       "<ol class=list-inline><li>4</li><li>4</li><li>4</li><li>5</li><li>4</li><li>4</li><li>4</li><li>4</li><li>4</li><li>4</li><li>2</li><li>6</li><li>3</li><li>1</li><li>3</li><li>4</li><li>4</li><li>4</li><li>4</li><li>4</li><li>4</li><li>4</li><li>4</li><li>3</li><li>4</li><li>4</li><li>4</li><li>6</li><li>3</li><li>4</li><li>1</li><li>6</li><li>2</li><li>3</li><li>4</li><li>4</li><li>4</li><li>3</li><li>3</li><li>5</li><li>4</li><li>4</li><li>3</li><li>3</li><li>4</li><li>4</li><li>4</li><li>4</li><li>4</li><li>3</li><li>4</li><li>6</li><li>4</li><li>4</li><li>3</li><li>4</li><li>3</li><li>6</li><li>4</li><li>1</li><li>4</li><li>3</li><li>4</li><li>3</li><li>1</li><li>4</li><li>2</li><li>4</li><li>4</li><li>4</li><li>4</li><li>4</li><li>4</li><li>4</li><li>4</li><li>1</li><li>4</li><li>4</li><li>3</li><li>5</li><li>4</li><li>6</li><li>4</li><li>4</li><li>4</li><li>4</li><li>3</li><li>4</li><li>4</li><li>4</li><li>3</li><li>2</li><li>4</li><li>4</li><li>4</li><li>4</li><li>2</li><li>4</li><li>2</li><li>3</li><li>2</li><li>4</li><li>6</li><li>1</li><li>3</li><li>3</li><li>3</li><li>3</li><li>3</li><li>4</li><li>4</li><li>4</li><li>4</li><li>4</li><li>3</li><li>3</li><li>3</li><li>3</li><li>4</li><li>4</li><li>4</li><li>4</li><li>2</li><li>4</li><li>4</li><li>4</li><li>4</li><li>4</li><li>4</li><li>1</li><li>4</li><li>4</li><li>4</li><li>3</li><li>3</li><li>3</li><li>3</li><li>4</li><li>4</li><li>4</li><li>4</li><li>5</li><li>2</li><li>6</li><li>4</li><li>5</li><li>5</li><li>3</li><li>6</li><li>4</li><li>3</li><li>4</li><li>3</li><li>4</li><li>4</li><li>4</li><li>3</li><li>3</li><li>4</li><li>4</li><li>3</li><li>1</li><li>2</li><li>4</li><li>3</li><li>4</li><li>4</li><li>1</li><li>5</li><li>3</li><li>5</li><li>5</li><li>4</li><li>4</li><li>4</li><li>5</li><li>4</li><li>5</li><li>4</li><li>3</li><li>5</li><li>4</li><li>1</li><li>5</li><li>4</li><li>4</li><li>4</li><li>3</li><li>5</li><li>4</li><li>6</li><li>4</li><li>5</li><li>3</li><li>3</li><li>4</li><li>5</li><li>5</li><li>5</li><li>5</li><li>...</li><li>3</li><li>3</li><li>4</li><li>4</li><li>4</li><li>2</li><li>4</li><li>4</li><li>4</li><li>4</li><li>4</li><li>4</li><li>4</li><li>5</li><li>4</li><li>2</li><li>4</li><li>2</li><li>4</li><li>4</li><li>4</li><li>2</li><li>3</li><li>5</li><li>4</li><li>5</li><li>2</li><li>4</li><li>3</li><li>3</li><li>1</li><li>6</li><li>1</li><li>4</li><li>4</li><li>4</li><li>4</li><li>3</li><li>3</li><li>3</li><li>3</li><li>4</li><li>4</li><li>2</li><li>4</li><li>4</li><li>4</li><li>4</li><li>4</li><li>3</li><li>4</li><li>3</li><li>6</li><li>6</li><li>4</li><li>6</li><li>2</li><li>6</li><li>2</li><li>2</li><li>6</li><li>6</li><li>3</li><li>5</li><li>4</li><li>5</li><li>6</li><li>4</li><li>3</li><li>4</li><li>3</li><li>2</li><li>4</li><li>6</li><li>4</li><li>6</li><li>4</li><li>3</li><li>4</li><li>5</li><li>3</li><li>2</li><li>4</li><li>3</li><li>2</li><li>3</li><li>4</li><li>6</li><li>6</li><li>6</li><li>2</li><li>5</li><li>2</li><li>3</li><li>6</li><li>6</li><li>3</li><li>4</li><li>4</li><li>3</li><li>3</li><li>4</li><li>3</li><li>4</li><li>4</li><li>2</li><li>6</li><li>2</li><li>5</li><li>2</li><li>5</li><li>2</li><li>4</li><li>6</li><li>2</li><li>6</li><li>6</li><li>4</li><li>4</li><li>2</li><li>2</li><li>6</li><li>2</li><li>3</li><li>4</li><li>4</li><li>2</li><li>2</li><li>3</li><li>6</li><li>6</li><li>4</li><li>4</li><li>6</li><li>6</li><li>6</li><li>3</li><li>4</li><li>4</li><li>4</li><li>2</li><li>6</li><li>4</li><li>6</li><li>3</li><li>4</li><li>4</li><li>6</li><li>3</li><li>2</li><li>4</li><li>4</li><li>3</li><li>2</li><li>4</li><li>2</li><li>2</li><li>6</li><li>4</li><li>4</li><li>5</li><li>6</li><li>4</li><li>2</li><li>4</li><li>4</li><li>4</li><li>2</li><li>3</li><li>3</li><li>3</li><li>3</li><li>4</li><li>4</li><li>2</li><li>6</li><li>4</li><li>4</li><li>2</li><li>6</li><li>2</li><li>3</li><li>2</li><li>6</li><li>6</li><li>2</li><li>2</li><li>6</li><li>2</li><li>3</li><li>6</li><li>6</li><li>2</li><li>2</li><li>2</li><li>2</li><li>4</li><li>2</li><li>2</li><li>2</li></ol>\n"
      ],
      "text/latex": [
       "\\begin{enumerate*}\n",
       "\\item 4\n",
       "\\item 4\n",
       "\\item 4\n",
       "\\item 5\n",
       "\\item 4\n",
       "\\item 4\n",
       "\\item 4\n",
       "\\item 4\n",
       "\\item 4\n",
       "\\item 4\n",
       "\\item 2\n",
       "\\item 6\n",
       "\\item 3\n",
       "\\item 1\n",
       "\\item 3\n",
       "\\item 4\n",
       "\\item 4\n",
       "\\item 4\n",
       "\\item 4\n",
       "\\item 4\n",
       "\\item 4\n",
       "\\item 4\n",
       "\\item 4\n",
       "\\item 3\n",
       "\\item 4\n",
       "\\item 4\n",
       "\\item 4\n",
       "\\item 6\n",
       "\\item 3\n",
       "\\item 4\n",
       "\\item 1\n",
       "\\item 6\n",
       "\\item 2\n",
       "\\item 3\n",
       "\\item 4\n",
       "\\item 4\n",
       "\\item 4\n",
       "\\item 3\n",
       "\\item 3\n",
       "\\item 5\n",
       "\\item 4\n",
       "\\item 4\n",
       "\\item 3\n",
       "\\item 3\n",
       "\\item 4\n",
       "\\item 4\n",
       "\\item 4\n",
       "\\item 4\n",
       "\\item 4\n",
       "\\item 3\n",
       "\\item 4\n",
       "\\item 6\n",
       "\\item 4\n",
       "\\item 4\n",
       "\\item 3\n",
       "\\item 4\n",
       "\\item 3\n",
       "\\item 6\n",
       "\\item 4\n",
       "\\item 1\n",
       "\\item 4\n",
       "\\item 3\n",
       "\\item 4\n",
       "\\item 3\n",
       "\\item 1\n",
       "\\item 4\n",
       "\\item 2\n",
       "\\item 4\n",
       "\\item 4\n",
       "\\item 4\n",
       "\\item 4\n",
       "\\item 4\n",
       "\\item 4\n",
       "\\item 4\n",
       "\\item 4\n",
       "\\item 1\n",
       "\\item 4\n",
       "\\item 4\n",
       "\\item 3\n",
       "\\item 5\n",
       "\\item 4\n",
       "\\item 6\n",
       "\\item 4\n",
       "\\item 4\n",
       "\\item 4\n",
       "\\item 4\n",
       "\\item 3\n",
       "\\item 4\n",
       "\\item 4\n",
       "\\item 4\n",
       "\\item 3\n",
       "\\item 2\n",
       "\\item 4\n",
       "\\item 4\n",
       "\\item 4\n",
       "\\item 4\n",
       "\\item 2\n",
       "\\item 4\n",
       "\\item 2\n",
       "\\item 3\n",
       "\\item 2\n",
       "\\item 4\n",
       "\\item 6\n",
       "\\item 1\n",
       "\\item 3\n",
       "\\item 3\n",
       "\\item 3\n",
       "\\item 3\n",
       "\\item 3\n",
       "\\item 4\n",
       "\\item 4\n",
       "\\item 4\n",
       "\\item 4\n",
       "\\item 4\n",
       "\\item 3\n",
       "\\item 3\n",
       "\\item 3\n",
       "\\item 3\n",
       "\\item 4\n",
       "\\item 4\n",
       "\\item 4\n",
       "\\item 4\n",
       "\\item 2\n",
       "\\item 4\n",
       "\\item 4\n",
       "\\item 4\n",
       "\\item 4\n",
       "\\item 4\n",
       "\\item 4\n",
       "\\item 1\n",
       "\\item 4\n",
       "\\item 4\n",
       "\\item 4\n",
       "\\item 3\n",
       "\\item 3\n",
       "\\item 3\n",
       "\\item 3\n",
       "\\item 4\n",
       "\\item 4\n",
       "\\item 4\n",
       "\\item 4\n",
       "\\item 5\n",
       "\\item 2\n",
       "\\item 6\n",
       "\\item 4\n",
       "\\item 5\n",
       "\\item 5\n",
       "\\item 3\n",
       "\\item 6\n",
       "\\item 4\n",
       "\\item 3\n",
       "\\item 4\n",
       "\\item 3\n",
       "\\item 4\n",
       "\\item 4\n",
       "\\item 4\n",
       "\\item 3\n",
       "\\item 3\n",
       "\\item 4\n",
       "\\item 4\n",
       "\\item 3\n",
       "\\item 1\n",
       "\\item 2\n",
       "\\item 4\n",
       "\\item 3\n",
       "\\item 4\n",
       "\\item 4\n",
       "\\item 1\n",
       "\\item 5\n",
       "\\item 3\n",
       "\\item 5\n",
       "\\item 5\n",
       "\\item 4\n",
       "\\item 4\n",
       "\\item 4\n",
       "\\item 5\n",
       "\\item 4\n",
       "\\item 5\n",
       "\\item 4\n",
       "\\item 3\n",
       "\\item 5\n",
       "\\item 4\n",
       "\\item 1\n",
       "\\item 5\n",
       "\\item 4\n",
       "\\item 4\n",
       "\\item 4\n",
       "\\item 3\n",
       "\\item 5\n",
       "\\item 4\n",
       "\\item 6\n",
       "\\item 4\n",
       "\\item 5\n",
       "\\item 3\n",
       "\\item 3\n",
       "\\item 4\n",
       "\\item 5\n",
       "\\item 5\n",
       "\\item 5\n",
       "\\item 5\n",
       "\\item ...\n",
       "\\item 3\n",
       "\\item 3\n",
       "\\item 4\n",
       "\\item 4\n",
       "\\item 4\n",
       "\\item 2\n",
       "\\item 4\n",
       "\\item 4\n",
       "\\item 4\n",
       "\\item 4\n",
       "\\item 4\n",
       "\\item 4\n",
       "\\item 4\n",
       "\\item 5\n",
       "\\item 4\n",
       "\\item 2\n",
       "\\item 4\n",
       "\\item 2\n",
       "\\item 4\n",
       "\\item 4\n",
       "\\item 4\n",
       "\\item 2\n",
       "\\item 3\n",
       "\\item 5\n",
       "\\item 4\n",
       "\\item 5\n",
       "\\item 2\n",
       "\\item 4\n",
       "\\item 3\n",
       "\\item 3\n",
       "\\item 1\n",
       "\\item 6\n",
       "\\item 1\n",
       "\\item 4\n",
       "\\item 4\n",
       "\\item 4\n",
       "\\item 4\n",
       "\\item 3\n",
       "\\item 3\n",
       "\\item 3\n",
       "\\item 3\n",
       "\\item 4\n",
       "\\item 4\n",
       "\\item 2\n",
       "\\item 4\n",
       "\\item 4\n",
       "\\item 4\n",
       "\\item 4\n",
       "\\item 4\n",
       "\\item 3\n",
       "\\item 4\n",
       "\\item 3\n",
       "\\item 6\n",
       "\\item 6\n",
       "\\item 4\n",
       "\\item 6\n",
       "\\item 2\n",
       "\\item 6\n",
       "\\item 2\n",
       "\\item 2\n",
       "\\item 6\n",
       "\\item 6\n",
       "\\item 3\n",
       "\\item 5\n",
       "\\item 4\n",
       "\\item 5\n",
       "\\item 6\n",
       "\\item 4\n",
       "\\item 3\n",
       "\\item 4\n",
       "\\item 3\n",
       "\\item 2\n",
       "\\item 4\n",
       "\\item 6\n",
       "\\item 4\n",
       "\\item 6\n",
       "\\item 4\n",
       "\\item 3\n",
       "\\item 4\n",
       "\\item 5\n",
       "\\item 3\n",
       "\\item 2\n",
       "\\item 4\n",
       "\\item 3\n",
       "\\item 2\n",
       "\\item 3\n",
       "\\item 4\n",
       "\\item 6\n",
       "\\item 6\n",
       "\\item 6\n",
       "\\item 2\n",
       "\\item 5\n",
       "\\item 2\n",
       "\\item 3\n",
       "\\item 6\n",
       "\\item 6\n",
       "\\item 3\n",
       "\\item 4\n",
       "\\item 4\n",
       "\\item 3\n",
       "\\item 3\n",
       "\\item 4\n",
       "\\item 3\n",
       "\\item 4\n",
       "\\item 4\n",
       "\\item 2\n",
       "\\item 6\n",
       "\\item 2\n",
       "\\item 5\n",
       "\\item 2\n",
       "\\item 5\n",
       "\\item 2\n",
       "\\item 4\n",
       "\\item 6\n",
       "\\item 2\n",
       "\\item 6\n",
       "\\item 6\n",
       "\\item 4\n",
       "\\item 4\n",
       "\\item 2\n",
       "\\item 2\n",
       "\\item 6\n",
       "\\item 2\n",
       "\\item 3\n",
       "\\item 4\n",
       "\\item 4\n",
       "\\item 2\n",
       "\\item 2\n",
       "\\item 3\n",
       "\\item 6\n",
       "\\item 6\n",
       "\\item 4\n",
       "\\item 4\n",
       "\\item 6\n",
       "\\item 6\n",
       "\\item 6\n",
       "\\item 3\n",
       "\\item 4\n",
       "\\item 4\n",
       "\\item 4\n",
       "\\item 2\n",
       "\\item 6\n",
       "\\item 4\n",
       "\\item 6\n",
       "\\item 3\n",
       "\\item 4\n",
       "\\item 4\n",
       "\\item 6\n",
       "\\item 3\n",
       "\\item 2\n",
       "\\item 4\n",
       "\\item 4\n",
       "\\item 3\n",
       "\\item 2\n",
       "\\item 4\n",
       "\\item 2\n",
       "\\item 2\n",
       "\\item 6\n",
       "\\item 4\n",
       "\\item 4\n",
       "\\item 5\n",
       "\\item 6\n",
       "\\item 4\n",
       "\\item 2\n",
       "\\item 4\n",
       "\\item 4\n",
       "\\item 4\n",
       "\\item 2\n",
       "\\item 3\n",
       "\\item 3\n",
       "\\item 3\n",
       "\\item 3\n",
       "\\item 4\n",
       "\\item 4\n",
       "\\item 2\n",
       "\\item 6\n",
       "\\item 4\n",
       "\\item 4\n",
       "\\item 2\n",
       "\\item 6\n",
       "\\item 2\n",
       "\\item 3\n",
       "\\item 2\n",
       "\\item 6\n",
       "\\item 6\n",
       "\\item 2\n",
       "\\item 2\n",
       "\\item 6\n",
       "\\item 2\n",
       "\\item 3\n",
       "\\item 6\n",
       "\\item 6\n",
       "\\item 2\n",
       "\\item 2\n",
       "\\item 2\n",
       "\\item 2\n",
       "\\item 4\n",
       "\\item 2\n",
       "\\item 2\n",
       "\\item 2\n",
       "\\end{enumerate*}\n"
      ],
      "text/markdown": [
       "1. 4\n",
       "2. 4\n",
       "3. 4\n",
       "4. 5\n",
       "5. 4\n",
       "6. 4\n",
       "7. 4\n",
       "8. 4\n",
       "9. 4\n",
       "10. 4\n",
       "11. 2\n",
       "12. 6\n",
       "13. 3\n",
       "14. 1\n",
       "15. 3\n",
       "16. 4\n",
       "17. 4\n",
       "18. 4\n",
       "19. 4\n",
       "20. 4\n",
       "21. 4\n",
       "22. 4\n",
       "23. 4\n",
       "24. 3\n",
       "25. 4\n",
       "26. 4\n",
       "27. 4\n",
       "28. 6\n",
       "29. 3\n",
       "30. 4\n",
       "31. 1\n",
       "32. 6\n",
       "33. 2\n",
       "34. 3\n",
       "35. 4\n",
       "36. 4\n",
       "37. 4\n",
       "38. 3\n",
       "39. 3\n",
       "40. 5\n",
       "41. 4\n",
       "42. 4\n",
       "43. 3\n",
       "44. 3\n",
       "45. 4\n",
       "46. 4\n",
       "47. 4\n",
       "48. 4\n",
       "49. 4\n",
       "50. 3\n",
       "51. 4\n",
       "52. 6\n",
       "53. 4\n",
       "54. 4\n",
       "55. 3\n",
       "56. 4\n",
       "57. 3\n",
       "58. 6\n",
       "59. 4\n",
       "60. 1\n",
       "61. 4\n",
       "62. 3\n",
       "63. 4\n",
       "64. 3\n",
       "65. 1\n",
       "66. 4\n",
       "67. 2\n",
       "68. 4\n",
       "69. 4\n",
       "70. 4\n",
       "71. 4\n",
       "72. 4\n",
       "73. 4\n",
       "74. 4\n",
       "75. 4\n",
       "76. 1\n",
       "77. 4\n",
       "78. 4\n",
       "79. 3\n",
       "80. 5\n",
       "81. 4\n",
       "82. 6\n",
       "83. 4\n",
       "84. 4\n",
       "85. 4\n",
       "86. 4\n",
       "87. 3\n",
       "88. 4\n",
       "89. 4\n",
       "90. 4\n",
       "91. 3\n",
       "92. 2\n",
       "93. 4\n",
       "94. 4\n",
       "95. 4\n",
       "96. 4\n",
       "97. 2\n",
       "98. 4\n",
       "99. 2\n",
       "100. 3\n",
       "101. 2\n",
       "102. 4\n",
       "103. 6\n",
       "104. 1\n",
       "105. 3\n",
       "106. 3\n",
       "107. 3\n",
       "108. 3\n",
       "109. 3\n",
       "110. 4\n",
       "111. 4\n",
       "112. 4\n",
       "113. 4\n",
       "114. 4\n",
       "115. 3\n",
       "116. 3\n",
       "117. 3\n",
       "118. 3\n",
       "119. 4\n",
       "120. 4\n",
       "121. 4\n",
       "122. 4\n",
       "123. 2\n",
       "124. 4\n",
       "125. 4\n",
       "126. 4\n",
       "127. 4\n",
       "128. 4\n",
       "129. 4\n",
       "130. 1\n",
       "131. 4\n",
       "132. 4\n",
       "133. 4\n",
       "134. 3\n",
       "135. 3\n",
       "136. 3\n",
       "137. 3\n",
       "138. 4\n",
       "139. 4\n",
       "140. 4\n",
       "141. 4\n",
       "142. 5\n",
       "143. 2\n",
       "144. 6\n",
       "145. 4\n",
       "146. 5\n",
       "147. 5\n",
       "148. 3\n",
       "149. 6\n",
       "150. 4\n",
       "151. 3\n",
       "152. 4\n",
       "153. 3\n",
       "154. 4\n",
       "155. 4\n",
       "156. 4\n",
       "157. 3\n",
       "158. 3\n",
       "159. 4\n",
       "160. 4\n",
       "161. 3\n",
       "162. 1\n",
       "163. 2\n",
       "164. 4\n",
       "165. 3\n",
       "166. 4\n",
       "167. 4\n",
       "168. 1\n",
       "169. 5\n",
       "170. 3\n",
       "171. 5\n",
       "172. 5\n",
       "173. 4\n",
       "174. 4\n",
       "175. 4\n",
       "176. 5\n",
       "177. 4\n",
       "178. 5\n",
       "179. 4\n",
       "180. 3\n",
       "181. 5\n",
       "182. 4\n",
       "183. 1\n",
       "184. 5\n",
       "185. 4\n",
       "186. 4\n",
       "187. 4\n",
       "188. 3\n",
       "189. 5\n",
       "190. 4\n",
       "191. 6\n",
       "192. 4\n",
       "193. 5\n",
       "194. 3\n",
       "195. 3\n",
       "196. 4\n",
       "197. 5\n",
       "198. 5\n",
       "199. 5\n",
       "200. 5\n",
       "201. ...\n",
       "202. 3\n",
       "203. 3\n",
       "204. 4\n",
       "205. 4\n",
       "206. 4\n",
       "207. 2\n",
       "208. 4\n",
       "209. 4\n",
       "210. 4\n",
       "211. 4\n",
       "212. 4\n",
       "213. 4\n",
       "214. 4\n",
       "215. 5\n",
       "216. 4\n",
       "217. 2\n",
       "218. 4\n",
       "219. 2\n",
       "220. 4\n",
       "221. 4\n",
       "222. 4\n",
       "223. 2\n",
       "224. 3\n",
       "225. 5\n",
       "226. 4\n",
       "227. 5\n",
       "228. 2\n",
       "229. 4\n",
       "230. 3\n",
       "231. 3\n",
       "232. 1\n",
       "233. 6\n",
       "234. 1\n",
       "235. 4\n",
       "236. 4\n",
       "237. 4\n",
       "238. 4\n",
       "239. 3\n",
       "240. 3\n",
       "241. 3\n",
       "242. 3\n",
       "243. 4\n",
       "244. 4\n",
       "245. 2\n",
       "246. 4\n",
       "247. 4\n",
       "248. 4\n",
       "249. 4\n",
       "250. 4\n",
       "251. 3\n",
       "252. 4\n",
       "253. 3\n",
       "254. 6\n",
       "255. 6\n",
       "256. 4\n",
       "257. 6\n",
       "258. 2\n",
       "259. 6\n",
       "260. 2\n",
       "261. 2\n",
       "262. 6\n",
       "263. 6\n",
       "264. 3\n",
       "265. 5\n",
       "266. 4\n",
       "267. 5\n",
       "268. 6\n",
       "269. 4\n",
       "270. 3\n",
       "271. 4\n",
       "272. 3\n",
       "273. 2\n",
       "274. 4\n",
       "275. 6\n",
       "276. 4\n",
       "277. 6\n",
       "278. 4\n",
       "279. 3\n",
       "280. 4\n",
       "281. 5\n",
       "282. 3\n",
       "283. 2\n",
       "284. 4\n",
       "285. 3\n",
       "286. 2\n",
       "287. 3\n",
       "288. 4\n",
       "289. 6\n",
       "290. 6\n",
       "291. 6\n",
       "292. 2\n",
       "293. 5\n",
       "294. 2\n",
       "295. 3\n",
       "296. 6\n",
       "297. 6\n",
       "298. 3\n",
       "299. 4\n",
       "300. 4\n",
       "301. 3\n",
       "302. 3\n",
       "303. 4\n",
       "304. 3\n",
       "305. 4\n",
       "306. 4\n",
       "307. 2\n",
       "308. 6\n",
       "309. 2\n",
       "310. 5\n",
       "311. 2\n",
       "312. 5\n",
       "313. 2\n",
       "314. 4\n",
       "315. 6\n",
       "316. 2\n",
       "317. 6\n",
       "318. 6\n",
       "319. 4\n",
       "320. 4\n",
       "321. 2\n",
       "322. 2\n",
       "323. 6\n",
       "324. 2\n",
       "325. 3\n",
       "326. 4\n",
       "327. 4\n",
       "328. 2\n",
       "329. 2\n",
       "330. 3\n",
       "331. 6\n",
       "332. 6\n",
       "333. 4\n",
       "334. 4\n",
       "335. 6\n",
       "336. 6\n",
       "337. 6\n",
       "338. 3\n",
       "339. 4\n",
       "340. 4\n",
       "341. 4\n",
       "342. 2\n",
       "343. 6\n",
       "344. 4\n",
       "345. 6\n",
       "346. 3\n",
       "347. 4\n",
       "348. 4\n",
       "349. 6\n",
       "350. 3\n",
       "351. 2\n",
       "352. 4\n",
       "353. 4\n",
       "354. 3\n",
       "355. 2\n",
       "356. 4\n",
       "357. 2\n",
       "358. 2\n",
       "359. 6\n",
       "360. 4\n",
       "361. 4\n",
       "362. 5\n",
       "363. 6\n",
       "364. 4\n",
       "365. 2\n",
       "366. 4\n",
       "367. 4\n",
       "368. 4\n",
       "369. 2\n",
       "370. 3\n",
       "371. 3\n",
       "372. 3\n",
       "373. 3\n",
       "374. 4\n",
       "375. 4\n",
       "376. 2\n",
       "377. 6\n",
       "378. 4\n",
       "379. 4\n",
       "380. 2\n",
       "381. 6\n",
       "382. 2\n",
       "383. 3\n",
       "384. 2\n",
       "385. 6\n",
       "386. 6\n",
       "387. 2\n",
       "388. 2\n",
       "389. 6\n",
       "390. 2\n",
       "391. 3\n",
       "392. 6\n",
       "393. 6\n",
       "394. 2\n",
       "395. 2\n",
       "396. 2\n",
       "397. 2\n",
       "398. 4\n",
       "399. 2\n",
       "400. 2\n",
       "401. 2\n",
       "\n",
       "\n"
      ],
      "text/plain": [
       "   [1] 4 4 4 5 4 4 4 4 4 4 2 6 3 1 3 4 4 4 4 4 4 4 4 3 4 4 4 6 3 4 1 6 2 3 4 4 4\n",
       "  [38] 3 3 5 4 4 3 3 4 4 4 4 4 3 4 6 4 4 3 4 3 6 4 1 4 3 4 3 1 4 2 4 4 4 4 4 4 4\n",
       "  [75] 4 1 4 4 3 5 4 6 4 4 4 4 3 4 4 4 3 2 4 4 4 4 2 4 2 3 2 4 6 1 3 3 3 3 3 4 4\n",
       " [112] 4 4 4 3 3 3 3 4 4 4 4 2 4 4 4 4 4 4 1 4 4 4 3 3 3 3 4 4 4 4 5 2 6 4 5 5 3\n",
       " [149] 6 4 3 4 3 4 4 4 3 3 4 4 3 1 2 4 3 4 4 1 5 3 5 5 4 4 4 5 4 5 4 3 5 4 1 5 4\n",
       " [186] 4 4 3 5 4 6 4 5 3 3 4 5 5 5 5 1 5 3 3 5 3 4 5 4 5 4 5 5 3 4 4 4 6 4 3 4 5\n",
       " [223] 5 3 3 3 3 3 3 3 5 5 5 5 5 4 2 5 6 3 5 5 5 5 5 5 4 4 5 3 2 5 6 5 5 3 3 5 5\n",
       " [260] 5 5 5 6 6 6 5 6 5 6 3 3 2 5 5 5 3 5 4 3 5 5 4 5 5 5 3 4 5 3 3 6 3 5 4 2 4\n",
       " [297] 6 2 2 4 4 5 6 3 5 5 5 3 5 4 5 5 2 5 6 4 5 5 4 5 6 5 4 3 5 6 4 5 5 6 5 3 5\n",
       " [334] 6 5 4 6 6 4 5 6 5 4 4 6 6 6 3 3 5 4 3 5 3 4 5 5 6 6 6 5 5 3 5 5 5 3 5 5 6\n",
       " [371] 3 3 3 4 6 5 5 6 5 6 4 4 5 5 3 5 4 5 5 3 4 5 5 4 5 5 2 5 5 5 5 5 3 3 5 5 4\n",
       " [408] 5 2 5 5 4 3 3 5 5 5 5 3 2 3 3 3 5 3 5 4 4 4 3 5 2 3 5 4 3 5 5 3 3 4 4 4 4\n",
       " [445] 4 3 4 5 4 4 3 4 3 3 6 5 5 5 4 6 3 5 5 6 5 3 5 5 4 4 4 4 3 4 5 5 4 4 5 4 3\n",
       " [482] 5 4 3 4 3 4 4 6 4 1 3 3 2 4 3 5 3 4 4 3 4 4 4 4 4 3 3 3 4 4 4 4 3 3 4 4 4\n",
       " [519] 4 2 1 4 4 3 4 4 4 4 4 3 5 4 3 4 4 4 3 4 1 2 2 4 4 3 3 4 4 4 4 3 3 4 3 3 3\n",
       " [556] 6 4 4 4 3 4 4 4 5 3 3 3 3 3 4 4 6 5 3 6 5 4 2 4 4 6 4 4 4 5 6 5 4 4 2 4 4\n",
       " [593] 6 4 4 2 3 2 2 6 4 3 3 4 4 4 6 6 3 3 3 6 5 4 4 4 4 2 3 6 2 2 6 3 4 4 2 5 4\n",
       " [630] 4 4 4 2 6 2 6 6 4 4 4 4 2 2 6 5 6 6 2 3 3 2 6 2 6 3 3 4 6 6 4 3 4 6 2 6 5\n",
       " [667] 6 6 6 6 6 6 6 6 6 6 2 6 4 4 6 3 6 6 6 3 3 6 6 4 2 6 4 3 4 6 4 3 3 4 4 2 6\n",
       " [704] 3 6 6 6 6 6 6 4 4 4 6 6 4 6 6 4 6 4 4 6 2 4 4 4 6 6 6 6 4 2 2 4 3 6 6 1 2\n",
       " [741] 6 4 6 3 6 6 5 6 6 6 4 4 2 6 3 6 3 4 6 5 3 3 3 6 3 6 6 5 5 6 6 2 6 4 4 4 6\n",
       " [778] 2 2 6 2 6 4 5 4 2 6 2 4 4 4 2 2 6 2 6 2 3 4 6 4 6 6 6 3 3 3 6 2 6 3 6 4 5\n",
       " [815] 6 6 2 4 6 4 3 2 6 4 6 6 6 6 6 3 3 2 2 2 6 6 4 3 3 4 6 4 6 4 4 4 6 3 4 6 6\n",
       " [852] 3 6 6 3 6 6 4 4 6 3 6 6 6 5 3 3 4 2 3 6 3 3 2 4 2 4 2 3 3 4 4 2 3 4 4 4 3\n",
       " [889] 3 2 1 2 3 6 4 4 6 4 2 2 2 3 4 4 6 4 4 6 3 3 4 3 2 5 3 3 4 3 2 3 2 2 4 2 2\n",
       " [926] 6 3 3 3 3 2 4 3 2 1 2 6 2 2 2 2 4 3 3 3 4 4 4 2 4 4 4 4 4 4 4 5 4 2 4 2 4\n",
       " [963] 4 4 2 3 5 4 5 2 4 3 3 1 6 1 4 4 4 4 3 3 3 3 4 4 2 4 4 4 4 4 3 4 3 6 6 4 6\n",
       "[1000] 2 6 2 2 6 6 3 5 4 5 6 4 3 4 3 2 4 6 4 6 4 3 4 5 3 2 4 3 2 3 4 6 6 6 2 5 2\n",
       "[1037] 3 6 6 3 4 4 3 3 4 3 4 4 2 6 2 5 2 5 2 4 6 2 6 6 4 4 2 2 6 2 3 4 4 2 2 3 6\n",
       "[1074] 6 4 4 6 6 6 3 4 4 4 2 6 4 6 3 4 4 6 3 2 4 4 3 2 4 2 2 6 4 4 5 6 4 2 4 4 4\n",
       "[1111] 2 3 3 3 3 4 4 2 6 4 4 2 6 2 3 2 6 6 2 2 6 2 3 6 6 2 2 2 2 4 2 2 2"
      ]
     },
     "metadata": {},
     "output_type": "display_data"
    }
   ],
   "source": [
    "km.vinos$cluster"
   ]
  },
  {
   "cell_type": "code",
   "execution_count": 20,
   "id": "309aa15b-f1b1-4d77-a0c3-5dd4f645fa1f",
   "metadata": {
    "colab": {
     "base_uri": "https://localhost:8080/",
     "height": 437
    },
    "executionInfo": {
     "elapsed": 59,
     "status": "ok",
     "timestamp": 1653910866546,
     "user": {
      "displayName": "Pablo Quintana",
      "userId": "00674039532099061635"
     },
     "user_tz": 180
    },
    "id": "309aa15b-f1b1-4d77-a0c3-5dd4f645fa1f",
    "outputId": "f14dc575-7a32-497b-c539-aac08baa48be"
   },
   "outputs": [
    {
     "data": {
      "image/png": "[encoded data removed]",
      "text/plain": [
       "plot without title"
      ]
     },
     "metadata": {
      "image/png": {
       "height": 420,
       "width": 420
      }
     },
     "output_type": "display_data"
    }
   ],
   "source": [
    "plot(X$volatile.acidity, X$fixed.acidity, col = km.vinos$cluster)"
   ]
  },
  {
   "cell_type": "code",
   "execution_count": 21,
   "id": "ee9e59d9-2fea-4aa2-ae88-0882db72a631",
   "metadata": {
    "executionInfo": {
     "elapsed": 54,
     "status": "ok",
     "timestamp": 1653910866550,
     "user": {
      "displayName": "Pablo Quintana",
      "userId": "00674039532099061635"
     },
     "user_tz": 180
    },
    "id": "ee9e59d9-2fea-4aa2-ae88-0882db72a631"
   },
   "outputs": [],
   "source": [
    "km2v.vinos <- kmeans(X[,c('fixed.acidity','volatile.acidity')],6)"
   ]
  },
  {
   "cell_type": "code",
   "execution_count": 22,
   "id": "16bdc871-298b-434c-bcd4-5612a080ed08",
   "metadata": {
    "colab": {
     "base_uri": "https://localhost:8080/",
     "height": 437
    },
    "executionInfo": {
     "elapsed": 58,
     "status": "ok",
     "timestamp": 1653910866553,
     "user": {
      "displayName": "Pablo Quintana",
      "userId": "00674039532099061635"
     },
     "user_tz": 180
    },
    "id": "16bdc871-298b-434c-bcd4-5612a080ed08",
    "outputId": "1177a125-8481-404e-8dbc-b961a08eb314"
   },
   "outputs": [
    {
     "data": {
      "image/png": "[encoded data removed]",
      "text/plain": [
       "plot without title"
      ]
     },
     "metadata": {
      "image/png": {
       "height": 420,
       "width": 420
      }
     },
     "output_type": "display_data"
    }
   ],
   "source": [
    "plot(X$volatile.acidity, X$fixed.acidity, col = km2v.vinos$cluster)"
   ]
  },
  {
   "cell_type": "code",
   "execution_count": 23,
   "id": "1e073fd7-03e8-4eb2-aae5-ef1409064f49",
   "metadata": {
    "colab": {
     "base_uri": "https://localhost:8080/",
     "height": 34
    },
    "executionInfo": {
     "elapsed": 52,
     "status": "ok",
     "timestamp": 1653910866556,
     "user": {
      "displayName": "Pablo Quintana",
      "userId": "00674039532099061635"
     },
     "user_tz": 180
    },
    "id": "1e073fd7-03e8-4eb2-aae5-ef1409064f49",
    "outputId": "6520084e-4e7f-409b-eafa-f6b2fd7ffa41"
   },
   "outputs": [
    {
     "data": {
      "text/html": [
       "1113.05284791783"
      ],
      "text/latex": [
       "1113.05284791783"
      ],
      "text/markdown": [
       "1113.05284791783"
      ],
      "text/plain": [
       "[1] 1113.053"
      ]
     },
     "metadata": {},
     "output_type": "display_data"
    }
   ],
   "source": [
    "mean(km.vinos$withinss)"
   ]
  },
  {
   "cell_type": "code",
   "execution_count": 24,
   "id": "c3d3f4b8-a4d3-4f4c-9750-70608ccdbe6e",
   "metadata": {
    "colab": {
     "base_uri": "https://localhost:8080/",
     "height": 34
    },
    "executionInfo": {
     "elapsed": 52,
     "status": "ok",
     "timestamp": 1653910866559,
     "user": {
      "displayName": "Pablo Quintana",
      "userId": "00674039532099061635"
     },
     "user_tz": 180
    },
    "id": "c3d3f4b8-a4d3-4f4c-9750-70608ccdbe6e",
    "outputId": "dce5a8d7-1f27-4b98-bdac-b895c8aba7d4"
   },
   "outputs": [
    {
     "data": {
      "text/html": [
       "0.468371510308314"
      ],
      "text/latex": [
       "0.468371510308314"
      ],
      "text/markdown": [
       "0.468371510308314"
      ],
      "text/plain": [
       "[1] 0.4683715"
      ]
     },
     "metadata": {},
     "output_type": "display_data"
    }
   ],
   "source": [
    "km.vinos$betweenss/km.vinos$totss"
   ]
  },
  {
   "cell_type": "code",
   "execution_count": 25,
   "id": "550fdf09-59b6-4f07-b709-3f0e1c0a4a9e",
   "metadata": {
    "colab": {
     "base_uri": "https://localhost:8080/",
     "height": 34
    },
    "executionInfo": {
     "elapsed": 52,
     "status": "ok",
     "timestamp": 1653910866560,
     "user": {
      "displayName": "Pablo Quintana",
      "userId": "00674039532099061635"
     },
     "user_tz": 180
    },
    "id": "550fdf09-59b6-4f07-b709-3f0e1c0a4a9e",
    "outputId": "ed5cecfb-fa27-42de-a586-34d9849e4ff1"
   },
   "outputs": [
    {
     "data": {
      "text/html": [
       "0.784187772227123"
      ],
      "text/latex": [
       "0.784187772227123"
      ],
      "text/markdown": [
       "0.784187772227123"
      ],
      "text/plain": [
       "[1] 0.7841878"
      ]
     },
     "metadata": {},
     "output_type": "display_data"
    }
   ],
   "source": [
    "km2v.vinos$betweenss/km2v.vinos$totss"
   ]
  },
  {
   "cell_type": "code",
   "execution_count": 26,
   "id": "02cf6792-1835-4e75-867d-d8d166acd7fc",
   "metadata": {
    "executionInfo": {
     "elapsed": 53,
     "status": "ok",
     "timestamp": 1653910866562,
     "user": {
      "displayName": "Pablo Quintana",
      "userId": "00674039532099061635"
     },
     "user_tz": 180
    },
    "id": "02cf6792-1835-4e75-867d-d8d166acd7fc"
   },
   "outputs": [],
   "source": [
    "elegir_grupos <- function(datos, metodo, grupos) {\n",
    "    whithins <- numeric()\n",
    "    for (i in 1:length(grupos)){\n",
    "        m <- metodo(datos, grupos[i])\n",
    "        whithins[i] <- mean(m$withinss)\n",
    "        }\n",
    "    return(whithins)}\n",
    "    "
   ]
  },
  {
   "cell_type": "code",
   "execution_count": 27,
   "id": "355e2e1a-8a35-483b-a1c0-69a9bc5b7bef",
   "metadata": {
    "colab": {
     "base_uri": "https://localhost:8080/",
     "height": 437
    },
    "executionInfo": {
     "elapsed": 56,
     "status": "ok",
     "timestamp": 1653910866565,
     "user": {
      "displayName": "Pablo Quintana",
      "userId": "00674039532099061635"
     },
     "user_tz": 180
    },
    "id": "355e2e1a-8a35-483b-a1c0-69a9bc5b7bef",
    "outputId": "39d69f79-12bb-4a6f-d5b0-13e6451cbcdb"
   },
   "outputs": [
    {
     "data": {
      "image/png": "[encoded data removed]",
      "text/plain": [
       "plot without title"
      ]
     },
     "metadata": {
      "image/png": {
       "height": 420,
       "width": 420
      }
     },
     "output_type": "display_data"
    }
   ],
   "source": [
    "wss <- elegir_grupos(X, kmeans, 2:12)\n",
    "\n",
    "plot(2:12,wss, type = \"b\", cex = 2,pch = 21,bg = 'green', col = 'red', lwd = 2)"
   ]
  },
  {
   "cell_type": "code",
   "execution_count": 28,
   "id": "60nm_uG6vSXK",
   "metadata": {
    "colab": {
     "base_uri": "https://localhost:8080/"
    },
    "executionInfo": {
     "elapsed": 4817,
     "status": "ok",
     "timestamp": 1653911160462,
     "user": {
      "displayName": "Pablo Quintana",
      "userId": "00674039532099061635"
     },
     "user_tz": 180
    },
    "id": "60nm_uG6vSXK",
    "outputId": "84b2e35a-a112-4c95-fab4-2b92d5b0b79d"
   },
   "outputs": [
    {
     "name": "stderr",
     "output_type": "stream",
     "text": [
      "Installing package into 'D:/Archivos/documentos/R/win-library/4.1'\n",
      "(as 'lib' is unspecified)\n",
      "\n"
     ]
    },
    {
     "name": "stdout",
     "output_type": "stream",
     "text": [
      "package 'factoextra' successfully unpacked and MD5 sums checked\n",
      "\n",
      "The downloaded binary packages are in\n",
      "\tC:\\Users\\Pablo\\AppData\\Local\\Temp\\RtmpYnR6ap\\downloaded_packages\n"
     ]
    },
    {
     "name": "stderr",
     "output_type": "stream",
     "text": [
      "Loading required package: factoextra\n",
      "\n",
      "Loading required package: ggplot2\n",
      "\n",
      "Welcome! Want to learn more? See two factoextra-related books at https://goo.gl/ve3WBa\n",
      "\n"
     ]
    }
   ],
   "source": [
    "install.packages(\"factoextra\")\n",
    "require(factoextra)"
   ]
  },
  {
   "cell_type": "code",
   "execution_count": 29,
   "id": "mHnSlzX-zdrm",
   "metadata": {
    "colab": {
     "base_uri": "https://localhost:8080/",
     "height": 114
    },
    "executionInfo": {
     "elapsed": 484,
     "status": "error",
     "timestamp": 1653911478874,
     "user": {
      "displayName": "Pablo Quintana",
      "userId": "00674039532099061635"
     },
     "user_tz": 180
    },
    "id": "mHnSlzX-zdrm",
    "outputId": "7ccd9e47-3e48-4aaf-8262-b45dad461a01"
   },
   "outputs": [
    {
     "data": {
      "image/png": "[encoded data removed]",
      "text/plain": [
       "plot without title"
      ]
     },
     "metadata": {
      "image/png": {
       "height": 420,
       "width": 420
      }
     },
     "output_type": "display_data"
    }
   ],
   "source": [
    "fviz_nbclust(x = X, FUNcluster = kmeans, method = \"silhouette\", k.max = 15)"
   ]
  },
  {
   "cell_type": "code",
   "execution_count": 30,
   "id": "e8cb96fa-243e-4a9c-b7f7-59552882db98",
   "metadata": {},
   "outputs": [
    {
     "name": "stderr",
     "output_type": "stream",
     "text": [
      "Warning message:\n",
      "\"did not converge in 10 iterations\"\n",
      "Warning message:\n",
      "\"did not converge in 10 iterations\"\n"
     ]
    },
    {
     "data": {
      "image/png": "[encoded data removed]",
      "text/plain": [
       "plot without title"
      ]
     },
     "metadata": {
      "image/png": {
       "height": 420,
       "width": 420
      }
     },
     "output_type": "display_data"
    }
   ],
   "source": [
    "fviz_nbclust(x = X, FUNcluster = kmeans, method = \"gap_stat\", k.max = 15)"
   ]
  },
  {
   "cell_type": "code",
   "execution_count": 31,
   "id": "nvoASUWtwpq_",
   "metadata": {
    "colab": {
     "base_uri": "https://localhost:8080/",
     "height": 166
    },
    "executionInfo": {
     "elapsed": 450,
     "status": "error",
     "timestamp": 1653911542750,
     "user": {
      "displayName": "Pablo Quintana",
      "userId": "00674039532099061635"
     },
     "user_tz": 180
    },
    "id": "nvoASUWtwpq_",
    "outputId": "29d3adce-4cda-4e18-8cd3-1d058133be3e"
   },
   "outputs": [],
   "source": [
    "sil_scores <- cluster::silhouette(km.vinos$cluster, get_dist(x = X, method = 'euclidean'))"
   ]
  },
  {
   "cell_type": "code",
   "execution_count": 32,
   "id": "84RiC4bk0VMO",
   "metadata": {
    "colab": {
     "base_uri": "https://localhost:8080/"
    },
    "executionInfo": {
     "elapsed": 7809,
     "status": "ok",
     "timestamp": 1653911734014,
     "user": {
      "displayName": "Pablo Quintana",
      "userId": "00674039532099061635"
     },
     "user_tz": 180
    },
    "id": "84RiC4bk0VMO",
    "outputId": "0af1e2bb-61a8-4c37-d544-c2a04bb15010"
   },
   "outputs": [
    {
     "name": "stderr",
     "output_type": "stream",
     "text": [
      "Installing package into 'D:/Archivos/documentos/R/win-library/4.1'\n",
      "(as 'lib' is unspecified)\n",
      "\n"
     ]
    },
    {
     "name": "stdout",
     "output_type": "stream",
     "text": [
      "package 'cluster' successfully unpacked and MD5 sums checked\n"
     ]
    },
    {
     "name": "stderr",
     "output_type": "stream",
     "text": [
      "Warning message:\n",
      "\"cannot remove prior installation of package 'cluster'\"\n",
      "Warning message in file.copy(savedcopy, lib, recursive = TRUE):\n",
      "\"problema al copiar D:\\Archivos\\documentos\\R\\win-library\\4.1\\00LOCK\\cluster\\libs\\x64\\cluster.dll  a D:\\Archivos\\documentos\\R\\win-library\\4.1\\cluster\\libs\\x64\\cluster.dll: Permission denied\"\n",
      "Warning message:\n",
      "\"restored 'cluster'\"\n"
     ]
    },
    {
     "name": "stdout",
     "output_type": "stream",
     "text": [
      "\n",
      "The downloaded binary packages are in\n",
      "\tC:\\Users\\Pablo\\AppData\\Local\\Temp\\RtmpYnR6ap\\downloaded_packages\n"
     ]
    },
    {
     "name": "stderr",
     "output_type": "stream",
     "text": [
      "Loading required package: cluster\n",
      "\n"
     ]
    }
   ],
   "source": [
    "install.packages('cluster')\n",
    "require(cluster)"
   ]
  },
  {
   "cell_type": "code",
   "execution_count": 33,
   "id": "199e0712-f300-4842-a6f5-a471bb1ad089",
   "metadata": {
    "executionInfo": {
     "elapsed": 246742,
     "status": "aborted",
     "timestamp": 1653911101819,
     "user": {
      "displayName": "Pablo Quintana",
      "userId": "00674039532099061635"
     },
     "user_tz": 180
    },
    "id": "199e0712-f300-4842-a6f5-a471bb1ad089"
   },
   "outputs": [
    {
     "name": "stderr",
     "output_type": "stream",
     "text": [
      "Installing package into 'D:/Archivos/documentos/R/win-library/4.1'\n",
      "(as 'lib' is unspecified)\n",
      "\n"
     ]
    },
    {
     "name": "stdout",
     "output_type": "stream",
     "text": [
      "package 'infotheo' successfully unpacked and MD5 sums checked\n",
      "\n",
      "The downloaded binary packages are in\n",
      "\tC:\\Users\\Pablo\\AppData\\Local\\Temp\\RtmpYnR6ap\\downloaded_packages\n"
     ]
    }
   ],
   "source": [
    "install.packages(\"infotheo\")\n"
   ]
  },
  {
   "cell_type": "code",
   "execution_count": 34,
   "id": "d470bd4d-dcd7-444a-894d-203b034c4805",
   "metadata": {
    "executionInfo": {
     "elapsed": 246736,
     "status": "aborted",
     "timestamp": 1653911101819,
     "user": {
      "displayName": "Pablo Quintana",
      "userId": "00674039532099061635"
     },
     "user_tz": 180
    },
    "id": "d470bd4d-dcd7-444a-894d-203b034c4805"
   },
   "outputs": [
    {
     "ename": "ERROR",
     "evalue": "Error in mutinformation(y, km.vinos$cluster): no se pudo encontrar la función \"mutinformation\"\n",
     "output_type": "error",
     "traceback": [
      "Error in mutinformation(y, km.vinos$cluster): no se pudo encontrar la función \"mutinformation\"\nTraceback:\n"
     ]
    }
   ],
   "source": [
    "y = X$quality\n",
    "mutinformation(y, km.vinos$cluster)/sqrt(entropy(y)*entropy(km.vinos$cluster))"
   ]
  },
  {
   "cell_type": "code",
   "execution_count": null,
   "id": "6e3b801b-e527-4539-a913-91c9fdf6bbc6",
   "metadata": {
    "executionInfo": {
     "elapsed": 246730,
     "status": "aborted",
     "timestamp": 1653911101820,
     "user": {
      "displayName": "Pablo Quintana",
      "userId": "00674039532099061635"
     },
     "user_tz": 180
    },
    "id": "6e3b801b-e527-4539-a913-91c9fdf6bbc6"
   },
   "outputs": [],
   "source": [
    "mutinformation(v.y.train, km2v.vinos$cluster)/sqrt(entropy(v.y.train)*entropy(km2v.vinos$cluster))"
   ]
  },
  {
   "cell_type": "code",
   "execution_count": null,
   "id": "19122d82-5657-4915-99af-aeae26250891",
   "metadata": {
    "executionInfo": {
     "elapsed": 246723,
     "status": "aborted",
     "timestamp": 1653911101821,
     "user": {
      "displayName": "Pablo Quintana",
      "userId": "00674039532099061635"
     },
     "user_tz": 180
    },
    "id": "19122d82-5657-4915-99af-aeae26250891"
   },
   "outputs": [],
   "source": [
    "mutinformation(v.y.train, v.y.train)/sqrt(entropy(v.y.train)*entropy(v.y.train))"
   ]
  },
  {
   "cell_type": "code",
   "execution_count": null,
   "id": "2be645ac-48ed-487e-af0d-383b3c9cba7c",
   "metadata": {
    "executionInfo": {
     "elapsed": 246718,
     "status": "aborted",
     "timestamp": 1653911101822,
     "user": {
      "displayName": "Pablo Quintana",
      "userId": "00674039532099061635"
     },
     "user_tz": 180
    },
    "id": "2be645ac-48ed-487e-af0d-383b3c9cba7c"
   },
   "outputs": [],
   "source": [
    "help(plot)"
   ]
  },
  {
   "cell_type": "markdown",
   "id": "574c9121-fc52-4c75-892f-50115f89e63d",
   "metadata": {
    "executionInfo": {
     "elapsed": 246717,
     "status": "aborted",
     "timestamp": 1653911101824,
     "user": {
      "displayName": "Pablo Quintana",
      "userId": "00674039532099061635"
     },
     "user_tz": 180
    },
    "id": "e2a9d088-55b8-4a41-a99b-273aeac5abc0"
   },
   "source": [
    "## Jerárquicos"
   ]
  },
  {
   "cell_type": "code",
   "execution_count": 35,
   "id": "2067558a-d701-4f8a-8c78-5c4cd4f2f5d5",
   "metadata": {},
   "outputs": [],
   "source": [
    "hc.complete <- hclust(dist(X), method = \"complete\")"
   ]
  },
  {
   "cell_type": "code",
   "execution_count": 36,
   "id": "c1a6a8c0-33fe-4454-b914-66f240fa1cb0",
   "metadata": {},
   "outputs": [],
   "source": [
    "hc.average <- hclust(dist(X), method = \"average\")\n",
    "hc.single <- hclust(dist(X), method = \"single\")\n",
    "hc.ward <- hclust(dist(X), method = \"ward.D\")"
   ]
  },
  {
   "cell_type": "code",
   "execution_count": 37,
   "id": "6fa9f37e-0aa9-421c-9084-4b2e74ad0716",
   "metadata": {},
   "outputs": [
    {
     "data": {
      "image/png": "[encoded data removed]",
      "text/plain": [
       "Plot with title \" Single Linkage \""
      ]
     },
     "metadata": {
      "image/png": {
       "height": 420,
       "width": 420
      }
     },
     "output_type": "display_data"
    }
   ],
   "source": [
    "par ( mfrow =c(1 ,3) )\n",
    "plot(hc.complete ,main =\" Complete Linkage \", xlab =\"\", sub =\"\",\n",
    "cex =.9)\n",
    "plot(hc.average , main =\" Average Linkage \", xlab =\"\", sub =\"\",\n",
    "cex =.9)\n",
    "plot(hc.single , main =\" Single Linkage \", xlab =\"\", sub =\"\",\n",
    "cex =.9)"
   ]
  },
  {
   "cell_type": "markdown",
   "id": "4c6d49c7-09b8-4117-a227-ecd106ce3342",
   "metadata": {},
   "source": [
    "Para determinar los grupos hay que recortar el dendograma en dónde más convenga y de acuerdo a la cantidad de grupos que queremos."
   ]
  },
  {
   "cell_type": "code",
   "execution_count": 38,
   "id": "ec15af5d-a24d-4957-a6dd-4d59cdc094d7",
   "metadata": {},
   "outputs": [
    {
     "data": {
      "text/html": [
       "<style>\n",
       ".list-inline {list-style: none; margin:0; padding: 0}\n",
       ".list-inline>li {display: inline-block}\n",
       ".list-inline>li:not(:last-child)::after {content: \"\\00b7\"; padding: 0 .5ex}\n",
       "</style>\n",
       "<ol class=list-inline><li>1</li><li>1</li><li>1</li><li>2</li><li>1</li><li>1</li><li>1</li><li>1</li><li>1</li><li>1</li><li>1</li><li>2</li><li>1</li><li>3</li><li>1</li><li>2</li><li>1</li><li>1</li><li>1</li><li>1</li><li>1</li><li>1</li><li>1</li><li>1</li><li>1</li><li>1</li><li>1</li><li>1</li><li>1</li><li>1</li><li>3</li><li>2</li><li>1</li><li>1</li><li>1</li><li>1</li><li>1</li><li>1</li><li>1</li><li>2</li><li>1</li><li>1</li><li>1</li><li>1</li><li>1</li><li>1</li><li>1</li><li>1</li><li>1</li><li>1</li><li>1</li><li>1</li><li>1</li><li>1</li><li>2</li><li>1</li><li>1</li><li>1</li><li>1</li><li>2</li><li>1</li><li>2</li><li>1</li><li>1</li><li>2</li><li>1</li><li>1</li><li>1</li><li>1</li><li>1</li><li>1</li><li>1</li><li>1</li><li>1</li><li>1</li><li>3</li><li>1</li><li>2</li><li>1</li><li>1</li><li>2</li><li>2</li><li>1</li><li>1</li><li>1</li><li>1</li><li>1</li><li>1</li><li>1</li><li>1</li><li>1</li><li>1</li><li>1</li><li>1</li><li>1</li><li>1</li><li>1</li><li>1</li><li>1</li><li>1</li><li>1</li><li>1</li><li>1</li><li>4</li><li>1</li><li>1</li><li>1</li><li>1</li><li>1</li><li>1</li><li>1</li><li>1</li><li>2</li><li>1</li><li>1</li><li>1</li><li>1</li><li>1</li><li>1</li><li>1</li><li>1</li><li>1</li><li>1</li><li>1</li><li>1</li><li>1</li><li>1</li><li>1</li><li>1</li><li>3</li><li>1</li><li>1</li><li>1</li><li>1</li><li>1</li><li>1</li><li>1</li><li>1</li><li>1</li><li>1</li><li>1</li><li>2</li><li>1</li><li>1</li><li>1</li><li>2</li><li>2</li><li>1</li><li>1</li><li>1</li><li>1</li><li>1</li><li>1</li><li>1</li><li>1</li><li>1</li><li>1</li><li>1</li><li>1</li><li>1</li><li>1</li><li>3</li><li>1</li><li>1</li><li>1</li><li>1</li><li>1</li><li>3</li><li>2</li><li>1</li><li>2</li><li>2</li><li>1</li><li>1</li><li>1</li><li>1</li><li>1</li><li>2</li><li>1</li><li>1</li><li>1</li><li>1</li><li>4</li><li>1</li><li>1</li><li>1</li><li>1</li><li>1</li><li>2</li><li>1</li><li>1</li><li>1</li><li>2</li><li>1</li><li>1</li><li>1</li><li>2</li><li>1</li><li>1</li><li>2</li><li>...</li><li>1</li><li>1</li><li>1</li><li>1</li><li>1</li><li>1</li><li>1</li><li>1</li><li>1</li><li>1</li><li>1</li><li>1</li><li>1</li><li>2</li><li>1</li><li>1</li><li>1</li><li>1</li><li>1</li><li>1</li><li>1</li><li>1</li><li>1</li><li>2</li><li>1</li><li>2</li><li>1</li><li>1</li><li>2</li><li>1</li><li>3</li><li>1</li><li>3</li><li>1</li><li>1</li><li>1</li><li>1</li><li>1</li><li>1</li><li>1</li><li>1</li><li>1</li><li>1</li><li>1</li><li>1</li><li>1</li><li>1</li><li>1</li><li>1</li><li>1</li><li>1</li><li>1</li><li>1</li><li>2</li><li>1</li><li>1</li><li>1</li><li>1</li><li>1</li><li>1</li><li>1</li><li>1</li><li>2</li><li>2</li><li>1</li><li>2</li><li>1</li><li>1</li><li>1</li><li>1</li><li>1</li><li>1</li><li>1</li><li>1</li><li>1</li><li>1</li><li>1</li><li>1</li><li>1</li><li>5</li><li>1</li><li>1</li><li>1</li><li>1</li><li>1</li><li>1</li><li>1</li><li>1</li><li>1</li><li>1</li><li>1</li><li>2</li><li>1</li><li>1</li><li>1</li><li>1</li><li>1</li><li>1</li><li>1</li><li>1</li><li>1</li><li>1</li><li>1</li><li>1</li><li>1</li><li>1</li><li>1</li><li>1</li><li>5</li><li>1</li><li>5</li><li>1</li><li>1</li><li>1</li><li>1</li><li>1</li><li>1</li><li>1</li><li>1</li><li>1</li><li>1</li><li>1</li><li>1</li><li>1</li><li>1</li><li>1</li><li>1</li><li>1</li><li>1</li><li>1</li><li>1</li><li>1</li><li>1</li><li>1</li><li>1</li><li>1</li><li>1</li><li>1</li><li>1</li><li>1</li><li>1</li><li>1</li><li>1</li><li>1</li><li>1</li><li>1</li><li>1</li><li>1</li><li>1</li><li>1</li><li>1</li><li>1</li><li>1</li><li>1</li><li>1</li><li>1</li><li>1</li><li>1</li><li>1</li><li>1</li><li>2</li><li>1</li><li>1</li><li>1</li><li>1</li><li>1</li><li>1</li><li>1</li><li>6</li><li>1</li><li>1</li><li>1</li><li>1</li><li>1</li><li>1</li><li>1</li><li>1</li><li>1</li><li>1</li><li>1</li><li>1</li><li>1</li><li>1</li><li>1</li><li>1</li><li>1</li><li>1</li><li>1</li><li>1</li><li>1</li><li>1</li><li>1</li><li>1</li><li>1</li><li>1</li><li>1</li><li>1</li><li>1</li><li>1</li><li>1</li></ol>\n"
      ],
      "text/latex": [
       "\\begin{enumerate*}\n",
       "\\item 1\n",
       "\\item 1\n",
       "\\item 1\n",
       "\\item 2\n",
       "\\item 1\n",
       "\\item 1\n",
       "\\item 1\n",
       "\\item 1\n",
       "\\item 1\n",
       "\\item 1\n",
       "\\item 1\n",
       "\\item 2\n",
       "\\item 1\n",
       "\\item 3\n",
       "\\item 1\n",
       "\\item 2\n",
       "\\item 1\n",
       "\\item 1\n",
       "\\item 1\n",
       "\\item 1\n",
       "\\item 1\n",
       "\\item 1\n",
       "\\item 1\n",
       "\\item 1\n",
       "\\item 1\n",
       "\\item 1\n",
       "\\item 1\n",
       "\\item 1\n",
       "\\item 1\n",
       "\\item 1\n",
       "\\item 3\n",
       "\\item 2\n",
       "\\item 1\n",
       "\\item 1\n",
       "\\item 1\n",
       "\\item 1\n",
       "\\item 1\n",
       "\\item 1\n",
       "\\item 1\n",
       "\\item 2\n",
       "\\item 1\n",
       "\\item 1\n",
       "\\item 1\n",
       "\\item 1\n",
       "\\item 1\n",
       "\\item 1\n",
       "\\item 1\n",
       "\\item 1\n",
       "\\item 1\n",
       "\\item 1\n",
       "\\item 1\n",
       "\\item 1\n",
       "\\item 1\n",
       "\\item 1\n",
       "\\item 2\n",
       "\\item 1\n",
       "\\item 1\n",
       "\\item 1\n",
       "\\item 1\n",
       "\\item 2\n",
       "\\item 1\n",
       "\\item 2\n",
       "\\item 1\n",
       "\\item 1\n",
       "\\item 2\n",
       "\\item 1\n",
       "\\item 1\n",
       "\\item 1\n",
       "\\item 1\n",
       "\\item 1\n",
       "\\item 1\n",
       "\\item 1\n",
       "\\item 1\n",
       "\\item 1\n",
       "\\item 1\n",
       "\\item 3\n",
       "\\item 1\n",
       "\\item 2\n",
       "\\item 1\n",
       "\\item 1\n",
       "\\item 2\n",
       "\\item 2\n",
       "\\item 1\n",
       "\\item 1\n",
       "\\item 1\n",
       "\\item 1\n",
       "\\item 1\n",
       "\\item 1\n",
       "\\item 1\n",
       "\\item 1\n",
       "\\item 1\n",
       "\\item 1\n",
       "\\item 1\n",
       "\\item 1\n",
       "\\item 1\n",
       "\\item 1\n",
       "\\item 1\n",
       "\\item 1\n",
       "\\item 1\n",
       "\\item 1\n",
       "\\item 1\n",
       "\\item 1\n",
       "\\item 1\n",
       "\\item 4\n",
       "\\item 1\n",
       "\\item 1\n",
       "\\item 1\n",
       "\\item 1\n",
       "\\item 1\n",
       "\\item 1\n",
       "\\item 1\n",
       "\\item 1\n",
       "\\item 2\n",
       "\\item 1\n",
       "\\item 1\n",
       "\\item 1\n",
       "\\item 1\n",
       "\\item 1\n",
       "\\item 1\n",
       "\\item 1\n",
       "\\item 1\n",
       "\\item 1\n",
       "\\item 1\n",
       "\\item 1\n",
       "\\item 1\n",
       "\\item 1\n",
       "\\item 1\n",
       "\\item 1\n",
       "\\item 1\n",
       "\\item 3\n",
       "\\item 1\n",
       "\\item 1\n",
       "\\item 1\n",
       "\\item 1\n",
       "\\item 1\n",
       "\\item 1\n",
       "\\item 1\n",
       "\\item 1\n",
       "\\item 1\n",
       "\\item 1\n",
       "\\item 1\n",
       "\\item 2\n",
       "\\item 1\n",
       "\\item 1\n",
       "\\item 1\n",
       "\\item 2\n",
       "\\item 2\n",
       "\\item 1\n",
       "\\item 1\n",
       "\\item 1\n",
       "\\item 1\n",
       "\\item 1\n",
       "\\item 1\n",
       "\\item 1\n",
       "\\item 1\n",
       "\\item 1\n",
       "\\item 1\n",
       "\\item 1\n",
       "\\item 1\n",
       "\\item 1\n",
       "\\item 1\n",
       "\\item 3\n",
       "\\item 1\n",
       "\\item 1\n",
       "\\item 1\n",
       "\\item 1\n",
       "\\item 1\n",
       "\\item 3\n",
       "\\item 2\n",
       "\\item 1\n",
       "\\item 2\n",
       "\\item 2\n",
       "\\item 1\n",
       "\\item 1\n",
       "\\item 1\n",
       "\\item 1\n",
       "\\item 1\n",
       "\\item 2\n",
       "\\item 1\n",
       "\\item 1\n",
       "\\item 1\n",
       "\\item 1\n",
       "\\item 4\n",
       "\\item 1\n",
       "\\item 1\n",
       "\\item 1\n",
       "\\item 1\n",
       "\\item 1\n",
       "\\item 2\n",
       "\\item 1\n",
       "\\item 1\n",
       "\\item 1\n",
       "\\item 2\n",
       "\\item 1\n",
       "\\item 1\n",
       "\\item 1\n",
       "\\item 2\n",
       "\\item 1\n",
       "\\item 1\n",
       "\\item 2\n",
       "\\item ...\n",
       "\\item 1\n",
       "\\item 1\n",
       "\\item 1\n",
       "\\item 1\n",
       "\\item 1\n",
       "\\item 1\n",
       "\\item 1\n",
       "\\item 1\n",
       "\\item 1\n",
       "\\item 1\n",
       "\\item 1\n",
       "\\item 1\n",
       "\\item 1\n",
       "\\item 2\n",
       "\\item 1\n",
       "\\item 1\n",
       "\\item 1\n",
       "\\item 1\n",
       "\\item 1\n",
       "\\item 1\n",
       "\\item 1\n",
       "\\item 1\n",
       "\\item 1\n",
       "\\item 2\n",
       "\\item 1\n",
       "\\item 2\n",
       "\\item 1\n",
       "\\item 1\n",
       "\\item 2\n",
       "\\item 1\n",
       "\\item 3\n",
       "\\item 1\n",
       "\\item 3\n",
       "\\item 1\n",
       "\\item 1\n",
       "\\item 1\n",
       "\\item 1\n",
       "\\item 1\n",
       "\\item 1\n",
       "\\item 1\n",
       "\\item 1\n",
       "\\item 1\n",
       "\\item 1\n",
       "\\item 1\n",
       "\\item 1\n",
       "\\item 1\n",
       "\\item 1\n",
       "\\item 1\n",
       "\\item 1\n",
       "\\item 1\n",
       "\\item 1\n",
       "\\item 1\n",
       "\\item 1\n",
       "\\item 2\n",
       "\\item 1\n",
       "\\item 1\n",
       "\\item 1\n",
       "\\item 1\n",
       "\\item 1\n",
       "\\item 1\n",
       "\\item 1\n",
       "\\item 1\n",
       "\\item 2\n",
       "\\item 2\n",
       "\\item 1\n",
       "\\item 2\n",
       "\\item 1\n",
       "\\item 1\n",
       "\\item 1\n",
       "\\item 1\n",
       "\\item 1\n",
       "\\item 1\n",
       "\\item 1\n",
       "\\item 1\n",
       "\\item 1\n",
       "\\item 1\n",
       "\\item 1\n",
       "\\item 1\n",
       "\\item 1\n",
       "\\item 5\n",
       "\\item 1\n",
       "\\item 1\n",
       "\\item 1\n",
       "\\item 1\n",
       "\\item 1\n",
       "\\item 1\n",
       "\\item 1\n",
       "\\item 1\n",
       "\\item 1\n",
       "\\item 1\n",
       "\\item 1\n",
       "\\item 2\n",
       "\\item 1\n",
       "\\item 1\n",
       "\\item 1\n",
       "\\item 1\n",
       "\\item 1\n",
       "\\item 1\n",
       "\\item 1\n",
       "\\item 1\n",
       "\\item 1\n",
       "\\item 1\n",
       "\\item 1\n",
       "\\item 1\n",
       "\\item 1\n",
       "\\item 1\n",
       "\\item 1\n",
       "\\item 1\n",
       "\\item 5\n",
       "\\item 1\n",
       "\\item 5\n",
       "\\item 1\n",
       "\\item 1\n",
       "\\item 1\n",
       "\\item 1\n",
       "\\item 1\n",
       "\\item 1\n",
       "\\item 1\n",
       "\\item 1\n",
       "\\item 1\n",
       "\\item 1\n",
       "\\item 1\n",
       "\\item 1\n",
       "\\item 1\n",
       "\\item 1\n",
       "\\item 1\n",
       "\\item 1\n",
       "\\item 1\n",
       "\\item 1\n",
       "\\item 1\n",
       "\\item 1\n",
       "\\item 1\n",
       "\\item 1\n",
       "\\item 1\n",
       "\\item 1\n",
       "\\item 1\n",
       "\\item 1\n",
       "\\item 1\n",
       "\\item 1\n",
       "\\item 1\n",
       "\\item 1\n",
       "\\item 1\n",
       "\\item 1\n",
       "\\item 1\n",
       "\\item 1\n",
       "\\item 1\n",
       "\\item 1\n",
       "\\item 1\n",
       "\\item 1\n",
       "\\item 1\n",
       "\\item 1\n",
       "\\item 1\n",
       "\\item 1\n",
       "\\item 1\n",
       "\\item 1\n",
       "\\item 1\n",
       "\\item 1\n",
       "\\item 1\n",
       "\\item 1\n",
       "\\item 1\n",
       "\\item 2\n",
       "\\item 1\n",
       "\\item 1\n",
       "\\item 1\n",
       "\\item 1\n",
       "\\item 1\n",
       "\\item 1\n",
       "\\item 1\n",
       "\\item 6\n",
       "\\item 1\n",
       "\\item 1\n",
       "\\item 1\n",
       "\\item 1\n",
       "\\item 1\n",
       "\\item 1\n",
       "\\item 1\n",
       "\\item 1\n",
       "\\item 1\n",
       "\\item 1\n",
       "\\item 1\n",
       "\\item 1\n",
       "\\item 1\n",
       "\\item 1\n",
       "\\item 1\n",
       "\\item 1\n",
       "\\item 1\n",
       "\\item 1\n",
       "\\item 1\n",
       "\\item 1\n",
       "\\item 1\n",
       "\\item 1\n",
       "\\item 1\n",
       "\\item 1\n",
       "\\item 1\n",
       "\\item 1\n",
       "\\item 1\n",
       "\\item 1\n",
       "\\item 1\n",
       "\\item 1\n",
       "\\item 1\n",
       "\\end{enumerate*}\n"
      ],
      "text/markdown": [
       "1. 1\n",
       "2. 1\n",
       "3. 1\n",
       "4. 2\n",
       "5. 1\n",
       "6. 1\n",
       "7. 1\n",
       "8. 1\n",
       "9. 1\n",
       "10. 1\n",
       "11. 1\n",
       "12. 2\n",
       "13. 1\n",
       "14. 3\n",
       "15. 1\n",
       "16. 2\n",
       "17. 1\n",
       "18. 1\n",
       "19. 1\n",
       "20. 1\n",
       "21. 1\n",
       "22. 1\n",
       "23. 1\n",
       "24. 1\n",
       "25. 1\n",
       "26. 1\n",
       "27. 1\n",
       "28. 1\n",
       "29. 1\n",
       "30. 1\n",
       "31. 3\n",
       "32. 2\n",
       "33. 1\n",
       "34. 1\n",
       "35. 1\n",
       "36. 1\n",
       "37. 1\n",
       "38. 1\n",
       "39. 1\n",
       "40. 2\n",
       "41. 1\n",
       "42. 1\n",
       "43. 1\n",
       "44. 1\n",
       "45. 1\n",
       "46. 1\n",
       "47. 1\n",
       "48. 1\n",
       "49. 1\n",
       "50. 1\n",
       "51. 1\n",
       "52. 1\n",
       "53. 1\n",
       "54. 1\n",
       "55. 2\n",
       "56. 1\n",
       "57. 1\n",
       "58. 1\n",
       "59. 1\n",
       "60. 2\n",
       "61. 1\n",
       "62. 2\n",
       "63. 1\n",
       "64. 1\n",
       "65. 2\n",
       "66. 1\n",
       "67. 1\n",
       "68. 1\n",
       "69. 1\n",
       "70. 1\n",
       "71. 1\n",
       "72. 1\n",
       "73. 1\n",
       "74. 1\n",
       "75. 1\n",
       "76. 3\n",
       "77. 1\n",
       "78. 2\n",
       "79. 1\n",
       "80. 1\n",
       "81. 2\n",
       "82. 2\n",
       "83. 1\n",
       "84. 1\n",
       "85. 1\n",
       "86. 1\n",
       "87. 1\n",
       "88. 1\n",
       "89. 1\n",
       "90. 1\n",
       "91. 1\n",
       "92. 1\n",
       "93. 1\n",
       "94. 1\n",
       "95. 1\n",
       "96. 1\n",
       "97. 1\n",
       "98. 1\n",
       "99. 1\n",
       "100. 1\n",
       "101. 1\n",
       "102. 1\n",
       "103. 1\n",
       "104. 4\n",
       "105. 1\n",
       "106. 1\n",
       "107. 1\n",
       "108. 1\n",
       "109. 1\n",
       "110. 1\n",
       "111. 1\n",
       "112. 1\n",
       "113. 2\n",
       "114. 1\n",
       "115. 1\n",
       "116. 1\n",
       "117. 1\n",
       "118. 1\n",
       "119. 1\n",
       "120. 1\n",
       "121. 1\n",
       "122. 1\n",
       "123. 1\n",
       "124. 1\n",
       "125. 1\n",
       "126. 1\n",
       "127. 1\n",
       "128. 1\n",
       "129. 1\n",
       "130. 3\n",
       "131. 1\n",
       "132. 1\n",
       "133. 1\n",
       "134. 1\n",
       "135. 1\n",
       "136. 1\n",
       "137. 1\n",
       "138. 1\n",
       "139. 1\n",
       "140. 1\n",
       "141. 1\n",
       "142. 2\n",
       "143. 1\n",
       "144. 1\n",
       "145. 1\n",
       "146. 2\n",
       "147. 2\n",
       "148. 1\n",
       "149. 1\n",
       "150. 1\n",
       "151. 1\n",
       "152. 1\n",
       "153. 1\n",
       "154. 1\n",
       "155. 1\n",
       "156. 1\n",
       "157. 1\n",
       "158. 1\n",
       "159. 1\n",
       "160. 1\n",
       "161. 1\n",
       "162. 3\n",
       "163. 1\n",
       "164. 1\n",
       "165. 1\n",
       "166. 1\n",
       "167. 1\n",
       "168. 3\n",
       "169. 2\n",
       "170. 1\n",
       "171. 2\n",
       "172. 2\n",
       "173. 1\n",
       "174. 1\n",
       "175. 1\n",
       "176. 1\n",
       "177. 1\n",
       "178. 2\n",
       "179. 1\n",
       "180. 1\n",
       "181. 1\n",
       "182. 1\n",
       "183. 4\n",
       "184. 1\n",
       "185. 1\n",
       "186. 1\n",
       "187. 1\n",
       "188. 1\n",
       "189. 2\n",
       "190. 1\n",
       "191. 1\n",
       "192. 1\n",
       "193. 2\n",
       "194. 1\n",
       "195. 1\n",
       "196. 1\n",
       "197. 2\n",
       "198. 1\n",
       "199. 1\n",
       "200. 2\n",
       "201. ...\n",
       "202. 1\n",
       "203. 1\n",
       "204. 1\n",
       "205. 1\n",
       "206. 1\n",
       "207. 1\n",
       "208. 1\n",
       "209. 1\n",
       "210. 1\n",
       "211. 1\n",
       "212. 1\n",
       "213. 1\n",
       "214. 1\n",
       "215. 2\n",
       "216. 1\n",
       "217. 1\n",
       "218. 1\n",
       "219. 1\n",
       "220. 1\n",
       "221. 1\n",
       "222. 1\n",
       "223. 1\n",
       "224. 1\n",
       "225. 2\n",
       "226. 1\n",
       "227. 2\n",
       "228. 1\n",
       "229. 1\n",
       "230. 2\n",
       "231. 1\n",
       "232. 3\n",
       "233. 1\n",
       "234. 3\n",
       "235. 1\n",
       "236. 1\n",
       "237. 1\n",
       "238. 1\n",
       "239. 1\n",
       "240. 1\n",
       "241. 1\n",
       "242. 1\n",
       "243. 1\n",
       "244. 1\n",
       "245. 1\n",
       "246. 1\n",
       "247. 1\n",
       "248. 1\n",
       "249. 1\n",
       "250. 1\n",
       "251. 1\n",
       "252. 1\n",
       "253. 1\n",
       "254. 1\n",
       "255. 2\n",
       "256. 1\n",
       "257. 1\n",
       "258. 1\n",
       "259. 1\n",
       "260. 1\n",
       "261. 1\n",
       "262. 1\n",
       "263. 1\n",
       "264. 2\n",
       "265. 2\n",
       "266. 1\n",
       "267. 2\n",
       "268. 1\n",
       "269. 1\n",
       "270. 1\n",
       "271. 1\n",
       "272. 1\n",
       "273. 1\n",
       "274. 1\n",
       "275. 1\n",
       "276. 1\n",
       "277. 1\n",
       "278. 1\n",
       "279. 1\n",
       "280. 1\n",
       "281. 5\n",
       "282. 1\n",
       "283. 1\n",
       "284. 1\n",
       "285. 1\n",
       "286. 1\n",
       "287. 1\n",
       "288. 1\n",
       "289. 1\n",
       "290. 1\n",
       "291. 1\n",
       "292. 1\n",
       "293. 2\n",
       "294. 1\n",
       "295. 1\n",
       "296. 1\n",
       "297. 1\n",
       "298. 1\n",
       "299. 1\n",
       "300. 1\n",
       "301. 1\n",
       "302. 1\n",
       "303. 1\n",
       "304. 1\n",
       "305. 1\n",
       "306. 1\n",
       "307. 1\n",
       "308. 1\n",
       "309. 1\n",
       "310. 5\n",
       "311. 1\n",
       "312. 5\n",
       "313. 1\n",
       "314. 1\n",
       "315. 1\n",
       "316. 1\n",
       "317. 1\n",
       "318. 1\n",
       "319. 1\n",
       "320. 1\n",
       "321. 1\n",
       "322. 1\n",
       "323. 1\n",
       "324. 1\n",
       "325. 1\n",
       "326. 1\n",
       "327. 1\n",
       "328. 1\n",
       "329. 1\n",
       "330. 1\n",
       "331. 1\n",
       "332. 1\n",
       "333. 1\n",
       "334. 1\n",
       "335. 1\n",
       "336. 1\n",
       "337. 1\n",
       "338. 1\n",
       "339. 1\n",
       "340. 1\n",
       "341. 1\n",
       "342. 1\n",
       "343. 1\n",
       "344. 1\n",
       "345. 1\n",
       "346. 1\n",
       "347. 1\n",
       "348. 1\n",
       "349. 1\n",
       "350. 1\n",
       "351. 1\n",
       "352. 1\n",
       "353. 1\n",
       "354. 1\n",
       "355. 1\n",
       "356. 1\n",
       "357. 1\n",
       "358. 1\n",
       "359. 1\n",
       "360. 1\n",
       "361. 1\n",
       "362. 2\n",
       "363. 1\n",
       "364. 1\n",
       "365. 1\n",
       "366. 1\n",
       "367. 1\n",
       "368. 1\n",
       "369. 1\n",
       "370. 6\n",
       "371. 1\n",
       "372. 1\n",
       "373. 1\n",
       "374. 1\n",
       "375. 1\n",
       "376. 1\n",
       "377. 1\n",
       "378. 1\n",
       "379. 1\n",
       "380. 1\n",
       "381. 1\n",
       "382. 1\n",
       "383. 1\n",
       "384. 1\n",
       "385. 1\n",
       "386. 1\n",
       "387. 1\n",
       "388. 1\n",
       "389. 1\n",
       "390. 1\n",
       "391. 1\n",
       "392. 1\n",
       "393. 1\n",
       "394. 1\n",
       "395. 1\n",
       "396. 1\n",
       "397. 1\n",
       "398. 1\n",
       "399. 1\n",
       "400. 1\n",
       "401. 1\n",
       "\n",
       "\n"
      ],
      "text/plain": [
       "   [1] 1 1 1 2 1 1 1 1 1 1 1 2 1 3 1 2 1 1 1 1 1 1 1 1 1 1 1 1 1 1 3 2 1 1 1 1 1\n",
       "  [38] 1 1 2 1 1 1 1 1 1 1 1 1 1 1 1 1 1 2 1 1 1 1 2 1 2 1 1 2 1 1 1 1 1 1 1 1 1\n",
       "  [75] 1 3 1 2 1 1 2 2 1 1 1 1 1 1 1 1 1 1 1 1 1 1 1 1 1 1 1 1 1 4 1 1 1 1 1 1 1\n",
       " [112] 1 2 1 1 1 1 1 1 1 1 1 1 1 1 1 1 1 1 3 1 1 1 1 1 1 1 1 1 1 1 2 1 1 1 2 2 1\n",
       " [149] 1 1 1 1 1 1 1 1 1 1 1 1 1 3 1 1 1 1 1 3 2 1 2 2 1 1 1 1 1 2 1 1 1 1 4 1 1\n",
       " [186] 1 1 1 2 1 1 1 2 1 1 1 2 1 1 2 3 1 1 1 2 1 1 2 1 1 1 2 2 1 1 1 1 2 1 1 1 1\n",
       " [223] 1 1 1 1 1 1 1 1 5 5 2 1 2 1 1 2 1 1 2 2 2 2 2 2 1 1 2 1 1 2 2 2 2 1 1 2 2\n",
       " [260] 2 2 2 1 1 2 2 1 2 1 1 1 1 2 1 2 6 2 1 6 2 2 1 1 2 2 1 1 1 1 6 2 1 2 1 1 1\n",
       " [297] 1 1 1 1 1 2 1 1 2 2 2 1 2 1 2 2 1 2 1 1 2 2 1 2 1 2 1 1 2 1 1 2 2 1 2 1 2\n",
       " [334] 2 2 1 1 1 1 5 1 2 1 1 1 1 1 1 1 2 1 1 2 1 1 1 1 1 1 1 2 2 1 2 2 2 6 2 1 1\n",
       " [371] 1 1 1 1 1 2 2 1 1 1 1 1 2 2 1 1 1 2 2 1 1 1 2 1 2 2 1 2 2 2 2 2 1 1 2 2 1\n",
       " [408] 1 1 2 2 1 1 1 2 2 2 2 1 1 1 1 1 2 1 2 1 1 1 1 6 1 1 2 1 1 2 2 1 1 1 1 1 1\n",
       " [445] 1 1 1 2 1 1 1 1 1 1 2 1 1 1 1 1 1 2 2 2 1 1 2 2 1 1 1 1 1 1 2 2 1 1 2 1 1\n",
       " [482] 2 1 1 1 1 1 1 2 1 3 1 1 1 1 1 2 1 1 1 1 1 1 1 1 1 1 1 1 1 1 1 1 1 2 1 1 1\n",
       " [519] 1 1 3 1 1 1 1 1 1 1 1 1 1 1 1 1 1 1 1 1 3 1 1 1 1 1 1 1 1 1 1 1 1 1 1 1 1\n",
       " [556] 2 1 1 1 1 1 1 1 2 1 1 1 1 1 1 1 1 2 1 1 1 1 1 1 1 1 2 1 1 2 1 2 1 1 1 1 1\n",
       " [593] 1 1 1 1 2 1 1 1 1 2 1 1 1 1 1 1 1 1 1 1 2 1 1 1 1 1 1 1 1 1 1 1 1 1 1 6 1\n",
       " [630] 1 1 1 1 1 1 1 1 1 1 1 1 1 1 1 1 1 1 1 1 1 1 1 1 1 1 1 1 1 1 1 1 1 1 1 1 2\n",
       " [667] 1 1 1 1 1 1 1 1 1 1 1 1 1 1 1 1 1 1 1 1 1 1 1 1 1 1 1 1 1 1 1 1 1 1 1 1 1\n",
       " [704] 1 1 1 1 1 1 1 1 1 1 1 1 1 2 2 1 1 1 1 1 1 1 1 1 1 1 1 1 1 1 1 1 1 1 1 3 1\n",
       " [741] 1 1 1 1 2 1 2 1 1 1 1 1 1 1 1 1 1 1 1 1 6 6 1 1 1 1 1 2 2 1 1 1 1 1 1 1 1\n",
       " [778] 1 1 1 1 1 1 2 1 1 1 1 1 1 1 1 1 1 1 1 1 1 1 1 1 1 1 1 1 1 1 1 1 1 1 1 2 1\n",
       " [815] 1 1 1 1 2 1 1 1 1 1 1 1 1 1 1 1 1 1 1 1 1 1 1 1 1 1 1 1 1 1 1 1 1 1 1 1 1\n",
       " [852] 1 1 1 2 1 1 1 1 1 1 1 2 2 2 1 1 1 1 1 1 1 1 1 1 1 1 1 1 1 1 1 1 1 1 1 1 1\n",
       " [889] 1 1 3 1 1 1 1 1 1 1 1 1 1 1 1 1 1 1 1 1 1 1 1 1 1 2 2 2 1 1 1 1 1 1 1 1 1\n",
       " [926] 1 1 1 1 1 1 1 1 1 3 1 1 1 1 1 1 1 1 1 1 1 1 1 1 1 1 1 1 1 1 1 2 1 1 1 1 1\n",
       " [963] 1 1 1 1 2 1 2 1 1 2 1 3 1 3 1 1 1 1 1 1 1 1 1 1 1 1 1 1 1 1 1 1 1 1 2 1 1\n",
       "[1000] 1 1 1 1 1 1 2 2 1 2 1 1 1 1 1 1 1 1 1 1 1 1 1 5 1 1 1 1 1 1 1 1 1 1 1 2 1\n",
       "[1037] 1 1 1 1 1 1 1 1 1 1 1 1 1 1 1 5 1 5 1 1 1 1 1 1 1 1 1 1 1 1 1 1 1 1 1 1 1\n",
       "[1074] 1 1 1 1 1 1 1 1 1 1 1 1 1 1 1 1 1 1 1 1 1 1 1 1 1 1 1 1 1 1 2 1 1 1 1 1 1\n",
       "[1111] 1 6 1 1 1 1 1 1 1 1 1 1 1 1 1 1 1 1 1 1 1 1 1 1 1 1 1 1 1 1 1 1 1"
      ]
     },
     "metadata": {},
     "output_type": "display_data"
    }
   ],
   "source": [
    "cutree(hc.complete, 6)"
   ]
  },
  {
   "cell_type": "code",
   "execution_count": 39,
   "id": "1c4c7f64-e6ca-4e40-9f64-082d6bb3549f",
   "metadata": {},
   "outputs": [
    {
     "name": "stdout",
     "output_type": "stream",
     "text": [
      "List of 7\n",
      " $ merge      : int [1:1142, 1:2] -1 -46 -60 -61 -70 -73 -78 -94 -97 -105 ...\n",
      " $ height     : num [1:1142] 0 0 0 0 0 0 0 0 0 0 ...\n",
      " $ order      : int [1:1143] 104 183 162 935 891 974 976 76 491 739 ...\n",
      " $ labels     : NULL\n",
      " $ method     : chr \"complete\"\n",
      " $ call       : language hclust(d = dist(X), method = \"complete\")\n",
      " $ dist.method: chr \"euclidean\"\n",
      " - attr(*, \"class\")= chr \"hclust\"\n"
     ]
    }
   ],
   "source": [
    "str(hc.complete)"
   ]
  },
  {
   "cell_type": "code",
   "execution_count": 40,
   "id": "4f60ba07-eedd-46d9-9b51-a2d344f2aad2",
   "metadata": {},
   "outputs": [
    {
     "data": {
      "text/html": [
       "0.229478771007394"
      ],
      "text/latex": [
       "0.229478771007394"
      ],
      "text/markdown": [
       "0.229478771007394"
      ],
      "text/plain": [
       "[1] 0.2294788"
      ]
     },
     "metadata": {},
     "output_type": "display_data"
    }
   ],
   "source": [
    "summary(silhouette( cutree(hc.complete, k = 6), get_dist(X,method= \"euclidea\")))[[4]]"
   ]
  },
  {
   "cell_type": "code",
   "execution_count": 41,
   "id": "6c47591d-8ee0-49e3-96c4-b7e13af6b40c",
   "metadata": {},
   "outputs": [
    {
     "data": {
      "text/html": [
       "0.229478771007394"
      ],
      "text/latex": [
       "0.229478771007394"
      ],
      "text/markdown": [
       "0.229478771007394"
      ],
      "text/plain": [
       "[1] 0.2294788"
      ]
     },
     "metadata": {},
     "output_type": "display_data"
    }
   ],
   "source": [
    "mean(silhouette( cutree(hc.complete, k = 6), get_dist(X,method= \"euclidea\"))[,3])"
   ]
  },
  {
   "cell_type": "code",
   "execution_count": 42,
   "id": "3d4ce19e-0392-4aad-bf1b-36705710f6dd",
   "metadata": {},
   "outputs": [],
   "source": [
    "set.seed(456)\n",
    "coef_sil <- function(datos, metodo, n_clusters, distancia){\n",
    "    valores_siluetas <- silhouette(cutree(metodo, k = n_clusters), get_dist(x = datos, method = distancia))\n",
    "    media_siluetas <- summary(valores_siluetas)[[4]]\n",
    "    return(media_siluetas)\n",
    "    }\n",
    "cant_grupos <- function(datos, metodo, lista_grupos, distancia){\n",
    "    valores_siluetas <- numeric()\n",
    "    for(i in 1:length(lista_grupos)) {\n",
    "        v <- coef_sil(datos, metodo, lista_grupos[i], distancia)\n",
    "        valores_siluetas[i] <- v\n",
    "        }\n",
    "    return(plot(lista_grupos,valores_siluetas, type = \"b\", cex = 2,pch = 21,bg = 'green', col = 'red', lwd = 2))\n",
    "    }\n"
   ]
  },
  {
   "cell_type": "code",
   "execution_count": 43,
   "id": "9d88b41a-7539-445d-b388-bef37ec40dfa",
   "metadata": {},
   "outputs": [
    {
     "data": {
      "image/png": "[encoded data removed]",
      "text/plain": [
       "plot without title"
      ]
     },
     "metadata": {
      "image/png": {
       "height": 420,
       "width": 420
      }
     },
     "output_type": "display_data"
    },
    {
     "data": {
      "image/png": "[encoded data removed]",
      "text/plain": [
       "plot without title"
      ]
     },
     "metadata": {
      "image/png": {
       "height": 420,
       "width": 420
      }
     },
     "output_type": "display_data"
    },
    {
     "data": {
      "image/png": "[encoded data removed]",
      "text/plain": [
       "plot without title"
      ]
     },
     "metadata": {
      "image/png": {
       "height": 420,
       "width": 420
      }
     },
     "output_type": "display_data"
    },
    {
     "data": {
      "image/png": "[encoded data removed]",
      "text/plain": [
       "plot without title"
      ]
     },
     "metadata": {
      "image/png": {
       "height": 420,
       "width": 420
      }
     },
     "output_type": "display_data"
    }
   ],
   "source": [
    "graf1 <- cant_grupos(X,hc.ward, 2:15, \"euclidea\")\n",
    "graf2 <- cant_grupos(X,hc.complete, 2:15, \"euclidea\")\n",
    "graf3 <- cant_grupos(X,hc.single, 2:15, \"euclidea\")\n",
    "graf4 <- cant_grupos(X,hc.average, 2:15, \"euclidea\")"
   ]
  },
  {
   "cell_type": "code",
   "execution_count": 44,
   "id": "37812938-ae14-4c10-afe6-a5e274680f48",
   "metadata": {},
   "outputs": [
    {
     "name": "stderr",
     "output_type": "stream",
     "text": [
      "Installing package into 'D:/Archivos/documentos/R/win-library/4.1'\n",
      "(as 'lib' is unspecified)\n",
      "\n",
      "Warning message:\n",
      "\"package 'purr' is not available for this version of R\n",
      "\n",
      "A version of this package for your version of R might be available elsewhere,\n",
      "see the ideas at\n",
      "https://cran.r-project.org/doc/manuals/r-patched/R-admin.html#Installing-packages\"\n"
     ]
    },
    {
     "ename": "ERROR",
     "evalue": "Error in library(purr): there is no package called 'purr'\n",
     "output_type": "error",
     "traceback": [
      "Error in library(purr): there is no package called 'purr'\nTraceback:\n",
      "1. library(purr)"
     ]
    }
   ],
   "source": [
    "install.packages('purr')\n",
    "library(purr)\n",
    "valores_sil <- purr::map_dbl(.x= 2:15, .f = coef_sil, metodo = hc.ward, datos = X)"
   ]
  },
  {
   "cell_type": "markdown",
   "id": "7e81c533-af98-4548-9497-a11b9f5597f0",
   "metadata": {},
   "source": [
    "## Density based clustering DBSCAN"
   ]
  },
  {
   "cell_type": "code",
   "execution_count": 51,
   "id": "93d6a95d-3da6-4c5b-9267-687f94caaf0f",
   "metadata": {},
   "outputs": [
    {
     "data": {
      "image/png": "[encoded data removed]",
      "text/plain": [
       "plot without title"
      ]
     },
     "metadata": {
      "image/png": {
       "height": 420,
       "width": 420
      }
     },
     "output_type": "display_data"
    }
   ],
   "source": [
    "library(dbscan)\n",
    "\n",
    "dbscan::kNNdistplot(X, k = 5)"
   ]
  },
  {
   "cell_type": "code",
   "execution_count": 52,
   "id": "daaa70cf-3273-4c53-9e0d-af0a91f41aae",
   "metadata": {},
   "outputs": [],
   "source": [
    "dbscan <- fpc::dbscan(X, eps = 2, MinPts = 5)"
   ]
  },
  {
   "cell_type": "code",
   "execution_count": 57,
   "id": "d16689f5-5f95-4405-be7d-dd30d2d69a79",
   "metadata": {},
   "outputs": [
    {
     "data": {
      "text/html": [
       "<style>\n",
       ".list-inline {list-style: none; margin:0; padding: 0}\n",
       ".list-inline>li {display: inline-block}\n",
       ".list-inline>li:not(:last-child)::after {content: \"\\00b7\"; padding: 0 .5ex}\n",
       "</style>\n",
       "<ol class=list-inline><li>1</li><li>0</li><li>2</li><li>4</li><li>3</li></ol>\n"
      ],
      "text/latex": [
       "\\begin{enumerate*}\n",
       "\\item 1\n",
       "\\item 0\n",
       "\\item 2\n",
       "\\item 4\n",
       "\\item 3\n",
       "\\end{enumerate*}\n"
      ],
      "text/markdown": [
       "1. 1\n",
       "2. 0\n",
       "3. 2\n",
       "4. 4\n",
       "5. 3\n",
       "\n",
       "\n"
      ],
      "text/plain": [
       "[1] 1 0 2 4 3"
      ]
     },
     "metadata": {},
     "output_type": "display_data"
    }
   ],
   "source": [
    "unique(dbscan$cluster)"
   ]
  },
  {
   "cell_type": "code",
   "execution_count": 56,
   "id": "bb9e15fa-fead-400d-9b59-081e04159586",
   "metadata": {},
   "outputs": [
    {
     "data": {
      "text/html": [
       "0.0762082329596598"
      ],
      "text/latex": [
       "0.0762082329596598"
      ],
      "text/markdown": [
       "0.0762082329596598"
      ],
      "text/plain": [
       "[1] 0.07620823"
      ]
     },
     "metadata": {},
     "output_type": "display_data"
    }
   ],
   "source": [
    "mean(silhouette(dbscan$cluster,get_dist(x = X, method = 'euclidea'))[,3])"
   ]
  },
  {
   "cell_type": "code",
   "execution_count": 67,
   "id": "49d6a6b1-b6f6-49e7-b971-ae726a78007c",
   "metadata": {},
   "outputs": [
    {
     "data": {
      "image/png": "[encoded data removed]",
      "text/plain": [
       "plot without title"
      ]
     },
     "metadata": {
      "image/png": {
       "height": 420,
       "width": 420
      }
     },
     "output_type": "display_data"
    }
   ],
   "source": [
    "dbscan::kNNdistplot(X[,c(\"citric.acid\",\"alcohol\")], k = 5)"
   ]
  },
  {
   "cell_type": "code",
   "execution_count": 68,
   "id": "ca7b228d-8bbb-40cd-ac82-c9b120ef796f",
   "metadata": {},
   "outputs": [],
   "source": [
    "dbscan2v <- fpc::dbscan(X[,c(\"citric.acid\",\"alcohol\")],eps = 0.3, MinPts = 5) "
   ]
  },
  {
   "cell_type": "code",
   "execution_count": 69,
   "id": "bb7a05a7-0e2d-4524-af3a-5d4afed63144",
   "metadata": {},
   "outputs": [
    {
     "data": {
      "text/html": [
       "0.439838333275205"
      ],
      "text/latex": [
       "0.439838333275205"
      ],
      "text/markdown": [
       "0.439838333275205"
      ],
      "text/plain": [
       "[1] 0.4398383"
      ]
     },
     "metadata": {},
     "output_type": "display_data"
    }
   ],
   "source": [
    "mean(silhouette(dbscan2v$cluster,get_dist(x = X[,c(\"citric.acid\",\"alcohol\")], method = 'euclidea'))[,3])"
   ]
  },
  {
   "cell_type": "code",
   "execution_count": 45,
   "id": "83f522cd-1d0b-403e-b021-08eed5101c6f",
   "metadata": {},
   "outputs": [
    {
     "name": "stderr",
     "output_type": "stream",
     "text": [
      "Installing package into 'D:/Archivos/documentos/R/win-library/4.1'\n",
      "(as 'lib' is unspecified)\n",
      "\n",
      "also installing the dependencies 'modeltools', 'DEoptimR', 'mclust', 'flexmix', 'prabclus', 'diptest', 'robustbase', 'kernlab'\n",
      "\n",
      "\n"
     ]
    },
    {
     "name": "stdout",
     "output_type": "stream",
     "text": [
      "package 'modeltools' successfully unpacked and MD5 sums checked\n",
      "package 'DEoptimR' successfully unpacked and MD5 sums checked\n",
      "package 'mclust' successfully unpacked and MD5 sums checked\n",
      "package 'flexmix' successfully unpacked and MD5 sums checked\n",
      "package 'prabclus' successfully unpacked and MD5 sums checked\n",
      "package 'diptest' successfully unpacked and MD5 sums checked\n",
      "package 'robustbase' successfully unpacked and MD5 sums checked\n",
      "package 'kernlab' successfully unpacked and MD5 sums checked\n",
      "package 'fpc' successfully unpacked and MD5 sums checked\n",
      "\n",
      "The downloaded binary packages are in\n",
      "\tC:\\Users\\Pablo\\AppData\\Local\\Temp\\RtmpYnR6ap\\downloaded_packages\n"
     ]
    }
   ],
   "source": [
    "install.packages('fpc')"
   ]
  },
  {
   "cell_type": "code",
   "execution_count": 50,
   "id": "6e4d7448-435d-4220-8ec0-c9b66263a425",
   "metadata": {},
   "outputs": [
    {
     "name": "stderr",
     "output_type": "stream",
     "text": [
      "Installing package into 'D:/Archivos/documentos/R/win-library/4.1'\n",
      "(as 'lib' is unspecified)\n",
      "\n"
     ]
    },
    {
     "name": "stdout",
     "output_type": "stream",
     "text": [
      "package 'dbscan' successfully unpacked and MD5 sums checked\n",
      "\n",
      "The downloaded binary packages are in\n",
      "\tC:\\Users\\Pablo\\AppData\\Local\\Temp\\RtmpYnR6ap\\downloaded_packages\n"
     ]
    }
   ],
   "source": [
    "install.packages('dbscan')"
   ]
  },
  {
   "cell_type": "code",
   "execution_count": null,
   "id": "71162fb4-8668-49de-9a6d-1e6387bc1fe3",
   "metadata": {},
   "outputs": [],
   "source": []
  }
 ],
 "metadata": {
  "colab": {
   "name": "Untitled.ipynb",
   "provenance": [],
   "toc_visible": true
  },
  "kernelspec": {
   "display_name": "R",
   "language": "R",
   "name": "ir"
  },
  "language_info": {
   "codemirror_mode": "r",
   "file_extension": ".r",
   "mimetype": "text/x-r-source",
   "name": "R",
   "pygments_lexer": "r",
   "version": "4.1.3"
  }
 },
 "nbformat": 4,
 "nbformat_minor": 5
}
