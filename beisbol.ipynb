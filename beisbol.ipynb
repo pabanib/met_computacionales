{
 "cells": [
  {
   "cell_type": "markdown",
   "id": "2724095b-041d-4d29-85dd-e1bfaf5d95ce",
   "metadata": {
    "id": "2724095b-041d-4d29-85dd-e1bfaf5d95ce"
   },
   "source": [
    "# Modelos lineales regularizados\n"
   ]
  },
  {
   "cell_type": "code",
   "execution_count": 1,
   "id": "1a8556d6-acd0-42cc-a165-4074e84a27ef",
   "metadata": {
    "colab": {
     "base_uri": "https://localhost:8080/",
     "height": 34
    },
    "executionInfo": {
     "elapsed": 6,
     "status": "ok",
     "timestamp": 1652705228432,
     "user": {
      "displayName": "Pablo Quintana",
      "userId": "00674039532099061635"
     },
     "user_tz": 180
    },
    "id": "1a8556d6-acd0-42cc-a165-4074e84a27ef",
    "outputId": "9674a184-be46-43de-82ba-04929b69c34d"
   },
   "outputs": [
    {
     "data": {
      "text/html": [
       "'R version 4.1.3 (2022-03-10)'"
      ],
      "text/latex": [
       "'R version 4.1.3 (2022-03-10)'"
      ],
      "text/markdown": [
       "'R version 4.1.3 (2022-03-10)'"
      ],
      "text/plain": [
       "[1] \"R version 4.1.3 (2022-03-10)\""
      ]
     },
     "metadata": {},
     "output_type": "display_data"
    }
   ],
   "source": [
    "R.version.string"
   ]
  },
  {
   "cell_type": "markdown",
   "id": "77a01fdc-3e9b-44bb-9bd1-31cb865a16a3",
   "metadata": {},
   "source": [
    "Revisamos los paquetes que se encuentran instalados con los que queremos instalar"
   ]
  },
  {
   "cell_type": "code",
   "execution_count": 2,
   "id": "40e3952a-152d-4b47-894e-f7d0c6e92459",
   "metadata": {
    "executionInfo": {
     "elapsed": 5,
     "status": "ok",
     "timestamp": 1652705228432,
     "user": {
      "displayName": "Pablo Quintana",
      "userId": "00674039532099061635"
     },
     "user_tz": 180
    },
    "id": "40e3952a-152d-4b47-894e-f7d0c6e92459"
   },
   "outputs": [],
   "source": [
    "packages <- c('ISLR',\n",
    "              \"glmnet\",\n",
    "              'ggplot2',\n",
    "              'leaps')\n",
    "\n",
    "not_installed <- !packages %in% installed.packages()\n",
    "if (any(not_installed)) install.packages(packages[not_installed])"
   ]
  },
  {
   "cell_type": "markdown",
   "id": "d5655065-d6ee-4a9b-8454-2ae31533f51c",
   "metadata": {},
   "source": [
    "La librería ISLR es provista por el libro que lleva ese nombre y contiene bases de datos de ejemplo para trabajar.\n",
    "\n",
    "En este caso vamos a predecir el salario de los jugadores de beisbol con modelos lineales"
   ]
  },
  {
   "cell_type": "code",
   "execution_count": 3,
   "id": "08f7e668-b12c-45e3-97a1-bb5e869740f0",
   "metadata": {
    "colab": {
     "base_uri": "https://localhost:8080/",
     "height": 183
    },
    "executionInfo": {
     "elapsed": 6,
     "status": "error",
     "timestamp": 1652705442826,
     "user": {
      "displayName": "Pablo Quintana",
      "userId": "00674039532099061635"
     },
     "user_tz": 180
    },
    "id": "08f7e668-b12c-45e3-97a1-bb5e869740f0",
    "outputId": "cc6bff11-979d-43ea-8751-229381c0a3b1"
   },
   "outputs": [],
   "source": [
    "library(ISLR)\n",
    "fix(Hitters)"
   ]
  },
  {
   "cell_type": "code",
   "execution_count": 4,
   "id": "a802e920-b3ae-48a1-a95e-e5aa3c52b62e",
   "metadata": {
    "id": "a802e920-b3ae-48a1-a95e-e5aa3c52b62e",
    "outputId": "03189000-49e9-4d6d-9524-e1b16c44de56"
   },
   "outputs": [
    {
     "data": {
      "text/html": [
       "<style>\n",
       ".list-inline {list-style: none; margin:0; padding: 0}\n",
       ".list-inline>li {display: inline-block}\n",
       ".list-inline>li:not(:last-child)::after {content: \"\\00b7\"; padding: 0 .5ex}\n",
       "</style>\n",
       "<ol class=list-inline><li>'AtBat'</li><li>'Hits'</li><li>'HmRun'</li><li>'Runs'</li><li>'RBI'</li><li>'Walks'</li><li>'Years'</li><li>'CAtBat'</li><li>'CHits'</li><li>'CHmRun'</li><li>'CRuns'</li><li>'CRBI'</li><li>'CWalks'</li><li>'League'</li><li>'Division'</li><li>'PutOuts'</li><li>'Assists'</li><li>'Errors'</li><li>'Salary'</li><li>'NewLeague'</li></ol>\n"
      ],
      "text/latex": [
       "\\begin{enumerate*}\n",
       "\\item 'AtBat'\n",
       "\\item 'Hits'\n",
       "\\item 'HmRun'\n",
       "\\item 'Runs'\n",
       "\\item 'RBI'\n",
       "\\item 'Walks'\n",
       "\\item 'Years'\n",
       "\\item 'CAtBat'\n",
       "\\item 'CHits'\n",
       "\\item 'CHmRun'\n",
       "\\item 'CRuns'\n",
       "\\item 'CRBI'\n",
       "\\item 'CWalks'\n",
       "\\item 'League'\n",
       "\\item 'Division'\n",
       "\\item 'PutOuts'\n",
       "\\item 'Assists'\n",
       "\\item 'Errors'\n",
       "\\item 'Salary'\n",
       "\\item 'NewLeague'\n",
       "\\end{enumerate*}\n"
      ],
      "text/markdown": [
       "1. 'AtBat'\n",
       "2. 'Hits'\n",
       "3. 'HmRun'\n",
       "4. 'Runs'\n",
       "5. 'RBI'\n",
       "6. 'Walks'\n",
       "7. 'Years'\n",
       "8. 'CAtBat'\n",
       "9. 'CHits'\n",
       "10. 'CHmRun'\n",
       "11. 'CRuns'\n",
       "12. 'CRBI'\n",
       "13. 'CWalks'\n",
       "14. 'League'\n",
       "15. 'Division'\n",
       "16. 'PutOuts'\n",
       "17. 'Assists'\n",
       "18. 'Errors'\n",
       "19. 'Salary'\n",
       "20. 'NewLeague'\n",
       "\n",
       "\n"
      ],
      "text/plain": [
       " [1] \"AtBat\"     \"Hits\"      \"HmRun\"     \"Runs\"      \"RBI\"       \"Walks\"    \n",
       " [7] \"Years\"     \"CAtBat\"    \"CHits\"     \"CHmRun\"    \"CRuns\"     \"CRBI\"     \n",
       "[13] \"CWalks\"    \"League\"    \"Division\"  \"PutOuts\"   \"Assists\"   \"Errors\"   \n",
       "[19] \"Salary\"    \"NewLeague\""
      ]
     },
     "metadata": {},
     "output_type": "display_data"
    }
   ],
   "source": [
    "names(Hitters)"
   ]
  },
  {
   "cell_type": "code",
   "execution_count": 5,
   "id": "7216129c-205a-4acd-a37a-b0edc142972c",
   "metadata": {
    "id": "7216129c-205a-4acd-a37a-b0edc142972c",
    "outputId": "8cc82c6c-2e35-4920-e09e-f22b672d7a99"
   },
   "outputs": [
    {
     "data": {
      "text/html": [
       "<style>\n",
       ".list-inline {list-style: none; margin:0; padding: 0}\n",
       ".list-inline>li {display: inline-block}\n",
       ".list-inline>li:not(:last-child)::after {content: \"\\00b7\"; padding: 0 .5ex}\n",
       "</style>\n",
       "<ol class=list-inline><li>322</li><li>20</li></ol>\n"
      ],
      "text/latex": [
       "\\begin{enumerate*}\n",
       "\\item 322\n",
       "\\item 20\n",
       "\\end{enumerate*}\n"
      ],
      "text/markdown": [
       "1. 322\n",
       "2. 20\n",
       "\n",
       "\n"
      ],
      "text/plain": [
       "[1] 322  20"
      ]
     },
     "metadata": {},
     "output_type": "display_data"
    }
   ],
   "source": [
    "dim(Hitters)"
   ]
  },
  {
   "cell_type": "code",
   "execution_count": 6,
   "id": "734374ea-19d1-4d23-a62b-a749d0dfb7ef",
   "metadata": {
    "id": "734374ea-19d1-4d23-a62b-a749d0dfb7ef"
   },
   "outputs": [],
   "source": [
    "Hitters_ <- na.omit(Hitters)"
   ]
  },
  {
   "cell_type": "markdown",
   "id": "2bd6feae-1205-4516-a531-af375e1fa7a8",
   "metadata": {},
   "source": [
    "## Mínimos cuadrados ordinarios"
   ]
  },
  {
   "cell_type": "code",
   "execution_count": 9,
   "id": "6ca1649c-430c-4bc0-9662-0bb74c022ce2",
   "metadata": {
    "id": "6ca1649c-430c-4bc0-9662-0bb74c022ce2"
   },
   "outputs": [],
   "source": [
    "ols <- lm(Salary ~. ,data= Hitters_)"
   ]
  },
  {
   "cell_type": "code",
   "execution_count": 10,
   "id": "54b06b9d-4ae5-4289-b12e-c8b00f15f1da",
   "metadata": {
    "id": "54b06b9d-4ae5-4289-b12e-c8b00f15f1da",
    "outputId": "4762f569-3a40-4544-f951-680c29d03439"
   },
   "outputs": [
    {
     "data": {
      "text/plain": [
       "\n",
       "Call:\n",
       "lm(formula = Salary ~ ., data = Hitters_)\n",
       "\n",
       "Residuals:\n",
       "    Min      1Q  Median      3Q     Max \n",
       "-907.62 -178.35  -31.11  139.09 1877.04 \n",
       "\n",
       "Coefficients:\n",
       "              Estimate Std. Error t value Pr(>|t|)    \n",
       "(Intercept)  163.10359   90.77854   1.797 0.073622 .  \n",
       "AtBat         -1.97987    0.63398  -3.123 0.002008 ** \n",
       "Hits           7.50077    2.37753   3.155 0.001808 ** \n",
       "HmRun          4.33088    6.20145   0.698 0.485616    \n",
       "Runs          -2.37621    2.98076  -0.797 0.426122    \n",
       "RBI           -1.04496    2.60088  -0.402 0.688204    \n",
       "Walks          6.23129    1.82850   3.408 0.000766 ***\n",
       "Years         -3.48905   12.41219  -0.281 0.778874    \n",
       "CAtBat        -0.17134    0.13524  -1.267 0.206380    \n",
       "CHits          0.13399    0.67455   0.199 0.842713    \n",
       "CHmRun        -0.17286    1.61724  -0.107 0.914967    \n",
       "CRuns          1.45430    0.75046   1.938 0.053795 .  \n",
       "CRBI           0.80771    0.69262   1.166 0.244691    \n",
       "CWalks        -0.81157    0.32808  -2.474 0.014057 *  \n",
       "LeagueN       62.59942   79.26140   0.790 0.430424    \n",
       "DivisionW   -116.84925   40.36695  -2.895 0.004141 ** \n",
       "PutOuts        0.28189    0.07744   3.640 0.000333 ***\n",
       "Assists        0.37107    0.22120   1.678 0.094723 .  \n",
       "Errors        -3.36076    4.39163  -0.765 0.444857    \n",
       "NewLeagueN   -24.76233   79.00263  -0.313 0.754218    \n",
       "---\n",
       "Signif. codes:  0 '***' 0.001 '**' 0.01 '*' 0.05 '.' 0.1 ' ' 1\n",
       "\n",
       "Residual standard error: 315.6 on 243 degrees of freedom\n",
       "Multiple R-squared:  0.5461,\tAdjusted R-squared:  0.5106 \n",
       "F-statistic: 15.39 on 19 and 243 DF,  p-value: < 2.2e-16\n"
      ]
     },
     "metadata": {},
     "output_type": "display_data"
    }
   ],
   "source": [
    "summary(ols)"
   ]
  },
  {
   "cell_type": "markdown",
   "id": "869ef840-16ad-4479-827f-c1d02621c5a5",
   "metadata": {},
   "source": [
    "Este sería el modelo conocido que tabajamos, estimamos con todos los datos y consideramos las variables que son significativas. Pero para predicción, la idea es testear con datos que están por fuera de la muestra. Para esto vamos a partir los datos que tenemos en dos y tomamos una parte de etnrenamiento y la otra de test. Esto se puede hacer con la función *sample*"
   ]
  },
  {
   "cell_type": "code",
   "execution_count": 94,
   "id": "65a615d6-2ffd-4483-888e-186eab6852d9",
   "metadata": {},
   "outputs": [],
   "source": [
    "set.seed(45) #elegimos una semilla para que salgo siempre el mismo resultado\n",
    "train <- sample(1: nrow(Hitters_), round(nrow(Hitters_)*0.5 ))\n",
    "test = (-train)\n",
    "y <- Hitters_['Salary']\n",
    "X <- Hitters_[,-which(names(Hitters_) == 'Salary')]\n",
    "y.train <- y[train,] \n",
    "y.test <-  y[test,]\n",
    "X.train <- X[train,]\n",
    "X.test <-  X[test,]\n"
   ]
  },
  {
   "cell_type": "code",
   "execution_count": 95,
   "id": "f7bca993-76a2-4f34-b043-ba678576ab57",
   "metadata": {},
   "outputs": [
    {
     "data": {
      "text/html": [
       "<style>\n",
       ".list-inline {list-style: none; margin:0; padding: 0}\n",
       ".list-inline>li {display: inline-block}\n",
       ".list-inline>li:not(:last-child)::after {content: \"\\00b7\"; padding: 0 .5ex}\n",
       "</style>\n",
       "<ol class=list-inline><li>132</li><li>132</li></ol>\n"
      ],
      "text/latex": [
       "\\begin{enumerate*}\n",
       "\\item 132\n",
       "\\item 132\n",
       "\\end{enumerate*}\n"
      ],
      "text/markdown": [
       "1. 132\n",
       "2. 132\n",
       "\n",
       "\n"
      ],
      "text/plain": [
       "[1] 132 132"
      ]
     },
     "metadata": {},
     "output_type": "display_data"
    }
   ],
   "source": [
    "c(nrow(X.train),length(y.train))\n"
   ]
  },
  {
   "cell_type": "code",
   "execution_count": 96,
   "id": "5da09fde-2a5d-44b4-8088-bbcb16d60f83",
   "metadata": {},
   "outputs": [
    {
     "data": {
      "text/html": [
       "<style>\n",
       ".list-inline {list-style: none; margin:0; padding: 0}\n",
       ".list-inline>li {display: inline-block}\n",
       ".list-inline>li:not(:last-child)::after {content: \"\\00b7\"; padding: 0 .5ex}\n",
       "</style>\n",
       "<ol class=list-inline><li>131</li><li>131</li></ol>\n"
      ],
      "text/latex": [
       "\\begin{enumerate*}\n",
       "\\item 131\n",
       "\\item 131\n",
       "\\end{enumerate*}\n"
      ],
      "text/markdown": [
       "1. 131\n",
       "2. 131\n",
       "\n",
       "\n"
      ],
      "text/plain": [
       "[1] 131 131"
      ]
     },
     "metadata": {},
     "output_type": "display_data"
    }
   ],
   "source": [
    "c(nrow(X.test),length(y.test))"
   ]
  },
  {
   "cell_type": "code",
   "execution_count": 97,
   "id": "631052e5-9f82-4c4a-b14e-74440b4ab6b2",
   "metadata": {},
   "outputs": [],
   "source": [
    "mse <- function(modelo, x_test, y_test){\n",
    "    pred <- predict(modelo, x_test)\n",
    "    return(sqrt(sum((pred-y_test)^2)))\n",
    "    }\n",
    "    "
   ]
  },
  {
   "cell_type": "markdown",
   "id": "d7a8c429-c3a8-4eae-8ce9-7eaf1dfc0a42",
   "metadata": {},
   "source": [
    "Ahora calculamos el modelo ols pero sobre la base de entrenamiento, para probar su capacidad predictiva"
   ]
  },
  {
   "cell_type": "code",
   "execution_count": 98,
   "id": "19fd0196-7497-4744-9c40-ed5c99dfc381",
   "metadata": {},
   "outputs": [
    {
     "data": {
      "text/html": [
       "<style>\n",
       ".list-inline {list-style: none; margin:0; padding: 0}\n",
       ".list-inline>li {display: inline-block}\n",
       ".list-inline>li:not(:last-child)::after {content: \"\\00b7\"; padding: 0 .5ex}\n",
       "</style>\n",
       "<ol class=list-inline><li>2789.71849993109</li><li>4652.85718984126</li></ol>\n"
      ],
      "text/latex": [
       "\\begin{enumerate*}\n",
       "\\item 2789.71849993109\n",
       "\\item 4652.85718984126\n",
       "\\end{enumerate*}\n"
      ],
      "text/markdown": [
       "1. 2789.71849993109\n",
       "2. 4652.85718984126\n",
       "\n",
       "\n"
      ],
      "text/plain": [
       "[1] 2789.718 4652.857"
      ]
     },
     "metadata": {},
     "output_type": "display_data"
    }
   ],
   "source": [
    "ols <- lm(Salary ~. , data = Hitters_[train,])\n",
    "\n",
    "c(mse(ols, X.train,y.train),mse(ols, X.test, y.test))"
   ]
  },
  {
   "cell_type": "code",
   "execution_count": 64,
   "id": "36d776d9-de77-4106-8636-c0759313d45b",
   "metadata": {
    "id": "36d776d9-de77-4106-8636-c0759313d45b",
    "outputId": "f7135016-2a6c-4305-8643-74f97ae88783"
   },
   "outputs": [
    {
     "data": {
      "text/plain": [
       "Subset selection object\n",
       "Call: regsubsets.formula(Salary ~ ., Hitters)\n",
       "19 Variables  (and intercept)\n",
       "           Forced in Forced out\n",
       "AtBat          FALSE      FALSE\n",
       "Hits           FALSE      FALSE\n",
       "HmRun          FALSE      FALSE\n",
       "Runs           FALSE      FALSE\n",
       "RBI            FALSE      FALSE\n",
       "Walks          FALSE      FALSE\n",
       "Years          FALSE      FALSE\n",
       "CAtBat         FALSE      FALSE\n",
       "CHits          FALSE      FALSE\n",
       "CHmRun         FALSE      FALSE\n",
       "CRuns          FALSE      FALSE\n",
       "CRBI           FALSE      FALSE\n",
       "CWalks         FALSE      FALSE\n",
       "LeagueN        FALSE      FALSE\n",
       "DivisionW      FALSE      FALSE\n",
       "PutOuts        FALSE      FALSE\n",
       "Assists        FALSE      FALSE\n",
       "Errors         FALSE      FALSE\n",
       "NewLeagueN     FALSE      FALSE\n",
       "1 subsets of each size up to 8\n",
       "Selection Algorithm: exhaustive\n",
       "         AtBat Hits HmRun Runs RBI Walks Years CAtBat CHits CHmRun CRuns CRBI\n",
       "1  ( 1 ) \" \"   \" \"  \" \"   \" \"  \" \" \" \"   \" \"   \" \"    \" \"   \" \"    \" \"   \"*\" \n",
       "2  ( 1 ) \" \"   \"*\"  \" \"   \" \"  \" \" \" \"   \" \"   \" \"    \" \"   \" \"    \" \"   \"*\" \n",
       "3  ( 1 ) \" \"   \"*\"  \" \"   \" \"  \" \" \" \"   \" \"   \" \"    \" \"   \" \"    \" \"   \"*\" \n",
       "4  ( 1 ) \" \"   \"*\"  \" \"   \" \"  \" \" \" \"   \" \"   \" \"    \" \"   \" \"    \" \"   \"*\" \n",
       "5  ( 1 ) \"*\"   \"*\"  \" \"   \" \"  \" \" \" \"   \" \"   \" \"    \" \"   \" \"    \" \"   \"*\" \n",
       "6  ( 1 ) \"*\"   \"*\"  \" \"   \" \"  \" \" \"*\"   \" \"   \" \"    \" \"   \" \"    \" \"   \"*\" \n",
       "7  ( 1 ) \" \"   \"*\"  \" \"   \" \"  \" \" \"*\"   \" \"   \"*\"    \"*\"   \"*\"    \" \"   \" \" \n",
       "8  ( 1 ) \"*\"   \"*\"  \" \"   \" \"  \" \" \"*\"   \" \"   \" \"    \" \"   \"*\"    \"*\"   \" \" \n",
       "         CWalks LeagueN DivisionW PutOuts Assists Errors NewLeagueN\n",
       "1  ( 1 ) \" \"    \" \"     \" \"       \" \"     \" \"     \" \"    \" \"       \n",
       "2  ( 1 ) \" \"    \" \"     \" \"       \" \"     \" \"     \" \"    \" \"       \n",
       "3  ( 1 ) \" \"    \" \"     \" \"       \"*\"     \" \"     \" \"    \" \"       \n",
       "4  ( 1 ) \" \"    \" \"     \"*\"       \"*\"     \" \"     \" \"    \" \"       \n",
       "5  ( 1 ) \" \"    \" \"     \"*\"       \"*\"     \" \"     \" \"    \" \"       \n",
       "6  ( 1 ) \" \"    \" \"     \"*\"       \"*\"     \" \"     \" \"    \" \"       \n",
       "7  ( 1 ) \" \"    \" \"     \"*\"       \"*\"     \" \"     \" \"    \" \"       \n",
       "8  ( 1 ) \"*\"    \" \"     \"*\"       \"*\"     \" \"     \" \"    \" \"       "
      ]
     },
     "metadata": {},
     "output_type": "display_data"
    }
   ],
   "source": [
    "library(leaps)\n",
    "regfit.full <- regsubsets(Salary ~. , Hitters)\n",
    "summary(regfit.full)"
   ]
  },
  {
   "cell_type": "code",
   "execution_count": 65,
   "id": "34724181-4ca9-4325-8be1-3d1504df3761",
   "metadata": {
    "id": "34724181-4ca9-4325-8be1-3d1504df3761",
    "outputId": "b6b4424e-0697-4860-86ad-693aea5a2bc5"
   },
   "outputs": [
    {
     "name": "stderr",
     "output_type": "stream",
     "text": [
      "Warning message in predict(ols) - Hitters$Salary:\n",
      "\"longitud de objeto mayor no es múltiplo de la longitud de uno menor\"\n"
     ]
    },
    {
     "data": {
      "text/html": [
       "&lt;NA&gt;"
      ],
      "text/latex": [
       "<NA>"
      ],
      "text/markdown": [
       "&lt;NA&gt;"
      ],
      "text/plain": [
       "[1] NA"
      ]
     },
     "metadata": {},
     "output_type": "display_data"
    }
   ],
   "source": [
    "(mean((predict(ols)-Hitters$Salary)^2))"
   ]
  },
  {
   "cell_type": "code",
   "execution_count": 70,
   "id": "b9fc73c1-365a-46dc-ba3f-23333d0445b3",
   "metadata": {
    "id": "b9fc73c1-365a-46dc-ba3f-23333d0445b3"
   },
   "outputs": [],
   "source": [
    "x <- model.matrix(Salary ~., Hitters_)[,-1]\n",
    "y <- Hitters_$Salary"
   ]
  },
  {
   "cell_type": "code",
   "execution_count": 71,
   "id": "334d61c4-ceb1-497d-9efd-d6d1e58519c5",
   "metadata": {
    "id": "334d61c4-ceb1-497d-9efd-d6d1e58519c5"
   },
   "outputs": [],
   "source": [
    "require(glmnet)\n",
    "grid <- 10^seq(10, -2, length = 100)\n",
    "ridge.mod <- glmnet(x,y, alpha = 0, lambda = grid)"
   ]
  },
  {
   "cell_type": "code",
   "execution_count": 72,
   "id": "ace81059-a0c0-489a-b705-28d2788a4914",
   "metadata": {
    "id": "ace81059-a0c0-489a-b705-28d2788a4914",
    "outputId": "1b41d553-6d14-4930-d2fa-32d5d5b67b5a"
   },
   "outputs": [
    {
     "data": {
      "text/html": [
       "<style>\n",
       ".list-inline {list-style: none; margin:0; padding: 0}\n",
       ".list-inline>li {display: inline-block}\n",
       ".list-inline>li:not(:last-child)::after {content: \"\\00b7\"; padding: 0 .5ex}\n",
       "</style>\n",
       "<ol class=list-inline><li>20</li><li>100</li></ol>\n"
      ],
      "text/latex": [
       "\\begin{enumerate*}\n",
       "\\item 20\n",
       "\\item 100\n",
       "\\end{enumerate*}\n"
      ],
      "text/markdown": [
       "1. 20\n",
       "2. 100\n",
       "\n",
       "\n"
      ],
      "text/plain": [
       "[1]  20 100"
      ]
     },
     "metadata": {},
     "output_type": "display_data"
    }
   ],
   "source": [
    "dim(coef(ridge.mod))"
   ]
  },
  {
   "cell_type": "code",
   "execution_count": 73,
   "id": "3532f70f-d8e1-479e-a636-d086124bdee0",
   "metadata": {
    "id": "3532f70f-d8e1-479e-a636-d086124bdee0",
    "outputId": "10beafa9-13ed-4381-bc40-6a45afbe9313"
   },
   "outputs": [
    {
     "data": {
      "text/html": [
       "<style>\n",
       ".dl-inline {width: auto; margin:0; padding: 0}\n",
       ".dl-inline>dt, .dl-inline>dd {float: none; width: auto; display: inline-block}\n",
       ".dl-inline>dt::after {content: \":\\0020\"; padding-right: .5ex}\n",
       ".dl-inline>dt:not(:first-of-type) {padding-left: .5ex}\n",
       "</style><dl class=dl-inline><dt>(Intercept)</dt><dd>407.356050200417</dd><dt>AtBat</dt><dd>0.0369571817501358</dd><dt>Hits</dt><dd>0.138180343807892</dd><dt>HmRun</dt><dd>0.524629975886912</dd><dt>Runs</dt><dd>0.230701522621179</dd><dt>RBI</dt><dd>0.239841458504058</dd><dt>Walks</dt><dd>0.289618741049883</dd><dt>Years</dt><dd>1.10770292908555</dd><dt>CAtBat</dt><dd>0.00313181522151328</dd><dt>CHits</dt><dd>0.0116536373557531</dd><dt>CHmRun</dt><dd>0.0875456697555948</dd><dt>CRuns</dt><dd>0.0233798823693758</dd><dt>CRBI</dt><dd>0.0241383203685686</dd><dt>CWalks</dt><dd>0.0250154205993731</dd><dt>LeagueN</dt><dd>0.0850281135625464</dd><dt>DivisionW</dt><dd>-6.21544097273148</dd><dt>PutOuts</dt><dd>0.0164825767604547</dd><dt>Assists</dt><dd>0.00261298804528182</dd><dt>Errors</dt><dd>-0.020502690365458</dd><dt>NewLeagueN</dt><dd>0.301433531372699</dd></dl>\n"
      ],
      "text/latex": [
       "\\begin{description*}\n",
       "\\item[(Intercept)] 407.356050200417\n",
       "\\item[AtBat] 0.0369571817501358\n",
       "\\item[Hits] 0.138180343807892\n",
       "\\item[HmRun] 0.524629975886912\n",
       "\\item[Runs] 0.230701522621179\n",
       "\\item[RBI] 0.239841458504058\n",
       "\\item[Walks] 0.289618741049883\n",
       "\\item[Years] 1.10770292908555\n",
       "\\item[CAtBat] 0.00313181522151328\n",
       "\\item[CHits] 0.0116536373557531\n",
       "\\item[CHmRun] 0.0875456697555948\n",
       "\\item[CRuns] 0.0233798823693758\n",
       "\\item[CRBI] 0.0241383203685686\n",
       "\\item[CWalks] 0.0250154205993731\n",
       "\\item[LeagueN] 0.0850281135625464\n",
       "\\item[DivisionW] -6.21544097273148\n",
       "\\item[PutOuts] 0.0164825767604547\n",
       "\\item[Assists] 0.00261298804528182\n",
       "\\item[Errors] -0.020502690365458\n",
       "\\item[NewLeagueN] 0.301433531372699\n",
       "\\end{description*}\n"
      ],
      "text/markdown": [
       "(Intercept)\n",
       ":   407.356050200417AtBat\n",
       ":   0.0369571817501358Hits\n",
       ":   0.138180343807892HmRun\n",
       ":   0.524629975886912Runs\n",
       ":   0.230701522621179RBI\n",
       ":   0.239841458504058Walks\n",
       ":   0.289618741049883Years\n",
       ":   1.10770292908555CAtBat\n",
       ":   0.00313181522151328CHits\n",
       ":   0.0116536373557531CHmRun\n",
       ":   0.0875456697555948CRuns\n",
       ":   0.0233798823693758CRBI\n",
       ":   0.0241383203685686CWalks\n",
       ":   0.0250154205993731LeagueN\n",
       ":   0.0850281135625464DivisionW\n",
       ":   -6.21544097273148PutOuts\n",
       ":   0.0164825767604547Assists\n",
       ":   0.00261298804528182Errors\n",
       ":   -0.020502690365458NewLeagueN\n",
       ":   0.301433531372699\n",
       "\n"
      ],
      "text/plain": [
       "  (Intercept)         AtBat          Hits         HmRun          Runs \n",
       "407.356050200   0.036957182   0.138180344   0.524629976   0.230701523 \n",
       "          RBI         Walks         Years        CAtBat         CHits \n",
       "  0.239841459   0.289618741   1.107702929   0.003131815   0.011653637 \n",
       "       CHmRun         CRuns          CRBI        CWalks       LeagueN \n",
       "  0.087545670   0.023379882   0.024138320   0.025015421   0.085028114 \n",
       "    DivisionW       PutOuts       Assists        Errors    NewLeagueN \n",
       " -6.215440973   0.016482577   0.002612988  -0.020502690   0.301433531 "
      ]
     },
     "metadata": {},
     "output_type": "display_data"
    }
   ],
   "source": [
    "coef(ridge.mod)[,50]"
   ]
  },
  {
   "cell_type": "code",
   "execution_count": 74,
   "id": "a66e3fe9-c9be-454f-835b-ceeabc4fa050",
   "metadata": {
    "id": "a66e3fe9-c9be-454f-835b-ceeabc4fa050",
    "outputId": "525dab87-cd5d-4d0c-fa76-8bedd3a284e3"
   },
   "outputs": [
    {
     "data": {
      "text/html": [
       "<style>\n",
       ".dl-inline {width: auto; margin:0; padding: 0}\n",
       ".dl-inline>dt, .dl-inline>dd {float: none; width: auto; display: inline-block}\n",
       ".dl-inline>dt::after {content: \":\\0020\"; padding-right: .5ex}\n",
       ".dl-inline>dt:not(:first-of-type) {padding-left: .5ex}\n",
       "</style><dl class=dl-inline><dt>(Intercept)</dt><dd>48.7661032921614</dd><dt>AtBat</dt><dd>-0.358099859376738</dd><dt>Hits</dt><dd>1.96935928646355</dd><dt>HmRun</dt><dd>-1.27824798145676</dd><dt>Runs</dt><dd>1.14589163211965</dd><dt>RBI</dt><dd>0.803829228437695</dd><dt>Walks</dt><dd>2.71618579623369</dd><dt>Years</dt><dd>-6.21831921727848</dd><dt>CAtBat</dt><dd>0.00544783719814858</dd><dt>CHits</dt><dd>0.106489514023419</dd><dt>CHmRun</dt><dd>0.624485956082649</dd><dt>CRuns</dt><dd>0.22149846376003</dd><dt>CRBI</dt><dd>0.218691380321247</dd><dt>CWalks</dt><dd>-0.150024548516928</dd><dt>LeagueN</dt><dd>45.9258855144164</dd><dt>DivisionW</dt><dd>-118.201136816368</dd><dt>PutOuts</dt><dd>0.250232154092559</dd><dt>Assists</dt><dd>0.121566461346767</dd><dt>Errors</dt><dd>-3.27859954463555</dd><dt>NewLeagueN</dt><dd>-9.4966803100267</dd></dl>\n"
      ],
      "text/latex": [
       "\\begin{description*}\n",
       "\\item[(Intercept)] 48.7661032921614\n",
       "\\item[AtBat] -0.358099859376738\n",
       "\\item[Hits] 1.96935928646355\n",
       "\\item[HmRun] -1.27824798145676\n",
       "\\item[Runs] 1.14589163211965\n",
       "\\item[RBI] 0.803829228437695\n",
       "\\item[Walks] 2.71618579623369\n",
       "\\item[Years] -6.21831921727848\n",
       "\\item[CAtBat] 0.00544783719814858\n",
       "\\item[CHits] 0.106489514023419\n",
       "\\item[CHmRun] 0.624485956082649\n",
       "\\item[CRuns] 0.22149846376003\n",
       "\\item[CRBI] 0.218691380321247\n",
       "\\item[CWalks] -0.150024548516928\n",
       "\\item[LeagueN] 45.9258855144164\n",
       "\\item[DivisionW] -118.201136816368\n",
       "\\item[PutOuts] 0.250232154092559\n",
       "\\item[Assists] 0.121566461346767\n",
       "\\item[Errors] -3.27859954463555\n",
       "\\item[NewLeagueN] -9.4966803100267\n",
       "\\end{description*}\n"
      ],
      "text/markdown": [
       "(Intercept)\n",
       ":   48.7661032921614AtBat\n",
       ":   -0.358099859376738Hits\n",
       ":   1.96935928646355HmRun\n",
       ":   -1.27824798145676Runs\n",
       ":   1.14589163211965RBI\n",
       ":   0.803829228437695Walks\n",
       ":   2.71618579623369Years\n",
       ":   -6.21831921727848CAtBat\n",
       ":   0.00544783719814858CHits\n",
       ":   0.106489514023419CHmRun\n",
       ":   0.624485956082649CRuns\n",
       ":   0.22149846376003CRBI\n",
       ":   0.218691380321247CWalks\n",
       ":   -0.150024548516928LeagueN\n",
       ":   45.9258855144164DivisionW\n",
       ":   -118.201136816368PutOuts\n",
       ":   0.250232154092559Assists\n",
       ":   0.121566461346767Errors\n",
       ":   -3.27859954463555NewLeagueN\n",
       ":   -9.4966803100267\n",
       "\n"
      ],
      "text/plain": [
       "  (Intercept)         AtBat          Hits         HmRun          Runs \n",
       " 4.876610e+01 -3.580999e-01  1.969359e+00 -1.278248e+00  1.145892e+00 \n",
       "          RBI         Walks         Years        CAtBat         CHits \n",
       " 8.038292e-01  2.716186e+00 -6.218319e+00  5.447837e-03  1.064895e-01 \n",
       "       CHmRun         CRuns          CRBI        CWalks       LeagueN \n",
       " 6.244860e-01  2.214985e-01  2.186914e-01 -1.500245e-01  4.592589e+01 \n",
       "    DivisionW       PutOuts       Assists        Errors    NewLeagueN \n",
       "-1.182011e+02  2.502322e-01  1.215665e-01 -3.278600e+00 -9.496680e+00 "
      ]
     },
     "metadata": {},
     "output_type": "display_data"
    }
   ],
   "source": [
    "predict(ridge.mod, s = 50, type= \"coefficients\")[1:20,]"
   ]
  },
  {
   "cell_type": "code",
   "execution_count": 75,
   "id": "7c32fbbf-117f-4d25-992c-3561bb1d17db",
   "metadata": {
    "id": "7c32fbbf-117f-4d25-992c-3561bb1d17db"
   },
   "outputs": [
    {
     "ename": "ERROR",
     "evalue": "Error in predict.glmnet(ridge.mod): You need to supply a value for 'newx'\n",
     "output_type": "error",
     "traceback": [
      "Error in predict.glmnet(ridge.mod): You need to supply a value for 'newx'\nTraceback:\n",
      "1. predict(ridge.mod)",
      "2. predict.elnet(ridge.mod)",
      "3. NextMethod(\"predict\")",
      "4. predict.glmnet(ridge.mod)",
      "5. stop(\"You need to supply a value for 'newx'\")"
     ]
    }
   ],
   "source": [
    "predict(ridge.mod)"
   ]
  },
  {
   "cell_type": "code",
   "execution_count": 82,
   "id": "05e6714a-4847-4357-884f-1053812fdaf3",
   "metadata": {},
   "outputs": [
    {
     "data": {
      "text/html": [
       "<table class=\"dataframe\">\n",
       "<caption>A data.frame: 6 × 14</caption>\n",
       "<thead>\n",
       "\t<tr><th></th><th scope=col>crim</th><th scope=col>zn</th><th scope=col>indus</th><th scope=col>chas</th><th scope=col>nox</th><th scope=col>rm</th><th scope=col>age</th><th scope=col>dis</th><th scope=col>rad</th><th scope=col>tax</th><th scope=col>ptratio</th><th scope=col>black</th><th scope=col>lstat</th><th scope=col>medv</th></tr>\n",
       "\t<tr><th></th><th scope=col>&lt;dbl&gt;</th><th scope=col>&lt;dbl&gt;</th><th scope=col>&lt;dbl&gt;</th><th scope=col>&lt;int&gt;</th><th scope=col>&lt;dbl&gt;</th><th scope=col>&lt;dbl&gt;</th><th scope=col>&lt;dbl&gt;</th><th scope=col>&lt;dbl&gt;</th><th scope=col>&lt;int&gt;</th><th scope=col>&lt;dbl&gt;</th><th scope=col>&lt;dbl&gt;</th><th scope=col>&lt;dbl&gt;</th><th scope=col>&lt;dbl&gt;</th><th scope=col>&lt;dbl&gt;</th></tr>\n",
       "</thead>\n",
       "<tbody>\n",
       "\t<tr><th scope=row>1</th><td>0.00632</td><td>18</td><td>2.31</td><td>0</td><td>0.538</td><td>6.575</td><td>65.2</td><td>4.0900</td><td>1</td><td>296</td><td>15.3</td><td>396.90</td><td>4.98</td><td>24.0</td></tr>\n",
       "\t<tr><th scope=row>2</th><td>0.02731</td><td> 0</td><td>7.07</td><td>0</td><td>0.469</td><td>6.421</td><td>78.9</td><td>4.9671</td><td>2</td><td>242</td><td>17.8</td><td>396.90</td><td>9.14</td><td>21.6</td></tr>\n",
       "\t<tr><th scope=row>3</th><td>0.02729</td><td> 0</td><td>7.07</td><td>0</td><td>0.469</td><td>7.185</td><td>61.1</td><td>4.9671</td><td>2</td><td>242</td><td>17.8</td><td>392.83</td><td>4.03</td><td>34.7</td></tr>\n",
       "\t<tr><th scope=row>4</th><td>0.03237</td><td> 0</td><td>2.18</td><td>0</td><td>0.458</td><td>6.998</td><td>45.8</td><td>6.0622</td><td>3</td><td>222</td><td>18.7</td><td>394.63</td><td>2.94</td><td>33.4</td></tr>\n",
       "\t<tr><th scope=row>5</th><td>0.06905</td><td> 0</td><td>2.18</td><td>0</td><td>0.458</td><td>7.147</td><td>54.2</td><td>6.0622</td><td>3</td><td>222</td><td>18.7</td><td>396.90</td><td>5.33</td><td>36.2</td></tr>\n",
       "\t<tr><th scope=row>6</th><td>0.02985</td><td> 0</td><td>2.18</td><td>0</td><td>0.458</td><td>6.430</td><td>58.7</td><td>6.0622</td><td>3</td><td>222</td><td>18.7</td><td>394.12</td><td>5.21</td><td>28.7</td></tr>\n",
       "</tbody>\n",
       "</table>\n"
      ],
      "text/latex": [
       "A data.frame: 6 × 14\n",
       "\\begin{tabular}{r|llllllllllllll}\n",
       "  & crim & zn & indus & chas & nox & rm & age & dis & rad & tax & ptratio & black & lstat & medv\\\\\n",
       "  & <dbl> & <dbl> & <dbl> & <int> & <dbl> & <dbl> & <dbl> & <dbl> & <int> & <dbl> & <dbl> & <dbl> & <dbl> & <dbl>\\\\\n",
       "\\hline\n",
       "\t1 & 0.00632 & 18 & 2.31 & 0 & 0.538 & 6.575 & 65.2 & 4.0900 & 1 & 296 & 15.3 & 396.90 & 4.98 & 24.0\\\\\n",
       "\t2 & 0.02731 &  0 & 7.07 & 0 & 0.469 & 6.421 & 78.9 & 4.9671 & 2 & 242 & 17.8 & 396.90 & 9.14 & 21.6\\\\\n",
       "\t3 & 0.02729 &  0 & 7.07 & 0 & 0.469 & 7.185 & 61.1 & 4.9671 & 2 & 242 & 17.8 & 392.83 & 4.03 & 34.7\\\\\n",
       "\t4 & 0.03237 &  0 & 2.18 & 0 & 0.458 & 6.998 & 45.8 & 6.0622 & 3 & 222 & 18.7 & 394.63 & 2.94 & 33.4\\\\\n",
       "\t5 & 0.06905 &  0 & 2.18 & 0 & 0.458 & 7.147 & 54.2 & 6.0622 & 3 & 222 & 18.7 & 396.90 & 5.33 & 36.2\\\\\n",
       "\t6 & 0.02985 &  0 & 2.18 & 0 & 0.458 & 6.430 & 58.7 & 6.0622 & 3 & 222 & 18.7 & 394.12 & 5.21 & 28.7\\\\\n",
       "\\end{tabular}\n"
      ],
      "text/markdown": [
       "\n",
       "A data.frame: 6 × 14\n",
       "\n",
       "| <!--/--> | crim &lt;dbl&gt; | zn &lt;dbl&gt; | indus &lt;dbl&gt; | chas &lt;int&gt; | nox &lt;dbl&gt; | rm &lt;dbl&gt; | age &lt;dbl&gt; | dis &lt;dbl&gt; | rad &lt;int&gt; | tax &lt;dbl&gt; | ptratio &lt;dbl&gt; | black &lt;dbl&gt; | lstat &lt;dbl&gt; | medv &lt;dbl&gt; |\n",
       "|---|---|---|---|---|---|---|---|---|---|---|---|---|---|---|\n",
       "| 1 | 0.00632 | 18 | 2.31 | 0 | 0.538 | 6.575 | 65.2 | 4.0900 | 1 | 296 | 15.3 | 396.90 | 4.98 | 24.0 |\n",
       "| 2 | 0.02731 |  0 | 7.07 | 0 | 0.469 | 6.421 | 78.9 | 4.9671 | 2 | 242 | 17.8 | 396.90 | 9.14 | 21.6 |\n",
       "| 3 | 0.02729 |  0 | 7.07 | 0 | 0.469 | 7.185 | 61.1 | 4.9671 | 2 | 242 | 17.8 | 392.83 | 4.03 | 34.7 |\n",
       "| 4 | 0.03237 |  0 | 2.18 | 0 | 0.458 | 6.998 | 45.8 | 6.0622 | 3 | 222 | 18.7 | 394.63 | 2.94 | 33.4 |\n",
       "| 5 | 0.06905 |  0 | 2.18 | 0 | 0.458 | 7.147 | 54.2 | 6.0622 | 3 | 222 | 18.7 | 396.90 | 5.33 | 36.2 |\n",
       "| 6 | 0.02985 |  0 | 2.18 | 0 | 0.458 | 6.430 | 58.7 | 6.0622 | 3 | 222 | 18.7 | 394.12 | 5.21 | 28.7 |\n",
       "\n"
      ],
      "text/plain": [
       "  crim    zn indus chas nox   rm    age  dis    rad tax ptratio black  lstat\n",
       "1 0.00632 18 2.31  0    0.538 6.575 65.2 4.0900 1   296 15.3    396.90 4.98 \n",
       "2 0.02731  0 7.07  0    0.469 6.421 78.9 4.9671 2   242 17.8    396.90 9.14 \n",
       "3 0.02729  0 7.07  0    0.469 7.185 61.1 4.9671 2   242 17.8    392.83 4.03 \n",
       "4 0.03237  0 2.18  0    0.458 6.998 45.8 6.0622 3   222 18.7    394.63 2.94 \n",
       "5 0.06905  0 2.18  0    0.458 7.147 54.2 6.0622 3   222 18.7    396.90 5.33 \n",
       "6 0.02985  0 2.18  0    0.458 6.430 58.7 6.0622 3   222 18.7    394.12 5.21 \n",
       "  medv\n",
       "1 24.0\n",
       "2 21.6\n",
       "3 34.7\n",
       "4 33.4\n",
       "5 36.2\n",
       "6 28.7"
      ]
     },
     "metadata": {},
     "output_type": "display_data"
    }
   ],
   "source": [
    "library(MASS)\n",
    "head(Boston)"
   ]
  },
  {
   "cell_type": "code",
   "execution_count": 84,
   "id": "1bc1edb2-3f14-4f0e-b9e8-e2bf289022ce",
   "metadata": {},
   "outputs": [
    {
     "data": {
      "text/plain": [
       "\n",
       "Call:\n",
       "lm(formula = medv ~ ., data = Boston)\n",
       "\n",
       "Residuals:\n",
       "    Min      1Q  Median      3Q     Max \n",
       "-15.595  -2.730  -0.518   1.777  26.199 \n",
       "\n",
       "Coefficients:\n",
       "              Estimate Std. Error t value Pr(>|t|)    \n",
       "(Intercept)  3.646e+01  5.103e+00   7.144 3.28e-12 ***\n",
       "crim        -1.080e-01  3.286e-02  -3.287 0.001087 ** \n",
       "zn           4.642e-02  1.373e-02   3.382 0.000778 ***\n",
       "indus        2.056e-02  6.150e-02   0.334 0.738288    \n",
       "chas         2.687e+00  8.616e-01   3.118 0.001925 ** \n",
       "nox         -1.777e+01  3.820e+00  -4.651 4.25e-06 ***\n",
       "rm           3.810e+00  4.179e-01   9.116  < 2e-16 ***\n",
       "age          6.922e-04  1.321e-02   0.052 0.958229    \n",
       "dis         -1.476e+00  1.995e-01  -7.398 6.01e-13 ***\n",
       "rad          3.060e-01  6.635e-02   4.613 5.07e-06 ***\n",
       "tax         -1.233e-02  3.760e-03  -3.280 0.001112 ** \n",
       "ptratio     -9.527e-01  1.308e-01  -7.283 1.31e-12 ***\n",
       "black        9.312e-03  2.686e-03   3.467 0.000573 ***\n",
       "lstat       -5.248e-01  5.072e-02 -10.347  < 2e-16 ***\n",
       "---\n",
       "Signif. codes:  0 '***' 0.001 '**' 0.01 '*' 0.05 '.' 0.1 ' ' 1\n",
       "\n",
       "Residual standard error: 4.745 on 492 degrees of freedom\n",
       "Multiple R-squared:  0.7406,\tAdjusted R-squared:  0.7338 \n",
       "F-statistic: 108.1 on 13 and 492 DF,  p-value: < 2.2e-16\n"
      ]
     },
     "metadata": {},
     "output_type": "display_data"
    }
   ],
   "source": [
    "ols <- lm(medv~., data = Boston)\n",
    "summary(ols)"
   ]
  },
  {
   "cell_type": "code",
   "execution_count": 92,
   "id": "61d2652d-35ad-4de6-9146-d1c3d8ce0079",
   "metadata": {},
   "outputs": [],
   "source": [
    "set.seed(45) #elegimos una semilla para que salgo siempre el mismo resultado\n",
    "train <- sample(1: nrow(Boston), round(nrow(Boston)*0.5 ))\n",
    "test = (-train)\n",
    "y <- Boston['medv']\n",
    "X <- Boston[,-which(names(Boston) == 'medv')]\n",
    "y.train <- y[train,] \n",
    "y.test <-  y[test,]\n",
    "X.train <- X[train,]\n",
    "X.test <-  X[test,]"
   ]
  },
  {
   "cell_type": "code",
   "execution_count": 93,
   "id": "b2e0b8dc-c8fa-46d4-90b8-4c42a44f687f",
   "metadata": {},
   "outputs": [
    {
     "data": {
      "text/html": [
       "<style>\n",
       ".list-inline {list-style: none; margin:0; padding: 0}\n",
       ".list-inline>li {display: inline-block}\n",
       ".list-inline>li:not(:last-child)::after {content: \"\\00b7\"; padding: 0 .5ex}\n",
       "</style>\n",
       "<ol class=list-inline><li>69.7299691059008</li><li>80.0619897213366</li></ol>\n"
      ],
      "text/latex": [
       "\\begin{enumerate*}\n",
       "\\item 69.7299691059008\n",
       "\\item 80.0619897213366\n",
       "\\end{enumerate*}\n"
      ],
      "text/markdown": [
       "1. 69.7299691059008\n",
       "2. 80.0619897213366\n",
       "\n",
       "\n"
      ],
      "text/plain": [
       "[1] 69.72997 80.06199"
      ]
     },
     "metadata": {},
     "output_type": "display_data"
    }
   ],
   "source": [
    "ols <- lm(medv~. , data = Boston[train,])\n",
    "c(mse(ols, X.train, y.train),mse(ols, X.test, y.test))"
   ]
  },
  {
   "cell_type": "code",
   "execution_count": null,
   "id": "70723b75-34a3-4f55-8fa0-fa97901555ba",
   "metadata": {},
   "outputs": [],
   "source": []
  }
 ],
 "metadata": {
  "colab": {
   "name": "beisbol.ipynb",
   "provenance": []
  },
  "kernelspec": {
   "display_name": "R",
   "language": "R",
   "name": "ir"
  },
  "language_info": {
   "codemirror_mode": "r",
   "file_extension": ".r",
   "mimetype": "text/x-r-source",
   "name": "R",
   "pygments_lexer": "r",
   "version": "4.1.3"
  }
 },
 "nbformat": 4,
 "nbformat_minor": 5
}
